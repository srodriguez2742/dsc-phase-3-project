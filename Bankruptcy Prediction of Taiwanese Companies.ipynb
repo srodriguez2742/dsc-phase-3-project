{
 "cells": [
  {
   "cell_type": "markdown",
   "metadata": {},
   "source": [
    "# Predicting Bankruptcies in Taiwan"
   ]
  },
  {
   "cell_type": "code",
   "execution_count": 1,
   "metadata": {
    "ExecuteTime": {
     "end_time": "2021-02-22T11:12:39.069646Z",
     "start_time": "2021-02-22T11:12:37.698730Z"
    }
   },
   "outputs": [],
   "source": [
    "#importing relevant libraries\n",
    "import pandas as pd\n",
    "import numpy as np\n",
    "import pandas as pd\n",
    "import matplotlib.pyplot as plt\n",
    "import seaborn as sns\n",
    "from sklearn.linear_model import LogisticRegression\n",
    "from sklearn.model_selection import train_test_split\n",
    "from sklearn.metrics import plot_confusion_matrix\n",
    "from sklearn.metrics import confusion_matrix, classification_report\n",
    "from sklearn.metrics import roc_curve, auc\n",
    "from sklearn.metrics import precision_score, recall_score, accuracy_score, f1_score\n",
    "from sklearn.preprocessing import StandardScaler\n",
    "from sklearn.neighbors import KNeighborsClassifier\n",
    "from sklearn.tree import DecisionTreeClassifier\n",
    "from sklearn.tree import plot_tree\n",
    "from sklearn.utils import resample\n",
    "from imblearn.over_sampling import SMOTE\n",
    "\n",
    "from sklearn.ensemble import BaggingClassifier, RandomForestClassifier\n",
    "from sklearn.model_selection import GridSearchCV, cross_val_score\n",
    "from sklearn.ensemble import AdaBoostClassifier, GradientBoostingClassifier\n",
    "from xgboost import XGBClassifier"
   ]
  },
  {
   "cell_type": "code",
   "execution_count": 2,
   "metadata": {
    "ExecuteTime": {
     "end_time": "2021-02-22T11:12:39.180493Z",
     "start_time": "2021-02-22T11:12:39.167521Z"
    }
   },
   "outputs": [],
   "source": [
    "pd.set_option('display.max_rows', 75)"
   ]
  },
  {
   "cell_type": "code",
   "execution_count": 3,
   "metadata": {
    "ExecuteTime": {
     "end_time": "2021-02-22T11:12:39.291163Z",
     "start_time": "2021-02-22T11:12:39.277200Z"
    }
   },
   "outputs": [],
   "source": [
    "def find_best_k_recall(X_train, y_train, X_test, y_test, min_k=1, max_k=25):\n",
    "    best_k = 0\n",
    "    best_score = 0.0\n",
    "    for k in range(min_k, max_k+1, 2):\n",
    "        knn = KNeighborsClassifier(n_neighbors=k)\n",
    "        knn.fit(X_train, y_train)\n",
    "        preds = knn.predict(X_test)\n",
    "        recall = recall_score(y_test, preds)\n",
    "        if recall > best_score:\n",
    "            best_k = k\n",
    "            best_score = recall\n",
    "    \n",
    "    print(\"Best Value for k: {}\".format(best_k))\n",
    "    print(\"Recall-Score: {}\".format(best_score))"
   ]
  },
  {
   "cell_type": "code",
   "execution_count": 4,
   "metadata": {
    "ExecuteTime": {
     "end_time": "2021-02-22T11:12:39.400903Z",
     "start_time": "2021-02-22T11:12:39.386906Z"
    }
   },
   "outputs": [],
   "source": [
    "def find_best_k(X_train, y_train, X_test, y_test, min_k=1, max_k=25):\n",
    "    best_k = 0\n",
    "    best_score = 0.0\n",
    "    for k in range(min_k, max_k+1, 2):\n",
    "        knn = KNeighborsClassifier(n_neighbors=k)\n",
    "        knn.fit(X_train, y_train)\n",
    "        preds = knn.predict(X_test)\n",
    "        f1 = f1_score(y_test, preds)\n",
    "        if f1 > best_score:\n",
    "            best_k = k\n",
    "            best_score = f1\n",
    "    \n",
    "    print(\"Best Value for k: {}\".format(best_k))\n",
    "    print(\"F1-Score: {}\".format(best_score))"
   ]
  },
  {
   "cell_type": "code",
   "execution_count": 5,
   "metadata": {
    "ExecuteTime": {
     "end_time": "2021-02-22T11:12:39.604355Z",
     "start_time": "2021-02-22T11:12:39.496644Z"
    }
   },
   "outputs": [
    {
     "data": {
      "text/html": [
       "<div>\n",
       "<style scoped>\n",
       "    .dataframe tbody tr th:only-of-type {\n",
       "        vertical-align: middle;\n",
       "    }\n",
       "\n",
       "    .dataframe tbody tr th {\n",
       "        vertical-align: top;\n",
       "    }\n",
       "\n",
       "    .dataframe thead th {\n",
       "        text-align: right;\n",
       "    }\n",
       "</style>\n",
       "<table border=\"1\" class=\"dataframe\">\n",
       "  <thead>\n",
       "    <tr style=\"text-align: right;\">\n",
       "      <th></th>\n",
       "      <th>Bankrupt?</th>\n",
       "      <th>ROA(C) before interest and depreciation before interest</th>\n",
       "      <th>ROA(A) before interest and % after tax</th>\n",
       "      <th>ROA(B) before interest and depreciation after tax</th>\n",
       "      <th>operating gross margin</th>\n",
       "      <th>realized sales gross margin</th>\n",
       "      <th>operating profit rate</th>\n",
       "      <th>tax Pre-net interest rate</th>\n",
       "      <th>after-tax net interest rate</th>\n",
       "      <th>non-industry income and expenditure/revenue</th>\n",
       "      <th>...</th>\n",
       "      <th>net income to total assets</th>\n",
       "      <th>total assets to GNP price</th>\n",
       "      <th>No-credit interval</th>\n",
       "      <th>Gross profit to Sales</th>\n",
       "      <th>Net income to stockholder's Equity</th>\n",
       "      <th>liability to equity</th>\n",
       "      <th>Degree of financial leverage (DFL)</th>\n",
       "      <th>Interest coverage ratio( Interest expense to EBIT )</th>\n",
       "      <th>one if net income was negative for the last two year zero otherwise</th>\n",
       "      <th>equity to liability</th>\n",
       "    </tr>\n",
       "  </thead>\n",
       "  <tbody>\n",
       "    <tr>\n",
       "      <th>0</th>\n",
       "      <td>1</td>\n",
       "      <td>0.370594</td>\n",
       "      <td>0.424389</td>\n",
       "      <td>0.405750</td>\n",
       "      <td>0.601457</td>\n",
       "      <td>0.601457</td>\n",
       "      <td>0.998969</td>\n",
       "      <td>0.796887</td>\n",
       "      <td>0.808809</td>\n",
       "      <td>0.302646</td>\n",
       "      <td>...</td>\n",
       "      <td>0.716845</td>\n",
       "      <td>0.009219</td>\n",
       "      <td>0.622879</td>\n",
       "      <td>0.601453</td>\n",
       "      <td>0.827890</td>\n",
       "      <td>0.290202</td>\n",
       "      <td>0.026601</td>\n",
       "      <td>0.564050</td>\n",
       "      <td>1</td>\n",
       "      <td>0.016469</td>\n",
       "    </tr>\n",
       "    <tr>\n",
       "      <th>1</th>\n",
       "      <td>1</td>\n",
       "      <td>0.464291</td>\n",
       "      <td>0.538214</td>\n",
       "      <td>0.516730</td>\n",
       "      <td>0.610235</td>\n",
       "      <td>0.610235</td>\n",
       "      <td>0.998946</td>\n",
       "      <td>0.797380</td>\n",
       "      <td>0.809301</td>\n",
       "      <td>0.303556</td>\n",
       "      <td>...</td>\n",
       "      <td>0.795297</td>\n",
       "      <td>0.008323</td>\n",
       "      <td>0.623652</td>\n",
       "      <td>0.610237</td>\n",
       "      <td>0.839969</td>\n",
       "      <td>0.283846</td>\n",
       "      <td>0.264577</td>\n",
       "      <td>0.570175</td>\n",
       "      <td>1</td>\n",
       "      <td>0.020794</td>\n",
       "    </tr>\n",
       "    <tr>\n",
       "      <th>2</th>\n",
       "      <td>1</td>\n",
       "      <td>0.426071</td>\n",
       "      <td>0.499019</td>\n",
       "      <td>0.472295</td>\n",
       "      <td>0.601450</td>\n",
       "      <td>0.601364</td>\n",
       "      <td>0.998857</td>\n",
       "      <td>0.796403</td>\n",
       "      <td>0.808388</td>\n",
       "      <td>0.302035</td>\n",
       "      <td>...</td>\n",
       "      <td>0.774670</td>\n",
       "      <td>0.040003</td>\n",
       "      <td>0.623841</td>\n",
       "      <td>0.601449</td>\n",
       "      <td>0.836774</td>\n",
       "      <td>0.290189</td>\n",
       "      <td>0.026555</td>\n",
       "      <td>0.563706</td>\n",
       "      <td>1</td>\n",
       "      <td>0.016474</td>\n",
       "    </tr>\n",
       "    <tr>\n",
       "      <th>3</th>\n",
       "      <td>1</td>\n",
       "      <td>0.399844</td>\n",
       "      <td>0.451265</td>\n",
       "      <td>0.457733</td>\n",
       "      <td>0.583541</td>\n",
       "      <td>0.583541</td>\n",
       "      <td>0.998700</td>\n",
       "      <td>0.796967</td>\n",
       "      <td>0.808966</td>\n",
       "      <td>0.303350</td>\n",
       "      <td>...</td>\n",
       "      <td>0.739555</td>\n",
       "      <td>0.003252</td>\n",
       "      <td>0.622929</td>\n",
       "      <td>0.583538</td>\n",
       "      <td>0.834697</td>\n",
       "      <td>0.281721</td>\n",
       "      <td>0.026697</td>\n",
       "      <td>0.564663</td>\n",
       "      <td>1</td>\n",
       "      <td>0.023982</td>\n",
       "    </tr>\n",
       "    <tr>\n",
       "      <th>4</th>\n",
       "      <td>1</td>\n",
       "      <td>0.465022</td>\n",
       "      <td>0.538432</td>\n",
       "      <td>0.522298</td>\n",
       "      <td>0.598783</td>\n",
       "      <td>0.598783</td>\n",
       "      <td>0.998973</td>\n",
       "      <td>0.797366</td>\n",
       "      <td>0.809304</td>\n",
       "      <td>0.303475</td>\n",
       "      <td>...</td>\n",
       "      <td>0.795016</td>\n",
       "      <td>0.003878</td>\n",
       "      <td>0.623521</td>\n",
       "      <td>0.598782</td>\n",
       "      <td>0.839973</td>\n",
       "      <td>0.278514</td>\n",
       "      <td>0.024752</td>\n",
       "      <td>0.575617</td>\n",
       "      <td>1</td>\n",
       "      <td>0.035490</td>\n",
       "    </tr>\n",
       "  </tbody>\n",
       "</table>\n",
       "<p>5 rows × 96 columns</p>\n",
       "</div>"
      ],
      "text/plain": [
       "   Bankrupt?   ROA(C) before interest and depreciation before interest  \\\n",
       "0          1                                           0.370594          \n",
       "1          1                                           0.464291          \n",
       "2          1                                           0.426071          \n",
       "3          1                                           0.399844          \n",
       "4          1                                           0.465022          \n",
       "\n",
       "    ROA(A) before interest and % after tax  \\\n",
       "0                                 0.424389   \n",
       "1                                 0.538214   \n",
       "2                                 0.499019   \n",
       "3                                 0.451265   \n",
       "4                                 0.538432   \n",
       "\n",
       "    ROA(B) before interest and depreciation after tax  \\\n",
       "0                                           0.405750    \n",
       "1                                           0.516730    \n",
       "2                                           0.472295    \n",
       "3                                           0.457733    \n",
       "4                                           0.522298    \n",
       "\n",
       "    operating gross margin   realized sales gross margin  \\\n",
       "0                 0.601457                      0.601457   \n",
       "1                 0.610235                      0.610235   \n",
       "2                 0.601450                      0.601364   \n",
       "3                 0.583541                      0.583541   \n",
       "4                 0.598783                      0.598783   \n",
       "\n",
       "    operating profit rate   tax Pre-net interest rate  \\\n",
       "0                0.998969                    0.796887   \n",
       "1                0.998946                    0.797380   \n",
       "2                0.998857                    0.796403   \n",
       "3                0.998700                    0.796967   \n",
       "4                0.998973                    0.797366   \n",
       "\n",
       "    after-tax net interest rate   non-industry income and expenditure/revenue  \\\n",
       "0                      0.808809                                      0.302646   \n",
       "1                      0.809301                                      0.303556   \n",
       "2                      0.808388                                      0.302035   \n",
       "3                      0.808966                                      0.303350   \n",
       "4                      0.809304                                      0.303475   \n",
       "\n",
       "   ...  net income to total assets  total assets to GNP price  \\\n",
       "0  ...                    0.716845                   0.009219   \n",
       "1  ...                    0.795297                   0.008323   \n",
       "2  ...                    0.774670                   0.040003   \n",
       "3  ...                    0.739555                   0.003252   \n",
       "4  ...                    0.795016                   0.003878   \n",
       "\n",
       "   No-credit interval  Gross profit to Sales  \\\n",
       "0            0.622879               0.601453   \n",
       "1            0.623652               0.610237   \n",
       "2            0.623841               0.601449   \n",
       "3            0.622929               0.583538   \n",
       "4            0.623521               0.598782   \n",
       "\n",
       "   Net income to stockholder's Equity  liability to equity  \\\n",
       "0                            0.827890             0.290202   \n",
       "1                            0.839969             0.283846   \n",
       "2                            0.836774             0.290189   \n",
       "3                            0.834697             0.281721   \n",
       "4                            0.839973             0.278514   \n",
       "\n",
       "   Degree of financial leverage (DFL)  \\\n",
       "0                            0.026601   \n",
       "1                            0.264577   \n",
       "2                            0.026555   \n",
       "3                            0.026697   \n",
       "4                            0.024752   \n",
       "\n",
       "   Interest coverage ratio( Interest expense to EBIT )  \\\n",
       "0                                           0.564050     \n",
       "1                                           0.570175     \n",
       "2                                           0.563706     \n",
       "3                                           0.564663     \n",
       "4                                           0.575617     \n",
       "\n",
       "   one if net income was negative for the last two year zero otherwise  \\\n",
       "0                                                  1                     \n",
       "1                                                  1                     \n",
       "2                                                  1                     \n",
       "3                                                  1                     \n",
       "4                                                  1                     \n",
       "\n",
       "   equity to liability  \n",
       "0             0.016469  \n",
       "1             0.020794  \n",
       "2             0.016474  \n",
       "3             0.023982  \n",
       "4             0.035490  \n",
       "\n",
       "[5 rows x 96 columns]"
      ]
     },
     "execution_count": 5,
     "metadata": {},
     "output_type": "execute_result"
    }
   ],
   "source": [
    "#bringing in file as pandas dataframe\n",
    "df = pd.read_csv('data/taiwan_bankruptcy_data.csv')\n",
    "df.head()"
   ]
  },
  {
   "cell_type": "markdown",
   "metadata": {},
   "source": [
    "### Pre-Processing data"
   ]
  },
  {
   "cell_type": "code",
   "execution_count": 6,
   "metadata": {
    "ExecuteTime": {
     "end_time": "2021-02-22T11:12:39.803926Z",
     "start_time": "2021-02-22T11:12:39.789933Z"
    },
    "scrolled": true
   },
   "outputs": [
    {
     "name": "stdout",
     "output_type": "stream",
     "text": [
      "<class 'pandas.core.frame.DataFrame'>\n",
      "RangeIndex: 6819 entries, 0 to 6818\n",
      "Data columns (total 96 columns):\n",
      " #   Column                                                               Non-Null Count  Dtype  \n",
      "---  ------                                                               --------------  -----  \n",
      " 0   Bankrupt?                                                            6819 non-null   int64  \n",
      " 1    ROA(C) before interest and depreciation before interest             6819 non-null   float64\n",
      " 2    ROA(A) before interest and % after tax                              6819 non-null   float64\n",
      " 3    ROA(B) before interest and depreciation after tax                   6819 non-null   float64\n",
      " 4    operating gross margin                                              6819 non-null   float64\n",
      " 5    realized sales gross margin                                         6819 non-null   float64\n",
      " 6    operating profit rate                                               6819 non-null   float64\n",
      " 7    tax Pre-net interest rate                                           6819 non-null   float64\n",
      " 8    after-tax net interest rate                                         6819 non-null   float64\n",
      " 9    non-industry income and expenditure/revenue                         6819 non-null   float64\n",
      " 10   continuous interest rate (after tax)                                6819 non-null   float64\n",
      " 11   operating expense rate                                              6819 non-null   float64\n",
      " 12   research and development expense rate                               6819 non-null   float64\n",
      " 13   cash flow rate                                                      6819 non-null   float64\n",
      " 14   interest-bearing debt interest rate                                 6819 non-null   float64\n",
      " 15   tax rate (A)                                                        6819 non-null   float64\n",
      " 16   per Net Share Value (B)                                             6819 non-null   float64\n",
      " 17   Net Value Per Share (A)                                             6819 non-null   float64\n",
      " 18   Net Value Per Share (C)                                             6819 non-null   float64\n",
      " 19   Persistent EPS in the Last Four Seasons                             6819 non-null   float64\n",
      " 20   Cash Flow Per Share                                                 6819 non-null   float64\n",
      " 21   Revenue Per Share (Yuan)                                            6819 non-null   float64\n",
      " 22   Operating Profit Per Share (Yuan)                                   6819 non-null   float64\n",
      " 23   Per Share Net profit before tax (yuan)                              6819 non-null   float64\n",
      " 24   realized sales gross profit growth rate                             6819 non-null   float64\n",
      " 25   operating profit growth rate                                        6819 non-null   float64\n",
      " 26   after-tax net profit growth rate                                    6819 non-null   float64\n",
      " 27   regular net profit growth rate                                      6819 non-null   float64\n",
      " 28   continuous net profit growth rate                                   6819 non-null   float64\n",
      " 29   total asset growth rate                                             6819 non-null   float64\n",
      " 30   net value growth rate                                               6819 non-null   float64\n",
      " 31   total asset return growth rate Ratio                                6819 non-null   float64\n",
      " 32   cash reinvestment %                                                 6819 non-null   float64\n",
      " 33   current ratio                                                       6819 non-null   float64\n",
      " 34   quick ratio                                                         6819 non-null   float64\n",
      " 35   interest expense ratio                                              6819 non-null   float64\n",
      " 36   total debt/total net worth                                          6819 non-null   float64\n",
      " 37   debt ratio %                                                        6819 non-null   float64\n",
      " 38   net worth/assets                                                    6819 non-null   float64\n",
      " 39   long-term fund suitability ratio (A)                                6819 non-null   float64\n",
      " 40   borrowing dependency                                                6819 non-null   float64\n",
      " 41   contingent liabilities/net worth                                    6819 non-null   float64\n",
      " 42   Operating profit/paid-in capital                                    6819 non-null   float64\n",
      " 43   net profit before tax/paid-in capital                               6819 non-null   float64\n",
      " 44   inventory and accounts receivable/net value                         6819 non-null   float64\n",
      " 45   total asset turnover                                                6819 non-null   float64\n",
      " 46   accounts receivable turnover                                        6819 non-null   float64\n",
      " 47   average collection days                                             6819 non-null   float64\n",
      " 48   inventory turnover rate (times)                                     6819 non-null   float64\n",
      " 49   fixed assets Turnover frequency                                     6819 non-null   float64\n",
      " 50   net worth turnover rate (times)                                     6819 non-null   float64\n",
      " 51   revenue per person                                                  6819 non-null   float64\n",
      " 52   operating profit per person                                         6819 non-null   float64\n",
      " 53   allocation rate per person                                          6819 non-null   float64\n",
      " 54   working capital to total assets                                     6819 non-null   float64\n",
      " 55  Quick asset/Total asset                                              6819 non-null   float64\n",
      " 56  current assets/total assets                                          6819 non-null   float64\n",
      " 57  cash / total assets                                                  6819 non-null   float64\n",
      " 58  Quick asset /current liabilities                                     6819 non-null   float64\n",
      " 59  cash / current liability                                             6819 non-null   float64\n",
      " 60  current liability to assets                                          6819 non-null   float64\n",
      " 61  operating funds to liability                                         6819 non-null   float64\n",
      " 62  Inventory/working capital                                            6819 non-null   float64\n",
      " 63  Inventory/current liability                                          6819 non-null   float64\n",
      " 64  current liability / liability                                        6819 non-null   float64\n",
      " 65  working capital/equity                                               6819 non-null   float64\n",
      " 66  current liability/equity                                             6819 non-null   float64\n",
      " 67  long-term liability to current assets                                6819 non-null   float64\n",
      " 68  Retained Earnings/Total assets                                       6819 non-null   float64\n",
      " 69  total income / total expense                                         6819 non-null   float64\n",
      " 70  total expense /assets                                                6819 non-null   float64\n",
      " 71   current asset turnover rate                                         6819 non-null   float64\n",
      " 72   quick asset turnover rate                                           6819 non-null   float64\n",
      " 73   working capitcal turnover rate                                      6819 non-null   float64\n",
      " 74   cash turnover rate                                                  6819 non-null   float64\n",
      " 75   Cash flow to Sales                                                  6819 non-null   float64\n",
      " 76   fix assets to assets                                                6819 non-null   float64\n",
      " 77   current liability to liability                                      6819 non-null   float64\n",
      " 78  current liability to equity                                          6819 non-null   float64\n",
      " 79  equity to long-term liability                                        6819 non-null   float64\n",
      " 80  Cash flow to total assets                                            6819 non-null   float64\n",
      " 81  cash flow to liability                                               6819 non-null   float64\n",
      " 82  CFO to ASSETS                                                        6819 non-null   float64\n",
      " 83  cash flow to equity                                                  6819 non-null   float64\n",
      " 84  current liabilities to current assets                                6819 non-null   float64\n",
      " 85  one if total liabilities exceeds total assets zero otherwise         6819 non-null   int64  \n",
      " 86  net income to total assets                                           6819 non-null   float64\n",
      " 87  total assets to GNP price                                            6819 non-null   float64\n",
      " 88  No-credit interval                                                   6819 non-null   float64\n",
      " 89  Gross profit to Sales                                                6819 non-null   float64\n",
      " 90  Net income to stockholder's Equity                                   6819 non-null   float64\n",
      " 91  liability to equity                                                  6819 non-null   float64\n",
      " 92  Degree of financial leverage (DFL)                                   6819 non-null   float64\n",
      " 93  Interest coverage ratio( Interest expense to EBIT )                  6819 non-null   float64\n",
      " 94  one if net income was negative for the last two year zero otherwise  6819 non-null   int64  \n",
      " 95  equity to liability                                                  6819 non-null   float64\n",
      "dtypes: float64(93), int64(3)\n",
      "memory usage: 5.0 MB\n"
     ]
    }
   ],
   "source": [
    "#checking info on entire dataframe\n",
    "df.info()"
   ]
  },
  {
   "cell_type": "markdown",
   "metadata": {},
   "source": [
    "Looking through the info method I see all my datatype are float or int so no need for extra cleaning there. Also no nan values for any variables so clean there as well"
   ]
  },
  {
   "cell_type": "markdown",
   "metadata": {},
   "source": [
    "Columns I predict will be significant predictors:\n",
    "    \n",
    "    - interest expense ratio\n",
    "    - interest-bearing debt interest rate\n",
    "    - total debt/total net worth\n",
    "    - long-term liability to current assets\n",
    "    - cash flow to liability \n",
    "    - current liabilities to current assets\n",
    "    - Degree of financial leverage (DFL)"
   ]
  },
  {
   "cell_type": "code",
   "execution_count": 7,
   "metadata": {
    "ExecuteTime": {
     "end_time": "2021-02-22T11:12:40.143035Z",
     "start_time": "2021-02-22T11:12:39.959504Z"
    }
   },
   "outputs": [
    {
     "name": "stdout",
     "output_type": "stream",
     "text": [
      "Bankrupt?\n",
      "0    0.967737\n",
      "1    0.032263\n",
      "Name: Bankrupt?, dtype: float64\n",
      "-------------------------------------------------------------\n",
      " ROA(C) before interest and depreciation before interest\n",
      "0.490128    0.001760\n",
      "0.516453    0.001613\n",
      "0.499196    0.001466\n",
      "0.513821    0.001466\n",
      "0.501926    0.001320\n",
      "Name:  ROA(C) before interest and depreciation before interest, dtype: float64\n",
      "-------------------------------------------------------------\n",
      " ROA(A) before interest and % after tax\n",
      "0.568251    0.001906\n",
      "0.559693    0.001906\n",
      "0.554187    0.001466\n",
      "0.563127    0.001466\n",
      "0.558929    0.001466\n",
      "Name:  ROA(A) before interest and % after tax, dtype: float64\n",
      "-------------------------------------------------------------\n",
      " ROA(B) before interest and depreciation after tax\n",
      "0.538787    0.001466\n",
      "0.558220    0.001466\n",
      "0.552492    0.001466\n",
      "0.551475    0.001466\n",
      "0.543445    0.001320\n",
      "Name:  ROA(B) before interest and depreciation after tax, dtype: float64\n",
      "-------------------------------------------------------------\n",
      " operating gross margin\n",
      "0.606495    0.001027\n",
      "0.601976    0.001027\n",
      "0.605796    0.001027\n",
      "0.598956    0.001027\n",
      "0.602596    0.000880\n",
      "Name:  operating gross margin, dtype: float64\n",
      "-------------------------------------------------------------\n",
      " realized sales gross margin\n",
      "0.602589    0.001173\n",
      "0.605796    0.001173\n",
      "0.604715    0.001173\n",
      "0.602682    0.001027\n",
      "0.599021    0.001027\n",
      "Name:  realized sales gross margin, dtype: float64\n",
      "-------------------------------------------------------------\n",
      " operating profit rate\n",
      "0.998987    0.001760\n",
      "0.998982    0.001613\n",
      "0.999013    0.001613\n",
      "0.999038    0.001466\n",
      "0.998984    0.001320\n",
      "Name:  operating profit rate, dtype: float64\n",
      "-------------------------------------------------------------\n",
      " tax Pre-net interest rate\n",
      "0.797381    0.001466\n",
      "0.797391    0.001320\n",
      "0.797418    0.001320\n",
      "0.797442    0.001320\n",
      "0.797422    0.001320\n",
      "Name:  tax Pre-net interest rate, dtype: float64\n",
      "-------------------------------------------------------------\n",
      " after-tax net interest rate\n",
      "0.809378    0.001906\n",
      "0.809309    0.001906\n",
      "0.809315    0.001466\n",
      "0.809323    0.001320\n",
      "0.809307    0.001320\n",
      "Name:  after-tax net interest rate, dtype: float64\n",
      "-------------------------------------------------------------\n",
      " non-industry income and expenditure/revenue\n",
      "0.303517    0.002640\n",
      "0.303526    0.002640\n",
      "0.303528    0.002640\n",
      "0.303529    0.002493\n",
      "0.303531    0.002493\n",
      "Name:  non-industry income and expenditure/revenue, dtype: float64\n",
      "-------------------------------------------------------------\n",
      " continuous interest rate (after tax)\n",
      "0.781683    0.001613\n",
      "0.781576    0.001466\n",
      "0.781626    0.001466\n",
      "0.781586    0.001320\n",
      "0.781594    0.001320\n",
      "Name:  continuous interest rate (after tax), dtype: float64\n",
      "-------------------------------------------------------------\n",
      " operating expense rate\n",
      "1.716050e-04    0.001466\n",
      "9.860000e+09    0.001466\n",
      "5.530000e+09    0.001466\n",
      "1.025700e-04    0.001320\n",
      "8.950000e+09    0.001320\n",
      "Name:  operating expense rate, dtype: float64\n",
      "-------------------------------------------------------------\n",
      " research and development expense rate\n",
      "0.0            0.208828\n",
      "441000000.0    0.003226\n",
      "645000000.0    0.003080\n",
      "815000000.0    0.003080\n",
      "323000000.0    0.002786\n",
      "Name:  research and development expense rate, dtype: float64\n",
      "-------------------------------------------------------------\n",
      " cash flow rate\n",
      "0.460970    0.000733\n",
      "0.460621    0.000733\n",
      "0.464373    0.000733\n",
      "0.462696    0.000587\n",
      "0.466135    0.000587\n",
      "Name:  cash flow rate, dtype: float64\n",
      "-------------------------------------------------------------\n",
      " interest-bearing debt interest rate\n",
      "0.000000    0.130664\n",
      "0.000260    0.004399\n",
      "0.000266    0.004106\n",
      "0.000244    0.003666\n",
      "0.000284    0.003226\n",
      "Name:  interest-bearing debt interest rate, dtype: float64\n",
      "-------------------------------------------------------------\n",
      " tax rate (A)\n",
      "0.000000    0.376595\n",
      "0.253062    0.001027\n",
      "0.000405    0.001027\n",
      "0.252657    0.000880\n",
      "0.113777    0.000880\n",
      "Name:  tax rate (A), dtype: float64\n",
      "-------------------------------------------------------------\n",
      " per Net Share Value (B)\n",
      "0.176984    0.002053\n",
      "0.175509    0.001906\n",
      "0.174624    0.001906\n",
      "0.184611    0.001906\n",
      "0.177953    0.001760\n",
      "Name:  per Net Share Value (B), dtype: float64\n",
      "-------------------------------------------------------------\n",
      " Net Value Per Share (A)\n",
      "0.176984    0.002053\n",
      "0.174624    0.001906\n",
      "0.175509    0.001906\n",
      "0.184611    0.001906\n",
      "0.173191    0.001760\n",
      "Name:  Net Value Per Share (A), dtype: float64\n",
      "-------------------------------------------------------------\n",
      " Net Value Per Share (C)\n",
      "0.176984    0.002053\n",
      "0.175509    0.001906\n",
      "0.174624    0.001906\n",
      "0.184611    0.001906\n",
      "0.178796    0.001760\n",
      "Name:  Net Value Per Share (C), dtype: float64\n",
      "-------------------------------------------------------------\n",
      " Persistent EPS in the Last Four Seasons\n",
      "0.214900    0.004693\n",
      "0.218209    0.003960\n",
      "0.214617    0.003813\n",
      "0.218682    0.003813\n",
      "0.218588    0.003813\n",
      "Name:  Persistent EPS in the Last Four Seasons, dtype: float64\n",
      "-------------------------------------------------------------\n",
      " Cash Flow Per Share\n",
      "0.319198    0.003080\n",
      "0.322558    0.003080\n",
      "0.320506    0.003080\n",
      "0.321285    0.002933\n",
      "0.319764    0.002786\n",
      "Name:  Cash Flow Per Share, dtype: float64\n",
      "-------------------------------------------------------------\n",
      " Revenue Per Share (Yuan)\n",
      "0.017756    0.001320\n",
      "0.017046    0.001173\n",
      "0.031233    0.001027\n",
      "0.011328    0.001027\n",
      "0.009725    0.001027\n",
      "Name:  Revenue Per Share (Yuan), dtype: float64\n",
      "-------------------------------------------------------------\n",
      " Operating Profit Per Share (Yuan)\n",
      "0.097142    0.004253\n",
      "0.099340    0.004106\n",
      "0.097712    0.003960\n",
      "0.099503    0.003813\n",
      "0.099422    0.003666\n",
      "Name:  Operating Profit Per Share (Yuan), dtype: float64\n",
      "-------------------------------------------------------------\n",
      " Per Share Net profit before tax (yuan)\n",
      "0.170144    0.004693\n",
      "0.169993    0.004253\n",
      "0.174211    0.003520\n",
      "0.170897    0.003373\n",
      "0.173684    0.003373\n",
      "Name:  Per Share Net profit before tax (yuan), dtype: float64\n",
      "-------------------------------------------------------------\n",
      " realized sales gross profit growth rate\n",
      "0.022092    0.004693\n",
      "0.022090    0.000733\n",
      "0.022104    0.000733\n",
      "0.022128    0.000587\n",
      "0.022096    0.000587\n",
      "Name:  realized sales gross profit growth rate, dtype: float64\n",
      "-------------------------------------------------------------\n",
      " operating profit growth rate\n",
      "0.848022    0.000587\n",
      "0.847957    0.000587\n",
      "0.848005    0.000587\n",
      "0.848057    0.000587\n",
      "0.848045    0.000587\n",
      "Name:  operating profit growth rate, dtype: float64\n",
      "-------------------------------------------------------------\n",
      " after-tax net profit growth rate\n",
      "0.689525    0.000587\n",
      "0.689702    0.000587\n",
      "0.689449    0.000587\n",
      "0.689717    0.000440\n",
      "0.689359    0.000440\n",
      "Name:  after-tax net profit growth rate, dtype: float64\n",
      "-------------------------------------------------------------\n",
      " regular net profit growth rate\n",
      "0.689449    0.000587\n",
      "0.689406    0.000440\n",
      "0.689283    0.000440\n",
      "0.689563    0.000440\n",
      "0.689702    0.000440\n",
      "Name:  regular net profit growth rate, dtype: float64\n",
      "-------------------------------------------------------------\n",
      " continuous net profit growth rate\n",
      "0.217580    0.000587\n",
      "0.217631    0.000440\n",
      "0.217612    0.000440\n",
      "0.217581    0.000440\n",
      "0.217576    0.000440\n",
      "Name:  continuous net profit growth rate, dtype: float64\n",
      "-------------------------------------------------------------\n",
      " total asset growth rate\n",
      "6.370000e+09    0.004106\n",
      "6.400000e+09    0.004106\n",
      "6.890000e+09    0.003960\n",
      "6.300000e+09    0.003960\n",
      "6.440000e+09    0.003960\n",
      "Name:  total asset growth rate, dtype: float64\n",
      "-------------------------------------------------------------\n",
      " net value growth rate\n",
      "0.000445    0.001173\n",
      "0.000449    0.001173\n",
      "0.000466    0.001027\n",
      "0.000447    0.001027\n",
      "0.000451    0.001027\n",
      "Name:  net value growth rate, dtype: float64\n",
      "-------------------------------------------------------------\n",
      " total asset return growth rate Ratio\n",
      "0.264140    0.00176\n",
      "0.263910    0.00176\n",
      "0.264057    0.00176\n",
      "0.263975    0.00176\n",
      "0.264097    0.00176\n",
      "Name:  total asset return growth rate Ratio, dtype: float64\n",
      "-------------------------------------------------------------\n",
      " cash reinvestment %\n",
      "0.375889    0.001466\n",
      "0.375387    0.001466\n",
      "0.386554    0.001320\n",
      "0.376514    0.001320\n",
      "0.384906    0.001173\n",
      "Name:  cash reinvestment %, dtype: float64\n",
      "-------------------------------------------------------------\n",
      " current ratio\n",
      "0.006145    0.000587\n",
      "0.007071    0.000587\n",
      "0.007139    0.000587\n",
      "0.006916    0.000587\n",
      "0.009163    0.000587\n",
      "Name:  current ratio, dtype: float64\n",
      "-------------------------------------------------------------\n",
      " quick ratio\n",
      "0.005432    0.000733\n",
      "0.010871    0.000587\n",
      "0.007170    0.000587\n",
      "0.002090    0.000587\n",
      "0.006933    0.000587\n",
      "Name:  quick ratio, dtype: float64\n",
      "-------------------------------------------------------------\n",
      " interest expense ratio\n",
      "0.630612    0.092829\n",
      "0.630613    0.008212\n",
      "0.630613    0.005426\n",
      "0.630614    0.004399\n",
      "0.630613    0.003960\n",
      "Name:  interest expense ratio, dtype: float64\n",
      "-------------------------------------------------------------\n",
      " total debt/total net worth\n",
      "0.003414    0.000733\n",
      "0.001517    0.000733\n",
      "0.003187    0.000733\n",
      "0.001070    0.000587\n",
      "0.002085    0.000587\n",
      "Name:  total debt/total net worth, dtype: float64\n",
      "-------------------------------------------------------------\n",
      " debt ratio %\n",
      "0.106721    0.00088\n",
      "0.089156    0.00088\n",
      "0.115458    0.00088\n",
      "0.112918    0.00088\n",
      "0.119479    0.00088\n",
      "Name:  debt ratio %, dtype: float64\n",
      "-------------------------------------------------------------\n",
      " net worth/assets\n",
      "0.876591    0.00088\n",
      "0.887082    0.00088\n",
      "0.884542    0.00088\n",
      "0.893279    0.00088\n",
      "0.859842    0.00088\n",
      "Name:  net worth/assets, dtype: float64\n",
      "-------------------------------------------------------------\n",
      " long-term fund suitability ratio (A)\n",
      "0.004716    0.00088\n",
      "0.005257    0.00044\n",
      "0.005132    0.00044\n",
      "0.005582    0.00044\n",
      "0.005139    0.00044\n",
      "Name:  long-term fund suitability ratio (A), dtype: float64\n",
      "-------------------------------------------------------------\n",
      " borrowing dependency\n",
      "0.369637    0.169086\n",
      "0.369639    0.002200\n",
      "0.369638    0.001613\n",
      "0.369653    0.001027\n",
      "0.369657    0.000880\n",
      "Name:  borrowing dependency, dtype: float64\n",
      "-------------------------------------------------------------\n",
      " contingent liabilities/net worth\n",
      "0.005366    0.609767\n",
      "0.005563    0.001027\n",
      "0.005478    0.001027\n",
      "0.005526    0.000880\n",
      "0.005718    0.000880\n",
      "Name:  contingent liabilities/net worth, dtype: float64\n",
      "-------------------------------------------------------------\n",
      " Operating profit/paid-in capital\n",
      "0.097896    0.001173\n",
      "0.099288    0.001027\n",
      "0.103189    0.001027\n",
      "0.113244    0.000880\n",
      "0.109743    0.000880\n",
      "Name:  Operating profit/paid-in capital, dtype: float64\n",
      "-------------------------------------------------------------\n",
      " net profit before tax/paid-in capital\n",
      "0.178441    0.001173\n",
      "0.169014    0.001027\n",
      "0.170643    0.001027\n",
      "0.181012    0.000880\n",
      "0.171752    0.000880\n",
      "Name:  net profit before tax/paid-in capital, dtype: float64\n",
      "-------------------------------------------------------------\n",
      " inventory and accounts receivable/net value\n",
      "0.393663    0.001320\n",
      "0.400194    0.000880\n",
      "0.396341    0.000880\n",
      "0.395122    0.000733\n",
      "0.397332    0.000733\n",
      "Name:  inventory and accounts receivable/net value, dtype: float64\n",
      "-------------------------------------------------------------\n",
      " total asset turnover\n",
      "0.079460    0.011145\n",
      "0.103448    0.010852\n",
      "0.092954    0.010412\n",
      "0.106447    0.010265\n",
      "0.113943    0.010265\n",
      "Name:  total asset turnover, dtype: float64\n",
      "-------------------------------------------------------------\n",
      " accounts receivable turnover\n",
      "0.000712    0.003373\n",
      "0.000808    0.003373\n",
      "0.000716    0.003373\n",
      "0.000737    0.003226\n",
      "0.000670    0.003226\n",
      "Name:  accounts receivable turnover, dtype: float64\n",
      "-------------------------------------------------------------\n",
      " average collection days\n",
      "0.000000    0.001027\n",
      "0.007280    0.000733\n",
      "0.007553    0.000733\n",
      "0.007758    0.000733\n",
      "0.006241    0.000587\n",
      "Name:  average collection days, dtype: float64\n",
      "-------------------------------------------------------------\n",
      " inventory turnover rate (times)\n",
      "1.910000e+07    0.031236\n",
      "8.120000e+08    0.002346\n",
      "8.500000e+09    0.002053\n",
      "8.100000e+09    0.002053\n",
      "8.460000e+09    0.002053\n",
      "Name:  inventory turnover rate (times), dtype: float64\n",
      "-------------------------------------------------------------\n",
      " fixed assets Turnover frequency\n",
      "1.021270e-04    0.002933\n",
      "1.429780e-04    0.002786\n",
      "6.280000e+09    0.002640\n",
      "8.470000e+09    0.002640\n",
      "7.870000e+08    0.002640\n",
      "Name:  fixed assets Turnover frequency, dtype: float64\n",
      "-------------------------------------------------------------\n",
      " net worth turnover rate (times)\n"
     ]
    },
    {
     "name": "stdout",
     "output_type": "stream",
     "text": [
      "0.028387    0.007919\n",
      "0.026129    0.007039\n",
      "0.021613    0.006746\n",
      "0.026452    0.006599\n",
      "0.024516    0.006453\n",
      "Name:  net worth turnover rate (times), dtype: float64\n",
      "-------------------------------------------------------------\n",
      " revenue per person\n",
      "0.013610    0.000880\n",
      "0.007597    0.000733\n",
      "0.008681    0.000733\n",
      "0.023794    0.000733\n",
      "0.008155    0.000733\n",
      "Name:  revenue per person, dtype: float64\n",
      "-------------------------------------------------------------\n",
      " operating profit per person\n",
      "0.394462    0.001906\n",
      "0.392268    0.001613\n",
      "0.393207    0.001613\n",
      "0.394903    0.001613\n",
      "0.395152    0.001613\n",
      "Name:  operating profit per person, dtype: float64\n",
      "-------------------------------------------------------------\n",
      " allocation rate per person\n",
      "0.000000    0.000880\n",
      "0.000521    0.000293\n",
      "0.004960    0.000293\n",
      "0.004832    0.000293\n",
      "0.007482    0.000293\n",
      "Name:  allocation rate per person, dtype: float64\n",
      "-------------------------------------------------------------\n",
      " working capital to total assets\n",
      "0.888684    0.000147\n",
      "0.887104    0.000147\n",
      "0.772383    0.000147\n",
      "0.865070    0.000147\n",
      "0.810366    0.000147\n",
      "Name:  working capital to total assets, dtype: float64\n",
      "-------------------------------------------------------------\n",
      "Quick asset/Total asset\n",
      "0.108160    0.000147\n",
      "0.306652    0.000147\n",
      "0.331273    0.000147\n",
      "0.400582    0.000147\n",
      "0.705380    0.000147\n",
      "Name: Quick asset/Total asset, dtype: float64\n",
      "-------------------------------------------------------------\n",
      "current assets/total assets\n",
      "0.423831    0.000147\n",
      "0.747118    0.000147\n",
      "0.372108    0.000147\n",
      "0.847884    0.000147\n",
      "0.832199    0.000147\n",
      "Name: current assets/total assets, dtype: float64\n",
      "-------------------------------------------------------------\n",
      "cash / total assets\n",
      "0.199254    0.000147\n",
      "0.081690    0.000147\n",
      "0.043274    0.000147\n",
      "0.054872    0.000147\n",
      "0.013579    0.000147\n",
      "Name: cash / total assets, dtype: float64\n",
      "-------------------------------------------------------------\n",
      "Quick asset /current liabilities\n",
      "0.006890    0.000293\n",
      "0.153132    0.000147\n",
      "0.007209    0.000147\n",
      "0.006505    0.000147\n",
      "0.011537    0.000147\n",
      "Name: Quick asset /current liabilities, dtype: float64\n",
      "-------------------------------------------------------------\n",
      "cash / current liability\n",
      "4.610000e+09    0.000293\n",
      "8.833670e-04    0.000293\n",
      "1.044964e-03    0.000293\n",
      "7.510000e+09    0.000293\n",
      "8.870000e+09    0.000293\n",
      "Name: cash / current liability, dtype: float64\n",
      "-------------------------------------------------------------\n",
      "current liability to assets\n",
      "0.095844    0.000147\n",
      "0.013010    0.000147\n",
      "0.196007    0.000147\n",
      "0.116465    0.000147\n",
      "0.082505    0.000147\n",
      "Name: current liability to assets, dtype: float64\n",
      "-------------------------------------------------------------\n",
      "operating funds to liability\n",
      "0.368180    0.000147\n",
      "0.367398    0.000147\n",
      "0.345138    0.000147\n",
      "0.351892    0.000147\n",
      "0.336211    0.000147\n",
      "Name: operating funds to liability, dtype: float64\n",
      "-------------------------------------------------------------\n",
      "Inventory/working capital\n",
      "0.276975    0.033289\n",
      "0.277139    0.000440\n",
      "0.277199    0.000293\n",
      "0.277276    0.000293\n",
      "0.277101    0.000293\n",
      "Name: Inventory/working capital, dtype: float64\n",
      "-------------------------------------------------------------\n",
      "Inventory/current liability\n",
      "0.000000e+00    0.033289\n",
      "5.070000e+09    0.000293\n",
      "4.607176e-03    0.000293\n",
      "5.280000e+09    0.000293\n",
      "8.790000e+09    0.000293\n",
      "Name: Inventory/current liability, dtype: float64\n",
      "-------------------------------------------------------------\n",
      "current liability / liability\n",
      "1.000000    0.028303\n",
      "0.698893    0.000147\n",
      "0.576047    0.000147\n",
      "0.916114    0.000147\n",
      "0.204058    0.000147\n",
      "Name: current liability / liability, dtype: float64\n",
      "-------------------------------------------------------------\n",
      "working capital/equity\n",
      "0.737339    0.000293\n",
      "0.734378    0.000147\n",
      "0.734479    0.000147\n",
      "0.735807    0.000147\n",
      "0.733691    0.000147\n",
      "Name: working capital/equity, dtype: float64\n",
      "-------------------------------------------------------------\n",
      "current liability/equity\n",
      "0.327342    0.000293\n",
      "0.328924    0.000293\n",
      "0.329527    0.000293\n",
      "0.333004    0.000147\n",
      "0.330874    0.000147\n",
      "Name: current liability/equity, dtype: float64\n",
      "-------------------------------------------------------------\n",
      "long-term liability to current assets\n",
      "0.000000e+00    0.376741\n",
      "7.790640e-04    0.000293\n",
      "2.790000e+08    0.000293\n",
      "5.790000e+08    0.000293\n",
      "4.332340e-04    0.000293\n",
      "Name: long-term liability to current assets, dtype: float64\n",
      "-------------------------------------------------------------\n",
      "Retained Earnings/Total assets\n",
      "0.925335    0.000293\n",
      "0.946183    0.000293\n",
      "0.929706    0.000147\n",
      "0.945061    0.000147\n",
      "0.950518    0.000147\n",
      "Name: Retained Earnings/Total assets, dtype: float64\n",
      "-------------------------------------------------------------\n",
      "total income / total expense\n",
      "0.002772    0.000293\n",
      "0.002403    0.000293\n",
      "0.002344    0.000293\n",
      "0.002243    0.000293\n",
      "0.002297    0.000293\n",
      "Name: total income / total expense, dtype: float64\n",
      "-------------------------------------------------------------\n",
      "total expense /assets\n",
      "0.022402    0.000147\n",
      "0.031118    0.000147\n",
      "0.013156    0.000147\n",
      "0.050506    0.000147\n",
      "0.056875    0.000147\n",
      "Name: total expense /assets, dtype: float64\n",
      "-------------------------------------------------------------\n",
      " current asset turnover rate\n",
      "8.580000e+09    0.001173\n",
      "9.950000e+09    0.001027\n",
      "9.980000e+09    0.001027\n",
      "9.660000e+09    0.001027\n",
      "9.470000e+09    0.001027\n",
      "Name:  current asset turnover rate, dtype: float64\n",
      "-------------------------------------------------------------\n",
      " quick asset turnover rate\n",
      "6.460000e+09    0.001613\n",
      "9.590000e+09    0.001320\n",
      "8.590000e+09    0.001320\n",
      "9.160000e+09    0.001320\n",
      "9.910000e+09    0.001173\n",
      "Name:  quick asset turnover rate, dtype: float64\n",
      "-------------------------------------------------------------\n",
      " working capitcal turnover rate\n",
      "0.593982    0.000440\n",
      "0.593939    0.000293\n",
      "0.593930    0.000293\n",
      "0.593959    0.000293\n",
      "0.593947    0.000293\n",
      "Name:  working capitcal turnover rate, dtype: float64\n",
      "-------------------------------------------------------------\n",
      " cash turnover rate\n",
      "1.940000e+09    0.001760\n",
      "3.020000e+09    0.001613\n",
      "1.930000e+09    0.001613\n",
      "2.060000e+09    0.001613\n",
      "1.220000e+09    0.001466\n",
      "Name:  cash turnover rate, dtype: float64\n",
      "-------------------------------------------------------------\n",
      " Cash flow to Sales\n",
      "0.671563    0.000587\n",
      "0.671571    0.000440\n",
      "0.671572    0.000440\n",
      "0.671570    0.000440\n",
      "0.671582    0.000440\n",
      "Name:  Cash flow to Sales, dtype: float64\n",
      "-------------------------------------------------------------\n",
      " fix assets to assets\n",
      "0.000000    0.000880\n",
      "0.639221    0.000147\n",
      "0.310680    0.000147\n",
      "0.186784    0.000147\n",
      "0.375388    0.000147\n",
      "Name:  fix assets to assets, dtype: float64\n",
      "-------------------------------------------------------------\n",
      " current liability to liability\n",
      "1.000000    0.028303\n",
      "0.698893    0.000147\n",
      "0.576047    0.000147\n",
      "0.916114    0.000147\n",
      "0.204058    0.000147\n",
      "Name:  current liability to liability, dtype: float64\n",
      "-------------------------------------------------------------\n",
      "current liability to equity\n",
      "0.327342    0.000293\n",
      "0.328924    0.000293\n",
      "0.329527    0.000293\n",
      "0.333004    0.000147\n",
      "0.330874    0.000147\n",
      "Name: current liability to equity, dtype: float64\n",
      "-------------------------------------------------------------\n",
      "equity to long-term liability\n",
      "0.110933    0.376741\n",
      "0.131773    0.000147\n",
      "0.122050    0.000147\n",
      "0.112543    0.000147\n",
      "0.113604    0.000147\n",
      "Name: equity to long-term liability, dtype: float64\n",
      "-------------------------------------------------------------\n",
      "Cash flow to total assets\n",
      "0.660199    0.000147\n",
      "0.739108    0.000147\n",
      "0.626975    0.000147\n",
      "0.720142    0.000147\n",
      "0.659495    0.000147\n",
      "Name: Cash flow to total assets, dtype: float64\n",
      "-------------------------------------------------------------\n",
      "cash flow to liability\n",
      "0.460452    0.000293\n",
      "0.459955    0.000147\n",
      "0.426222    0.000147\n",
      "0.476761    0.000147\n",
      "0.463897    0.000147\n",
      "Name: cash flow to liability, dtype: float64\n",
      "-------------------------------------------------------------\n",
      "CFO to ASSETS\n",
      "0.619126    0.000147\n",
      "0.613112    0.000147\n",
      "0.598807    0.000147\n",
      "0.495139    0.000147\n",
      "0.611921    0.000147\n",
      "Name: CFO to ASSETS, dtype: float64\n",
      "-------------------------------------------------------------\n",
      "cash flow to equity\n",
      "0.315301    0.000293\n",
      "0.315513    0.000293\n",
      "0.329212    0.000147\n",
      "0.314224    0.000147\n",
      "0.319788    0.000147\n",
      "Name: cash flow to equity, dtype: float64\n",
      "-------------------------------------------------------------\n",
      "current liabilities to current assets\n",
      "0.027407    0.000147\n",
      "0.025822    0.000147\n",
      "0.049573    0.000147\n",
      "0.011074    0.000147\n",
      "0.012771    0.000147\n",
      "Name: current liabilities to current assets, dtype: float64\n",
      "-------------------------------------------------------------\n",
      "one if total liabilities exceeds total assets zero otherwise\n"
     ]
    },
    {
     "name": "stdout",
     "output_type": "stream",
     "text": [
      "0    0.998827\n",
      "1    0.001173\n",
      "Name: one if total liabilities exceeds total assets zero otherwise, dtype: float64\n",
      "-------------------------------------------------------------\n",
      "net income to total assets\n",
      "0.809910    0.000293\n",
      "0.839891    0.000147\n",
      "0.797847    0.000147\n",
      "0.814917    0.000147\n",
      "0.835167    0.000147\n",
      "Name: net income to total assets, dtype: float64\n",
      "-------------------------------------------------------------\n",
      "total assets to GNP price\n",
      "0.000539    0.000293\n",
      "0.003661    0.000293\n",
      "0.000745    0.000293\n",
      "0.003997    0.000147\n",
      "0.000377    0.000147\n",
      "Name: total assets to GNP price, dtype: float64\n",
      "-------------------------------------------------------------\n",
      "No-credit interval\n",
      "0.623892    0.000293\n",
      "0.623816    0.000293\n",
      "0.624019    0.000293\n",
      "0.624104    0.000293\n",
      "0.623928    0.000293\n",
      "Name: No-credit interval, dtype: float64\n",
      "-------------------------------------------------------------\n",
      "Gross profit to Sales\n",
      "0.665149    0.000587\n",
      "0.608458    0.000293\n",
      "0.601417    0.000147\n",
      "0.625916    0.000147\n",
      "0.611582    0.000147\n",
      "Name: Gross profit to Sales, dtype: float64\n",
      "-------------------------------------------------------------\n",
      "Net income to stockholder's Equity\n",
      "0.841233    0.000293\n",
      "0.845600    0.000147\n",
      "0.842867    0.000147\n",
      "0.846275    0.000147\n",
      "0.840969    0.000147\n",
      "Name: Net income to stockholder's Equity, dtype: float64\n",
      "-------------------------------------------------------------\n",
      "liability to equity\n",
      "0.275746    0.000293\n",
      "0.278327    0.000293\n",
      "0.275953    0.000293\n",
      "0.276222    0.000293\n",
      "0.282869    0.000293\n",
      "Name: liability to equity, dtype: float64\n",
      "-------------------------------------------------------------\n",
      "Degree of financial leverage (DFL)\n",
      "0.026791    0.085350\n",
      "0.026791    0.000733\n",
      "0.026791    0.000587\n",
      "0.026791    0.000587\n",
      "0.026791    0.000587\n",
      "Name: Degree of financial leverage (DFL), dtype: float64\n",
      "-------------------------------------------------------------\n",
      "Interest coverage ratio( Interest expense to EBIT )\n",
      "0.565158    0.085056\n",
      "0.565162    0.000440\n",
      "0.565159    0.000440\n",
      "0.565272    0.000293\n",
      "0.565173    0.000293\n",
      "Name: Interest coverage ratio( Interest expense to EBIT ), dtype: float64\n",
      "-------------------------------------------------------------\n",
      "one if net income was negative for the last two year zero otherwise\n",
      "1    1.0\n",
      "Name: one if net income was negative for the last two year zero otherwise, dtype: float64\n",
      "-------------------------------------------------------------\n",
      "equity to liability\n",
      "0.029193    0.000147\n",
      "0.046391    0.000147\n",
      "0.135233    0.000147\n",
      "0.019723    0.000147\n",
      "0.036217    0.000147\n",
      "Name: equity to liability, dtype: float64\n",
      "-------------------------------------------------------------\n"
     ]
    }
   ],
   "source": [
    "#checking for unique values\n",
    "for col in df.columns:\n",
    "    print(col)\n",
    "    print(df[col].value_counts(normalize = True, ascending=False).head(5))\n",
    "    print(\"-------------------------------------------------------------\")"
   ]
  },
  {
   "cell_type": "code",
   "execution_count": 8,
   "metadata": {
    "ExecuteTime": {
     "end_time": "2021-02-22T11:12:40.363756Z",
     "start_time": "2021-02-22T11:12:40.348713Z"
    }
   },
   "outputs": [],
   "source": [
    "## contingent liabilities of "
   ]
  },
  {
   "cell_type": "code",
   "execution_count": 9,
   "metadata": {
    "ExecuteTime": {
     "end_time": "2021-02-22T11:12:40.659063Z",
     "start_time": "2021-02-22T11:12:40.519303Z"
    }
   },
   "outputs": [],
   "source": [
    "#checking predictors for multicollinearity\n",
    "\n",
    "test = df.corr().abs().stack().reset_index().sort_values(0,ascending=False)\n",
    "test['pairs'] = list(zip(test.level_0,test.level_1))\n",
    "test.set_index(['pairs'], inplace=True)\n",
    "test.drop(columns=['level_1','level_0'], inplace=True)\n",
    "test.columns = ['cc']\n",
    "test.drop_duplicates(inplace=True)\n",
    "test.sort_values('cc',ascending=False, inplace=True)\n",
    "multicollinear_predictors = test[test.cc >.75]\n",
    "multicollinear_predictors.reset_index(inplace=True)"
   ]
  },
  {
   "cell_type": "code",
   "execution_count": 10,
   "metadata": {
    "ExecuteTime": {
     "end_time": "2021-02-22T11:12:40.876487Z",
     "start_time": "2021-02-22T11:12:40.862538Z"
    }
   },
   "outputs": [
    {
     "name": "stderr",
     "output_type": "stream",
     "text": [
      "<ipython-input-10-a30768636eb9>:1: SettingWithCopyWarning: \n",
      "A value is trying to be set on a copy of a slice from a DataFrame.\n",
      "Try using .loc[row_indexer,col_indexer] = value instead\n",
      "\n",
      "See the caveats in the documentation: https://pandas.pydata.org/pandas-docs/stable/user_guide/indexing.html#returning-a-view-versus-a-copy\n",
      "  multicollinear_predictors['column_1'] = multicollinear_predictors.pairs.map(lambda x : x[0])\n",
      "<ipython-input-10-a30768636eb9>:2: SettingWithCopyWarning: \n",
      "A value is trying to be set on a copy of a slice from a DataFrame.\n",
      "Try using .loc[row_indexer,col_indexer] = value instead\n",
      "\n",
      "See the caveats in the documentation: https://pandas.pydata.org/pandas-docs/stable/user_guide/indexing.html#returning-a-view-versus-a-copy\n",
      "  multicollinear_predictors['column_2'] = multicollinear_predictors.pairs.map(lambda x : x[1])\n"
     ]
    }
   ],
   "source": [
    "multicollinear_predictors['column_1'] = multicollinear_predictors.pairs.map(lambda x : x[0])\n",
    "multicollinear_predictors['column_2'] = multicollinear_predictors.pairs.map(lambda x : x[1])"
   ]
  },
  {
   "cell_type": "code",
   "execution_count": 11,
   "metadata": {
    "ExecuteTime": {
     "end_time": "2021-02-22T11:12:41.092977Z",
     "start_time": "2021-02-22T11:12:41.063085Z"
    }
   },
   "outputs": [
    {
     "data": {
      "text/html": [
       "<div>\n",
       "<style scoped>\n",
       "    .dataframe tbody tr th:only-of-type {\n",
       "        vertical-align: middle;\n",
       "    }\n",
       "\n",
       "    .dataframe tbody tr th {\n",
       "        vertical-align: top;\n",
       "    }\n",
       "\n",
       "    .dataframe thead th {\n",
       "        text-align: right;\n",
       "    }\n",
       "</style>\n",
       "<table border=\"1\" class=\"dataframe\">\n",
       "  <thead>\n",
       "    <tr style=\"text-align: right;\">\n",
       "      <th></th>\n",
       "      <th>pairs</th>\n",
       "      <th>cc</th>\n",
       "      <th>column_1</th>\n",
       "      <th>column_2</th>\n",
       "    </tr>\n",
       "  </thead>\n",
       "  <tbody>\n",
       "    <tr>\n",
       "      <th>0</th>\n",
       "      <td>( net worth/assets,  debt ratio %)</td>\n",
       "      <td>1.000000</td>\n",
       "      <td>net worth/assets</td>\n",
       "      <td>debt ratio %</td>\n",
       "    </tr>\n",
       "    <tr>\n",
       "      <th>1</th>\n",
       "      <td>( regular net profit growth rate,  regular net...</td>\n",
       "      <td>1.000000</td>\n",
       "      <td>regular net profit growth rate</td>\n",
       "      <td>regular net profit growth rate</td>\n",
       "    </tr>\n",
       "    <tr>\n",
       "      <th>2</th>\n",
       "      <td>(Gross profit to Sales,  operating gross margin)</td>\n",
       "      <td>1.000000</td>\n",
       "      <td>Gross profit to Sales</td>\n",
       "      <td>operating gross margin</td>\n",
       "    </tr>\n",
       "    <tr>\n",
       "      <th>3</th>\n",
       "      <td>( Net Value Per Share (C),  Net Value Per Shar...</td>\n",
       "      <td>0.999837</td>\n",
       "      <td>Net Value Per Share (C)</td>\n",
       "      <td>Net Value Per Share (A)</td>\n",
       "    </tr>\n",
       "    <tr>\n",
       "      <th>4</th>\n",
       "      <td>( operating gross margin,  realized sales gros...</td>\n",
       "      <td>0.999518</td>\n",
       "      <td>operating gross margin</td>\n",
       "      <td>realized sales gross margin</td>\n",
       "    </tr>\n",
       "    <tr>\n",
       "      <th>5</th>\n",
       "      <td>( realized sales gross margin, Gross profit to...</td>\n",
       "      <td>0.999518</td>\n",
       "      <td>realized sales gross margin</td>\n",
       "      <td>Gross profit to Sales</td>\n",
       "    </tr>\n",
       "    <tr>\n",
       "      <th>6</th>\n",
       "      <td>( Net Value Per Share (A),  per Net Share Valu...</td>\n",
       "      <td>0.999342</td>\n",
       "      <td>Net Value Per Share (A)</td>\n",
       "      <td>per Net Share Value (B)</td>\n",
       "    </tr>\n",
       "    <tr>\n",
       "      <th>7</th>\n",
       "      <td>( per Net Share Value (B),  Net Value Per Shar...</td>\n",
       "      <td>0.999179</td>\n",
       "      <td>per Net Share Value (B)</td>\n",
       "      <td>Net Value Per Share (C)</td>\n",
       "    </tr>\n",
       "    <tr>\n",
       "      <th>8</th>\n",
       "      <td>( Operating profit/paid-in capital,  Operating...</td>\n",
       "      <td>0.998696</td>\n",
       "      <td>Operating profit/paid-in capital</td>\n",
       "      <td>Operating Profit Per Share (Yuan)</td>\n",
       "    </tr>\n",
       "    <tr>\n",
       "      <th>9</th>\n",
       "      <td>( regular net profit growth rate,  after-tax n...</td>\n",
       "      <td>0.996186</td>\n",
       "      <td>regular net profit growth rate</td>\n",
       "      <td>after-tax net profit growth rate</td>\n",
       "    </tr>\n",
       "    <tr>\n",
       "      <th>10</th>\n",
       "      <td>( continuous interest rate (after tax),  tax P...</td>\n",
       "      <td>0.993617</td>\n",
       "      <td>continuous interest rate (after tax)</td>\n",
       "      <td>tax Pre-net interest rate</td>\n",
       "    </tr>\n",
       "    <tr>\n",
       "      <th>11</th>\n",
       "      <td>( ROA(C) before interest and depreciation befo...</td>\n",
       "      <td>0.986849</td>\n",
       "      <td>ROA(C) before interest and depreciation befor...</td>\n",
       "      <td>ROA(B) before interest and depreciation after...</td>\n",
       "    </tr>\n",
       "    <tr>\n",
       "      <th>12</th>\n",
       "      <td>( after-tax net interest rate,  tax Pre-net in...</td>\n",
       "      <td>0.986379</td>\n",
       "      <td>after-tax net interest rate</td>\n",
       "      <td>tax Pre-net interest rate</td>\n",
       "    </tr>\n",
       "    <tr>\n",
       "      <th>13</th>\n",
       "      <td>( continuous interest rate (after tax),  after...</td>\n",
       "      <td>0.984452</td>\n",
       "      <td>continuous interest rate (after tax)</td>\n",
       "      <td>after-tax net interest rate</td>\n",
       "    </tr>\n",
       "    <tr>\n",
       "      <th>14</th>\n",
       "      <td>(current liability/equity, liability to equity)</td>\n",
       "      <td>0.963908</td>\n",
       "      <td>current liability/equity</td>\n",
       "      <td>liability to equity</td>\n",
       "    </tr>\n",
       "    <tr>\n",
       "      <th>15</th>\n",
       "      <td>( Per Share Net profit before tax (yuan),  net...</td>\n",
       "      <td>0.962723</td>\n",
       "      <td>Per Share Net profit before tax (yuan)</td>\n",
       "      <td>net profit before tax/paid-in capital</td>\n",
       "    </tr>\n",
       "    <tr>\n",
       "      <th>16</th>\n",
       "      <td>( ROA(A) before interest and % after tax, net ...</td>\n",
       "      <td>0.961552</td>\n",
       "      <td>ROA(A) before interest and % after tax</td>\n",
       "      <td>net income to total assets</td>\n",
       "    </tr>\n",
       "    <tr>\n",
       "      <th>17</th>\n",
       "      <td>( net profit before tax/paid-in capital,  Pers...</td>\n",
       "      <td>0.959461</td>\n",
       "      <td>net profit before tax/paid-in capital</td>\n",
       "      <td>Persistent EPS in the Last Four Seasons</td>\n",
       "    </tr>\n",
       "    <tr>\n",
       "      <th>18</th>\n",
       "      <td>(liability to equity,  borrowing dependency)</td>\n",
       "      <td>0.955857</td>\n",
       "      <td>liability to equity</td>\n",
       "      <td>borrowing dependency</td>\n",
       "    </tr>\n",
       "    <tr>\n",
       "      <th>19</th>\n",
       "      <td>( ROA(B) before interest and depreciation afte...</td>\n",
       "      <td>0.955741</td>\n",
       "      <td>ROA(B) before interest and depreciation after...</td>\n",
       "      <td>ROA(A) before interest and % after tax</td>\n",
       "    </tr>\n",
       "    <tr>\n",
       "      <th>20</th>\n",
       "      <td>( Per Share Net profit before tax (yuan),  Per...</td>\n",
       "      <td>0.955591</td>\n",
       "      <td>Per Share Net profit before tax (yuan)</td>\n",
       "      <td>Persistent EPS in the Last Four Seasons</td>\n",
       "    </tr>\n",
       "    <tr>\n",
       "      <th>21</th>\n",
       "      <td>( Cash flow to Sales,  working capitcal turnov...</td>\n",
       "      <td>0.948194</td>\n",
       "      <td>Cash flow to Sales</td>\n",
       "      <td>working capitcal turnover rate</td>\n",
       "    </tr>\n",
       "    <tr>\n",
       "      <th>22</th>\n",
       "      <td>( ROA(C) before interest and depreciation befo...</td>\n",
       "      <td>0.940124</td>\n",
       "      <td>ROA(C) before interest and depreciation befor...</td>\n",
       "      <td>ROA(A) before interest and % after tax</td>\n",
       "    </tr>\n",
       "    <tr>\n",
       "      <th>23</th>\n",
       "      <td>( tax Pre-net interest rate,  operating profit...</td>\n",
       "      <td>0.916448</td>\n",
       "      <td>tax Pre-net interest rate</td>\n",
       "      <td>operating profit rate</td>\n",
       "    </tr>\n",
       "    <tr>\n",
       "      <th>24</th>\n",
       "      <td>( operating profit rate,  continuous interest ...</td>\n",
       "      <td>0.915544</td>\n",
       "      <td>operating profit rate</td>\n",
       "      <td>continuous interest rate (after tax)</td>\n",
       "    </tr>\n",
       "    <tr>\n",
       "      <th>25</th>\n",
       "      <td>( ROA(B) before interest and depreciation afte...</td>\n",
       "      <td>0.912040</td>\n",
       "      <td>ROA(B) before interest and depreciation after...</td>\n",
       "      <td>net income to total assets</td>\n",
       "    </tr>\n",
       "    <tr>\n",
       "      <th>26</th>\n",
       "      <td>( borrowing dependency, current liability/equity)</td>\n",
       "      <td>0.892772</td>\n",
       "      <td>borrowing dependency</td>\n",
       "      <td>current liability/equity</td>\n",
       "    </tr>\n",
       "    <tr>\n",
       "      <th>27</th>\n",
       "      <td>(net income to total assets,  ROA(C) before in...</td>\n",
       "      <td>0.887670</td>\n",
       "      <td>net income to total assets</td>\n",
       "      <td>ROA(C) before interest and depreciation befor...</td>\n",
       "    </tr>\n",
       "    <tr>\n",
       "      <th>28</th>\n",
       "      <td>( Operating profit/paid-in capital,  net profi...</td>\n",
       "      <td>0.887370</td>\n",
       "      <td>Operating profit/paid-in capital</td>\n",
       "      <td>net profit before tax/paid-in capital</td>\n",
       "    </tr>\n",
       "    <tr>\n",
       "      <th>29</th>\n",
       "      <td>( net profit before tax/paid-in capital,  Oper...</td>\n",
       "      <td>0.886157</td>\n",
       "      <td>net profit before tax/paid-in capital</td>\n",
       "      <td>Operating Profit Per Share (Yuan)</td>\n",
       "    </tr>\n",
       "    <tr>\n",
       "      <th>30</th>\n",
       "      <td>(operating funds to liability,  cash flow rate)</td>\n",
       "      <td>0.880562</td>\n",
       "      <td>operating funds to liability</td>\n",
       "      <td>cash flow rate</td>\n",
       "    </tr>\n",
       "    <tr>\n",
       "      <th>31</th>\n",
       "      <td>( Operating Profit Per Share (Yuan),  Persiste...</td>\n",
       "      <td>0.876769</td>\n",
       "      <td>Operating Profit Per Share (Yuan)</td>\n",
       "      <td>Persistent EPS in the Last Four Seasons</td>\n",
       "    </tr>\n",
       "    <tr>\n",
       "      <th>32</th>\n",
       "      <td>( Operating profit/paid-in capital,  Persisten...</td>\n",
       "      <td>0.873641</td>\n",
       "      <td>Operating profit/paid-in capital</td>\n",
       "      <td>Persistent EPS in the Last Four Seasons</td>\n",
       "    </tr>\n",
       "    <tr>\n",
       "      <th>33</th>\n",
       "      <td>( after-tax net interest rate,  operating prof...</td>\n",
       "      <td>0.862191</td>\n",
       "      <td>after-tax net interest rate</td>\n",
       "      <td>operating profit rate</td>\n",
       "    </tr>\n",
       "    <tr>\n",
       "      <th>34</th>\n",
       "      <td>( Per Share Net profit before tax (yuan),  Ope...</td>\n",
       "      <td>0.861813</td>\n",
       "      <td>Per Share Net profit before tax (yuan)</td>\n",
       "      <td>Operating Profit Per Share (Yuan)</td>\n",
       "    </tr>\n",
       "    <tr>\n",
       "      <th>35</th>\n",
       "      <td>( Operating profit/paid-in capital,  Per Share...</td>\n",
       "      <td>0.858310</td>\n",
       "      <td>Operating profit/paid-in capital</td>\n",
       "      <td>Per Share Net profit before tax (yuan)</td>\n",
       "    </tr>\n",
       "    <tr>\n",
       "      <th>36</th>\n",
       "      <td>(current liability to assets,  net worth/assets)</td>\n",
       "      <td>0.842583</td>\n",
       "      <td>current liability to assets</td>\n",
       "      <td>net worth/assets</td>\n",
       "    </tr>\n",
       "    <tr>\n",
       "      <th>37</th>\n",
       "      <td>( debt ratio %, current liability to assets)</td>\n",
       "      <td>0.842583</td>\n",
       "      <td>debt ratio %</td>\n",
       "      <td>current liability to assets</td>\n",
       "    </tr>\n",
       "    <tr>\n",
       "      <th>38</th>\n",
       "      <td>(equity to long-term liability,  borrowing dep...</td>\n",
       "      <td>0.806889</td>\n",
       "      <td>equity to long-term liability</td>\n",
       "      <td>borrowing dependency</td>\n",
       "    </tr>\n",
       "    <tr>\n",
       "      <th>39</th>\n",
       "      <td>( borrowing dependency, Net income to stockhol...</td>\n",
       "      <td>0.806478</td>\n",
       "      <td>borrowing dependency</td>\n",
       "      <td>Net income to stockholder's Equity</td>\n",
       "    </tr>\n",
       "    <tr>\n",
       "      <th>40</th>\n",
       "      <td>(Retained Earnings/Total assets, net income to...</td>\n",
       "      <td>0.794189</td>\n",
       "      <td>Retained Earnings/Total assets</td>\n",
       "      <td>net income to total assets</td>\n",
       "    </tr>\n",
       "    <tr>\n",
       "      <th>41</th>\n",
       "      <td>(liability to equity, Net income to stockholde...</td>\n",
       "      <td>0.791836</td>\n",
       "      <td>liability to equity</td>\n",
       "      <td>Net income to stockholder's Equity</td>\n",
       "    </tr>\n",
       "    <tr>\n",
       "      <th>42</th>\n",
       "      <td>(equity to long-term liability, liability to e...</td>\n",
       "      <td>0.778135</td>\n",
       "      <td>equity to long-term liability</td>\n",
       "      <td>liability to equity</td>\n",
       "    </tr>\n",
       "    <tr>\n",
       "      <th>43</th>\n",
       "      <td>( Persistent EPS in the Last Four Seasons,  RO...</td>\n",
       "      <td>0.775006</td>\n",
       "      <td>Persistent EPS in the Last Four Seasons</td>\n",
       "      <td>ROA(C) before interest and depreciation befor...</td>\n",
       "    </tr>\n",
       "    <tr>\n",
       "      <th>44</th>\n",
       "      <td>(working capital/equity,  contingent liabiliti...</td>\n",
       "      <td>0.767778</td>\n",
       "      <td>working capital/equity</td>\n",
       "      <td>contingent liabilities/net worth</td>\n",
       "    </tr>\n",
       "    <tr>\n",
       "      <th>45</th>\n",
       "      <td>( Persistent EPS in the Last Four Seasons,  RO...</td>\n",
       "      <td>0.764828</td>\n",
       "      <td>Persistent EPS in the Last Four Seasons</td>\n",
       "      <td>ROA(A) before interest and % after tax</td>\n",
       "    </tr>\n",
       "    <tr>\n",
       "      <th>46</th>\n",
       "      <td>( Persistent EPS in the Last Four Seasons,  RO...</td>\n",
       "      <td>0.764597</td>\n",
       "      <td>Persistent EPS in the Last Four Seasons</td>\n",
       "      <td>ROA(B) before interest and depreciation after...</td>\n",
       "    </tr>\n",
       "    <tr>\n",
       "      <th>47</th>\n",
       "      <td>( net profit before tax/paid-in capital,  ROA(...</td>\n",
       "      <td>0.758234</td>\n",
       "      <td>net profit before tax/paid-in capital</td>\n",
       "      <td>ROA(A) before interest and % after tax</td>\n",
       "    </tr>\n",
       "    <tr>\n",
       "      <th>48</th>\n",
       "      <td>( total asset turnover,  net worth turnover ra...</td>\n",
       "      <td>0.757414</td>\n",
       "      <td>total asset turnover</td>\n",
       "      <td>net worth turnover rate (times)</td>\n",
       "    </tr>\n",
       "    <tr>\n",
       "      <th>49</th>\n",
       "      <td>( Persistent EPS in the Last Four Seasons,  pe...</td>\n",
       "      <td>0.755568</td>\n",
       "      <td>Persistent EPS in the Last Four Seasons</td>\n",
       "      <td>per Net Share Value (B)</td>\n",
       "    </tr>\n",
       "    <tr>\n",
       "      <th>50</th>\n",
       "      <td>(current assets/total assets, Quick asset/Tota...</td>\n",
       "      <td>0.755453</td>\n",
       "      <td>current assets/total assets</td>\n",
       "      <td>Quick asset/Total asset</td>\n",
       "    </tr>\n",
       "    <tr>\n",
       "      <th>51</th>\n",
       "      <td>( Net Value Per Share (A),  Persistent EPS in ...</td>\n",
       "      <td>0.755409</td>\n",
       "      <td>Net Value Per Share (A)</td>\n",
       "      <td>Persistent EPS in the Last Four Seasons</td>\n",
       "    </tr>\n",
       "    <tr>\n",
       "      <th>52</th>\n",
       "      <td>( Persistent EPS in the Last Four Seasons,  Ne...</td>\n",
       "      <td>0.755217</td>\n",
       "      <td>Persistent EPS in the Last Four Seasons</td>\n",
       "      <td>Net Value Per Share (C)</td>\n",
       "    </tr>\n",
       "    <tr>\n",
       "      <th>53</th>\n",
       "      <td>( ROA(C) before interest and depreciation befo...</td>\n",
       "      <td>0.753339</td>\n",
       "      <td>ROA(C) before interest and depreciation befor...</td>\n",
       "      <td>net profit before tax/paid-in capital</td>\n",
       "    </tr>\n",
       "    <tr>\n",
       "      <th>54</th>\n",
       "      <td>( ROA(A) before interest and % after tax,  Per...</td>\n",
       "      <td>0.752578</td>\n",
       "      <td>ROA(A) before interest and % after tax</td>\n",
       "      <td>Per Share Net profit before tax (yuan)</td>\n",
       "    </tr>\n",
       "    <tr>\n",
       "      <th>55</th>\n",
       "      <td>( ROA(C) before interest and depreciation befo...</td>\n",
       "      <td>0.750564</td>\n",
       "      <td>ROA(C) before interest and depreciation befor...</td>\n",
       "      <td>Per Share Net profit before tax (yuan)</td>\n",
       "    </tr>\n",
       "  </tbody>\n",
       "</table>\n",
       "</div>"
      ],
      "text/plain": [
       "                                                pairs        cc  \\\n",
       "0                  ( net worth/assets,  debt ratio %)  1.000000   \n",
       "1   ( regular net profit growth rate,  regular net...  1.000000   \n",
       "2    (Gross profit to Sales,  operating gross margin)  1.000000   \n",
       "3   ( Net Value Per Share (C),  Net Value Per Shar...  0.999837   \n",
       "4   ( operating gross margin,  realized sales gros...  0.999518   \n",
       "5   ( realized sales gross margin, Gross profit to...  0.999518   \n",
       "6   ( Net Value Per Share (A),  per Net Share Valu...  0.999342   \n",
       "7   ( per Net Share Value (B),  Net Value Per Shar...  0.999179   \n",
       "8   ( Operating profit/paid-in capital,  Operating...  0.998696   \n",
       "9   ( regular net profit growth rate,  after-tax n...  0.996186   \n",
       "10  ( continuous interest rate (after tax),  tax P...  0.993617   \n",
       "11  ( ROA(C) before interest and depreciation befo...  0.986849   \n",
       "12  ( after-tax net interest rate,  tax Pre-net in...  0.986379   \n",
       "13  ( continuous interest rate (after tax),  after...  0.984452   \n",
       "14    (current liability/equity, liability to equity)  0.963908   \n",
       "15  ( Per Share Net profit before tax (yuan),  net...  0.962723   \n",
       "16  ( ROA(A) before interest and % after tax, net ...  0.961552   \n",
       "17  ( net profit before tax/paid-in capital,  Pers...  0.959461   \n",
       "18       (liability to equity,  borrowing dependency)  0.955857   \n",
       "19  ( ROA(B) before interest and depreciation afte...  0.955741   \n",
       "20  ( Per Share Net profit before tax (yuan),  Per...  0.955591   \n",
       "21  ( Cash flow to Sales,  working capitcal turnov...  0.948194   \n",
       "22  ( ROA(C) before interest and depreciation befo...  0.940124   \n",
       "23  ( tax Pre-net interest rate,  operating profit...  0.916448   \n",
       "24  ( operating profit rate,  continuous interest ...  0.915544   \n",
       "25  ( ROA(B) before interest and depreciation afte...  0.912040   \n",
       "26  ( borrowing dependency, current liability/equity)  0.892772   \n",
       "27  (net income to total assets,  ROA(C) before in...  0.887670   \n",
       "28  ( Operating profit/paid-in capital,  net profi...  0.887370   \n",
       "29  ( net profit before tax/paid-in capital,  Oper...  0.886157   \n",
       "30    (operating funds to liability,  cash flow rate)  0.880562   \n",
       "31  ( Operating Profit Per Share (Yuan),  Persiste...  0.876769   \n",
       "32  ( Operating profit/paid-in capital,  Persisten...  0.873641   \n",
       "33  ( after-tax net interest rate,  operating prof...  0.862191   \n",
       "34  ( Per Share Net profit before tax (yuan),  Ope...  0.861813   \n",
       "35  ( Operating profit/paid-in capital,  Per Share...  0.858310   \n",
       "36   (current liability to assets,  net worth/assets)  0.842583   \n",
       "37       ( debt ratio %, current liability to assets)  0.842583   \n",
       "38  (equity to long-term liability,  borrowing dep...  0.806889   \n",
       "39  ( borrowing dependency, Net income to stockhol...  0.806478   \n",
       "40  (Retained Earnings/Total assets, net income to...  0.794189   \n",
       "41  (liability to equity, Net income to stockholde...  0.791836   \n",
       "42  (equity to long-term liability, liability to e...  0.778135   \n",
       "43  ( Persistent EPS in the Last Four Seasons,  RO...  0.775006   \n",
       "44  (working capital/equity,  contingent liabiliti...  0.767778   \n",
       "45  ( Persistent EPS in the Last Four Seasons,  RO...  0.764828   \n",
       "46  ( Persistent EPS in the Last Four Seasons,  RO...  0.764597   \n",
       "47  ( net profit before tax/paid-in capital,  ROA(...  0.758234   \n",
       "48  ( total asset turnover,  net worth turnover ra...  0.757414   \n",
       "49  ( Persistent EPS in the Last Four Seasons,  pe...  0.755568   \n",
       "50  (current assets/total assets, Quick asset/Tota...  0.755453   \n",
       "51  ( Net Value Per Share (A),  Persistent EPS in ...  0.755409   \n",
       "52  ( Persistent EPS in the Last Four Seasons,  Ne...  0.755217   \n",
       "53  ( ROA(C) before interest and depreciation befo...  0.753339   \n",
       "54  ( ROA(A) before interest and % after tax,  Per...  0.752578   \n",
       "55  ( ROA(C) before interest and depreciation befo...  0.750564   \n",
       "\n",
       "                                             column_1  \\\n",
       "0                                    net worth/assets   \n",
       "1                      regular net profit growth rate   \n",
       "2                               Gross profit to Sales   \n",
       "3                             Net Value Per Share (C)   \n",
       "4                              operating gross margin   \n",
       "5                         realized sales gross margin   \n",
       "6                             Net Value Per Share (A)   \n",
       "7                             per Net Share Value (B)   \n",
       "8                    Operating profit/paid-in capital   \n",
       "9                      regular net profit growth rate   \n",
       "10               continuous interest rate (after tax)   \n",
       "11   ROA(C) before interest and depreciation befor...   \n",
       "12                        after-tax net interest rate   \n",
       "13               continuous interest rate (after tax)   \n",
       "14                           current liability/equity   \n",
       "15             Per Share Net profit before tax (yuan)   \n",
       "16             ROA(A) before interest and % after tax   \n",
       "17              net profit before tax/paid-in capital   \n",
       "18                                liability to equity   \n",
       "19   ROA(B) before interest and depreciation after...   \n",
       "20             Per Share Net profit before tax (yuan)   \n",
       "21                                 Cash flow to Sales   \n",
       "22   ROA(C) before interest and depreciation befor...   \n",
       "23                          tax Pre-net interest rate   \n",
       "24                              operating profit rate   \n",
       "25   ROA(B) before interest and depreciation after...   \n",
       "26                               borrowing dependency   \n",
       "27                         net income to total assets   \n",
       "28                   Operating profit/paid-in capital   \n",
       "29              net profit before tax/paid-in capital   \n",
       "30                       operating funds to liability   \n",
       "31                  Operating Profit Per Share (Yuan)   \n",
       "32                   Operating profit/paid-in capital   \n",
       "33                        after-tax net interest rate   \n",
       "34             Per Share Net profit before tax (yuan)   \n",
       "35                   Operating profit/paid-in capital   \n",
       "36                        current liability to assets   \n",
       "37                                       debt ratio %   \n",
       "38                      equity to long-term liability   \n",
       "39                               borrowing dependency   \n",
       "40                     Retained Earnings/Total assets   \n",
       "41                                liability to equity   \n",
       "42                      equity to long-term liability   \n",
       "43            Persistent EPS in the Last Four Seasons   \n",
       "44                             working capital/equity   \n",
       "45            Persistent EPS in the Last Four Seasons   \n",
       "46            Persistent EPS in the Last Four Seasons   \n",
       "47              net profit before tax/paid-in capital   \n",
       "48                               total asset turnover   \n",
       "49            Persistent EPS in the Last Four Seasons   \n",
       "50                        current assets/total assets   \n",
       "51                            Net Value Per Share (A)   \n",
       "52            Persistent EPS in the Last Four Seasons   \n",
       "53   ROA(C) before interest and depreciation befor...   \n",
       "54             ROA(A) before interest and % after tax   \n",
       "55   ROA(C) before interest and depreciation befor...   \n",
       "\n",
       "                                             column_2  \n",
       "0                                        debt ratio %  \n",
       "1                      regular net profit growth rate  \n",
       "2                              operating gross margin  \n",
       "3                             Net Value Per Share (A)  \n",
       "4                         realized sales gross margin  \n",
       "5                               Gross profit to Sales  \n",
       "6                             per Net Share Value (B)  \n",
       "7                             Net Value Per Share (C)  \n",
       "8                   Operating Profit Per Share (Yuan)  \n",
       "9                    after-tax net profit growth rate  \n",
       "10                          tax Pre-net interest rate  \n",
       "11   ROA(B) before interest and depreciation after...  \n",
       "12                          tax Pre-net interest rate  \n",
       "13                        after-tax net interest rate  \n",
       "14                                liability to equity  \n",
       "15              net profit before tax/paid-in capital  \n",
       "16                         net income to total assets  \n",
       "17            Persistent EPS in the Last Four Seasons  \n",
       "18                               borrowing dependency  \n",
       "19             ROA(A) before interest and % after tax  \n",
       "20            Persistent EPS in the Last Four Seasons  \n",
       "21                     working capitcal turnover rate  \n",
       "22             ROA(A) before interest and % after tax  \n",
       "23                              operating profit rate  \n",
       "24               continuous interest rate (after tax)  \n",
       "25                         net income to total assets  \n",
       "26                           current liability/equity  \n",
       "27   ROA(C) before interest and depreciation befor...  \n",
       "28              net profit before tax/paid-in capital  \n",
       "29                  Operating Profit Per Share (Yuan)  \n",
       "30                                     cash flow rate  \n",
       "31            Persistent EPS in the Last Four Seasons  \n",
       "32            Persistent EPS in the Last Four Seasons  \n",
       "33                              operating profit rate  \n",
       "34                  Operating Profit Per Share (Yuan)  \n",
       "35             Per Share Net profit before tax (yuan)  \n",
       "36                                   net worth/assets  \n",
       "37                        current liability to assets  \n",
       "38                               borrowing dependency  \n",
       "39                 Net income to stockholder's Equity  \n",
       "40                         net income to total assets  \n",
       "41                 Net income to stockholder's Equity  \n",
       "42                                liability to equity  \n",
       "43   ROA(C) before interest and depreciation befor...  \n",
       "44                   contingent liabilities/net worth  \n",
       "45             ROA(A) before interest and % after tax  \n",
       "46   ROA(B) before interest and depreciation after...  \n",
       "47             ROA(A) before interest and % after tax  \n",
       "48                    net worth turnover rate (times)  \n",
       "49                            per Net Share Value (B)  \n",
       "50                            Quick asset/Total asset  \n",
       "51            Persistent EPS in the Last Four Seasons  \n",
       "52                            Net Value Per Share (C)  \n",
       "53              net profit before tax/paid-in capital  \n",
       "54             Per Share Net profit before tax (yuan)  \n",
       "55             Per Share Net profit before tax (yuan)  "
      ]
     },
     "execution_count": 11,
     "metadata": {},
     "output_type": "execute_result"
    }
   ],
   "source": [
    "multicollinear_predictors"
   ]
  },
  {
   "cell_type": "code",
   "execution_count": 12,
   "metadata": {
    "ExecuteTime": {
     "end_time": "2021-02-22T11:12:41.328492Z",
     "start_time": "2021-02-22T11:12:41.313510Z"
    }
   },
   "outputs": [
    {
     "data": {
      "text/plain": [
       "Index(['Bankrupt?', ' ROA(C) before interest and depreciation before interest',\n",
       "       ' ROA(A) before interest and % after tax',\n",
       "       ' ROA(B) before interest and depreciation after tax',\n",
       "       ' operating gross margin', ' realized sales gross margin',\n",
       "       ' operating profit rate', ' tax Pre-net interest rate',\n",
       "       ' after-tax net interest rate',\n",
       "       ' non-industry income and expenditure/revenue',\n",
       "       ' continuous interest rate (after tax)', ' operating expense rate',\n",
       "       ' research and development expense rate', ' cash flow rate',\n",
       "       ' interest-bearing debt interest rate', ' tax rate (A)',\n",
       "       ' per Net Share Value (B)', ' Net Value Per Share (A)',\n",
       "       ' Net Value Per Share (C)', ' Persistent EPS in the Last Four Seasons',\n",
       "       ' Cash Flow Per Share', ' Revenue Per Share (Yuan)',\n",
       "       ' Operating Profit Per Share (Yuan)',\n",
       "       ' Per Share Net profit before tax (yuan)',\n",
       "       ' realized sales gross profit growth rate',\n",
       "       ' operating profit growth rate', ' after-tax net profit growth rate',\n",
       "       ' regular net profit growth rate', ' continuous net profit growth rate',\n",
       "       ' total asset growth rate', ' net value growth rate',\n",
       "       ' total asset return growth rate Ratio', ' cash reinvestment %',\n",
       "       ' current ratio', ' quick ratio', ' interest expense ratio',\n",
       "       ' total debt/total net worth', ' debt ratio %', ' net worth/assets',\n",
       "       ' long-term fund suitability ratio (A)', ' borrowing dependency',\n",
       "       ' contingent liabilities/net worth',\n",
       "       ' Operating profit/paid-in capital',\n",
       "       ' net profit before tax/paid-in capital',\n",
       "       ' inventory and accounts receivable/net value', ' total asset turnover',\n",
       "       ' accounts receivable turnover', ' average collection days',\n",
       "       ' inventory turnover rate (times)', ' fixed assets Turnover frequency',\n",
       "       ' net worth turnover rate (times)', ' revenue per person',\n",
       "       ' operating profit per person', ' allocation rate per person',\n",
       "       ' working capital to total assets', 'Quick asset/Total asset',\n",
       "       'current assets/total assets', 'cash / total assets',\n",
       "       'Quick asset /current liabilities', 'cash / current liability',\n",
       "       'current liability to assets', 'operating funds to liability',\n",
       "       'Inventory/working capital', 'Inventory/current liability',\n",
       "       'current liability / liability', 'working capital/equity',\n",
       "       'current liability/equity', 'long-term liability to current assets',\n",
       "       'Retained Earnings/Total assets', 'total income / total expense',\n",
       "       'total expense /assets', ' current asset turnover rate',\n",
       "       ' quick asset turnover rate', ' working capitcal turnover rate',\n",
       "       ' cash turnover rate', ' Cash flow to Sales', ' fix assets to assets',\n",
       "       ' current liability to liability', 'current liability to equity',\n",
       "       'equity to long-term liability', 'Cash flow to total assets',\n",
       "       'cash flow to liability', 'CFO to ASSETS', 'cash flow to equity',\n",
       "       'current liabilities to current assets',\n",
       "       'one if total liabilities exceeds total assets zero otherwise',\n",
       "       'net income to total assets', 'total assets to GNP price',\n",
       "       'No-credit interval', 'Gross profit to Sales',\n",
       "       'Net income to stockholder's Equity', 'liability to equity',\n",
       "       'Degree of financial leverage (DFL)',\n",
       "       'Interest coverage ratio( Interest expense to EBIT )',\n",
       "       'one if net income was negative for the last two year zero otherwise',\n",
       "       'equity to liability'],\n",
       "      dtype='object')"
      ]
     },
     "execution_count": 12,
     "metadata": {},
     "output_type": "execute_result"
    }
   ],
   "source": [
    "df.columns"
   ]
  },
  {
   "cell_type": "code",
   "execution_count": 13,
   "metadata": {
    "ExecuteTime": {
     "end_time": "2021-02-22T11:12:41.529978Z",
     "start_time": "2021-02-22T11:12:41.515039Z"
    }
   },
   "outputs": [],
   "source": [
    "#Unsurprisingly, there are many columns that are correlated above .75 as my features\n",
    "# are different line items on a financial statement\n",
    "# below are chosen columns I think that models will still have accurate results without while\n",
    "# still dealing with multicollinearity\n",
    "\n",
    "columns_to_drop = [' net worth/assets','Gross profit to Sales',' Net Value Per Share (A)',' per Net Share Value (B)',\n",
    "                  ' realized sales gross margin',' Operating profit/paid-in capital',' regular net profit growth rate',\n",
    "                  ' continuous interest rate (after tax)',' ROA(A) before interest and % after tax',' ROA(B) before interest and depreciation after tax',\n",
    "                  ' tax Pre-net interest rate',' net profit before tax/paid-in capital',\n",
    "                  ' borrowing dependency',' Per Share Net profit before tax (yuan)',\n",
    "                  'liability to equity',' Cash flow to Sales','operating funds to liability',' Operating Profit Per Share (Yuan)',\n",
    "                  ' after-tax net interest rate','one if net income was negative for the last two year zero otherwise',' contingent liabilities/net worth','one if total liabilities exceeds total assets zero otherwise']"
   ]
  },
  {
   "cell_type": "code",
   "execution_count": 14,
   "metadata": {
    "ExecuteTime": {
     "end_time": "2021-02-22T11:12:41.747406Z",
     "start_time": "2021-02-22T11:12:41.732444Z"
    }
   },
   "outputs": [
    {
     "data": {
      "text/plain": [
       "22"
      ]
     },
     "execution_count": 14,
     "metadata": {},
     "output_type": "execute_result"
    }
   ],
   "source": [
    "len(columns_to_drop)"
   ]
  },
  {
   "cell_type": "code",
   "execution_count": 15,
   "metadata": {
    "ExecuteTime": {
     "end_time": "2021-02-22T11:12:41.950835Z",
     "start_time": "2021-02-22T11:12:41.936850Z"
    }
   },
   "outputs": [],
   "source": [
    "pre_pro = df.drop(columns=columns_to_drop,axis=1)"
   ]
  },
  {
   "cell_type": "code",
   "execution_count": 16,
   "metadata": {
    "ExecuteTime": {
     "end_time": "2021-02-22T11:12:42.260033Z",
     "start_time": "2021-02-22T11:12:42.246040Z"
    }
   },
   "outputs": [],
   "source": [
    "# seperating out my target and predictors into X and y and training and test groups\n",
    "X = pre_pro.drop(columns='Bankrupt?',axis=1)\n",
    "y = pre_pro['Bankrupt?']\n",
    "X_train, X_test, y_train, y_test = train_test_split(X,y,test_size=.25,random_state=42)\n"
   ]
  },
  {
   "cell_type": "code",
   "execution_count": 17,
   "metadata": {
    "ExecuteTime": {
     "end_time": "2021-02-22T11:12:42.727842Z",
     "start_time": "2021-02-22T11:12:42.712915Z"
    }
   },
   "outputs": [
    {
     "data": {
      "text/plain": [
       "(0    0.967737\n",
       " 1    0.032263\n",
       " Name: Bankrupt?, dtype: float64,\n",
       " 0    6599\n",
       " 1     220\n",
       " Name: Bankrupt?, dtype: int64)"
      ]
     },
     "execution_count": 17,
     "metadata": {},
     "output_type": "execute_result"
    }
   ],
   "source": [
    "#checking for class imbalance which we clearly have with our data\n",
    "#this will need to be accounted for by resmapling in some way\n",
    "y.value_counts(normalize=True), y.value_counts()"
   ]
  },
  {
   "cell_type": "code",
   "execution_count": 18,
   "metadata": {
    "ExecuteTime": {
     "end_time": "2021-02-22T11:12:43.169421Z",
     "start_time": "2021-02-22T11:12:43.154381Z"
    }
   },
   "outputs": [],
   "source": [
    "#making function to generate a panda df with relevant scores\n",
    "def model_scores(y_true,y_pred,model_name):\n",
    "    \n",
    "    results = ({'Model':model_name,\n",
    "                    'precision_score': precision_score(y_true,y_pred),\n",
    "                    'recall_score': recall_score(y_true,y_pred),\n",
    "                     'accuracy_score': accuracy_score(y_true,y_pred),\n",
    "                     'f1_score':f1_score(y_true,y_pred)\n",
    "                    })\n",
    "    model_results = pd.DataFrame(data=results,index=[0])\n",
    "    return model_results"
   ]
  },
  {
   "cell_type": "code",
   "execution_count": 19,
   "metadata": {
    "ExecuteTime": {
     "end_time": "2021-02-22T11:12:43.589623Z",
     "start_time": "2021-02-22T11:12:43.575729Z"
    }
   },
   "outputs": [],
   "source": [
    "#defining sigmoid function to scale my data from 0-1\n",
    "def sigmoid(x):\n",
    "    x = np.array(x)\n",
    "    return 1/(1 + np.e**(-1*x))"
   ]
  },
  {
   "cell_type": "code",
   "execution_count": 20,
   "metadata": {
    "ExecuteTime": {
     "end_time": "2021-02-22T11:12:44.103795Z",
     "start_time": "2021-02-22T11:12:44.028141Z"
    }
   },
   "outputs": [],
   "source": [
    "#Using smote on my training data\n",
    "#this will allow me to resample my training data and fit my model based on the resampled training data\n",
    "# After doing so, when i predict based on my unchanged X_test values my class imbalance issues should not be as bad\n",
    "\n",
    "smote = SMOTE()\n",
    "X_train_smote, y_train_smote = smote.fit_sample(X_train, y_train) \n",
    "X_train_smote_sig = X_train_smote.apply(sigmoid)\n",
    "X_test_sig = X_test.apply(sigmoid)"
   ]
  },
  {
   "cell_type": "markdown",
   "metadata": {},
   "source": [
    "## Models"
   ]
  },
  {
   "cell_type": "markdown",
   "metadata": {},
   "source": [
    "### Logistic Regression Model"
   ]
  },
  {
   "cell_type": "code",
   "execution_count": 21,
   "metadata": {
    "ExecuteTime": {
     "end_time": "2021-02-22T11:12:51.390361Z",
     "start_time": "2021-02-22T11:12:44.701252Z"
    }
   },
   "outputs": [
    {
     "name": "stdout",
     "output_type": "stream",
     "text": [
      "AUC: 0.9121391034901493\n",
      "[[1486  161]\n",
      " [  15   43]]\n",
      "              precision    recall  f1-score   support\n",
      "\n",
      "           0       0.99      0.90      0.94      1647\n",
      "           1       0.21      0.74      0.33        58\n",
      "\n",
      "    accuracy                           0.90      1705\n",
      "   macro avg       0.60      0.82      0.64      1705\n",
      "weighted avg       0.96      0.90      0.92      1705\n",
      "\n"
     ]
    },
    {
     "name": "stderr",
     "output_type": "stream",
     "text": [
      "C:\\Users\\sergi\\anaconda3\\envs\\learn-env\\lib\\site-packages\\sklearn\\svm\\_base.py:976: ConvergenceWarning: Liblinear failed to converge, increase the number of iterations.\n",
      "  warnings.warn(\"Liblinear failed to converge, increase \"\n"
     ]
    },
    {
     "data": {
      "image/png": "[encoded data removed]",
      "text/plain": [
       "<Figure size 432x288 with 2 Axes>"
      ]
     },
     "metadata": {
      "needs_background": "light"
     },
     "output_type": "display_data"
    }
   ],
   "source": [
    "logreg = LogisticRegression(C=1e12,fit_intercept=True,solver='liblinear')\n",
    "log_model = logreg.fit(X_train_smote_sig, y_train_smote)\n",
    "y_hat_log = logreg.predict(X_test_sig)\n",
    "y_score_log = log_model.decision_function(X_test_sig)\n",
    "fpr,tpr,thresholds = roc_curve(y_test,y_score_log)\n",
    "\n",
    "print('AUC: {}'.format(auc(fpr, tpr)))\n",
    "cf = confusion_matrix(y_test,y_hat_log)\n",
    "\n",
    "plot_confusion_matrix(log_model,X_test_sig,y_test,cmap=plt.cm.Blues,\n",
    "                     display_labels=[\"Not Bankrupt\", \"Bankrupt\"],\n",
    "                      values_format=\".5g\")\n",
    "plt.title(\"Logistic Regression Confusion Matrix\")\n",
    "\n",
    "print(confusion_matrix(y_test, y_hat_log))\n",
    "print(classification_report(y_test, y_hat_log))"
   ]
  },
  {
   "cell_type": "code",
   "execution_count": 22,
   "metadata": {
    "ExecuteTime": {
     "end_time": "2021-02-22T11:12:52.035063Z",
     "start_time": "2021-02-22T11:12:52.020101Z"
    }
   },
   "outputs": [
    {
     "data": {
      "text/html": [
       "<div>\n",
       "<style scoped>\n",
       "    .dataframe tbody tr th:only-of-type {\n",
       "        vertical-align: middle;\n",
       "    }\n",
       "\n",
       "    .dataframe tbody tr th {\n",
       "        vertical-align: top;\n",
       "    }\n",
       "\n",
       "    .dataframe thead th {\n",
       "        text-align: right;\n",
       "    }\n",
       "</style>\n",
       "<table border=\"1\" class=\"dataframe\">\n",
       "  <thead>\n",
       "    <tr style=\"text-align: right;\">\n",
       "      <th></th>\n",
       "      <th>Model</th>\n",
       "      <th>precision_score</th>\n",
       "      <th>recall_score</th>\n",
       "      <th>accuracy_score</th>\n",
       "      <th>f1_score</th>\n",
       "    </tr>\n",
       "  </thead>\n",
       "  <tbody>\n",
       "    <tr>\n",
       "      <th>0</th>\n",
       "      <td>Logistic Regression</td>\n",
       "      <td>0.210784</td>\n",
       "      <td>0.741379</td>\n",
       "      <td>0.896774</td>\n",
       "      <td>0.328244</td>\n",
       "    </tr>\n",
       "  </tbody>\n",
       "</table>\n",
       "</div>"
      ],
      "text/plain": [
       "                 Model  precision_score  recall_score  accuracy_score  \\\n",
       "0  Logistic Regression         0.210784      0.741379        0.896774   \n",
       "\n",
       "   f1_score  \n",
       "0  0.328244  "
      ]
     },
     "execution_count": 22,
     "metadata": {},
     "output_type": "execute_result"
    }
   ],
   "source": [
    "log_scores = model_scores(y_test,y_hat_log,'Logistic Regression')\n",
    "log_scores"
   ]
  },
  {
   "cell_type": "markdown",
   "metadata": {},
   "source": [
    "### Decision Tree Model"
   ]
  },
  {
   "cell_type": "code",
   "execution_count": 23,
   "metadata": {
    "ExecuteTime": {
     "end_time": "2021-02-22T11:12:52.633236Z",
     "start_time": "2021-02-22T11:12:52.619425Z"
    }
   },
   "outputs": [],
   "source": [
    "dtree = DecisionTreeClassifier(max_depth=12,min_samples_leaf=2,min_samples_split=9)"
   ]
  },
  {
   "cell_type": "code",
   "execution_count": 24,
   "metadata": {
    "ExecuteTime": {
     "end_time": "2021-02-22T11:12:53.915892Z",
     "start_time": "2021-02-22T11:12:53.196846Z"
    }
   },
   "outputs": [
    {
     "name": "stdout",
     "output_type": "stream",
     "text": [
      "AUC: 0.7886072901618407\n",
      "[[1547  100]\n",
      " [  21   37]]\n",
      "              precision    recall  f1-score   support\n",
      "\n",
      "           0       0.99      0.94      0.96      1647\n",
      "           1       0.27      0.64      0.38        58\n",
      "\n",
      "    accuracy                           0.93      1705\n",
      "   macro avg       0.63      0.79      0.67      1705\n",
      "weighted avg       0.96      0.93      0.94      1705\n",
      "\n"
     ]
    },
    {
     "data": {
      "image/png": "[encoded data removed]",
      "text/plain": [
       "<Figure size 432x288 with 2 Axes>"
      ]
     },
     "metadata": {
      "needs_background": "light"
     },
     "output_type": "display_data"
    }
   ],
   "source": [
    "dtree.fit(X_train_smote_sig,y_train_smote)\n",
    "\n",
    "y_pred_tree = dtree.predict(X_test_sig)\n",
    "\n",
    "fpr, tpr, thresholds = roc_curve(y_test, y_pred_tree)\n",
    "\n",
    "print('AUC: {}'.format(auc(fpr, tpr)))\n",
    "cf = confusion_matrix(y_test,y_pred_tree)\n",
    "\n",
    "plot_confusion_matrix(dtree,X_test_sig,y_test,cmap=plt.cm.Blues,\n",
    "                     display_labels=[\"not bankrupt\", \"bankrupt\"],\n",
    "                      values_format=\".5g\")\n",
    "plt.title(\"Decision Tree Confusion Matrix\")\n",
    "\n",
    "print(confusion_matrix(y_test, y_pred_tree))\n",
    "print(classification_report(y_test, y_pred_tree))"
   ]
  },
  {
   "cell_type": "code",
   "execution_count": 25,
   "metadata": {
    "ExecuteTime": {
     "end_time": "2021-02-22T11:12:54.601523Z",
     "start_time": "2021-02-22T11:12:54.572603Z"
    }
   },
   "outputs": [
    {
     "data": {
      "text/html": [
       "<div>\n",
       "<style scoped>\n",
       "    .dataframe tbody tr th:only-of-type {\n",
       "        vertical-align: middle;\n",
       "    }\n",
       "\n",
       "    .dataframe tbody tr th {\n",
       "        vertical-align: top;\n",
       "    }\n",
       "\n",
       "    .dataframe thead th {\n",
       "        text-align: right;\n",
       "    }\n",
       "</style>\n",
       "<table border=\"1\" class=\"dataframe\">\n",
       "  <thead>\n",
       "    <tr style=\"text-align: right;\">\n",
       "      <th></th>\n",
       "      <th>Model</th>\n",
       "      <th>precision_score</th>\n",
       "      <th>recall_score</th>\n",
       "      <th>accuracy_score</th>\n",
       "      <th>f1_score</th>\n",
       "    </tr>\n",
       "  </thead>\n",
       "  <tbody>\n",
       "    <tr>\n",
       "      <th>0</th>\n",
       "      <td>Decision Tree</td>\n",
       "      <td>0.270073</td>\n",
       "      <td>0.637931</td>\n",
       "      <td>0.929032</td>\n",
       "      <td>0.379487</td>\n",
       "    </tr>\n",
       "  </tbody>\n",
       "</table>\n",
       "</div>"
      ],
      "text/plain": [
       "           Model  precision_score  recall_score  accuracy_score  f1_score\n",
       "0  Decision Tree         0.270073      0.637931        0.929032  0.379487"
      ]
     },
     "execution_count": 25,
     "metadata": {},
     "output_type": "execute_result"
    }
   ],
   "source": [
    "dtree_scores = model_scores(y_test,y_pred_tree,\"Decision Tree\")\n",
    "dtree_scores"
   ]
  },
  {
   "cell_type": "markdown",
   "metadata": {},
   "source": [
    "### Random Forest Model"
   ]
  },
  {
   "cell_type": "code",
   "execution_count": 26,
   "metadata": {
    "ExecuteTime": {
     "end_time": "2021-02-22T11:12:55.210154Z",
     "start_time": "2021-02-22T11:12:55.199191Z"
    }
   },
   "outputs": [],
   "source": [
    "forest = RandomForestClassifier(criterion='entropy',max_depth=6,min_samples_leaf=2,min_samples_split=5)"
   ]
  },
  {
   "cell_type": "code",
   "execution_count": 27,
   "metadata": {
    "ExecuteTime": {
     "end_time": "2021-02-22T11:12:59.258202Z",
     "start_time": "2021-02-22T11:12:55.879364Z"
    }
   },
   "outputs": [
    {
     "name": "stdout",
     "output_type": "stream",
     "text": [
      "[[1510  137]\n",
      " [  12   46]]\n",
      "              precision    recall  f1-score   support\n",
      "\n",
      "           0       0.99      0.92      0.95      1647\n",
      "           1       0.25      0.79      0.38        58\n",
      "\n",
      "    accuracy                           0.91      1705\n",
      "   macro avg       0.62      0.85      0.67      1705\n",
      "weighted avg       0.97      0.91      0.93      1705\n",
      "\n"
     ]
    },
    {
     "data": {
      "image/png": "[encoded data removed]",
      "text/plain": [
       "<Figure size 432x288 with 2 Axes>"
      ]
     },
     "metadata": {
      "needs_background": "light"
     },
     "output_type": "display_data"
    }
   ],
   "source": [
    "forest.fit(X_train_smote_sig,y_train_smote)\n",
    "\n",
    "forest.predict(X_test_sig)\n",
    "\n",
    "y_pred_forest = forest.predict(X_test_sig)\n",
    "\n",
    "plot_confusion_matrix(forest,X_test_sig,y_test,cmap=plt.cm.Blues,\n",
    "                     display_labels=[\"not bankrupt\", \"bankrupt\"],\n",
    "                      values_format=\".5g\")\n",
    "\n",
    "plt.title(\"Random Forest Confusion Matrix\")\n",
    "\n",
    "print(confusion_matrix(y_test, y_pred_forest))\n",
    "print(classification_report(y_test, y_pred_forest))"
   ]
  },
  {
   "cell_type": "markdown",
   "metadata": {},
   "source": [
    "After running our Random forest model through gridsearchcv to optimize our hyperparameters we were able to improve our model all around from our prior decision tree. For our 1 value of our bankruptcy class 'target variable', we improved recall by .05 to .62 and precision from .26 to .38. F1 score and accuracy were also improved as well"
   ]
  },
  {
   "cell_type": "code",
   "execution_count": 33,
   "metadata": {
    "ExecuteTime": {
     "end_time": "2021-02-22T11:13:03.496396Z",
     "start_time": "2021-02-22T11:13:03.481436Z"
    }
   },
   "outputs": [
    {
     "data": {
      "text/html": [
       "<div>\n",
       "<style scoped>\n",
       "    .dataframe tbody tr th:only-of-type {\n",
       "        vertical-align: middle;\n",
       "    }\n",
       "\n",
       "    .dataframe tbody tr th {\n",
       "        vertical-align: top;\n",
       "    }\n",
       "\n",
       "    .dataframe thead th {\n",
       "        text-align: right;\n",
       "    }\n",
       "</style>\n",
       "<table border=\"1\" class=\"dataframe\">\n",
       "  <thead>\n",
       "    <tr style=\"text-align: right;\">\n",
       "      <th></th>\n",
       "      <th>Model</th>\n",
       "      <th>precision_score</th>\n",
       "      <th>recall_score</th>\n",
       "      <th>accuracy_score</th>\n",
       "      <th>f1_score</th>\n",
       "    </tr>\n",
       "  </thead>\n",
       "  <tbody>\n",
       "    <tr>\n",
       "      <th>0</th>\n",
       "      <td>Random Forest</td>\n",
       "      <td>0.251366</td>\n",
       "      <td>0.793103</td>\n",
       "      <td>0.91261</td>\n",
       "      <td>0.381743</td>\n",
       "    </tr>\n",
       "  </tbody>\n",
       "</table>\n",
       "</div>"
      ],
      "text/plain": [
       "           Model  precision_score  recall_score  accuracy_score  f1_score\n",
       "0  Random Forest         0.251366      0.793103         0.91261  0.381743"
      ]
     },
     "execution_count": 33,
     "metadata": {},
     "output_type": "execute_result"
    }
   ],
   "source": [
    "rf_scores = model_scores(y_test,y_pred_forest,\"Random Forest\")\n",
    "rf_scores"
   ]
  },
  {
   "cell_type": "markdown",
   "metadata": {},
   "source": [
    "### K-nearest Neighbors Model"
   ]
  },
  {
   "cell_type": "code",
   "execution_count": 34,
   "metadata": {
    "ExecuteTime": {
     "end_time": "2021-02-22T11:13:05.987752Z",
     "start_time": "2021-02-22T11:13:04.169672Z"
    }
   },
   "outputs": [
    {
     "name": "stdout",
     "output_type": "stream",
     "text": [
      "AUC: 0.8178035299290245\n",
      "[[1416  231]\n",
      " [  13   45]]\n",
      "              precision    recall  f1-score   support\n",
      "\n",
      "           0       0.99      0.86      0.92      1647\n",
      "           1       0.16      0.78      0.27        58\n",
      "\n",
      "    accuracy                           0.86      1705\n",
      "   macro avg       0.58      0.82      0.60      1705\n",
      "weighted avg       0.96      0.86      0.90      1705\n",
      "\n"
     ]
    },
    {
     "data": {
      "image/png": "[encoded data removed]",
      "text/plain": [
       "<Figure size 432x288 with 2 Axes>"
      ]
     },
     "metadata": {},
     "output_type": "display_data"
    }
   ],
   "source": [
    "knn = KNeighborsClassifier(n_neighbors=13,p=1)\n",
    "knn.fit(X_train_smote_sig,y_train_smote)\n",
    "y_pred_knn = knn.predict(X_test_sig)\n",
    "\n",
    "fpr, tpr, thresholds = roc_curve(y_test, y_pred_knn)\n",
    "\n",
    "print('AUC: {}'.format(auc(fpr, tpr)))\n",
    "cf = confusion_matrix(y_test,y_pred_knn)\n",
    "\n",
    "plot_confusion_matrix(knn,X_test_sig,y_test,cmap=plt.cm.Blues,\n",
    "                     display_labels=[\"not bankrupt\", \"bankrupt\"],\n",
    "                      values_format=\".5g\")\n",
    "plt.title(\"KNN Confusion Matrix\")\n",
    "\n",
    "print(confusion_matrix(y_test, y_pred_knn))\n",
    "print(classification_report(y_test, y_pred_knn))\n",
    "\n"
   ]
  },
  {
   "cell_type": "code",
   "execution_count": 35,
   "metadata": {
    "ExecuteTime": {
     "end_time": "2021-02-22T11:13:06.651681Z",
     "start_time": "2021-02-22T11:13:06.636692Z"
    }
   },
   "outputs": [
    {
     "data": {
      "text/html": [
       "<div>\n",
       "<style scoped>\n",
       "    .dataframe tbody tr th:only-of-type {\n",
       "        vertical-align: middle;\n",
       "    }\n",
       "\n",
       "    .dataframe tbody tr th {\n",
       "        vertical-align: top;\n",
       "    }\n",
       "\n",
       "    .dataframe thead th {\n",
       "        text-align: right;\n",
       "    }\n",
       "</style>\n",
       "<table border=\"1\" class=\"dataframe\">\n",
       "  <thead>\n",
       "    <tr style=\"text-align: right;\">\n",
       "      <th></th>\n",
       "      <th>Model</th>\n",
       "      <th>precision_score</th>\n",
       "      <th>recall_score</th>\n",
       "      <th>accuracy_score</th>\n",
       "      <th>f1_score</th>\n",
       "    </tr>\n",
       "  </thead>\n",
       "  <tbody>\n",
       "    <tr>\n",
       "      <th>0</th>\n",
       "      <td>KNN</td>\n",
       "      <td>0.163043</td>\n",
       "      <td>0.775862</td>\n",
       "      <td>0.856891</td>\n",
       "      <td>0.269461</td>\n",
       "    </tr>\n",
       "  </tbody>\n",
       "</table>\n",
       "</div>"
      ],
      "text/plain": [
       "  Model  precision_score  recall_score  accuracy_score  f1_score\n",
       "0   KNN         0.163043      0.775862        0.856891  0.269461"
      ]
     },
     "execution_count": 35,
     "metadata": {},
     "output_type": "execute_result"
    }
   ],
   "source": [
    "knn_scores = model_scores(y_test,y_pred_knn,'KNN')\n",
    "knn_scores"
   ]
  },
  {
   "cell_type": "markdown",
   "metadata": {},
   "source": [
    "### Gradient Boosted Model"
   ]
  },
  {
   "cell_type": "code",
   "execution_count": 36,
   "metadata": {
    "ExecuteTime": {
     "end_time": "2021-02-22T11:13:07.373113Z",
     "start_time": "2021-02-22T11:13:07.358151Z"
    }
   },
   "outputs": [],
   "source": [
    "grad_clf = GradientBoostingClassifier(learning_rate=.2,max_depth=1,\n",
    "                                      min_samples_leaf=7,min_samples_split=1.0,n_estimators=100)"
   ]
  },
  {
   "cell_type": "code",
   "execution_count": 37,
   "metadata": {
    "ExecuteTime": {
     "end_time": "2021-02-22T11:13:13.301550Z",
     "start_time": "2021-02-22T11:13:08.026625Z"
    }
   },
   "outputs": [
    {
     "name": "stdout",
     "output_type": "stream",
     "text": [
      "AUC: 0.8454295165714046\n",
      "[[1507  140]\n",
      " [  13   45]]\n",
      "              precision    recall  f1-score   support\n",
      "\n",
      "           0       0.99      0.91      0.95      1647\n",
      "           1       0.24      0.78      0.37        58\n",
      "\n",
      "    accuracy                           0.91      1705\n",
      "   macro avg       0.62      0.85      0.66      1705\n",
      "weighted avg       0.97      0.91      0.93      1705\n",
      "\n"
     ]
    },
    {
     "data": {
      "image/png": "[encoded data removed]",
      "text/plain": [
       "<Figure size 432x288 with 2 Axes>"
      ]
     },
     "metadata": {},
     "output_type": "display_data"
    }
   ],
   "source": [
    "grad_clf.fit(X_train_smote_sig,y_train_smote)\n",
    "\n",
    "y_pred_grad = grad_clf.predict(X_test_sig)\n",
    "\n",
    "fpr, tpr, thresholds = roc_curve(y_test, y_pred_grad)\n",
    "\n",
    "print('AUC: {}'.format(auc(fpr, tpr)))\n",
    "cf = confusion_matrix(y_test,y_pred_grad)\n",
    "\n",
    "plot_confusion_matrix(grad_clf,X_test_sig,y_test,cmap=plt.cm.Blues,\n",
    "                     display_labels=[\"not bankrupt\", \"bankrupt\"],\n",
    "                      values_format=\".5g\")\n",
    "plt.title(\"Gradient Boost Confusion Matrix\")\n",
    "\n",
    "print(confusion_matrix(y_test, y_pred_grad))\n",
    "print(classification_report(y_test, y_pred_grad))"
   ]
  },
  {
   "cell_type": "code",
   "execution_count": 38,
   "metadata": {
    "ExecuteTime": {
     "end_time": "2021-02-22T11:13:13.991590Z",
     "start_time": "2021-02-22T11:13:13.962637Z"
    }
   },
   "outputs": [
    {
     "data": {
      "text/html": [
       "<div>\n",
       "<style scoped>\n",
       "    .dataframe tbody tr th:only-of-type {\n",
       "        vertical-align: middle;\n",
       "    }\n",
       "\n",
       "    .dataframe tbody tr th {\n",
       "        vertical-align: top;\n",
       "    }\n",
       "\n",
       "    .dataframe thead th {\n",
       "        text-align: right;\n",
       "    }\n",
       "</style>\n",
       "<table border=\"1\" class=\"dataframe\">\n",
       "  <thead>\n",
       "    <tr style=\"text-align: right;\">\n",
       "      <th></th>\n",
       "      <th>Model</th>\n",
       "      <th>precision_score</th>\n",
       "      <th>recall_score</th>\n",
       "      <th>accuracy_score</th>\n",
       "      <th>f1_score</th>\n",
       "    </tr>\n",
       "  </thead>\n",
       "  <tbody>\n",
       "    <tr>\n",
       "      <th>0</th>\n",
       "      <td>Gradient Boost</td>\n",
       "      <td>0.243243</td>\n",
       "      <td>0.775862</td>\n",
       "      <td>0.910264</td>\n",
       "      <td>0.37037</td>\n",
       "    </tr>\n",
       "  </tbody>\n",
       "</table>\n",
       "</div>"
      ],
      "text/plain": [
       "            Model  precision_score  recall_score  accuracy_score  f1_score\n",
       "0  Gradient Boost         0.243243      0.775862        0.910264   0.37037"
      ]
     },
     "execution_count": 38,
     "metadata": {},
     "output_type": "execute_result"
    }
   ],
   "source": [
    "grad_scores = model_scores(y_test,y_pred_grad,\"Gradient Boost\")\n",
    "grad_scores"
   ]
  },
  {
   "cell_type": "markdown",
   "metadata": {},
   "source": [
    "### Adaboost Model"
   ]
  },
  {
   "cell_type": "code",
   "execution_count": 39,
   "metadata": {
    "ExecuteTime": {
     "end_time": "2021-02-22T11:13:14.688548Z",
     "start_time": "2021-02-22T11:13:14.674529Z"
    }
   },
   "outputs": [],
   "source": [
    "ada_clf = AdaBoostClassifier(base_estimator=forest)"
   ]
  },
  {
   "cell_type": "code",
   "execution_count": 40,
   "metadata": {
    "ExecuteTime": {
     "end_time": "2021-02-22T11:13:42.123946Z",
     "start_time": "2021-02-22T11:13:15.395411Z"
    }
   },
   "outputs": [
    {
     "name": "stdout",
     "output_type": "stream",
     "text": [
      "AUC: 0.7933442204216652\n",
      "[[1591   56]\n",
      " [  22   36]]\n",
      "              precision    recall  f1-score   support\n",
      "\n",
      "           0       0.99      0.97      0.98      1647\n",
      "           1       0.39      0.62      0.48        58\n",
      "\n",
      "    accuracy                           0.95      1705\n",
      "   macro avg       0.69      0.79      0.73      1705\n",
      "weighted avg       0.97      0.95      0.96      1705\n",
      "\n"
     ]
    },
    {
     "data": {
      "image/png": "[encoded data removed]",
      "text/plain": [
       "<Figure size 432x288 with 2 Axes>"
      ]
     },
     "metadata": {},
     "output_type": "display_data"
    }
   ],
   "source": [
    "ada_clf.fit(X_train_smote_sig,y_train_smote)\n",
    "y_pred_ada = ada_clf.predict(X_test_sig)\n",
    "\n",
    "fpr, tpr, thresholds = roc_curve(y_test, y_pred_ada)\n",
    "\n",
    "print('AUC: {}'.format(auc(fpr, tpr)))\n",
    "cf = confusion_matrix(y_test,y_pred_ada)\n",
    "\n",
    "plot_confusion_matrix(ada_clf,X_test_sig,y_test,cmap=plt.cm.Blues,\n",
    "                     display_labels=[\"not bankrupt\", \"bankrupt\"],\n",
    "                      values_format=\".5g\")\n",
    "plt.title(\"Adaboost Confusion Matrix\")\n",
    "\n",
    "print(confusion_matrix(y_test, y_pred_ada))\n",
    "print(classification_report(y_test, y_pred_ada))\n"
   ]
  },
  {
   "cell_type": "code",
   "execution_count": 41,
   "metadata": {
    "ExecuteTime": {
     "end_time": "2021-02-22T11:13:42.874577Z",
     "start_time": "2021-02-22T11:13:42.848680Z"
    }
   },
   "outputs": [
    {
     "data": {
      "text/html": [
       "<div>\n",
       "<style scoped>\n",
       "    .dataframe tbody tr th:only-of-type {\n",
       "        vertical-align: middle;\n",
       "    }\n",
       "\n",
       "    .dataframe tbody tr th {\n",
       "        vertical-align: top;\n",
       "    }\n",
       "\n",
       "    .dataframe thead th {\n",
       "        text-align: right;\n",
       "    }\n",
       "</style>\n",
       "<table border=\"1\" class=\"dataframe\">\n",
       "  <thead>\n",
       "    <tr style=\"text-align: right;\">\n",
       "      <th></th>\n",
       "      <th>Model</th>\n",
       "      <th>precision_score</th>\n",
       "      <th>recall_score</th>\n",
       "      <th>accuracy_score</th>\n",
       "      <th>f1_score</th>\n",
       "    </tr>\n",
       "  </thead>\n",
       "  <tbody>\n",
       "    <tr>\n",
       "      <th>0</th>\n",
       "      <td>Adaboost</td>\n",
       "      <td>0.391304</td>\n",
       "      <td>0.62069</td>\n",
       "      <td>0.954252</td>\n",
       "      <td>0.48</td>\n",
       "    </tr>\n",
       "  </tbody>\n",
       "</table>\n",
       "</div>"
      ],
      "text/plain": [
       "      Model  precision_score  recall_score  accuracy_score  f1_score\n",
       "0  Adaboost         0.391304       0.62069        0.954252      0.48"
      ]
     },
     "execution_count": 41,
     "metadata": {},
     "output_type": "execute_result"
    }
   ],
   "source": [
    "ada_scores = model_scores(y_test,y_pred_ada,\"Adaboost\")\n",
    "ada_scores"
   ]
  },
  {
   "cell_type": "markdown",
   "metadata": {},
   "source": [
    "### XGBoost"
   ]
  },
  {
   "cell_type": "code",
   "execution_count": 42,
   "metadata": {
    "ExecuteTime": {
     "end_time": "2021-02-22T11:13:43.542187Z",
     "start_time": "2021-02-22T11:13:43.527298Z"
    }
   },
   "outputs": [],
   "source": [
    "XG = XGBClassifier(objective='binary:logistic',learning_rate=.05,max_depth=1,min_child_weight=1.5,\n",
    "                   n_estimators=300,subsample=.75,tree_method='approx',gamma=1.5)"
   ]
  },
  {
   "cell_type": "code",
   "execution_count": 43,
   "metadata": {
    "ExecuteTime": {
     "end_time": "2021-02-22T11:13:45.830389Z",
     "start_time": "2021-02-22T11:13:44.265508Z"
    }
   },
   "outputs": [
    {
     "name": "stdout",
     "output_type": "stream",
     "text": [
      "AUC: 0.870684420995331\n",
      "[[1505  142]\n",
      " [  10   48]]\n",
      "              precision    recall  f1-score   support\n",
      "\n",
      "           0       0.99      0.91      0.95      1647\n",
      "           1       0.25      0.83      0.39        58\n",
      "\n",
      "    accuracy                           0.91      1705\n",
      "   macro avg       0.62      0.87      0.67      1705\n",
      "weighted avg       0.97      0.91      0.93      1705\n",
      "\n"
     ]
    },
    {
     "data": {
      "image/png": "[encoded data removed]",
      "text/plain": [
       "<Figure size 432x288 with 2 Axes>"
      ]
     },
     "metadata": {},
     "output_type": "display_data"
    }
   ],
   "source": [
    "XG.fit(X_train_smote_sig,y_train_smote)\n",
    "y_pred_XG = XG.predict(X_test_sig)\n",
    "\n",
    "\n",
    "fpr, tpr, thresholds = roc_curve(y_test, y_pred_XG)\n",
    "\n",
    "print('AUC: {}'.format(auc(fpr, tpr)))\n",
    "cf = confusion_matrix(y_test,y_pred_XG)\n",
    "\n",
    "plot_confusion_matrix(XG,X_test_sig,y_test,cmap=plt.cm.Blues,\n",
    "                     display_labels=[\"not bankrupt\", \"bankrupt\"],\n",
    "                      values_format=\".5g\")\n",
    "plt.title(\"XGBoost Confusion Matrix\")\n",
    "\n",
    "print(confusion_matrix(y_test, y_pred_XG))\n",
    "print(classification_report(y_test, y_pred_XG))\n"
   ]
  },
  {
   "cell_type": "code",
   "execution_count": 50,
   "metadata": {
    "ExecuteTime": {
     "end_time": "2021-02-22T11:16:57.628753Z",
     "start_time": "2021-02-22T11:16:57.617758Z"
    }
   },
   "outputs": [
    {
     "name": "stdout",
     "output_type": "stream",
     "text": [
      "              precision    recall  f1-score   support\n",
      "\n",
      "           0       0.99      0.91      0.95      1647\n",
      "           1       0.25      0.83      0.39        58\n",
      "\n",
      "    accuracy                           0.91      1705\n",
      "   macro avg       0.62      0.87      0.67      1705\n",
      "weighted avg       0.97      0.91      0.93      1705\n",
      "\n"
     ]
    }
   ],
   "source": [
    "print(classification_report(y_test, y_pred_XG))"
   ]
  },
  {
   "cell_type": "code",
   "execution_count": 53,
   "metadata": {
    "ExecuteTime": {
     "end_time": "2021-02-22T11:19:45.975007Z",
     "start_time": "2021-02-22T11:19:45.690717Z"
    }
   },
   "outputs": [
    {
     "data": {
      "image/png": "[encoded data removed]",
      "text/plain": [
       "<Figure size 432x288 with 2 Axes>"
      ]
     },
     "metadata": {},
     "output_type": "display_data"
    }
   ],
   "source": [
    "plot_confusion_matrix(XG,X_test_sig,y_test,cmap=plt.cm.Blues,\n",
    "                     display_labels=[\"not bankrupt\", \"bankrupt\"],\n",
    "                      values_format=\".5g\")\n",
    "plt.title(\"XGBoost Confusion Matrix\")\n",
    "\n",
    "plt.savefig('images/XGBoost_cm1.png')"
   ]
  },
  {
   "cell_type": "code",
   "execution_count": 55,
   "metadata": {
    "ExecuteTime": {
     "end_time": "2021-02-22T11:21:44.722402Z",
     "start_time": "2021-02-22T11:21:44.698465Z"
    }
   },
   "outputs": [
    {
     "data": {
      "text/html": [
       "<div>\n",
       "<style scoped>\n",
       "    .dataframe tbody tr th:only-of-type {\n",
       "        vertical-align: middle;\n",
       "    }\n",
       "\n",
       "    .dataframe tbody tr th {\n",
       "        vertical-align: top;\n",
       "    }\n",
       "\n",
       "    .dataframe thead th {\n",
       "        text-align: right;\n",
       "    }\n",
       "</style>\n",
       "<table border=\"1\" class=\"dataframe\">\n",
       "  <thead>\n",
       "    <tr style=\"text-align: right;\">\n",
       "      <th></th>\n",
       "      <th>Model</th>\n",
       "      <th>precision_score</th>\n",
       "      <th>recall_score</th>\n",
       "      <th>accuracy_score</th>\n",
       "      <th>f1_score</th>\n",
       "    </tr>\n",
       "  </thead>\n",
       "  <tbody>\n",
       "    <tr>\n",
       "      <th>0</th>\n",
       "      <td>XGBoost</td>\n",
       "      <td>0.252632</td>\n",
       "      <td>0.827586</td>\n",
       "      <td>0.91085</td>\n",
       "      <td>0.387097</td>\n",
       "    </tr>\n",
       "  </tbody>\n",
       "</table>\n",
       "</div>"
      ],
      "text/plain": [
       "     Model  precision_score  recall_score  accuracy_score  f1_score\n",
       "0  XGBoost         0.252632      0.827586         0.91085  0.387097"
      ]
     },
     "execution_count": 55,
     "metadata": {},
     "output_type": "execute_result"
    }
   ],
   "source": [
    "XG_scores= model_scores(y_test,y_pred_XG,\"XGBoost\")\n",
    "XG_scores"
   ]
  },
  {
   "cell_type": "code",
   "execution_count": 56,
   "metadata": {
    "ExecuteTime": {
     "end_time": "2021-02-22T11:21:45.804472Z",
     "start_time": "2021-02-22T11:21:45.785524Z"
    }
   },
   "outputs": [],
   "source": [
    "XG_features = pd.DataFrame(data = XG.feature_importances_, index=X.columns)"
   ]
  },
  {
   "cell_type": "code",
   "execution_count": 58,
   "metadata": {
    "ExecuteTime": {
     "end_time": "2021-02-22T11:21:52.010521Z",
     "start_time": "2021-02-22T11:21:51.993567Z"
    }
   },
   "outputs": [],
   "source": [
    "XG_features = XG_features.reset_index().rename(columns={'index': \"features\",0: 'feature_importance'})"
   ]
  },
  {
   "cell_type": "code",
   "execution_count": 59,
   "metadata": {
    "ExecuteTime": {
     "end_time": "2021-02-22T11:21:52.808834Z",
     "start_time": "2021-02-22T11:21:52.794841Z"
    }
   },
   "outputs": [],
   "source": [
    "XG_features.sort_values('feature_importance',ascending=False,inplace=True)"
   ]
  },
  {
   "cell_type": "code",
   "execution_count": 76,
   "metadata": {
    "ExecuteTime": {
     "end_time": "2021-02-22T11:27:27.042993Z",
     "start_time": "2021-02-22T11:27:26.690906Z"
    }
   },
   "outputs": [
    {
     "data": {
      "image/png": "[encoded data removed]",
      "text/plain": [
       "<Figure size 1080x720 with 1 Axes>"
      ]
     },
     "metadata": {},
     "output_type": "display_data"
    }
   ],
   "source": [
    "fig, ax = plt.subplots(figsize=(15,10))\n",
    "sns.barplot(data=XG_features.head(10),y='features',x='feature_importance',palette='crest_r', ax=ax)\n",
    "plt.title(\"XGBoost Feature Importance\",size=15)\n",
    "plt.ylabel(\"Features\", size=15)\n",
    "plt.xlabel(\"Feature Weight\", size=15)\n",
    "plt.yticks(fontsize=15)\n",
    "plt.xticks(fontsize=15)\n",
    "\n",
    "plt.savefig('images/xgboost_features')"
   ]
  },
  {
   "cell_type": "code",
   "execution_count": 77,
   "metadata": {
    "ExecuteTime": {
     "end_time": "2021-02-22T11:32:06.505967Z",
     "start_time": "2021-02-22T11:32:06.498991Z"
    }
   },
   "outputs": [],
   "source": [
    "final_results = pd.DataFrame(data=None,index=[0])"
   ]
  },
  {
   "cell_type": "code",
   "execution_count": 78,
   "metadata": {
    "ExecuteTime": {
     "end_time": "2021-02-22T11:32:07.325196Z",
     "start_time": "2021-02-22T11:32:07.314228Z"
    }
   },
   "outputs": [],
   "source": [
    "final_results = pd.concat([log_scores,dtree_scores,rf_scores,knn_scores,grad_scores,ada_scores,XG_scores])"
   ]
  },
  {
   "cell_type": "code",
   "execution_count": 79,
   "metadata": {
    "ExecuteTime": {
     "end_time": "2021-02-22T11:32:08.093428Z",
     "start_time": "2021-02-22T11:32:08.080464Z"
    }
   },
   "outputs": [],
   "source": [
    "final_results = final_results.set_index('Model')"
   ]
  },
  {
   "cell_type": "code",
   "execution_count": 80,
   "metadata": {
    "ExecuteTime": {
     "end_time": "2021-02-22T11:32:08.894732Z",
     "start_time": "2021-02-22T11:32:08.879781Z"
    }
   },
   "outputs": [
    {
     "data": {
      "text/html": [
       "<div>\n",
       "<style scoped>\n",
       "    .dataframe tbody tr th:only-of-type {\n",
       "        vertical-align: middle;\n",
       "    }\n",
       "\n",
       "    .dataframe tbody tr th {\n",
       "        vertical-align: top;\n",
       "    }\n",
       "\n",
       "    .dataframe thead th {\n",
       "        text-align: right;\n",
       "    }\n",
       "</style>\n",
       "<table border=\"1\" class=\"dataframe\">\n",
       "  <thead>\n",
       "    <tr style=\"text-align: right;\">\n",
       "      <th></th>\n",
       "      <th>precision_score</th>\n",
       "      <th>recall_score</th>\n",
       "      <th>accuracy_score</th>\n",
       "      <th>f1_score</th>\n",
       "    </tr>\n",
       "    <tr>\n",
       "      <th>Model</th>\n",
       "      <th></th>\n",
       "      <th></th>\n",
       "      <th></th>\n",
       "      <th></th>\n",
       "    </tr>\n",
       "  </thead>\n",
       "  <tbody>\n",
       "    <tr>\n",
       "      <th>Logistic Regression</th>\n",
       "      <td>0.210784</td>\n",
       "      <td>0.741379</td>\n",
       "      <td>0.896774</td>\n",
       "      <td>0.328244</td>\n",
       "    </tr>\n",
       "    <tr>\n",
       "      <th>Decision Tree</th>\n",
       "      <td>0.270073</td>\n",
       "      <td>0.637931</td>\n",
       "      <td>0.929032</td>\n",
       "      <td>0.379487</td>\n",
       "    </tr>\n",
       "    <tr>\n",
       "      <th>Random Forest</th>\n",
       "      <td>0.251366</td>\n",
       "      <td>0.793103</td>\n",
       "      <td>0.912610</td>\n",
       "      <td>0.381743</td>\n",
       "    </tr>\n",
       "    <tr>\n",
       "      <th>KNN</th>\n",
       "      <td>0.163043</td>\n",
       "      <td>0.775862</td>\n",
       "      <td>0.856891</td>\n",
       "      <td>0.269461</td>\n",
       "    </tr>\n",
       "    <tr>\n",
       "      <th>Gradient Boost</th>\n",
       "      <td>0.243243</td>\n",
       "      <td>0.775862</td>\n",
       "      <td>0.910264</td>\n",
       "      <td>0.370370</td>\n",
       "    </tr>\n",
       "    <tr>\n",
       "      <th>Adaboost</th>\n",
       "      <td>0.391304</td>\n",
       "      <td>0.620690</td>\n",
       "      <td>0.954252</td>\n",
       "      <td>0.480000</td>\n",
       "    </tr>\n",
       "    <tr>\n",
       "      <th>XGBoost</th>\n",
       "      <td>0.252632</td>\n",
       "      <td>0.827586</td>\n",
       "      <td>0.910850</td>\n",
       "      <td>0.387097</td>\n",
       "    </tr>\n",
       "  </tbody>\n",
       "</table>\n",
       "</div>"
      ],
      "text/plain": [
       "                     precision_score  recall_score  accuracy_score  f1_score\n",
       "Model                                                                       \n",
       "Logistic Regression         0.210784      0.741379        0.896774  0.328244\n",
       "Decision Tree               0.270073      0.637931        0.929032  0.379487\n",
       "Random Forest               0.251366      0.793103        0.912610  0.381743\n",
       "KNN                         0.163043      0.775862        0.856891  0.269461\n",
       "Gradient Boost              0.243243      0.775862        0.910264  0.370370\n",
       "Adaboost                    0.391304      0.620690        0.954252  0.480000\n",
       "XGBoost                     0.252632      0.827586        0.910850  0.387097"
      ]
     },
     "execution_count": 80,
     "metadata": {},
     "output_type": "execute_result"
    }
   ],
   "source": [
    "final_results"
   ]
  },
  {
   "cell_type": "code",
   "execution_count": 83,
   "metadata": {
    "ExecuteTime": {
     "end_time": "2021-02-22T11:32:40.675310Z",
     "start_time": "2021-02-22T11:32:40.269567Z"
    }
   },
   "outputs": [
    {
     "data": {
      "image/png": "[encoded data removed]",
      "text/plain": [
       "<Figure size 1440x720 with 1 Axes>"
      ]
     },
     "metadata": {},
     "output_type": "display_data"
    }
   ],
   "source": [
    "from matplotlib.ticker import FormatStrFormatter\n",
    "\n",
    "fig, ax = plt.subplots()\n",
    "\n",
    "plt.style.use('seaborn')\n",
    "ax.yaxis.set_major_formatter(FormatStrFormatter('%.2f'))\n",
    "ax.set_facecolor('#d8dcd6')\n",
    "final_results.plot(kind='bar',figsize=(20,10), ax=ax,width=.9)\n",
    "plt.xticks(rotation=45)\n",
    "plt.legend(loc='upper left', bbox_to_anchor=( 1.05,1),\n",
    "          ncol=1, fancybox=True, shadow=True,handlelength=6, handleheight=4,fontsize=\"xx-large\")\n",
    "plt.title(\"Model Score Summary\",size=23)\n",
    "plt.ylabel('Scores',size=23)\n",
    "plt.xlabel('Models',size=23)\n",
    "plt.xticks(size = 19)\n",
    "plt.yticks(size=17)\n",
    "plt.tight_layout()\n",
    "plt.savefig('images/model_summary_scores')"
   ]
  },
  {
   "cell_type": "code",
   "execution_count": null,
   "metadata": {},
   "outputs": [],
   "source": []
  }
 ],
 "metadata": {
  "kernelspec": {
   "display_name": "Python 3",
   "language": "python",
   "name": "python3"
  },
  "language_info": {
   "codemirror_mode": {
    "name": "ipython",
    "version": 3
   },
   "file_extension": ".py",
   "mimetype": "text/x-python",
   "name": "python",
   "nbconvert_exporter": "python",
   "pygments_lexer": "ipython3",
   "version": "3.8.5"
  },
  "latex_envs": {
   "LaTeX_envs_menu_present": true,
   "autoclose": false,
   "autocomplete": true,
   "bibliofile": "biblio.bib",
   "cite_by": "apalike",
   "current_citInitial": 1,
   "eqLabelWithNumbers": true,
   "eqNumInitial": 1,
   "hotkeys": {
    "equation": "Ctrl-E",
    "itemize": "Ctrl-I"
   },
   "labels_anchors": false,
   "latex_user_defs": false,
   "report_style_numbering": false,
   "user_envs_cfg": false
  },
  "toc": {
   "base_numbering": 1,
   "nav_menu": {},
   "number_sections": true,
   "sideBar": true,
   "skip_h1_title": false,
   "title_cell": "Table of Contents",
   "title_sidebar": "Contents",
   "toc_cell": false,
   "toc_position": {},
   "toc_section_display": true,
   "toc_window_display": false
  },
  "varInspector": {
   "cols": {
    "lenName": 16,
    "lenType": 16,
    "lenVar": 40
   },
   "kernels_config": {
    "python": {
     "delete_cmd_postfix": "",
     "delete_cmd_prefix": "del ",
     "library": "var_list.py",
     "varRefreshCmd": "print(var_dic_list())"
    },
    "r": {
     "delete_cmd_postfix": ") ",
     "delete_cmd_prefix": "rm(",
     "library": "var_list.r",
     "varRefreshCmd": "cat(var_dic_list()) "
    }
   },
   "types_to_exclude": [
    "module",
    "function",
    "builtin_function_or_method",
    "instance",
    "_Feature"
   ],
   "window_display": false
  }
 },
 "nbformat": 4,
 "nbformat_minor": 4
}
