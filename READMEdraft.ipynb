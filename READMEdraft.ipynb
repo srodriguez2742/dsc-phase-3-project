{
 "cells": [
  {
   "cell_type": "markdown",
   "metadata": {},
   "source": [
    "# A Look into the Past : Predicting Bankruptcies in Taiwan"
   ]
  },
  {
   "cell_type": "markdown",
   "metadata": {},
   "source": [
    "Taiwan Rating's Agency is revamping their current bankruptcy models to ensure the financial stability of the companies listed on the Taiwan Stock Exchange. With the amount of volatility and bankruptcies currently being experienced due to Covid, they would like to conduct a review of the Taiwanese companies that went bankrupt over the '99 - '09 time period and create a model that can predict future companies insolvency."
   ]
  },
  {
   "cell_type": "markdown",
   "metadata": {},
   "source": [
    "## Data"
   ]
  },
  {
   "cell_type": "markdown",
   "metadata": {},
   "source": [
    "Data used in this project was collected from the Taiwan Economic Journal for the years 1999 to 2009. Company bankruptcy was defined based on the business regulations of the Taiwan Stock Exchange. The link to was found on kaggle and is below for reference\n",
    "\n",
    "https://www.kaggle.com/fedesoriano/company-bankruptcy-prediction|"
   ]
  },
  {
   "cell_type": "markdown",
   "metadata": {},
   "source": [
    "**Column Names and descriptions for Taiwanese Bankruptcy Data**\n",
    "\n",
    "    Y - Bankrupt?: Class label\n",
    "    1 - ROA(C) before interest and depreciation before interest: Return On Total Assets(C)\n",
    "    2 - ROA(A) before interest and % after tax: Return On Total Assets(A)\n",
    "    3 - ROA(B) before interest and depreciation after tax: Return On Total Assets(B)\n",
    "    4 - Operating Gross Margin: Gross Profit/Net Sales\n",
    "    5 - Realized Sales Gross Margin: Realized Gross Profit/Net Sales\n",
    "    6 - Operating Profit Rate: Operating Income/Net Sales\n",
    "    7 - Pre-tax net Interest Rate: Pre-Tax Income/Net Sales\n",
    "    8 - After-tax net Interest Rate: Net Income/Net Sales\n",
    "    9 - Non-industry income and expenditure/revenue: Net Non-operating Income Ratio\n",
    "    10 - Continuous interest rate (after tax): Net Income-Exclude Disposal Gain or Loss/Net Sales\n",
    "    11 - Operating Expense Rate: Operating Expenses/Net Sales\n",
    "    12 - Research and development expense rate: (Research and Development Expenses)/Net Sales\n",
    "    13 - Cash flow rate: Cash Flow from Operating/Current Liabilities\n",
    "    14 - Interest-bearing debt interest rate: Interest-bearing Debt/Equity\n",
    "    15 - Tax rate (A): Effective Tax Rate\n",
    "    16 - Net Value Per Share (B): Book Value Per Share(B)\n",
    "    17 - Net Value Per Share (A): Book Value Per Share(A)\n",
    "    18 - Net Value Per Share (C): Book Value Per Share(C)\n",
    "    19 - Persistent EPS in the Last Four Seasons: EPS-Net Income\n",
    "    20 - Cash Flow Per Share\n",
    "    21 - Revenue Per Share (Yuan ¥): Sales Per Share\n",
    "    22 - Operating Profit Per Share (Yuan ¥): Operating Income Per Share\n",
    "    23 - Per Share Net profit before tax (Yuan ¥): Pretax Income Per Share\n",
    "    24 - Realized Sales Gross Profit Growth Rate\n",
    "    25 - Operating Profit Growth Rate: Operating Income Growth\n",
    "    26 - After-tax Net Profit Growth Rate: Net Income Growth\n",
    "    27 - Regular Net Profit Growth Rate: Continuing Operating Income after Tax Growth\n",
    "    28 - Continuous Net Profit Growth Rate: Net Income-Excluding Disposal Gain or Loss Growth\n",
    "    29 - Total Asset Growth Rate: Total Asset Growth\n",
    "    30 - Net Value Growth Rate: Total Equity Growth\n",
    "    31 - Total Asset Return Growth Rate Ratio: Return on Total Asset Growth\n",
    "    32 - Cash Reinvestment %: Cash Reinvestment Ratio\n",
    "    33 - Current Ratio\n",
    "    34 - Quick Ratio: Acid Test\n",
    "    35 - Interest Expense Ratio: Interest Expenses/Total Revenue\n",
    "    36 - Total debt/Total net worth: Total Liability/Equity Ratio\n",
    "    37 - Debt ratio %: Liability/Total Assets\n",
    "    38 - Net worth/Assets: Equity/Total Assets\n",
    "    39 - Long-term fund suitability ratio (A): (Long-term Liability+Equity)/Fixed Assets\n",
    "    40 - Borrowing dependency: Cost of Interest-bearing Debt\n",
    "    41 - Contingent liabilities/Net worth: Contingent Liability/Equity\n",
    "    42 - Operating profit/Paid-in capital: Operating Income/Capital\n",
    "    43 - Net profit before tax/Paid-in capital: Pretax Income/Capital\n",
    "    44 - Inventory and accounts receivable/Net value: (Inventory+Accounts Receivables)/Equity\n",
    "    45 - Total Asset Turnover\n",
    "    46 - Accounts Receivable Turnover\n",
    "    47 - Average Collection Days: Days Receivable Outstanding\n",
    "    48 - Inventory Turnover Rate (times)\n",
    "    49 - Fixed Assets Turnover Frequency\n",
    "    50 - Net Worth Turnover Rate (times): Equity Turnover\n",
    "    51 - Revenue per person: Sales Per Employee\n",
    "    52 - Operating profit per person: Operation Income Per Employee\n",
    "    53 - Allocation rate per person: Fixed Assets Per Employee\n",
    "    54 - Working Capital to Total Assets\n",
    "    55 - Quick Assets/Total Assets\n",
    "    56 - Current Assets/Total Assets\n",
    "    57 - Cash/Total Assets\n",
    "    58 - Quick Assets/Current Liability\n",
    "    59 - Cash/Current Liability\n",
    "    60 - Current Liability to Assets\n",
    "    61 - Operating Funds to Liability\n",
    "    62 - Inventory/Working Capital\n",
    "    63 - Inventory/Current Liability\n",
    "    64 - Current Liabilities/Liability\n",
    "    65 - Working Capital/Equity\n",
    "    66 - Current Liabilities/Equity\n",
    "    67 - Long-term Liability to Current Assets\n",
    "    68 - Retained Earnings to Total Assets\n",
    "    69 - Total income/Total expense\n",
    "    70 - Total expense/Assets\n",
    "    71 - Current Asset Turnover Rate: Current Assets to Sales\n",
    "    72 - Quick Asset Turnover Rate: Quick Assets to Sales\n",
    "    73 - Working capitcal Turnover Rate: Working Capital to Sales\n",
    "    74 - Cash Turnover Rate: Cash to Sales\n",
    "    75 - Cash Flow to Sales\n",
    "    76 - Fixed Assets to Assets\n",
    "    77 - Current Liability to Liability\n",
    "    78 - Current Liability to Equity\n",
    "    79 - Equity to Long-term Liability\n",
    "    80 - Cash Flow to Total Assets\n",
    "    81 - Cash Flow to Liability\n",
    "    82 - CFO to Assets\n",
    "    83 - Cash Flow to Equity\n",
    "    84 - Current Liability to Current Assets\n",
    "    85 - Liability-Assets Flag: 1 if Total Liability exceeds Total Assets, 0 otherwise\n",
    "    86 - Net Income to Total Assets\n",
    "    87 - Total assets to GNP price\n",
    "    88 - No-credit Interval\n",
    "    89 - Gross Profit to Sales\n",
    "    90 - Net Income to Stockholder's Equity\n",
    "    91 - Liability to Equity\n",
    "    92 - Degree of Financial Leverage (DFL)\n",
    "    93 - Interest Coverage Ratio (Interest expense to EBIT)\n",
    "    94 - Net Income Flag: 1 if Net Income is Negative for the last two years, 0 otherwise\n",
    "    95 - Equity to Liability"
   ]
  },
  {
   "cell_type": "markdown",
   "metadata": {},
   "source": [
    "The above columns are the variables used to predict a companies bankruptcy using various classification models. They pertain to a spectrum of financial ratios and metrics used to value companies broadly."
   ]
  },
  {
   "cell_type": "markdown",
   "metadata": {},
   "source": [
    "## Business Problem"
   ]
  },
  {
   "cell_type": "markdown",
   "metadata": {},
   "source": [
    "The main business concern for Taiwan Rating's Agency is to provide financial market intelligence locally in Taiwan and internationally as well. They also work closely with the Taiwan Stock Exchange in order to help ensure stablility and soundness of the companies trading on the exchange to ultimately protect the end investors. Given the backdrop of the Global Pandemic, the creditworthiness of many companies has come under further review. Taiwan Rating's Agency is conducting a thorough review of all the constituents listed on the TSE (Taiwan Stock Exchange) to ensure if there are any companies on the brink of bankruptcy they can be delisted and moved to the OTC market. In order to appropriately assess these companies financial solvency, Taiwan Rating's Agency has tasked our group to create the best model possible capable of predicting future bankruptcy of a company.\n",
    "    \n",
    "In order to delvier for our client, we:\n",
    "    \n",
    "    1. Created several predictive classification models\n",
    "    2. Optimized across all our models to produce the beset performing model\n",
    "    3. Determined what features were predictive to a company's potential bankruptcy"
   ]
  },
  {
   "cell_type": "markdown",
   "metadata": {},
   "source": [
    "## Methods"
   ]
  },
  {
   "cell_type": "markdown",
   "metadata": {},
   "source": [
    "### Preprocessing"
   ]
  },
  {
   "cell_type": "markdown",
   "metadata": {},
   "source": [
    "Given the '99-'09 Taiwan Company Bankruptcy data, our first step was to make sure that our data was clean. Fortunately for us, there were no issues with missing values or data type for any features. There was however a column 'contingent liabilities /net worth' with 60% of the companies having the same value of non-zero. I dropped this column as a result. Otherwise, there was nothing of note to be cleaned."
   ]
  },
  {
   "cell_type": "markdown",
   "metadata": {},
   "source": [
    "### Transformation"
   ]
  },
  {
   "cell_type": "markdown",
   "metadata": {},
   "source": [
    "The first step taken here was address multicollinearity concerns. There were some 21 columns that were dropped due to having correlations above .80 which was was not surprising as there are many ratios that have overlapping numerators or denominators that are the same within the financial metrics provided. \n",
    "\n",
    "Separately, converted our pre-processed data into our target (y) 'Bankrupt' variable and x 'predictors' and created training and test groups to use in our models. Our data had significant class imbalance issues that needed addressing as only 3.2% of the companies in our data went bankrupt over the 10 year period. To address this, we used smote to oversample our minority class in our training data.\n",
    "\n",
    "Next, we scaled training and test predictors using a sigmoid function. This scaled our values into a range of 0 to 1."
   ]
  },
  {
   "cell_type": "markdown",
   "metadata": {},
   "source": [
    "### Data Mining"
   ]
  },
  {
   "cell_type": "markdown",
   "metadata": {},
   "source": [
    "During our data mining phase we ran multiple classification models to isolate the best performing model at predicting bankruptcy for our companies. The models used were:\n",
    "\n",
    "    - Logistic Regression\n",
    "    - Decision Tree\n",
    "    - Random Forest\n",
    "    - K-Nearest Neighbors\n",
    "    - Gradient Boost\n",
    "    - Adaptive Boosted Forest\n",
    "    - XGBoost\n",
    "    \n",
    "To evaluate our model performance, we prioritized the recall of our minority class which is to say what proportion of our actual bankrupt companies were correctly identified by our models. To note, in prioritizing recall we sacrificed the precision of our models."
   ]
  },
  {
   "cell_type": "markdown",
   "metadata": {},
   "source": [
    "We found that the best performing model was our XGBoost, which had a recall of .84, but a precision of .25.\n",
    "\n",
    "\n",
    "![XGBoost class report](images/XGBoost_cr.png)\n",
    "![XGBoost Confusion Matrix](images/XGBoost_cm1.png)"
   ]
  },
  {
   "cell_type": "markdown",
   "metadata": {},
   "source": [
    "Additionally, from our XGBoost model our top 10 features by weighting are shown below.\n",
    "\n",
    "![XGBoost features](images/xgboost_features1.png)\n",
    "\n",
    "    "
   ]
  },
  {
   "cell_type": "markdown",
   "metadata": {},
   "source": [
    "Surpisingly, 'Non-industry income and expenditure/Revenue\" was held the highest weighting of our features. It was expected that a metric that reflects amount of debt in some form would have been the top feature but the third highest weighted feature was \"total debt / total net worth\" so we were in the ballpark."
   ]
  },
  {
   "cell_type": "code",
   "execution_count": null,
   "metadata": {},
   "outputs": [],
   "source": []
  },
  {
   "cell_type": "code",
   "execution_count": null,
   "metadata": {},
   "outputs": [],
   "source": []
  }
 ],
 "metadata": {
  "kernelspec": {
   "display_name": "Python 3",
   "language": "python",
   "name": "python3"
  },
  "language_info": {
   "codemirror_mode": {
    "name": "ipython",
    "version": 3
   },
   "file_extension": ".py",
   "mimetype": "text/x-python",
   "name": "python",
   "nbconvert_exporter": "python",
   "pygments_lexer": "ipython3",
   "version": "3.8.5"
  },
  "latex_envs": {
   "LaTeX_envs_menu_present": true,
   "autoclose": false,
   "autocomplete": true,
   "bibliofile": "biblio.bib",
   "cite_by": "apalike",
   "current_citInitial": 1,
   "eqLabelWithNumbers": true,
   "eqNumInitial": 1,
   "hotkeys": {
    "equation": "Ctrl-E",
    "itemize": "Ctrl-I"
   },
   "labels_anchors": false,
   "latex_user_defs": false,
   "report_style_numbering": false,
   "user_envs_cfg": false
  },
  "toc": {
   "base_numbering": 1,
   "nav_menu": {},
   "number_sections": true,
   "sideBar": true,
   "skip_h1_title": false,
   "title_cell": "Table of Contents",
   "title_sidebar": "Contents",
   "toc_cell": false,
   "toc_position": {},
   "toc_section_display": true,
   "toc_window_display": false
  },
  "varInspector": {
   "cols": {
    "lenName": 16,
    "lenType": 16,
    "lenVar": 40
   },
   "kernels_config": {
    "python": {
     "delete_cmd_postfix": "",
     "delete_cmd_prefix": "del ",
     "library": "var_list.py",
     "varRefreshCmd": "print(var_dic_list())"
    },
    "r": {
     "delete_cmd_postfix": ") ",
     "delete_cmd_prefix": "rm(",
     "library": "var_list.r",
     "varRefreshCmd": "cat(var_dic_list()) "
    }
   },
   "types_to_exclude": [
    "module",
    "function",
    "builtin_function_or_method",
    "instance",
    "_Feature"
   ],
   "window_display": false
  }
 },
 "nbformat": 4,
 "nbformat_minor": 4
}
