{
 "cells": [
  {
   "cell_type": "code",
   "execution_count": 1,
   "metadata": {
    "ExecuteTime": {
     "end_time": "2021-02-23T03:06:06.412241Z",
     "start_time": "2021-02-23T03:06:04.398922Z"
    }
   },
   "outputs": [],
   "source": [
    "import pandas as pd\n",
    "import numpy as np\n",
    "import pandas as pd\n",
    "import matplotlib.pyplot as plt\n",
    "from sklearn.linear_model import LogisticRegression\n",
    "from sklearn.model_selection import train_test_split\n",
    "from sklearn.metrics import plot_confusion_matrix\n",
    "from sklearn.metrics import confusion_matrix, classification_report\n",
    "from sklearn.metrics import roc_curve, auc\n",
    "from sklearn.metrics import precision_score, recall_score, accuracy_score, f1_score\n",
    "from sklearn.preprocessing import StandardScaler\n",
    "from sklearn.neighbors import KNeighborsClassifier\n",
    "from sklearn.tree import DecisionTreeClassifier\n",
    "from sklearn.tree import plot_tree\n",
    "from sklearn.utils import resample\n",
    "from imblearn.over_sampling import SMOTE\n",
    "\n",
    "from sklearn.ensemble import BaggingClassifier, RandomForestClassifier\n",
    "from sklearn.model_selection import GridSearchCV, cross_val_score\n",
    "import xgboost as xgb"
   ]
  },
  {
   "cell_type": "code",
   "execution_count": 2,
   "metadata": {
    "ExecuteTime": {
     "end_time": "2021-02-23T03:06:06.555973Z",
     "start_time": "2021-02-23T03:06:06.445106Z"
    }
   },
   "outputs": [],
   "source": [
    "df = pd.read_csv('data/taiwan_bankruptcy_data.csv')"
   ]
  },
  {
   "cell_type": "code",
   "execution_count": 3,
   "metadata": {
    "ExecuteTime": {
     "end_time": "2021-02-23T03:06:08.748136Z",
     "start_time": "2021-02-23T03:06:08.712982Z"
    }
   },
   "outputs": [
    {
     "data": {
      "text/html": [
       "<div>\n",
       "<style scoped>\n",
       "    .dataframe tbody tr th:only-of-type {\n",
       "        vertical-align: middle;\n",
       "    }\n",
       "\n",
       "    .dataframe tbody tr th {\n",
       "        vertical-align: top;\n",
       "    }\n",
       "\n",
       "    .dataframe thead th {\n",
       "        text-align: right;\n",
       "    }\n",
       "</style>\n",
       "<table border=\"1\" class=\"dataframe\">\n",
       "  <thead>\n",
       "    <tr style=\"text-align: right;\">\n",
       "      <th></th>\n",
       "      <th>Bankrupt?</th>\n",
       "      <th>ROA(C) before interest and depreciation before interest</th>\n",
       "      <th>ROA(A) before interest and % after tax</th>\n",
       "      <th>ROA(B) before interest and depreciation after tax</th>\n",
       "      <th>operating gross margin</th>\n",
       "      <th>realized sales gross margin</th>\n",
       "      <th>operating profit rate</th>\n",
       "      <th>tax Pre-net interest rate</th>\n",
       "      <th>after-tax net interest rate</th>\n",
       "      <th>non-industry income and expenditure/revenue</th>\n",
       "      <th>...</th>\n",
       "      <th>net income to total assets</th>\n",
       "      <th>total assets to GNP price</th>\n",
       "      <th>No-credit interval</th>\n",
       "      <th>Gross profit to Sales</th>\n",
       "      <th>Net income to stockholder's Equity</th>\n",
       "      <th>liability to equity</th>\n",
       "      <th>Degree of financial leverage (DFL)</th>\n",
       "      <th>Interest coverage ratio( Interest expense to EBIT )</th>\n",
       "      <th>one if net income was negative for the last two year zero otherwise</th>\n",
       "      <th>equity to liability</th>\n",
       "    </tr>\n",
       "  </thead>\n",
       "  <tbody>\n",
       "    <tr>\n",
       "      <th>0</th>\n",
       "      <td>1</td>\n",
       "      <td>0.370594</td>\n",
       "      <td>0.424389</td>\n",
       "      <td>0.405750</td>\n",
       "      <td>0.601457</td>\n",
       "      <td>0.601457</td>\n",
       "      <td>0.998969</td>\n",
       "      <td>0.796887</td>\n",
       "      <td>0.808809</td>\n",
       "      <td>0.302646</td>\n",
       "      <td>...</td>\n",
       "      <td>0.716845</td>\n",
       "      <td>0.009219</td>\n",
       "      <td>0.622879</td>\n",
       "      <td>0.601453</td>\n",
       "      <td>0.827890</td>\n",
       "      <td>0.290202</td>\n",
       "      <td>0.026601</td>\n",
       "      <td>0.564050</td>\n",
       "      <td>1</td>\n",
       "      <td>0.016469</td>\n",
       "    </tr>\n",
       "    <tr>\n",
       "      <th>1</th>\n",
       "      <td>1</td>\n",
       "      <td>0.464291</td>\n",
       "      <td>0.538214</td>\n",
       "      <td>0.516730</td>\n",
       "      <td>0.610235</td>\n",
       "      <td>0.610235</td>\n",
       "      <td>0.998946</td>\n",
       "      <td>0.797380</td>\n",
       "      <td>0.809301</td>\n",
       "      <td>0.303556</td>\n",
       "      <td>...</td>\n",
       "      <td>0.795297</td>\n",
       "      <td>0.008323</td>\n",
       "      <td>0.623652</td>\n",
       "      <td>0.610237</td>\n",
       "      <td>0.839969</td>\n",
       "      <td>0.283846</td>\n",
       "      <td>0.264577</td>\n",
       "      <td>0.570175</td>\n",
       "      <td>1</td>\n",
       "      <td>0.020794</td>\n",
       "    </tr>\n",
       "    <tr>\n",
       "      <th>2</th>\n",
       "      <td>1</td>\n",
       "      <td>0.426071</td>\n",
       "      <td>0.499019</td>\n",
       "      <td>0.472295</td>\n",
       "      <td>0.601450</td>\n",
       "      <td>0.601364</td>\n",
       "      <td>0.998857</td>\n",
       "      <td>0.796403</td>\n",
       "      <td>0.808388</td>\n",
       "      <td>0.302035</td>\n",
       "      <td>...</td>\n",
       "      <td>0.774670</td>\n",
       "      <td>0.040003</td>\n",
       "      <td>0.623841</td>\n",
       "      <td>0.601449</td>\n",
       "      <td>0.836774</td>\n",
       "      <td>0.290189</td>\n",
       "      <td>0.026555</td>\n",
       "      <td>0.563706</td>\n",
       "      <td>1</td>\n",
       "      <td>0.016474</td>\n",
       "    </tr>\n",
       "    <tr>\n",
       "      <th>3</th>\n",
       "      <td>1</td>\n",
       "      <td>0.399844</td>\n",
       "      <td>0.451265</td>\n",
       "      <td>0.457733</td>\n",
       "      <td>0.583541</td>\n",
       "      <td>0.583541</td>\n",
       "      <td>0.998700</td>\n",
       "      <td>0.796967</td>\n",
       "      <td>0.808966</td>\n",
       "      <td>0.303350</td>\n",
       "      <td>...</td>\n",
       "      <td>0.739555</td>\n",
       "      <td>0.003252</td>\n",
       "      <td>0.622929</td>\n",
       "      <td>0.583538</td>\n",
       "      <td>0.834697</td>\n",
       "      <td>0.281721</td>\n",
       "      <td>0.026697</td>\n",
       "      <td>0.564663</td>\n",
       "      <td>1</td>\n",
       "      <td>0.023982</td>\n",
       "    </tr>\n",
       "    <tr>\n",
       "      <th>4</th>\n",
       "      <td>1</td>\n",
       "      <td>0.465022</td>\n",
       "      <td>0.538432</td>\n",
       "      <td>0.522298</td>\n",
       "      <td>0.598783</td>\n",
       "      <td>0.598783</td>\n",
       "      <td>0.998973</td>\n",
       "      <td>0.797366</td>\n",
       "      <td>0.809304</td>\n",
       "      <td>0.303475</td>\n",
       "      <td>...</td>\n",
       "      <td>0.795016</td>\n",
       "      <td>0.003878</td>\n",
       "      <td>0.623521</td>\n",
       "      <td>0.598782</td>\n",
       "      <td>0.839973</td>\n",
       "      <td>0.278514</td>\n",
       "      <td>0.024752</td>\n",
       "      <td>0.575617</td>\n",
       "      <td>1</td>\n",
       "      <td>0.035490</td>\n",
       "    </tr>\n",
       "  </tbody>\n",
       "</table>\n",
       "<p>5 rows × 96 columns</p>\n",
       "</div>"
      ],
      "text/plain": [
       "   Bankrupt?   ROA(C) before interest and depreciation before interest  \\\n",
       "0          1                                           0.370594          \n",
       "1          1                                           0.464291          \n",
       "2          1                                           0.426071          \n",
       "3          1                                           0.399844          \n",
       "4          1                                           0.465022          \n",
       "\n",
       "    ROA(A) before interest and % after tax  \\\n",
       "0                                 0.424389   \n",
       "1                                 0.538214   \n",
       "2                                 0.499019   \n",
       "3                                 0.451265   \n",
       "4                                 0.538432   \n",
       "\n",
       "    ROA(B) before interest and depreciation after tax  \\\n",
       "0                                           0.405750    \n",
       "1                                           0.516730    \n",
       "2                                           0.472295    \n",
       "3                                           0.457733    \n",
       "4                                           0.522298    \n",
       "\n",
       "    operating gross margin   realized sales gross margin  \\\n",
       "0                 0.601457                      0.601457   \n",
       "1                 0.610235                      0.610235   \n",
       "2                 0.601450                      0.601364   \n",
       "3                 0.583541                      0.583541   \n",
       "4                 0.598783                      0.598783   \n",
       "\n",
       "    operating profit rate   tax Pre-net interest rate  \\\n",
       "0                0.998969                    0.796887   \n",
       "1                0.998946                    0.797380   \n",
       "2                0.998857                    0.796403   \n",
       "3                0.998700                    0.796967   \n",
       "4                0.998973                    0.797366   \n",
       "\n",
       "    after-tax net interest rate   non-industry income and expenditure/revenue  \\\n",
       "0                      0.808809                                      0.302646   \n",
       "1                      0.809301                                      0.303556   \n",
       "2                      0.808388                                      0.302035   \n",
       "3                      0.808966                                      0.303350   \n",
       "4                      0.809304                                      0.303475   \n",
       "\n",
       "   ...  net income to total assets  total assets to GNP price  \\\n",
       "0  ...                    0.716845                   0.009219   \n",
       "1  ...                    0.795297                   0.008323   \n",
       "2  ...                    0.774670                   0.040003   \n",
       "3  ...                    0.739555                   0.003252   \n",
       "4  ...                    0.795016                   0.003878   \n",
       "\n",
       "   No-credit interval  Gross profit to Sales  \\\n",
       "0            0.622879               0.601453   \n",
       "1            0.623652               0.610237   \n",
       "2            0.623841               0.601449   \n",
       "3            0.622929               0.583538   \n",
       "4            0.623521               0.598782   \n",
       "\n",
       "   Net income to stockholder's Equity  liability to equity  \\\n",
       "0                            0.827890             0.290202   \n",
       "1                            0.839969             0.283846   \n",
       "2                            0.836774             0.290189   \n",
       "3                            0.834697             0.281721   \n",
       "4                            0.839973             0.278514   \n",
       "\n",
       "   Degree of financial leverage (DFL)  \\\n",
       "0                            0.026601   \n",
       "1                            0.264577   \n",
       "2                            0.026555   \n",
       "3                            0.026697   \n",
       "4                            0.024752   \n",
       "\n",
       "   Interest coverage ratio( Interest expense to EBIT )  \\\n",
       "0                                           0.564050     \n",
       "1                                           0.570175     \n",
       "2                                           0.563706     \n",
       "3                                           0.564663     \n",
       "4                                           0.575617     \n",
       "\n",
       "   one if net income was negative for the last two year zero otherwise  \\\n",
       "0                                                  1                     \n",
       "1                                                  1                     \n",
       "2                                                  1                     \n",
       "3                                                  1                     \n",
       "4                                                  1                     \n",
       "\n",
       "   equity to liability  \n",
       "0             0.016469  \n",
       "1             0.020794  \n",
       "2             0.016474  \n",
       "3             0.023982  \n",
       "4             0.035490  \n",
       "\n",
       "[5 rows x 96 columns]"
      ]
     },
     "execution_count": 3,
     "metadata": {},
     "output_type": "execute_result"
    }
   ],
   "source": [
    "df.head()"
   ]
  },
  {
   "cell_type": "code",
   "execution_count": 4,
   "metadata": {
    "ExecuteTime": {
     "end_time": "2021-02-23T03:06:08.907447Z",
     "start_time": "2021-02-23T03:06:08.891456Z"
    }
   },
   "outputs": [],
   "source": [
    "f = np.array(df.isna().sum())"
   ]
  },
  {
   "cell_type": "code",
   "execution_count": 5,
   "metadata": {
    "ExecuteTime": {
     "end_time": "2021-02-23T03:06:09.456062Z",
     "start_time": "2021-02-23T03:06:09.449081Z"
    }
   },
   "outputs": [
    {
     "data": {
      "text/plain": [
       "array([0, 0, 0, 0, 0, 0, 0, 0, 0, 0, 0, 0, 0, 0, 0, 0, 0, 0, 0, 0, 0, 0,\n",
       "       0, 0, 0, 0, 0, 0, 0, 0, 0, 0, 0, 0, 0, 0, 0, 0, 0, 0, 0, 0, 0, 0,\n",
       "       0, 0, 0, 0, 0, 0, 0, 0, 0, 0, 0, 0, 0, 0, 0, 0, 0, 0, 0, 0, 0, 0,\n",
       "       0, 0, 0, 0, 0, 0, 0, 0, 0, 0, 0, 0, 0, 0, 0, 0, 0, 0, 0, 0, 0, 0,\n",
       "       0, 0, 0, 0, 0, 0, 0, 0], dtype=int64)"
      ]
     },
     "execution_count": 5,
     "metadata": {},
     "output_type": "execute_result"
    }
   ],
   "source": [
    "# no nans lit\n",
    "f"
   ]
  },
  {
   "cell_type": "code",
   "execution_count": 6,
   "metadata": {
    "ExecuteTime": {
     "end_time": "2021-02-23T03:06:10.254314Z",
     "start_time": "2021-02-23T03:06:10.104472Z"
    }
   },
   "outputs": [],
   "source": [
    "test = df.corr().abs().stack().reset_index().sort_values(0,ascending=False)\n",
    "test['pairs'] = list(zip(test.level_0,test.level_1))\n",
    "test.set_index(['pairs'], inplace=True)\n",
    "test.drop(columns=['level_1','level_0'], inplace=True)\n",
    "test.columns = ['cc']\n",
    "test.drop_duplicates(inplace=True)\n"
   ]
  },
  {
   "cell_type": "code",
   "execution_count": 7,
   "metadata": {
    "ExecuteTime": {
     "end_time": "2021-02-23T03:06:10.661339Z",
     "start_time": "2021-02-23T03:06:10.646408Z"
    }
   },
   "outputs": [],
   "source": [
    "test.sort_values('cc',ascending=False, inplace=True)\n",
    "multicollinear_predictors = test[test.cc >.75]\n",
    "multicollinear_predictors.reset_index(inplace=True)"
   ]
  },
  {
   "cell_type": "code",
   "execution_count": 8,
   "metadata": {
    "ExecuteTime": {
     "end_time": "2021-02-23T03:06:10.833802Z",
     "start_time": "2021-02-23T03:06:10.826851Z"
    }
   },
   "outputs": [
    {
     "name": "stderr",
     "output_type": "stream",
     "text": [
      "<ipython-input-8-a30768636eb9>:1: SettingWithCopyWarning: \n",
      "A value is trying to be set on a copy of a slice from a DataFrame.\n",
      "Try using .loc[row_indexer,col_indexer] = value instead\n",
      "\n",
      "See the caveats in the documentation: https://pandas.pydata.org/pandas-docs/stable/user_guide/indexing.html#returning-a-view-versus-a-copy\n",
      "  multicollinear_predictors['column_1'] = multicollinear_predictors.pairs.map(lambda x : x[0])\n",
      "<ipython-input-8-a30768636eb9>:2: SettingWithCopyWarning: \n",
      "A value is trying to be set on a copy of a slice from a DataFrame.\n",
      "Try using .loc[row_indexer,col_indexer] = value instead\n",
      "\n",
      "See the caveats in the documentation: https://pandas.pydata.org/pandas-docs/stable/user_guide/indexing.html#returning-a-view-versus-a-copy\n",
      "  multicollinear_predictors['column_2'] = multicollinear_predictors.pairs.map(lambda x : x[1])\n"
     ]
    }
   ],
   "source": [
    "multicollinear_predictors['column_1'] = multicollinear_predictors.pairs.map(lambda x : x[0])\n",
    "multicollinear_predictors['column_2'] = multicollinear_predictors.pairs.map(lambda x : x[1])"
   ]
  },
  {
   "cell_type": "code",
   "execution_count": 9,
   "metadata": {
    "ExecuteTime": {
     "end_time": "2021-02-23T03:06:10.991380Z",
     "start_time": "2021-02-23T03:06:10.963455Z"
    }
   },
   "outputs": [
    {
     "data": {
      "text/html": [
       "<div>\n",
       "<style scoped>\n",
       "    .dataframe tbody tr th:only-of-type {\n",
       "        vertical-align: middle;\n",
       "    }\n",
       "\n",
       "    .dataframe tbody tr th {\n",
       "        vertical-align: top;\n",
       "    }\n",
       "\n",
       "    .dataframe thead th {\n",
       "        text-align: right;\n",
       "    }\n",
       "</style>\n",
       "<table border=\"1\" class=\"dataframe\">\n",
       "  <thead>\n",
       "    <tr style=\"text-align: right;\">\n",
       "      <th></th>\n",
       "      <th>pairs</th>\n",
       "      <th>cc</th>\n",
       "      <th>column_1</th>\n",
       "      <th>column_2</th>\n",
       "    </tr>\n",
       "  </thead>\n",
       "  <tbody>\n",
       "    <tr>\n",
       "      <th>0</th>\n",
       "      <td>( net worth/assets,  debt ratio %)</td>\n",
       "      <td>1.000000</td>\n",
       "      <td>net worth/assets</td>\n",
       "      <td>debt ratio %</td>\n",
       "    </tr>\n",
       "    <tr>\n",
       "      <th>1</th>\n",
       "      <td>( regular net profit growth rate,  regular net...</td>\n",
       "      <td>1.000000</td>\n",
       "      <td>regular net profit growth rate</td>\n",
       "      <td>regular net profit growth rate</td>\n",
       "    </tr>\n",
       "    <tr>\n",
       "      <th>2</th>\n",
       "      <td>(Gross profit to Sales,  operating gross margin)</td>\n",
       "      <td>1.000000</td>\n",
       "      <td>Gross profit to Sales</td>\n",
       "      <td>operating gross margin</td>\n",
       "    </tr>\n",
       "    <tr>\n",
       "      <th>3</th>\n",
       "      <td>( Net Value Per Share (C),  Net Value Per Shar...</td>\n",
       "      <td>0.999837</td>\n",
       "      <td>Net Value Per Share (C)</td>\n",
       "      <td>Net Value Per Share (A)</td>\n",
       "    </tr>\n",
       "    <tr>\n",
       "      <th>4</th>\n",
       "      <td>( operating gross margin,  realized sales gros...</td>\n",
       "      <td>0.999518</td>\n",
       "      <td>operating gross margin</td>\n",
       "      <td>realized sales gross margin</td>\n",
       "    </tr>\n",
       "    <tr>\n",
       "      <th>5</th>\n",
       "      <td>( realized sales gross margin, Gross profit to...</td>\n",
       "      <td>0.999518</td>\n",
       "      <td>realized sales gross margin</td>\n",
       "      <td>Gross profit to Sales</td>\n",
       "    </tr>\n",
       "    <tr>\n",
       "      <th>6</th>\n",
       "      <td>( Net Value Per Share (A),  per Net Share Valu...</td>\n",
       "      <td>0.999342</td>\n",
       "      <td>Net Value Per Share (A)</td>\n",
       "      <td>per Net Share Value (B)</td>\n",
       "    </tr>\n",
       "    <tr>\n",
       "      <th>7</th>\n",
       "      <td>( per Net Share Value (B),  Net Value Per Shar...</td>\n",
       "      <td>0.999179</td>\n",
       "      <td>per Net Share Value (B)</td>\n",
       "      <td>Net Value Per Share (C)</td>\n",
       "    </tr>\n",
       "    <tr>\n",
       "      <th>8</th>\n",
       "      <td>( Operating profit/paid-in capital,  Operating...</td>\n",
       "      <td>0.998696</td>\n",
       "      <td>Operating profit/paid-in capital</td>\n",
       "      <td>Operating Profit Per Share (Yuan)</td>\n",
       "    </tr>\n",
       "    <tr>\n",
       "      <th>9</th>\n",
       "      <td>( regular net profit growth rate,  after-tax n...</td>\n",
       "      <td>0.996186</td>\n",
       "      <td>regular net profit growth rate</td>\n",
       "      <td>after-tax net profit growth rate</td>\n",
       "    </tr>\n",
       "    <tr>\n",
       "      <th>10</th>\n",
       "      <td>( continuous interest rate (after tax),  tax P...</td>\n",
       "      <td>0.993617</td>\n",
       "      <td>continuous interest rate (after tax)</td>\n",
       "      <td>tax Pre-net interest rate</td>\n",
       "    </tr>\n",
       "    <tr>\n",
       "      <th>11</th>\n",
       "      <td>( ROA(C) before interest and depreciation befo...</td>\n",
       "      <td>0.986849</td>\n",
       "      <td>ROA(C) before interest and depreciation befor...</td>\n",
       "      <td>ROA(B) before interest and depreciation after...</td>\n",
       "    </tr>\n",
       "    <tr>\n",
       "      <th>12</th>\n",
       "      <td>( after-tax net interest rate,  tax Pre-net in...</td>\n",
       "      <td>0.986379</td>\n",
       "      <td>after-tax net interest rate</td>\n",
       "      <td>tax Pre-net interest rate</td>\n",
       "    </tr>\n",
       "    <tr>\n",
       "      <th>13</th>\n",
       "      <td>( continuous interest rate (after tax),  after...</td>\n",
       "      <td>0.984452</td>\n",
       "      <td>continuous interest rate (after tax)</td>\n",
       "      <td>after-tax net interest rate</td>\n",
       "    </tr>\n",
       "    <tr>\n",
       "      <th>14</th>\n",
       "      <td>(current liability/equity, liability to equity)</td>\n",
       "      <td>0.963908</td>\n",
       "      <td>current liability/equity</td>\n",
       "      <td>liability to equity</td>\n",
       "    </tr>\n",
       "    <tr>\n",
       "      <th>15</th>\n",
       "      <td>( Per Share Net profit before tax (yuan),  net...</td>\n",
       "      <td>0.962723</td>\n",
       "      <td>Per Share Net profit before tax (yuan)</td>\n",
       "      <td>net profit before tax/paid-in capital</td>\n",
       "    </tr>\n",
       "    <tr>\n",
       "      <th>16</th>\n",
       "      <td>( ROA(A) before interest and % after tax, net ...</td>\n",
       "      <td>0.961552</td>\n",
       "      <td>ROA(A) before interest and % after tax</td>\n",
       "      <td>net income to total assets</td>\n",
       "    </tr>\n",
       "    <tr>\n",
       "      <th>17</th>\n",
       "      <td>( net profit before tax/paid-in capital,  Pers...</td>\n",
       "      <td>0.959461</td>\n",
       "      <td>net profit before tax/paid-in capital</td>\n",
       "      <td>Persistent EPS in the Last Four Seasons</td>\n",
       "    </tr>\n",
       "    <tr>\n",
       "      <th>18</th>\n",
       "      <td>(liability to equity,  borrowing dependency)</td>\n",
       "      <td>0.955857</td>\n",
       "      <td>liability to equity</td>\n",
       "      <td>borrowing dependency</td>\n",
       "    </tr>\n",
       "    <tr>\n",
       "      <th>19</th>\n",
       "      <td>( ROA(B) before interest and depreciation afte...</td>\n",
       "      <td>0.955741</td>\n",
       "      <td>ROA(B) before interest and depreciation after...</td>\n",
       "      <td>ROA(A) before interest and % after tax</td>\n",
       "    </tr>\n",
       "    <tr>\n",
       "      <th>20</th>\n",
       "      <td>( Per Share Net profit before tax (yuan),  Per...</td>\n",
       "      <td>0.955591</td>\n",
       "      <td>Per Share Net profit before tax (yuan)</td>\n",
       "      <td>Persistent EPS in the Last Four Seasons</td>\n",
       "    </tr>\n",
       "    <tr>\n",
       "      <th>21</th>\n",
       "      <td>( Cash flow to Sales,  working capitcal turnov...</td>\n",
       "      <td>0.948194</td>\n",
       "      <td>Cash flow to Sales</td>\n",
       "      <td>working capitcal turnover rate</td>\n",
       "    </tr>\n",
       "    <tr>\n",
       "      <th>22</th>\n",
       "      <td>( ROA(C) before interest and depreciation befo...</td>\n",
       "      <td>0.940124</td>\n",
       "      <td>ROA(C) before interest and depreciation befor...</td>\n",
       "      <td>ROA(A) before interest and % after tax</td>\n",
       "    </tr>\n",
       "    <tr>\n",
       "      <th>23</th>\n",
       "      <td>( tax Pre-net interest rate,  operating profit...</td>\n",
       "      <td>0.916448</td>\n",
       "      <td>tax Pre-net interest rate</td>\n",
       "      <td>operating profit rate</td>\n",
       "    </tr>\n",
       "    <tr>\n",
       "      <th>24</th>\n",
       "      <td>( operating profit rate,  continuous interest ...</td>\n",
       "      <td>0.915544</td>\n",
       "      <td>operating profit rate</td>\n",
       "      <td>continuous interest rate (after tax)</td>\n",
       "    </tr>\n",
       "    <tr>\n",
       "      <th>25</th>\n",
       "      <td>( ROA(B) before interest and depreciation afte...</td>\n",
       "      <td>0.912040</td>\n",
       "      <td>ROA(B) before interest and depreciation after...</td>\n",
       "      <td>net income to total assets</td>\n",
       "    </tr>\n",
       "    <tr>\n",
       "      <th>26</th>\n",
       "      <td>( borrowing dependency, current liability/equity)</td>\n",
       "      <td>0.892772</td>\n",
       "      <td>borrowing dependency</td>\n",
       "      <td>current liability/equity</td>\n",
       "    </tr>\n",
       "    <tr>\n",
       "      <th>27</th>\n",
       "      <td>(net income to total assets,  ROA(C) before in...</td>\n",
       "      <td>0.887670</td>\n",
       "      <td>net income to total assets</td>\n",
       "      <td>ROA(C) before interest and depreciation befor...</td>\n",
       "    </tr>\n",
       "    <tr>\n",
       "      <th>28</th>\n",
       "      <td>( Operating profit/paid-in capital,  net profi...</td>\n",
       "      <td>0.887370</td>\n",
       "      <td>Operating profit/paid-in capital</td>\n",
       "      <td>net profit before tax/paid-in capital</td>\n",
       "    </tr>\n",
       "    <tr>\n",
       "      <th>29</th>\n",
       "      <td>( net profit before tax/paid-in capital,  Oper...</td>\n",
       "      <td>0.886157</td>\n",
       "      <td>net profit before tax/paid-in capital</td>\n",
       "      <td>Operating Profit Per Share (Yuan)</td>\n",
       "    </tr>\n",
       "    <tr>\n",
       "      <th>30</th>\n",
       "      <td>(operating funds to liability,  cash flow rate)</td>\n",
       "      <td>0.880562</td>\n",
       "      <td>operating funds to liability</td>\n",
       "      <td>cash flow rate</td>\n",
       "    </tr>\n",
       "    <tr>\n",
       "      <th>31</th>\n",
       "      <td>( Operating Profit Per Share (Yuan),  Persiste...</td>\n",
       "      <td>0.876769</td>\n",
       "      <td>Operating Profit Per Share (Yuan)</td>\n",
       "      <td>Persistent EPS in the Last Four Seasons</td>\n",
       "    </tr>\n",
       "    <tr>\n",
       "      <th>32</th>\n",
       "      <td>( Operating profit/paid-in capital,  Persisten...</td>\n",
       "      <td>0.873641</td>\n",
       "      <td>Operating profit/paid-in capital</td>\n",
       "      <td>Persistent EPS in the Last Four Seasons</td>\n",
       "    </tr>\n",
       "    <tr>\n",
       "      <th>33</th>\n",
       "      <td>( after-tax net interest rate,  operating prof...</td>\n",
       "      <td>0.862191</td>\n",
       "      <td>after-tax net interest rate</td>\n",
       "      <td>operating profit rate</td>\n",
       "    </tr>\n",
       "    <tr>\n",
       "      <th>34</th>\n",
       "      <td>( Per Share Net profit before tax (yuan),  Ope...</td>\n",
       "      <td>0.861813</td>\n",
       "      <td>Per Share Net profit before tax (yuan)</td>\n",
       "      <td>Operating Profit Per Share (Yuan)</td>\n",
       "    </tr>\n",
       "    <tr>\n",
       "      <th>35</th>\n",
       "      <td>( Operating profit/paid-in capital,  Per Share...</td>\n",
       "      <td>0.858310</td>\n",
       "      <td>Operating profit/paid-in capital</td>\n",
       "      <td>Per Share Net profit before tax (yuan)</td>\n",
       "    </tr>\n",
       "    <tr>\n",
       "      <th>36</th>\n",
       "      <td>(current liability to assets,  net worth/assets)</td>\n",
       "      <td>0.842583</td>\n",
       "      <td>current liability to assets</td>\n",
       "      <td>net worth/assets</td>\n",
       "    </tr>\n",
       "    <tr>\n",
       "      <th>37</th>\n",
       "      <td>( debt ratio %, current liability to assets)</td>\n",
       "      <td>0.842583</td>\n",
       "      <td>debt ratio %</td>\n",
       "      <td>current liability to assets</td>\n",
       "    </tr>\n",
       "    <tr>\n",
       "      <th>38</th>\n",
       "      <td>(equity to long-term liability,  borrowing dep...</td>\n",
       "      <td>0.806889</td>\n",
       "      <td>equity to long-term liability</td>\n",
       "      <td>borrowing dependency</td>\n",
       "    </tr>\n",
       "    <tr>\n",
       "      <th>39</th>\n",
       "      <td>( borrowing dependency, Net income to stockhol...</td>\n",
       "      <td>0.806478</td>\n",
       "      <td>borrowing dependency</td>\n",
       "      <td>Net income to stockholder's Equity</td>\n",
       "    </tr>\n",
       "    <tr>\n",
       "      <th>40</th>\n",
       "      <td>(Retained Earnings/Total assets, net income to...</td>\n",
       "      <td>0.794189</td>\n",
       "      <td>Retained Earnings/Total assets</td>\n",
       "      <td>net income to total assets</td>\n",
       "    </tr>\n",
       "    <tr>\n",
       "      <th>41</th>\n",
       "      <td>(liability to equity, Net income to stockholde...</td>\n",
       "      <td>0.791836</td>\n",
       "      <td>liability to equity</td>\n",
       "      <td>Net income to stockholder's Equity</td>\n",
       "    </tr>\n",
       "    <tr>\n",
       "      <th>42</th>\n",
       "      <td>(equity to long-term liability, liability to e...</td>\n",
       "      <td>0.778135</td>\n",
       "      <td>equity to long-term liability</td>\n",
       "      <td>liability to equity</td>\n",
       "    </tr>\n",
       "    <tr>\n",
       "      <th>43</th>\n",
       "      <td>( Persistent EPS in the Last Four Seasons,  RO...</td>\n",
       "      <td>0.775006</td>\n",
       "      <td>Persistent EPS in the Last Four Seasons</td>\n",
       "      <td>ROA(C) before interest and depreciation befor...</td>\n",
       "    </tr>\n",
       "    <tr>\n",
       "      <th>44</th>\n",
       "      <td>(working capital/equity,  contingent liabiliti...</td>\n",
       "      <td>0.767778</td>\n",
       "      <td>working capital/equity</td>\n",
       "      <td>contingent liabilities/net worth</td>\n",
       "    </tr>\n",
       "    <tr>\n",
       "      <th>45</th>\n",
       "      <td>( Persistent EPS in the Last Four Seasons,  RO...</td>\n",
       "      <td>0.764828</td>\n",
       "      <td>Persistent EPS in the Last Four Seasons</td>\n",
       "      <td>ROA(A) before interest and % after tax</td>\n",
       "    </tr>\n",
       "    <tr>\n",
       "      <th>46</th>\n",
       "      <td>( Persistent EPS in the Last Four Seasons,  RO...</td>\n",
       "      <td>0.764597</td>\n",
       "      <td>Persistent EPS in the Last Four Seasons</td>\n",
       "      <td>ROA(B) before interest and depreciation after...</td>\n",
       "    </tr>\n",
       "    <tr>\n",
       "      <th>47</th>\n",
       "      <td>( net profit before tax/paid-in capital,  ROA(...</td>\n",
       "      <td>0.758234</td>\n",
       "      <td>net profit before tax/paid-in capital</td>\n",
       "      <td>ROA(A) before interest and % after tax</td>\n",
       "    </tr>\n",
       "    <tr>\n",
       "      <th>48</th>\n",
       "      <td>( total asset turnover,  net worth turnover ra...</td>\n",
       "      <td>0.757414</td>\n",
       "      <td>total asset turnover</td>\n",
       "      <td>net worth turnover rate (times)</td>\n",
       "    </tr>\n",
       "    <tr>\n",
       "      <th>49</th>\n",
       "      <td>( Persistent EPS in the Last Four Seasons,  pe...</td>\n",
       "      <td>0.755568</td>\n",
       "      <td>Persistent EPS in the Last Four Seasons</td>\n",
       "      <td>per Net Share Value (B)</td>\n",
       "    </tr>\n",
       "    <tr>\n",
       "      <th>50</th>\n",
       "      <td>(current assets/total assets, Quick asset/Tota...</td>\n",
       "      <td>0.755453</td>\n",
       "      <td>current assets/total assets</td>\n",
       "      <td>Quick asset/Total asset</td>\n",
       "    </tr>\n",
       "    <tr>\n",
       "      <th>51</th>\n",
       "      <td>( Net Value Per Share (A),  Persistent EPS in ...</td>\n",
       "      <td>0.755409</td>\n",
       "      <td>Net Value Per Share (A)</td>\n",
       "      <td>Persistent EPS in the Last Four Seasons</td>\n",
       "    </tr>\n",
       "    <tr>\n",
       "      <th>52</th>\n",
       "      <td>( Persistent EPS in the Last Four Seasons,  Ne...</td>\n",
       "      <td>0.755217</td>\n",
       "      <td>Persistent EPS in the Last Four Seasons</td>\n",
       "      <td>Net Value Per Share (C)</td>\n",
       "    </tr>\n",
       "    <tr>\n",
       "      <th>53</th>\n",
       "      <td>( ROA(C) before interest and depreciation befo...</td>\n",
       "      <td>0.753339</td>\n",
       "      <td>ROA(C) before interest and depreciation befor...</td>\n",
       "      <td>net profit before tax/paid-in capital</td>\n",
       "    </tr>\n",
       "    <tr>\n",
       "      <th>54</th>\n",
       "      <td>( ROA(A) before interest and % after tax,  Per...</td>\n",
       "      <td>0.752578</td>\n",
       "      <td>ROA(A) before interest and % after tax</td>\n",
       "      <td>Per Share Net profit before tax (yuan)</td>\n",
       "    </tr>\n",
       "    <tr>\n",
       "      <th>55</th>\n",
       "      <td>( ROA(C) before interest and depreciation befo...</td>\n",
       "      <td>0.750564</td>\n",
       "      <td>ROA(C) before interest and depreciation befor...</td>\n",
       "      <td>Per Share Net profit before tax (yuan)</td>\n",
       "    </tr>\n",
       "  </tbody>\n",
       "</table>\n",
       "</div>"
      ],
      "text/plain": [
       "                                                pairs        cc  \\\n",
       "0                  ( net worth/assets,  debt ratio %)  1.000000   \n",
       "1   ( regular net profit growth rate,  regular net...  1.000000   \n",
       "2    (Gross profit to Sales,  operating gross margin)  1.000000   \n",
       "3   ( Net Value Per Share (C),  Net Value Per Shar...  0.999837   \n",
       "4   ( operating gross margin,  realized sales gros...  0.999518   \n",
       "5   ( realized sales gross margin, Gross profit to...  0.999518   \n",
       "6   ( Net Value Per Share (A),  per Net Share Valu...  0.999342   \n",
       "7   ( per Net Share Value (B),  Net Value Per Shar...  0.999179   \n",
       "8   ( Operating profit/paid-in capital,  Operating...  0.998696   \n",
       "9   ( regular net profit growth rate,  after-tax n...  0.996186   \n",
       "10  ( continuous interest rate (after tax),  tax P...  0.993617   \n",
       "11  ( ROA(C) before interest and depreciation befo...  0.986849   \n",
       "12  ( after-tax net interest rate,  tax Pre-net in...  0.986379   \n",
       "13  ( continuous interest rate (after tax),  after...  0.984452   \n",
       "14    (current liability/equity, liability to equity)  0.963908   \n",
       "15  ( Per Share Net profit before tax (yuan),  net...  0.962723   \n",
       "16  ( ROA(A) before interest and % after tax, net ...  0.961552   \n",
       "17  ( net profit before tax/paid-in capital,  Pers...  0.959461   \n",
       "18       (liability to equity,  borrowing dependency)  0.955857   \n",
       "19  ( ROA(B) before interest and depreciation afte...  0.955741   \n",
       "20  ( Per Share Net profit before tax (yuan),  Per...  0.955591   \n",
       "21  ( Cash flow to Sales,  working capitcal turnov...  0.948194   \n",
       "22  ( ROA(C) before interest and depreciation befo...  0.940124   \n",
       "23  ( tax Pre-net interest rate,  operating profit...  0.916448   \n",
       "24  ( operating profit rate,  continuous interest ...  0.915544   \n",
       "25  ( ROA(B) before interest and depreciation afte...  0.912040   \n",
       "26  ( borrowing dependency, current liability/equity)  0.892772   \n",
       "27  (net income to total assets,  ROA(C) before in...  0.887670   \n",
       "28  ( Operating profit/paid-in capital,  net profi...  0.887370   \n",
       "29  ( net profit before tax/paid-in capital,  Oper...  0.886157   \n",
       "30    (operating funds to liability,  cash flow rate)  0.880562   \n",
       "31  ( Operating Profit Per Share (Yuan),  Persiste...  0.876769   \n",
       "32  ( Operating profit/paid-in capital,  Persisten...  0.873641   \n",
       "33  ( after-tax net interest rate,  operating prof...  0.862191   \n",
       "34  ( Per Share Net profit before tax (yuan),  Ope...  0.861813   \n",
       "35  ( Operating profit/paid-in capital,  Per Share...  0.858310   \n",
       "36   (current liability to assets,  net worth/assets)  0.842583   \n",
       "37       ( debt ratio %, current liability to assets)  0.842583   \n",
       "38  (equity to long-term liability,  borrowing dep...  0.806889   \n",
       "39  ( borrowing dependency, Net income to stockhol...  0.806478   \n",
       "40  (Retained Earnings/Total assets, net income to...  0.794189   \n",
       "41  (liability to equity, Net income to stockholde...  0.791836   \n",
       "42  (equity to long-term liability, liability to e...  0.778135   \n",
       "43  ( Persistent EPS in the Last Four Seasons,  RO...  0.775006   \n",
       "44  (working capital/equity,  contingent liabiliti...  0.767778   \n",
       "45  ( Persistent EPS in the Last Four Seasons,  RO...  0.764828   \n",
       "46  ( Persistent EPS in the Last Four Seasons,  RO...  0.764597   \n",
       "47  ( net profit before tax/paid-in capital,  ROA(...  0.758234   \n",
       "48  ( total asset turnover,  net worth turnover ra...  0.757414   \n",
       "49  ( Persistent EPS in the Last Four Seasons,  pe...  0.755568   \n",
       "50  (current assets/total assets, Quick asset/Tota...  0.755453   \n",
       "51  ( Net Value Per Share (A),  Persistent EPS in ...  0.755409   \n",
       "52  ( Persistent EPS in the Last Four Seasons,  Ne...  0.755217   \n",
       "53  ( ROA(C) before interest and depreciation befo...  0.753339   \n",
       "54  ( ROA(A) before interest and % after tax,  Per...  0.752578   \n",
       "55  ( ROA(C) before interest and depreciation befo...  0.750564   \n",
       "\n",
       "                                             column_1  \\\n",
       "0                                    net worth/assets   \n",
       "1                      regular net profit growth rate   \n",
       "2                               Gross profit to Sales   \n",
       "3                             Net Value Per Share (C)   \n",
       "4                              operating gross margin   \n",
       "5                         realized sales gross margin   \n",
       "6                             Net Value Per Share (A)   \n",
       "7                             per Net Share Value (B)   \n",
       "8                    Operating profit/paid-in capital   \n",
       "9                      regular net profit growth rate   \n",
       "10               continuous interest rate (after tax)   \n",
       "11   ROA(C) before interest and depreciation befor...   \n",
       "12                        after-tax net interest rate   \n",
       "13               continuous interest rate (after tax)   \n",
       "14                           current liability/equity   \n",
       "15             Per Share Net profit before tax (yuan)   \n",
       "16             ROA(A) before interest and % after tax   \n",
       "17              net profit before tax/paid-in capital   \n",
       "18                                liability to equity   \n",
       "19   ROA(B) before interest and depreciation after...   \n",
       "20             Per Share Net profit before tax (yuan)   \n",
       "21                                 Cash flow to Sales   \n",
       "22   ROA(C) before interest and depreciation befor...   \n",
       "23                          tax Pre-net interest rate   \n",
       "24                              operating profit rate   \n",
       "25   ROA(B) before interest and depreciation after...   \n",
       "26                               borrowing dependency   \n",
       "27                         net income to total assets   \n",
       "28                   Operating profit/paid-in capital   \n",
       "29              net profit before tax/paid-in capital   \n",
       "30                       operating funds to liability   \n",
       "31                  Operating Profit Per Share (Yuan)   \n",
       "32                   Operating profit/paid-in capital   \n",
       "33                        after-tax net interest rate   \n",
       "34             Per Share Net profit before tax (yuan)   \n",
       "35                   Operating profit/paid-in capital   \n",
       "36                        current liability to assets   \n",
       "37                                       debt ratio %   \n",
       "38                      equity to long-term liability   \n",
       "39                               borrowing dependency   \n",
       "40                     Retained Earnings/Total assets   \n",
       "41                                liability to equity   \n",
       "42                      equity to long-term liability   \n",
       "43            Persistent EPS in the Last Four Seasons   \n",
       "44                             working capital/equity   \n",
       "45            Persistent EPS in the Last Four Seasons   \n",
       "46            Persistent EPS in the Last Four Seasons   \n",
       "47              net profit before tax/paid-in capital   \n",
       "48                               total asset turnover   \n",
       "49            Persistent EPS in the Last Four Seasons   \n",
       "50                        current assets/total assets   \n",
       "51                            Net Value Per Share (A)   \n",
       "52            Persistent EPS in the Last Four Seasons   \n",
       "53   ROA(C) before interest and depreciation befor...   \n",
       "54             ROA(A) before interest and % after tax   \n",
       "55   ROA(C) before interest and depreciation befor...   \n",
       "\n",
       "                                             column_2  \n",
       "0                                        debt ratio %  \n",
       "1                      regular net profit growth rate  \n",
       "2                              operating gross margin  \n",
       "3                             Net Value Per Share (A)  \n",
       "4                         realized sales gross margin  \n",
       "5                               Gross profit to Sales  \n",
       "6                             per Net Share Value (B)  \n",
       "7                             Net Value Per Share (C)  \n",
       "8                   Operating Profit Per Share (Yuan)  \n",
       "9                    after-tax net profit growth rate  \n",
       "10                          tax Pre-net interest rate  \n",
       "11   ROA(B) before interest and depreciation after...  \n",
       "12                          tax Pre-net interest rate  \n",
       "13                        after-tax net interest rate  \n",
       "14                                liability to equity  \n",
       "15              net profit before tax/paid-in capital  \n",
       "16                         net income to total assets  \n",
       "17            Persistent EPS in the Last Four Seasons  \n",
       "18                               borrowing dependency  \n",
       "19             ROA(A) before interest and % after tax  \n",
       "20            Persistent EPS in the Last Four Seasons  \n",
       "21                     working capitcal turnover rate  \n",
       "22             ROA(A) before interest and % after tax  \n",
       "23                              operating profit rate  \n",
       "24               continuous interest rate (after tax)  \n",
       "25                         net income to total assets  \n",
       "26                           current liability/equity  \n",
       "27   ROA(C) before interest and depreciation befor...  \n",
       "28              net profit before tax/paid-in capital  \n",
       "29                  Operating Profit Per Share (Yuan)  \n",
       "30                                     cash flow rate  \n",
       "31            Persistent EPS in the Last Four Seasons  \n",
       "32            Persistent EPS in the Last Four Seasons  \n",
       "33                              operating profit rate  \n",
       "34                  Operating Profit Per Share (Yuan)  \n",
       "35             Per Share Net profit before tax (yuan)  \n",
       "36                                   net worth/assets  \n",
       "37                        current liability to assets  \n",
       "38                               borrowing dependency  \n",
       "39                 Net income to stockholder's Equity  \n",
       "40                         net income to total assets  \n",
       "41                 Net income to stockholder's Equity  \n",
       "42                                liability to equity  \n",
       "43   ROA(C) before interest and depreciation befor...  \n",
       "44                   contingent liabilities/net worth  \n",
       "45             ROA(A) before interest and % after tax  \n",
       "46   ROA(B) before interest and depreciation after...  \n",
       "47             ROA(A) before interest and % after tax  \n",
       "48                    net worth turnover rate (times)  \n",
       "49                            per Net Share Value (B)  \n",
       "50                            Quick asset/Total asset  \n",
       "51            Persistent EPS in the Last Four Seasons  \n",
       "52                            Net Value Per Share (C)  \n",
       "53              net profit before tax/paid-in capital  \n",
       "54             Per Share Net profit before tax (yuan)  \n",
       "55             Per Share Net profit before tax (yuan)  "
      ]
     },
     "execution_count": 9,
     "metadata": {},
     "output_type": "execute_result"
    }
   ],
   "source": [
    "multicollinear_predictors"
   ]
  },
  {
   "cell_type": "code",
   "execution_count": 10,
   "metadata": {
    "ExecuteTime": {
     "end_time": "2021-02-23T03:06:11.148909Z",
     "start_time": "2021-02-23T03:06:11.137951Z"
    }
   },
   "outputs": [],
   "source": [
    "columns_to_drop = [' net worth/assets','Gross profit to Sales',' Net Value Per Share (A)',' per Net Share Value (B)',\n",
    "                  ' realized sales gross margin',' Operating profit/paid-in capital',' regular net profit growth rate',\n",
    "                  ' continuous interest rate (after tax)',' ROA(A) before interest and % after tax',' ROA(B) before interest and depreciation after tax',\n",
    "                  ' tax Pre-net interest rate',' net profit before tax/paid-in capital',\n",
    "                  ' borrowing dependency',' Per Share Net profit before tax (yuan)',\n",
    "                  'liability to equity',' Cash flow to Sales','operating funds to liability',' Operating Profit Per Share (Yuan)',\n",
    "                  ' after-tax net interest rate','one if net income was negative for the last two year zero otherwise']"
   ]
  },
  {
   "cell_type": "code",
   "execution_count": 11,
   "metadata": {
    "ExecuteTime": {
     "end_time": "2021-02-23T03:06:12.928074Z",
     "start_time": "2021-02-23T03:06:12.920096Z"
    }
   },
   "outputs": [],
   "source": [
    "test2 = df.drop(columns=columns_to_drop,axis=1)"
   ]
  },
  {
   "cell_type": "code",
   "execution_count": 12,
   "metadata": {
    "ExecuteTime": {
     "end_time": "2021-02-23T03:06:13.256866Z",
     "start_time": "2021-02-23T03:06:13.148159Z"
    }
   },
   "outputs": [
    {
     "data": {
      "text/html": [
       "<div>\n",
       "<style scoped>\n",
       "    .dataframe tbody tr th:only-of-type {\n",
       "        vertical-align: middle;\n",
       "    }\n",
       "\n",
       "    .dataframe tbody tr th {\n",
       "        vertical-align: top;\n",
       "    }\n",
       "\n",
       "    .dataframe thead th {\n",
       "        text-align: right;\n",
       "    }\n",
       "</style>\n",
       "<table border=\"1\" class=\"dataframe\">\n",
       "  <thead>\n",
       "    <tr style=\"text-align: right;\">\n",
       "      <th></th>\n",
       "      <th>cc</th>\n",
       "    </tr>\n",
       "    <tr>\n",
       "      <th>pairs</th>\n",
       "      <th></th>\n",
       "    </tr>\n",
       "  </thead>\n",
       "  <tbody>\n",
       "    <tr>\n",
       "      <th>(Bankrupt?, Bankrupt?)</th>\n",
       "      <td>1.000000</td>\n",
       "    </tr>\n",
       "    <tr>\n",
       "      <th>( ROA(C) before interest and depreciation before interest, net income to total assets)</th>\n",
       "      <td>0.887670</td>\n",
       "    </tr>\n",
       "    <tr>\n",
       "      <th>( debt ratio %, current liability to assets)</th>\n",
       "      <td>0.842583</td>\n",
       "    </tr>\n",
       "    <tr>\n",
       "      <th>(Retained Earnings/Total assets, net income to total assets)</th>\n",
       "      <td>0.794189</td>\n",
       "    </tr>\n",
       "    <tr>\n",
       "      <th>( Persistent EPS in the Last Four Seasons,  ROA(C) before interest and depreciation before interest)</th>\n",
       "      <td>0.775006</td>\n",
       "    </tr>\n",
       "    <tr>\n",
       "      <th>(working capital/equity,  contingent liabilities/net worth)</th>\n",
       "      <td>0.767778</td>\n",
       "    </tr>\n",
       "    <tr>\n",
       "      <th>( total asset turnover,  net worth turnover rate (times))</th>\n",
       "      <td>0.757414</td>\n",
       "    </tr>\n",
       "    <tr>\n",
       "      <th>(current assets/total assets, Quick asset/Total asset)</th>\n",
       "      <td>0.755453</td>\n",
       "    </tr>\n",
       "    <tr>\n",
       "      <th>( Net Value Per Share (C),  Persistent EPS in the Last Four Seasons)</th>\n",
       "      <td>0.755217</td>\n",
       "    </tr>\n",
       "  </tbody>\n",
       "</table>\n",
       "</div>"
      ],
      "text/plain": [
       "                                                          cc\n",
       "pairs                                                       \n",
       "(Bankrupt?, Bankrupt?)                              1.000000\n",
       "( ROA(C) before interest and depreciation befor...  0.887670\n",
       "( debt ratio %, current liability to assets)        0.842583\n",
       "(Retained Earnings/Total assets, net income to ...  0.794189\n",
       "( Persistent EPS in the Last Four Seasons,  ROA...  0.775006\n",
       "(working capital/equity,  contingent liabilitie...  0.767778\n",
       "( total asset turnover,  net worth turnover rat...  0.757414\n",
       "(current assets/total assets, Quick asset/Total...  0.755453\n",
       "( Net Value Per Share (C),  Persistent EPS in t...  0.755217"
      ]
     },
     "execution_count": 12,
     "metadata": {},
     "output_type": "execute_result"
    }
   ],
   "source": [
    "test3 = test2.corr().abs().stack().reset_index().sort_values(0,ascending=False)\n",
    "test3['pairs'] = list(zip(test3.level_0,test3.level_1))\n",
    "test3.set_index(['pairs'], inplace=True)\n",
    "test3.drop(columns=['level_1','level_0'], inplace=True)\n",
    "test3.columns = ['cc']\n",
    "test3.drop_duplicates(inplace=True)\n",
    "\n",
    "test3[test3.cc >.75]\n"
   ]
  },
  {
   "cell_type": "code",
   "execution_count": 13,
   "metadata": {
    "ExecuteTime": {
     "end_time": "2021-02-23T03:06:13.522504Z",
     "start_time": "2021-02-23T03:06:13.511499Z"
    }
   },
   "outputs": [],
   "source": [
    "#dropping columns that have high corr for multicollinearity\n",
    "\n",
    "df2 = df.drop(columns=columns_to_drop,axis=1)"
   ]
  },
  {
   "cell_type": "code",
   "execution_count": 14,
   "metadata": {
    "ExecuteTime": {
     "end_time": "2021-02-23T03:06:14.038403Z",
     "start_time": "2021-02-23T03:06:14.015465Z"
    }
   },
   "outputs": [
    {
     "name": "stdout",
     "output_type": "stream",
     "text": [
      "<class 'pandas.core.frame.DataFrame'>\n",
      "RangeIndex: 6819 entries, 0 to 6818\n",
      "Data columns (total 76 columns):\n",
      " #   Column                                                        Non-Null Count  Dtype  \n",
      "---  ------                                                        --------------  -----  \n",
      " 0   Bankrupt?                                                     6819 non-null   int64  \n",
      " 1    ROA(C) before interest and depreciation before interest      6819 non-null   float64\n",
      " 2    operating gross margin                                       6819 non-null   float64\n",
      " 3    operating profit rate                                        6819 non-null   float64\n",
      " 4    non-industry income and expenditure/revenue                  6819 non-null   float64\n",
      " 5    operating expense rate                                       6819 non-null   float64\n",
      " 6    research and development expense rate                        6819 non-null   float64\n",
      " 7    cash flow rate                                               6819 non-null   float64\n",
      " 8    interest-bearing debt interest rate                          6819 non-null   float64\n",
      " 9    tax rate (A)                                                 6819 non-null   float64\n",
      " 10   Net Value Per Share (C)                                      6819 non-null   float64\n",
      " 11   Persistent EPS in the Last Four Seasons                      6819 non-null   float64\n",
      " 12   Cash Flow Per Share                                          6819 non-null   float64\n",
      " 13   Revenue Per Share (Yuan)                                     6819 non-null   float64\n",
      " 14   realized sales gross profit growth rate                      6819 non-null   float64\n",
      " 15   operating profit growth rate                                 6819 non-null   float64\n",
      " 16   after-tax net profit growth rate                             6819 non-null   float64\n",
      " 17   continuous net profit growth rate                            6819 non-null   float64\n",
      " 18   total asset growth rate                                      6819 non-null   float64\n",
      " 19   net value growth rate                                        6819 non-null   float64\n",
      " 20   total asset return growth rate Ratio                         6819 non-null   float64\n",
      " 21   cash reinvestment %                                          6819 non-null   float64\n",
      " 22   current ratio                                                6819 non-null   float64\n",
      " 23   quick ratio                                                  6819 non-null   float64\n",
      " 24   interest expense ratio                                       6819 non-null   float64\n",
      " 25   total debt/total net worth                                   6819 non-null   float64\n",
      " 26   debt ratio %                                                 6819 non-null   float64\n",
      " 27   long-term fund suitability ratio (A)                         6819 non-null   float64\n",
      " 28   contingent liabilities/net worth                             6819 non-null   float64\n",
      " 29   inventory and accounts receivable/net value                  6819 non-null   float64\n",
      " 30   total asset turnover                                         6819 non-null   float64\n",
      " 31   accounts receivable turnover                                 6819 non-null   float64\n",
      " 32   average collection days                                      6819 non-null   float64\n",
      " 33   inventory turnover rate (times)                              6819 non-null   float64\n",
      " 34   fixed assets Turnover frequency                              6819 non-null   float64\n",
      " 35   net worth turnover rate (times)                              6819 non-null   float64\n",
      " 36   revenue per person                                           6819 non-null   float64\n",
      " 37   operating profit per person                                  6819 non-null   float64\n",
      " 38   allocation rate per person                                   6819 non-null   float64\n",
      " 39   working capital to total assets                              6819 non-null   float64\n",
      " 40  Quick asset/Total asset                                       6819 non-null   float64\n",
      " 41  current assets/total assets                                   6819 non-null   float64\n",
      " 42  cash / total assets                                           6819 non-null   float64\n",
      " 43  Quick asset /current liabilities                              6819 non-null   float64\n",
      " 44  cash / current liability                                      6819 non-null   float64\n",
      " 45  current liability to assets                                   6819 non-null   float64\n",
      " 46  Inventory/working capital                                     6819 non-null   float64\n",
      " 47  Inventory/current liability                                   6819 non-null   float64\n",
      " 48  current liability / liability                                 6819 non-null   float64\n",
      " 49  working capital/equity                                        6819 non-null   float64\n",
      " 50  current liability/equity                                      6819 non-null   float64\n",
      " 51  long-term liability to current assets                         6819 non-null   float64\n",
      " 52  Retained Earnings/Total assets                                6819 non-null   float64\n",
      " 53  total income / total expense                                  6819 non-null   float64\n",
      " 54  total expense /assets                                         6819 non-null   float64\n",
      " 55   current asset turnover rate                                  6819 non-null   float64\n",
      " 56   quick asset turnover rate                                    6819 non-null   float64\n",
      " 57   working capitcal turnover rate                               6819 non-null   float64\n",
      " 58   cash turnover rate                                           6819 non-null   float64\n",
      " 59   fix assets to assets                                         6819 non-null   float64\n",
      " 60   current liability to liability                               6819 non-null   float64\n",
      " 61  current liability to equity                                   6819 non-null   float64\n",
      " 62  equity to long-term liability                                 6819 non-null   float64\n",
      " 63  Cash flow to total assets                                     6819 non-null   float64\n",
      " 64  cash flow to liability                                        6819 non-null   float64\n",
      " 65  CFO to ASSETS                                                 6819 non-null   float64\n",
      " 66  cash flow to equity                                           6819 non-null   float64\n",
      " 67  current liabilities to current assets                         6819 non-null   float64\n",
      " 68  one if total liabilities exceeds total assets zero otherwise  6819 non-null   int64  \n",
      " 69  net income to total assets                                    6819 non-null   float64\n",
      " 70  total assets to GNP price                                     6819 non-null   float64\n",
      " 71  No-credit interval                                            6819 non-null   float64\n",
      " 72  Net income to stockholder's Equity                            6819 non-null   float64\n",
      " 73  Degree of financial leverage (DFL)                            6819 non-null   float64\n",
      " 74  Interest coverage ratio( Interest expense to EBIT )           6819 non-null   float64\n",
      " 75  equity to liability                                           6819 non-null   float64\n",
      "dtypes: float64(74), int64(2)\n",
      "memory usage: 4.0 MB\n"
     ]
    }
   ],
   "source": [
    "# all data types are float64s lit\n",
    "# could check unique values but will investigate after\n",
    "\n",
    "df2.info()"
   ]
  },
  {
   "cell_type": "markdown",
   "metadata": {},
   "source": [
    "Columns I predict will be significant predictors\n",
    "\n",
    "35   interest expense ratio\n",
    "\n",
    "14 interest-bearing debt interest rate\n",
    "\n",
    "36   total debt/total net worth\n",
    "\n",
    "67  long-term liability to current assets\n",
    "\n",
    "81  cash flow to liability \n",
    "\n",
    "84  current liabilities to current assets\n",
    "\n",
    "92  Degree of financial leverage (DFL)"
   ]
  },
  {
   "cell_type": "code",
   "execution_count": 15,
   "metadata": {
    "ExecuteTime": {
     "end_time": "2021-02-23T03:06:28.845976Z",
     "start_time": "2021-02-23T03:06:28.824002Z"
    }
   },
   "outputs": [],
   "source": [
    "X = df2.drop(columns='Bankrupt?',axis=1)\n",
    "y = df2['Bankrupt?']\n",
    "X_train, X_test, y_train, y_test = train_test_split(X,y,random_state=42,test_size=.25)\n",
    "logreg = LogisticRegression(fit_intercept=True, C=1e12, solver='liblinear')"
   ]
  },
  {
   "cell_type": "code",
   "execution_count": null,
   "metadata": {},
   "outputs": [],
   "source": []
  },
  {
   "cell_type": "code",
   "execution_count": null,
   "metadata": {},
   "outputs": [],
   "source": []
  },
  {
   "cell_type": "code",
   "execution_count": 16,
   "metadata": {
    "ExecuteTime": {
     "end_time": "2021-02-23T03:06:29.096226Z",
     "start_time": "2021-02-23T03:06:29.082605Z"
    }
   },
   "outputs": [],
   "source": [
    "def sigmoid(x):\n",
    "    x = np.array(x)\n",
    "    return 1/(1 + np.e**(-1*x))"
   ]
  },
  {
   "cell_type": "code",
   "execution_count": 61,
   "metadata": {
    "ExecuteTime": {
     "end_time": "2021-02-19T18:21:42.358384Z",
     "start_time": "2021-02-19T18:21:42.170884Z"
    }
   },
   "outputs": [
    {
     "name": "stdout",
     "output_type": "stream",
     "text": [
      "LogisticRegression(C=1000000000000.0, solver='liblinear')\n",
      "AUC: 0.5257730879551117\n",
      "              precision    recall  f1-score   support\n",
      "\n",
      "           0       0.97      1.00      0.98      1647\n",
      "           1       0.00      0.00      0.00        58\n",
      "\n",
      "    accuracy                           0.96      1705\n",
      "   macro avg       0.48      0.50      0.49      1705\n",
      "weighted avg       0.93      0.96      0.95      1705\n",
      "\n"
     ]
    }
   ],
   "source": [
    "base = logreg.fit(X_train,y_train)\n",
    "y_hat_base = base.predict(X_test)\n",
    "print(base)\n",
    "base_yscore = base.decision_function(X_test)\n",
    "\n",
    "fpr, tpr, thresholds = roc_curve(y_test, base_yscore)\n",
    "print('AUC: {}'.format(auc(fpr, tpr)))\n",
    "print(classification_report(y_test, y_hat_base))"
   ]
  },
  {
   "cell_type": "code",
   "execution_count": 62,
   "metadata": {
    "ExecuteTime": {
     "end_time": "2021-02-19T18:21:44.263590Z",
     "start_time": "2021-02-19T18:21:44.113021Z"
    }
   },
   "outputs": [
    {
     "data": {
      "text/plain": [
       "<sklearn.metrics._plot.confusion_matrix.ConfusionMatrixDisplay at 0x27002a2a220>"
      ]
     },
     "execution_count": 62,
     "metadata": {},
     "output_type": "execute_result"
    },
    {
     "data": {
      "image/png": "[encoded data removed]",
      "text/plain": [
       "<Figure size 432x288 with 2 Axes>"
      ]
     },
     "metadata": {
      "needs_background": "light"
     },
     "output_type": "display_data"
    }
   ],
   "source": [
    "cf = confusion_matrix(y_test,y_hat_base)\n",
    "plot_confusion_matrix(base,X_test,y_test,cmap=plt.cm.Blues)"
   ]
  },
  {
   "cell_type": "code",
   "execution_count": 63,
   "metadata": {
    "ExecuteTime": {
     "end_time": "2021-02-19T18:21:47.971886Z",
     "start_time": "2021-02-19T18:21:47.947958Z"
    }
   },
   "outputs": [],
   "source": [
    "scaler = StandardScaler()\n",
    "\n",
    "# Transform the training and test sets\n",
    "X_train_scaled = scaler.fit_transform(X_train)\n",
    "X_test_scaled = scaler.transform(X_test)"
   ]
  },
  {
   "cell_type": "code",
   "execution_count": 20,
   "metadata": {
    "ExecuteTime": {
     "end_time": "2021-02-19T18:13:43.099177Z",
     "start_time": "2021-02-19T18:13:38.080461Z"
    }
   },
   "outputs": [
    {
     "name": "stdout",
     "output_type": "stream",
     "text": [
      "LogisticRegression(C=1000000000000.0, solver='liblinear')\n",
      "[[1636   11]\n",
      " [  46   12]]\n",
      "AUC: 0.9025500910746813\n",
      "              precision    recall  f1-score   support\n",
      "\n",
      "           0       0.97      0.99      0.98      1647\n",
      "           1       0.52      0.21      0.30        58\n",
      "\n",
      "    accuracy                           0.97      1705\n",
      "   macro avg       0.75      0.60      0.64      1705\n",
      "weighted avg       0.96      0.97      0.96      1705\n",
      "\n"
     ]
    },
    {
     "name": "stderr",
     "output_type": "stream",
     "text": [
      "C:\\Users\\sergi\\anaconda3\\envs\\learn-env\\lib\\site-packages\\sklearn\\svm\\_base.py:976: ConvergenceWarning: Liblinear failed to converge, increase the number of iterations.\n",
      "  warnings.warn(\"Liblinear failed to converge, increase \"\n"
     ]
    },
    {
     "data": {
      "image/png": "[encoded data removed]",
      "text/plain": [
       "<Figure size 432x288 with 2 Axes>"
      ]
     },
     "metadata": {
      "needs_background": "light"
     },
     "output_type": "display_data"
    }
   ],
   "source": [
    "scaled = logreg.fit(X_train_scaled,y_train)\n",
    "y_hat_scaled = scaled.predict(X_test_scaled)\n",
    "\n",
    "print(scaled)\n",
    "\n",
    "scaled_yscore =scaled.decision_function(X_test_scaled)\n",
    "\n",
    "fpr, tpr, thresholds = roc_curve(y_test, scaled_yscore)\n",
    "cf = confusion_matrix(y_test,y_hat_scaled)\n",
    "\n",
    "plot_confusion_matrix(scaled,X_test_scaled,y_test,cmap=plt.cm.Blues)\n",
    "plt.title(\"Standardized X Values Confusion Matrix\")\n",
    "print(cf)\n",
    "print('AUC: {}'.format(auc(fpr, tpr)))\n",
    "print(classification_report(y_test, y_hat_scaled))"
   ]
  },
  {
   "cell_type": "code",
   "execution_count": 21,
   "metadata": {
    "ExecuteTime": {
     "end_time": "2021-02-19T18:13:43.963802Z",
     "start_time": "2021-02-19T18:13:43.282687Z"
    }
   },
   "outputs": [
    {
     "name": "stdout",
     "output_type": "stream",
     "text": [
      "<function sigmoid at 0x0000027077F96310>\n",
      "AUC: 0.9218432678014363\n",
      "[[1640    7]\n",
      " [  45   13]]\n",
      "AUC: 0.9218432678014363\n",
      "              precision    recall  f1-score   support\n",
      "\n",
      "           0       0.97      1.00      0.98      1647\n",
      "           1       0.65      0.22      0.33        58\n",
      "\n",
      "    accuracy                           0.97      1705\n",
      "   macro avg       0.81      0.61      0.66      1705\n",
      "weighted avg       0.96      0.97      0.96      1705\n",
      "\n"
     ]
    },
    {
     "data": {
      "image/png": "[encoded data removed]",
      "text/plain": [
       "<Figure size 432x288 with 2 Axes>"
      ]
     },
     "metadata": {
      "needs_background": "light"
     },
     "output_type": "display_data"
    }
   ],
   "source": [
    "X_train_sig = X_train.apply(sigmoid)\n",
    "X_train_sig = X_train_sig.dropna(axis=1)\n",
    "\n",
    "X_test_sig = X_test.apply(sigmoid)\n",
    "X_test_sig = X_test_sig.dropna(axis=1)\n",
    "\n",
    "sig = logreg.fit(X_train_sig,y_train)\n",
    "y_hat_sig = sig.predict(X_test_sig)\n",
    "print(sigmoid)\n",
    "\n",
    "\n",
    "sig_y_score = sig.decision_function(X_test_sig)\n",
    "\n",
    "fpr, tpr, thresholds = roc_curve(y_test, sig_y_score)\n",
    "print('AUC: {}'.format(auc(fpr, tpr)))\n",
    "cf = confusion_matrix(y_test,y_hat_sig)\n",
    "\n",
    "plot_confusion_matrix(sig,X_test_sig,y_test,cmap=plt.cm.Blues)\n",
    "plt.title(\"Sigmoid X Values Confusion Matrix\")\n",
    "print(cf)\n",
    "print('AUC: {}'.format(auc(fpr, tpr)))\n",
    "print(classification_report(y_test, y_hat_sig))"
   ]
  },
  {
   "cell_type": "code",
   "execution_count": 22,
   "metadata": {
    "ExecuteTime": {
     "end_time": "2021-02-19T18:13:52.225415Z",
     "start_time": "2021-02-19T18:13:52.209453Z"
    }
   },
   "outputs": [],
   "source": [
    "df_major = df[df['Bankrupt?'] == 0]\n",
    "df_minor = df[df['Bankrupt?'] == 1]\n",
    "\n",
    "df_minor_up = resample(df_minor, replace=True,n_samples=440, random_state=42)\n",
    "df_major_down = resample(df_major, replace=True,n_samples=3300, random_state=42)\n",
    "\n",
    "updowndf = pd.concat([df_major_down,df_minor_up])"
   ]
  },
  {
   "cell_type": "code",
   "execution_count": 23,
   "metadata": {
    "ExecuteTime": {
     "end_time": "2021-02-19T18:13:59.263688Z",
     "start_time": "2021-02-19T18:13:59.257697Z"
    }
   },
   "outputs": [
    {
     "data": {
      "text/plain": [
       "0    3300\n",
       "1     440\n",
       "Name: Bankrupt?, dtype: int64"
      ]
     },
     "execution_count": 23,
     "metadata": {},
     "output_type": "execute_result"
    }
   ],
   "source": [
    "updowndf['Bankrupt?'].value_counts()"
   ]
  },
  {
   "cell_type": "code",
   "execution_count": 24,
   "metadata": {
    "ExecuteTime": {
     "end_time": "2021-02-19T18:13:59.691536Z",
     "start_time": "2021-02-19T18:13:59.670588Z"
    }
   },
   "outputs": [
    {
     "data": {
      "text/plain": [
       "0    4952\n",
       "1     162\n",
       "Name: Bankrupt?, dtype: int64"
      ]
     },
     "execution_count": 24,
     "metadata": {},
     "output_type": "execute_result"
    }
   ],
   "source": [
    "X = df.drop(columns='Bankrupt?',axis=1)\n",
    "y = df['Bankrupt?']\n",
    "X_train, X_test, y_train, y_test = train_test_split(X,y,random_state=42,test_size=.25)\n",
    "logreg = LogisticRegression(fit_intercept=False, C=1e12, solver='liblinear')\n",
    "train = pd.concat([y_train,X_train],axis=1)\n",
    "train['Bankrupt?'].value_counts()"
   ]
  },
  {
   "cell_type": "code",
   "execution_count": 25,
   "metadata": {
    "ExecuteTime": {
     "end_time": "2021-02-19T18:14:01.198931Z",
     "start_time": "2021-02-19T18:14:01.172007Z"
    }
   },
   "outputs": [],
   "source": [
    "train_major = train[train['Bankrupt?'] == 0]\n",
    "train_minor = train[train['Bankrupt?'] == 1]\n",
    "\n",
    "train_minor_up = resample(train_minor, replace=True,n_samples=324, random_state=42)\n",
    "train_major_down = resample(train_major, replace=True,n_samples=2476, random_state=42)\n",
    "\n",
    "updowndf = pd.concat([train_major_down,train_minor_up])"
   ]
  },
  {
   "cell_type": "code",
   "execution_count": 26,
   "metadata": {
    "ExecuteTime": {
     "end_time": "2021-02-19T18:14:02.456998Z",
     "start_time": "2021-02-19T18:14:01.722216Z"
    }
   },
   "outputs": [
    {
     "name": "stdout",
     "output_type": "stream",
     "text": [
      "AUC: 0.9091346858446914\n",
      "[[1593   54]\n",
      " [  27   31]]\n",
      "              precision    recall  f1-score   support\n",
      "\n",
      "           0       0.98      0.97      0.98      1647\n",
      "           1       0.36      0.53      0.43        58\n",
      "\n",
      "    accuracy                           0.95      1705\n",
      "   macro avg       0.67      0.75      0.70      1705\n",
      "weighted avg       0.96      0.95      0.96      1705\n",
      "\n"
     ]
    },
    {
     "data": {
      "image/png": "[encoded data removed]",
      "text/plain": [
       "<Figure size 432x288 with 2 Axes>"
      ]
     },
     "metadata": {
      "needs_background": "light"
     },
     "output_type": "display_data"
    }
   ],
   "source": [
    "X_train_resampled = updowndf.drop(columns='Bankrupt?',axis=1).apply(sigmoid)\n",
    "X_train_resampled = X_train_resampled.dropna(axis=1)\n",
    "y_train_resampled = updowndf['Bankrupt?']\n",
    "X_test_sig = X_test.apply(sigmoid)\n",
    "X_test_sig = X_test_sig.dropna(axis=1)\n",
    "\n",
    "resampled = logreg.fit(X_train_resampled,y_train_resampled)\n",
    "y_pred_resampled = logreg.predict(X_test_sig)\n",
    "\n",
    "resampled_y_score = resampled.decision_function(X_test_sig)\n",
    "\n",
    "fpr, tpr, thresholds = roc_curve(y_test, resampled_y_score)\n",
    "print('AUC: {}'.format(auc(fpr, tpr)))\n",
    "cf = confusion_matrix(y_test,y_pred_resampled)\n",
    "\n",
    "plot_confusion_matrix(resampled,X_test_sig,y_test,cmap=plt.cm.Blues)\n",
    "plt.title(\"Resampled Values Confusion Matrix\")\n",
    "\n",
    "print(confusion_matrix(y_test, y_pred_resampled))\n",
    "print(classification_report(y_test, y_pred_resampled))"
   ]
  },
  {
   "cell_type": "code",
   "execution_count": 27,
   "metadata": {
    "ExecuteTime": {
     "end_time": "2021-02-19T18:14:28.160864Z",
     "start_time": "2021-02-19T18:14:28.150882Z"
    }
   },
   "outputs": [],
   "source": [
    "def find_best_k(X_train, y_train, X_test, y_test, min_k=1, max_k=25):\n",
    "    best_k = 0\n",
    "    best_score = 0.0\n",
    "    for k in range(min_k, max_k+1, 2):\n",
    "        knn = KNeighborsClassifier(n_neighbors=k)\n",
    "        knn.fit(X_train, y_train)\n",
    "        preds = knn.predict(X_test)\n",
    "        f1 = f1_score(y_test, preds)\n",
    "        if f1 > best_score:\n",
    "            best_k = k\n",
    "            best_score = f1\n",
    "    \n",
    "    print(\"Best Value for k: {}\".format(best_k))\n",
    "    print(\"F1-Score: {}\".format(best_score))"
   ]
  },
  {
   "cell_type": "code",
   "execution_count": 108,
   "metadata": {
    "ExecuteTime": {
     "end_time": "2021-02-11T14:56:28.283908Z",
     "start_time": "2021-02-11T14:56:27.872978Z"
    },
    "scrolled": true
   },
   "outputs": [
    {
     "name": "stdout",
     "output_type": "stream",
     "text": [
      "[[1595   58]\n",
      " [  38   14]]\n",
      "              precision    recall  f1-score   support\n",
      "\n",
      "           0       0.98      0.96      0.97      1653\n",
      "           1       0.19      0.27      0.23        52\n",
      "\n",
      "    accuracy                           0.94      1705\n",
      "   macro avg       0.59      0.62      0.60      1705\n",
      "weighted avg       0.95      0.94      0.95      1705\n",
      "\n"
     ]
    }
   ],
   "source": [
    "dtree_default = DecisionTreeClassifier()\n",
    "dtree_default.fit(X1_train, y_train)\n",
    "\n",
    "print(confusion_matrix(y_test, dtree_default.predict(X1_test)))\n",
    "print(classification_report(y_test, dtree_default.predict(X1_test)))"
   ]
  },
  {
   "cell_type": "code",
   "execution_count": 109,
   "metadata": {
    "ExecuteTime": {
     "end_time": "2021-02-11T14:56:58.096421Z",
     "start_time": "2021-02-11T14:56:48.176855Z"
    }
   },
   "outputs": [
    {
     "data": {
      "image/png": "[encoded data removed]",
      "text/plain": [
       "<Figure size 1800x1440 with 1 Axes>"
      ]
     },
     "metadata": {},
     "output_type": "display_data"
    }
   ],
   "source": [
    "fig = plt.figure(figsize=(25,20))\n",
    "_ = plot_tree(dtree_default, \n",
    "                   feature_names=X.columns,\n",
    "                   filled=True)\n"
   ]
  },
  {
   "cell_type": "markdown",
   "metadata": {},
   "source": [
    "## Logreg Model with Oversampled Minority and Undersampled Majority"
   ]
  },
  {
   "cell_type": "code",
   "execution_count": 29,
   "metadata": {
    "ExecuteTime": {
     "end_time": "2021-02-19T18:14:39.838899Z",
     "start_time": "2021-02-19T18:14:39.812941Z"
    }
   },
   "outputs": [
    {
     "data": {
      "text/plain": [
       "0    4952\n",
       "1     162\n",
       "Name: Bankrupt?, dtype: int64"
      ]
     },
     "execution_count": 29,
     "metadata": {},
     "output_type": "execute_result"
    }
   ],
   "source": [
    "X = df.drop(columns='Bankrupt?',axis=1)\n",
    "y = df['Bankrupt?']\n",
    "X_train, X_test, y_train, y_test = train_test_split(X,y,random_state=42,test_size=.25)\n",
    "logreg = LogisticRegression(fit_intercept=False, C=1e12, solver='liblinear')\n",
    "train = pd.concat([y_train,X_train],axis=1)\n",
    "train['Bankrupt?'].value_counts()"
   ]
  },
  {
   "cell_type": "code",
   "execution_count": 30,
   "metadata": {
    "ExecuteTime": {
     "end_time": "2021-02-19T18:14:40.456104Z",
     "start_time": "2021-02-19T18:14:40.436123Z"
    }
   },
   "outputs": [],
   "source": [
    "train_major = train[train['Bankrupt?'] == 0]\n",
    "train_minor = train[train['Bankrupt?'] == 1]\n",
    "\n",
    "train_minor_up = resample(train_minor, replace=True,n_samples=336, random_state=42)\n",
    "train_major_down = resample(train_major, replace=True,n_samples=2473, random_state=42)\n",
    "\n",
    "updowndf = pd.concat([train_major_down,train_minor_up])"
   ]
  },
  {
   "cell_type": "code",
   "execution_count": 31,
   "metadata": {
    "ExecuteTime": {
     "end_time": "2021-02-19T18:14:41.479862Z",
     "start_time": "2021-02-19T18:14:40.940803Z"
    }
   },
   "outputs": [
    {
     "name": "stdout",
     "output_type": "stream",
     "text": [
      "[[1589   58]\n",
      " [  26   32]]\n",
      "              precision    recall  f1-score   support\n",
      "\n",
      "           0       0.98      0.96      0.97      1647\n",
      "           1       0.36      0.55      0.43        58\n",
      "\n",
      "    accuracy                           0.95      1705\n",
      "   macro avg       0.67      0.76      0.70      1705\n",
      "weighted avg       0.96      0.95      0.96      1705\n",
      "\n"
     ]
    }
   ],
   "source": [
    "\n",
    "X_train_resampled = updowndf.drop(columns='Bankrupt?',axis=1).apply(sigmoid)\n",
    "X_train_resampled = X_train_resampled.dropna(axis=1)\n",
    "y_train_resampled = updowndf['Bankrupt?']\n",
    "X_test_sig = X_test.apply(sigmoid)\n",
    "X_test_sig = X_test_sig.dropna(axis=1)\n",
    "\n",
    "resampled = logreg.fit(X_train_resampled,y_train_resampled)\n",
    "y_pred_test = logreg.predict(X_test_sig)\n",
    "\n",
    "\n",
    "print(confusion_matrix(y_test, y_pred_test))\n",
    "print(classification_report(y_test, y_pred_test))"
   ]
  },
  {
   "cell_type": "code",
   "execution_count": 32,
   "metadata": {
    "ExecuteTime": {
     "end_time": "2021-02-19T18:14:43.549577Z",
     "start_time": "2021-02-19T18:14:42.670459Z"
    }
   },
   "outputs": [
    {
     "name": "stdout",
     "output_type": "stream",
     "text": [
      "[[1574   73]\n",
      " [  44   14]]\n",
      "              precision    recall  f1-score   support\n",
      "\n",
      "           0       0.97      0.96      0.96      1647\n",
      "           1       0.16      0.24      0.19        58\n",
      "\n",
      "    accuracy                           0.93      1705\n",
      "   macro avg       0.57      0.60      0.58      1705\n",
      "weighted avg       0.95      0.93      0.94      1705\n",
      "\n"
     ]
    }
   ],
   "source": [
    "clf = KNeighborsClassifier()\n",
    "KNN = clf.fit(X_train_resampled,y_train_resampled)\n",
    "print(confusion_matrix(y_test, KNN.predict(X_test_sig)))\n",
    "print(classification_report(y_test, KNN.predict(X_test_sig)))"
   ]
  },
  {
   "cell_type": "code",
   "execution_count": 33,
   "metadata": {
    "ExecuteTime": {
     "end_time": "2021-02-19T18:14:45.621821Z",
     "start_time": "2021-02-19T18:14:45.565008Z"
    }
   },
   "outputs": [
    {
     "name": "stdout",
     "output_type": "stream",
     "text": [
      "Original class distribution: \n",
      "\n",
      "0    6599\n",
      "1     220\n",
      "Name: Bankrupt?, dtype: int64\n",
      "-----------------------------------------\n",
      "Synthetic sample class distribution: \n",
      "\n",
      "1    4952\n",
      "0    4952\n",
      "Name: Bankrupt?, dtype: int64\n"
     ]
    }
   ],
   "source": [
    "# Previous original class distribution\n",
    "print('Original class distribution: \\n')\n",
    "print(y.value_counts())\n",
    "smote = SMOTE()\n",
    "X_train_smote, y_train_smote = smote.fit_sample(X_train, y_train) \n",
    "# Preview synthetic sample class distribution\n",
    "print('-----------------------------------------')\n",
    "print('Synthetic sample class distribution: \\n')\n",
    "print(pd.Series(y_train_smote).value_counts()) "
   ]
  },
  {
   "cell_type": "markdown",
   "metadata": {},
   "source": [
    "## Running Smote on Base X and Y without resampling"
   ]
  },
  {
   "cell_type": "code",
   "execution_count": 34,
   "metadata": {
    "ExecuteTime": {
     "end_time": "2021-02-19T18:14:52.900501Z",
     "start_time": "2021-02-19T18:14:47.179002Z"
    }
   },
   "outputs": [
    {
     "name": "stdout",
     "output_type": "stream",
     "text": [
      "LogisticRegression(C=1000000000000.0, fit_intercept=False, solver='liblinear')\n",
      "AUC: 0.9029478885329649\n",
      "[[1498  149]\n",
      " [  17   41]]\n",
      "              precision    recall  f1-score   support\n",
      "\n",
      "           0       0.99      0.91      0.95      1647\n",
      "           1       0.22      0.71      0.33        58\n",
      "\n",
      "    accuracy                           0.90      1705\n",
      "   macro avg       0.60      0.81      0.64      1705\n",
      "weighted avg       0.96      0.90      0.93      1705\n",
      "\n"
     ]
    },
    {
     "name": "stderr",
     "output_type": "stream",
     "text": [
      "C:\\Users\\sergi\\anaconda3\\envs\\learn-env\\lib\\site-packages\\sklearn\\svm\\_base.py:976: ConvergenceWarning: Liblinear failed to converge, increase the number of iterations.\n",
      "  warnings.warn(\"Liblinear failed to converge, increase \"\n"
     ]
    },
    {
     "data": {
      "image/png": "[encoded data removed]",
      "text/plain": [
       "<Figure size 432x288 with 2 Axes>"
      ]
     },
     "metadata": {
      "needs_background": "light"
     },
     "output_type": "display_data"
    }
   ],
   "source": [
    "smote = SMOTE()\n",
    "X_train_smote, y_train_smote = smote.fit_sample(X_train, y_train) \n",
    "X_train_smote_sig = X_train_smote.apply(sigmoid)\n",
    "X_train_smote_sig = X_train_smote_sig.dropna(axis=1)\n",
    "smote_model = logreg.fit(X_train_smote_sig, y_train_smote)\n",
    "print(smote_model)\n",
    "\n",
    "# Predict\n",
    "y_hat_smote = logreg.predict(X_test_sig)\n",
    "\n",
    "y_score_smote = logreg.decision_function(X_test_sig)\n",
    "\n",
    "fpr, tpr, thresholds = roc_curve(y_test, y_score_smote)\n",
    "\n",
    "print('AUC: {}'.format(auc(fpr, tpr)))\n",
    "cf = confusion_matrix(y_test,y_hat_smote)\n",
    "\n",
    "plot_confusion_matrix(smote_model,X_test_sig,y_test,cmap=plt.cm.Blues,\n",
    "                     display_labels=[\"not bankrupt\", \"bankrupt\"],\n",
    "                      values_format=\".5g\")\n",
    "plt.title(\"Smote Resampled Values Confusion Matrix\")\n",
    "\n",
    "print(confusion_matrix(y_test, y_hat_smote))\n",
    "print(classification_report(y_test, y_hat_smote))"
   ]
  },
  {
   "cell_type": "code",
   "execution_count": null,
   "metadata": {},
   "outputs": [],
   "source": []
  },
  {
   "cell_type": "code",
   "execution_count": 62,
   "metadata": {
    "ExecuteTime": {
     "end_time": "2021-02-16T06:51:17.860809Z",
     "start_time": "2021-02-16T06:51:16.169213Z"
    }
   },
   "outputs": [
    {
     "name": "stderr",
     "output_type": "stream",
     "text": [
      "C:\\Users\\sergi\\anaconda3\\envs\\learn-env\\lib\\site-packages\\sklearn\\linear_model\\_logistic.py:762: ConvergenceWarning: lbfgs failed to converge (status=1):\n",
      "STOP: TOTAL NO. of ITERATIONS REACHED LIMIT.\n",
      "\n",
      "Increase the number of iterations (max_iter) or scale the data as shown in:\n",
      "    https://scikit-learn.org/stable/modules/preprocessing.html\n",
      "Please also refer to the documentation for alternative solver options:\n",
      "    https://scikit-learn.org/stable/modules/linear_model.html#logistic-regression\n",
      "  n_iter_i = _check_optimize_result(\n",
      "C:\\Users\\sergi\\anaconda3\\envs\\learn-env\\lib\\site-packages\\sklearn\\linear_model\\_logistic.py:762: ConvergenceWarning: lbfgs failed to converge (status=1):\n",
      "STOP: TOTAL NO. of ITERATIONS REACHED LIMIT.\n",
      "\n",
      "Increase the number of iterations (max_iter) or scale the data as shown in:\n",
      "    https://scikit-learn.org/stable/modules/preprocessing.html\n",
      "Please also refer to the documentation for alternative solver options:\n",
      "    https://scikit-learn.org/stable/modules/linear_model.html#logistic-regression\n",
      "  n_iter_i = _check_optimize_result(\n"
     ]
    },
    {
     "name": "stdout",
     "output_type": "stream",
     "text": [
      "LogisticRegression(C=1e+20, fit_intercept=False)\n",
      "0.1               precision    recall  f1-score   support\n",
      "\n",
      "           0       0.98      0.99      0.98      1647\n",
      "           1       0.50      0.41      0.45        58\n",
      "\n",
      "    accuracy                           0.97      1705\n",
      "   macro avg       0.74      0.70      0.72      1705\n",
      "weighted avg       0.96      0.97      0.96      1705\n",
      "\n",
      "0.1 [[1623   24]\n",
      " [  34   24]]\n",
      "-------------------------------------------------------------------------------------\n",
      "LogisticRegression(C=1e+20, fit_intercept=False)\n",
      "0.25               precision    recall  f1-score   support\n",
      "\n",
      "           0       0.99      0.96      0.97      1647\n",
      "           1       0.36      0.66      0.46        58\n",
      "\n",
      "    accuracy                           0.95      1705\n",
      "   macro avg       0.67      0.81      0.72      1705\n",
      "weighted avg       0.97      0.95      0.96      1705\n",
      "\n",
      "0.25"
     ]
    },
    {
     "name": "stderr",
     "output_type": "stream",
     "text": [
      "C:\\Users\\sergi\\anaconda3\\envs\\learn-env\\lib\\site-packages\\sklearn\\linear_model\\_logistic.py:762: ConvergenceWarning: lbfgs failed to converge (status=1):\n",
      "STOP: TOTAL NO. of ITERATIONS REACHED LIMIT.\n",
      "\n",
      "Increase the number of iterations (max_iter) or scale the data as shown in:\n",
      "    https://scikit-learn.org/stable/modules/preprocessing.html\n",
      "Please also refer to the documentation for alternative solver options:\n",
      "    https://scikit-learn.org/stable/modules/linear_model.html#logistic-regression\n",
      "  n_iter_i = _check_optimize_result(\n",
      "C:\\Users\\sergi\\anaconda3\\envs\\learn-env\\lib\\site-packages\\sklearn\\linear_model\\_logistic.py:762: ConvergenceWarning: lbfgs failed to converge (status=1):\n",
      "STOP: TOTAL NO. of ITERATIONS REACHED LIMIT.\n",
      "\n",
      "Increase the number of iterations (max_iter) or scale the data as shown in:\n",
      "    https://scikit-learn.org/stable/modules/preprocessing.html\n",
      "Please also refer to the documentation for alternative solver options:\n",
      "    https://scikit-learn.org/stable/modules/linear_model.html#logistic-regression\n",
      "  n_iter_i = _check_optimize_result(\n"
     ]
    },
    {
     "name": "stdout",
     "output_type": "stream",
     "text": [
      " [[1579   68]\n",
      " [  20   38]]\n",
      "-------------------------------------------------------------------------------------\n",
      "LogisticRegression(C=1e+20, fit_intercept=False)\n",
      "0.33               precision    recall  f1-score   support\n",
      "\n",
      "           0       0.99      0.95      0.97      1647\n",
      "           1       0.32      0.66      0.43        58\n",
      "\n",
      "    accuracy                           0.94      1705\n",
      "   macro avg       0.65      0.80      0.70      1705\n",
      "weighted avg       0.96      0.94      0.95      1705\n",
      "\n",
      "0.33 [[1566   81]\n",
      " [  20   38]]\n",
      "-------------------------------------------------------------------------------------\n",
      "LogisticRegression(C=1e+20, fit_intercept=False)\n",
      "0.5               precision    recall  f1-score   support\n",
      "\n",
      "           0       0.99      0.93      0.96      1647\n",
      "           1       0.29      0.76      0.42        58\n",
      "\n",
      "    accuracy                           0.93      1705\n",
      "   macro avg       0.64      0.85      0.69      1705\n",
      "weighted avg       0.97      0.93      0.94      1705\n",
      "\n",
      "0.5 [[1537  110]\n",
      " [  14   44]]\n",
      "-------------------------------------------------------------------------------------\n"
     ]
    },
    {
     "name": "stderr",
     "output_type": "stream",
     "text": [
      "C:\\Users\\sergi\\anaconda3\\envs\\learn-env\\lib\\site-packages\\sklearn\\linear_model\\_logistic.py:762: ConvergenceWarning: lbfgs failed to converge (status=1):\n",
      "STOP: TOTAL NO. of ITERATIONS REACHED LIMIT.\n",
      "\n",
      "Increase the number of iterations (max_iter) or scale the data as shown in:\n",
      "    https://scikit-learn.org/stable/modules/preprocessing.html\n",
      "Please also refer to the documentation for alternative solver options:\n",
      "    https://scikit-learn.org/stable/modules/linear_model.html#logistic-regression\n",
      "  n_iter_i = _check_optimize_result(\n"
     ]
    },
    {
     "name": "stdout",
     "output_type": "stream",
     "text": [
      "LogisticRegression(C=1e+20, fit_intercept=False)\n",
      "0.7               precision    recall  f1-score   support\n",
      "\n",
      "           0       0.99      0.90      0.95      1647\n",
      "           1       0.22      0.78      0.34        58\n",
      "\n",
      "    accuracy                           0.90      1705\n",
      "   macro avg       0.61      0.84      0.65      1705\n",
      "weighted avg       0.97      0.90      0.93      1705\n",
      "\n",
      "0.7 [[1489  158]\n",
      " [  13   45]]\n",
      "-------------------------------------------------------------------------------------\n"
     ]
    },
    {
     "name": "stderr",
     "output_type": "stream",
     "text": [
      "C:\\Users\\sergi\\anaconda3\\envs\\learn-env\\lib\\site-packages\\sklearn\\linear_model\\_logistic.py:762: ConvergenceWarning: lbfgs failed to converge (status=1):\n",
      "STOP: TOTAL NO. of ITERATIONS REACHED LIMIT.\n",
      "\n",
      "Increase the number of iterations (max_iter) or scale the data as shown in:\n",
      "    https://scikit-learn.org/stable/modules/preprocessing.html\n",
      "Please also refer to the documentation for alternative solver options:\n",
      "    https://scikit-learn.org/stable/modules/linear_model.html#logistic-regression\n",
      "  n_iter_i = _check_optimize_result(\n"
     ]
    },
    {
     "name": "stdout",
     "output_type": "stream",
     "text": [
      "LogisticRegression(C=1e+20, fit_intercept=False)\n",
      "even               precision    recall  f1-score   support\n",
      "\n",
      "           0       0.99      0.90      0.94      1647\n",
      "           1       0.21      0.78      0.33        58\n",
      "\n",
      "    accuracy                           0.89      1705\n",
      "   macro avg       0.60      0.84      0.64      1705\n",
      "weighted avg       0.96      0.89      0.92      1705\n",
      "\n",
      "even [[1480  167]\n",
      " [  13   45]]\n",
      "-------------------------------------------------------------------------------------\n"
     ]
    },
    {
     "data": {
      "image/png": "[encoded data removed]",
      "text/plain": [
       "<Figure size 720x576 with 1 Axes>"
      ]
     },
     "metadata": {},
     "output_type": "display_data"
    }
   ],
   "source": [
    "# Now let's compare a few different ratios of minority class to majority class\n",
    "ratios = [0.1, 0.25, 0.33, 0.5, 0.7, 1]\n",
    "names = ['0.1', '0.25', '0.33','0.5','0.7','even']\n",
    "colors = sns.color_palette('Set2')\n",
    "\n",
    "plt.figure(figsize=(10, 8))\n",
    "\n",
    "for n, ratio in enumerate(ratios):\n",
    "    # Fit a model\n",
    "    smote = SMOTE(sampling_strategy=ratio)\n",
    "    X_train_smote, y_train_smote = smote.fit_sample(X_train,y_train) \n",
    "    X_train_smote_sig = X_train_smote.apply(sigmoid)\n",
    "    X_train_smote_sig.dropna(axis=1)\n",
    "    logreg = LogisticRegression(fit_intercept=False, C=1e20, solver ='lbfgs')\n",
    "    model_log = logreg.fit(X_train_smote_sig, y_train_smote)\n",
    "    print(model_log)\n",
    "\n",
    "    # Predict\n",
    "    y_hat_test = logreg.predict(X_test_sig)\n",
    "\n",
    "    y_score = logreg.decision_function(X_test_sig)\n",
    "\n",
    "    fpr, tpr, thresholds = roc_curve(y_test, y_score)\n",
    "    \n",
    "    print(names[n],classification_report(y_test, y_hat_test))\n",
    "    print(names[n], confusion_matrix(y_test, y_hat_test))\n",
    "    print('-------------------------------------------------------------------------------------')\n",
    "    \n",
    "    lw = 2\n",
    "    plt.plot(fpr, tpr, color=colors[n],\n",
    "             lw=lw, label='ROC curve {}'.format(names[n]))\n",
    "\n",
    "plt.plot([0, 1], [0, 1], color='navy', lw=lw, linestyle='--')\n",
    "plt.xlim([0.0, 1.0])\n",
    "plt.ylim([0.0, 1.05])\n",
    "\n",
    "plt.yticks([i/20.0 for i in range(21)])\n",
    "plt.xticks([i/20.0 for i in range(21)])\n",
    "plt.xlabel('False Positive Rate')\n",
    "plt.ylabel('True Positive Rate')\n",
    "plt.title('Receiver operating characteristic (ROC) Curve')\n",
    "plt.legend(loc='lower right')\n",
    "plt.show()"
   ]
  },
  {
   "cell_type": "markdown",
   "metadata": {},
   "source": [
    "## Random Forest baseline no scaling"
   ]
  },
  {
   "cell_type": "code",
   "execution_count": 36,
   "metadata": {
    "ExecuteTime": {
     "end_time": "2021-02-19T18:15:18.088188Z",
     "start_time": "2021-02-19T18:15:10.384786Z"
    }
   },
   "outputs": [
    {
     "name": "stdout",
     "output_type": "stream",
     "text": [
      "Mean Cross Validation Score: 96.91%\n"
     ]
    }
   ],
   "source": [
    "forest = RandomForestClassifier(random_state=42)\n",
    "forest_cv_score = cross_val_score(forest,X_train, y_train, cv=5)\n",
    "mean_forest_cv_score = np.mean(forest_cv_score)\n",
    "print(f\"Mean Cross Validation Score: {mean_forest_cv_score :.2%}\")\n"
   ]
  },
  {
   "cell_type": "code",
   "execution_count": 71,
   "metadata": {
    "ExecuteTime": {
     "end_time": "2021-02-16T07:41:20.106702Z",
     "start_time": "2021-02-16T07:41:17.936506Z"
    }
   },
   "outputs": [
    {
     "name": "stdout",
     "output_type": "stream",
     "text": [
      "[[1643    4]\n",
      " [  45   13]]\n",
      "              precision    recall  f1-score   support\n",
      "\n",
      "           0       0.97      1.00      0.99      1647\n",
      "           1       0.76      0.22      0.35        58\n",
      "\n",
      "    accuracy                           0.97      1705\n",
      "   macro avg       0.87      0.61      0.67      1705\n",
      "weighted avg       0.97      0.97      0.96      1705\n",
      "\n"
     ]
    },
    {
     "data": {
      "text/plain": [
       "<sklearn.metrics._plot.confusion_matrix.ConfusionMatrixDisplay at 0x281972eec10>"
      ]
     },
     "execution_count": 71,
     "metadata": {},
     "output_type": "execute_result"
    },
    {
     "data": {
      "image/png": "[encoded data removed]",
      "text/plain": [
       "<Figure size 432x288 with 2 Axes>"
      ]
     },
     "metadata": {},
     "output_type": "display_data"
    }
   ],
   "source": [
    "forest_base = forest.fit(X_train,y_train)\n",
    "y_hat_forest_base = forest.predict(X_test)\n",
    "\n",
    "print(confusion_matrix(y_test, y_hat_forest_base))\n",
    "print(classification_report(y_test, y_hat_forest_base))\n",
    "plot_confusion_matrix(forest_base,X_test,y_test,cmap=plt.cm.Blues,\n",
    "                     display_labels=[\"not bankrupt\", \"bankrupt\"],\n",
    "                      values_format=\".5g\")"
   ]
  },
  {
   "cell_type": "markdown",
   "metadata": {},
   "source": [
    "## RF standard scaling"
   ]
  },
  {
   "cell_type": "code",
   "execution_count": 78,
   "metadata": {
    "ExecuteTime": {
     "end_time": "2021-02-16T07:49:07.719780Z",
     "start_time": "2021-02-16T07:48:59.878775Z"
    }
   },
   "outputs": [
    {
     "name": "stdout",
     "output_type": "stream",
     "text": [
      "Mean Cross Validation Score: 96.77%\n"
     ]
    }
   ],
   "source": [
    "scaled_forest = forest.fit(X_train_scaled,y_train)\n",
    "forest_cv_score = cross_val_score(scaled_forest,X_train_scaled, y_train, cv=5)\n",
    "mean_forest_cv_score = np.mean(forest_cv_score)\n",
    "print(f\"Mean Cross Validation Score: {mean_forest_cv_score :.2%}\")\n"
   ]
  },
  {
   "cell_type": "code",
   "execution_count": 79,
   "metadata": {
    "ExecuteTime": {
     "end_time": "2021-02-16T07:49:32.125825Z",
     "start_time": "2021-02-16T07:49:30.327633Z"
    }
   },
   "outputs": [
    {
     "name": "stdout",
     "output_type": "stream",
     "text": [
      "[[1644    3]\n",
      " [  49    9]]\n",
      "              precision    recall  f1-score   support\n",
      "\n",
      "           0       0.97      1.00      0.98      1647\n",
      "           1       0.75      0.16      0.26        58\n",
      "\n",
      "    accuracy                           0.97      1705\n",
      "   macro avg       0.86      0.58      0.62      1705\n",
      "weighted avg       0.96      0.97      0.96      1705\n",
      "\n"
     ]
    },
    {
     "data": {
      "text/plain": [
       "<sklearn.metrics._plot.confusion_matrix.ConfusionMatrixDisplay at 0x28195106280>"
      ]
     },
     "execution_count": 79,
     "metadata": {},
     "output_type": "execute_result"
    },
    {
     "data": {
      "image/png": "[encoded data removed]",
      "text/plain": [
       "<Figure size 432x288 with 2 Axes>"
      ]
     },
     "metadata": {},
     "output_type": "display_data"
    }
   ],
   "source": [
    "scaled_forest = forest.fit(X_train_scaled,y_train)\n",
    "y_hat_forest_scaled = forest.predict(X_test_scaled)\n",
    "\n",
    "print(confusion_matrix(y_test, y_hat_forest_scaled))\n",
    "print(classification_report(y_test, y_hat_forest_scaled))\n",
    "plot_confusion_matrix(scaled_forest,X_test_scaled,y_test,cmap=plt.cm.Blues,\n",
    "                     display_labels=[\"not bankrupt\", \"bankrupt\"],\n",
    "                      values_format=\".5g\")"
   ]
  },
  {
   "cell_type": "markdown",
   "metadata": {},
   "source": [
    "## RF Sigmoid Scaled"
   ]
  },
  {
   "cell_type": "code",
   "execution_count": 89,
   "metadata": {
    "ExecuteTime": {
     "end_time": "2021-02-16T07:55:23.190060Z",
     "start_time": "2021-02-16T07:55:14.304670Z"
    }
   },
   "outputs": [
    {
     "name": "stdout",
     "output_type": "stream",
     "text": [
      "Mean Cross Validation Score: 96.89%\n"
     ]
    }
   ],
   "source": [
    "forest_sig = RandomForestClassifier(random_state=42)\n",
    "forest_sig = forest_sig.fit(X_train_sig,y_train)\n",
    "forest_cv_score = cross_val_score(forest_sig,X_train_sig, y_train, cv=5)\n",
    "mean_forest_cv_score = np.mean(forest_cv_score)\n",
    "print(f\"Mean Cross Validation Score: {mean_forest_cv_score :.2%}\")\n"
   ]
  },
  {
   "cell_type": "code",
   "execution_count": 90,
   "metadata": {
    "ExecuteTime": {
     "end_time": "2021-02-16T07:55:24.433222Z",
     "start_time": "2021-02-16T07:55:24.223783Z"
    }
   },
   "outputs": [
    {
     "name": "stdout",
     "output_type": "stream",
     "text": [
      "[[1646    1]\n",
      " [  46   12]]\n",
      "              precision    recall  f1-score   support\n",
      "\n",
      "           0       0.97      1.00      0.99      1647\n",
      "           1       0.92      0.21      0.34        58\n",
      "\n",
      "    accuracy                           0.97      1705\n",
      "   macro avg       0.95      0.60      0.66      1705\n",
      "weighted avg       0.97      0.97      0.96      1705\n",
      "\n"
     ]
    },
    {
     "data": {
      "text/plain": [
       "<sklearn.metrics._plot.confusion_matrix.ConfusionMatrixDisplay at 0x281970f7130>"
      ]
     },
     "execution_count": 90,
     "metadata": {},
     "output_type": "execute_result"
    },
    {
     "data": {
      "image/png": "[encoded data removed]",
      "text/plain": [
       "<Figure size 432x288 with 2 Axes>"
      ]
     },
     "metadata": {},
     "output_type": "display_data"
    }
   ],
   "source": [
    "y_hat_forest_sig = forest_sig.predict(X_test_sig)\n",
    "\n",
    "print(confusion_matrix(y_test, y_hat_forest_sig))\n",
    "print(classification_report(y_test, y_hat_forest_sig))\n",
    "plot_confusion_matrix(forest_sig,X_test_sig,y_test,cmap=plt.cm.Blues,\n",
    "                     display_labels=[\"not bankrupt\", \"bankrupt\"],\n",
    "                      values_format=\".5g\")"
   ]
  },
  {
   "cell_type": "code",
   "execution_count": null,
   "metadata": {},
   "outputs": [],
   "source": [
    "## sigmoid scaled model is marginally better for both true precision and recall"
   ]
  },
  {
   "cell_type": "markdown",
   "metadata": {},
   "source": [
    "## RF w Smote"
   ]
  },
  {
   "cell_type": "code",
   "execution_count": 94,
   "metadata": {
    "ExecuteTime": {
     "end_time": "2021-02-16T08:03:40.491195Z",
     "start_time": "2021-02-16T08:03:15.736386Z"
    }
   },
   "outputs": [
    {
     "name": "stdout",
     "output_type": "stream",
     "text": [
      "Mean Cross Validation Score: 97.92%\n"
     ]
    }
   ],
   "source": [
    "forest_smote = RandomForestClassifier(random_state=42)\n",
    "smote = SMOTE()\n",
    "X_train_smote, y_train_smote = smote.fit_sample(X_train, y_train) \n",
    "X_train_smote_sig = X_train_smote.apply(sigmoid)\n",
    "X_train_smote_sig = X_train_smote_sig.dropna(axis=1)\n",
    "\n",
    "\n",
    "\n",
    "forest_smote= forest_smote.fit(X_train_smote_sig,y_train_smote)\n",
    "forest_cv_score = cross_val_score(forest_smote,X_train_smote_sig, y_train_smote, cv=5)\n",
    "mean_forest_cv_score = np.mean(forest_cv_score)\n",
    "print(f\"Mean Cross Validation Score: {mean_forest_cv_score :.2%}\")\n"
   ]
  },
  {
   "cell_type": "code",
   "execution_count": 95,
   "metadata": {
    "ExecuteTime": {
     "end_time": "2021-02-16T08:04:45.503991Z",
     "start_time": "2021-02-16T08:04:45.297573Z"
    }
   },
   "outputs": [
    {
     "name": "stdout",
     "output_type": "stream",
     "text": [
      "[[1599   48]\n",
      " [  26   32]]\n",
      "              precision    recall  f1-score   support\n",
      "\n",
      "           0       0.98      0.97      0.98      1647\n",
      "           1       0.40      0.55      0.46        58\n",
      "\n",
      "    accuracy                           0.96      1705\n",
      "   macro avg       0.69      0.76      0.72      1705\n",
      "weighted avg       0.96      0.96      0.96      1705\n",
      "\n"
     ]
    },
    {
     "data": {
      "text/plain": [
       "<sklearn.metrics._plot.confusion_matrix.ConfusionMatrixDisplay at 0x2819aa06100>"
      ]
     },
     "execution_count": 95,
     "metadata": {},
     "output_type": "execute_result"
    },
    {
     "data": {
      "image/png": "[encoded data removed]",
      "text/plain": [
       "<Figure size 432x288 with 2 Axes>"
      ]
     },
     "metadata": {},
     "output_type": "display_data"
    }
   ],
   "source": [
    "y_hat_forest_smote = forest_smote.predict(X_test_sig)\n",
    "\n",
    "print(confusion_matrix(y_test, y_hat_forest_smote))\n",
    "print(classification_report(y_test, y_hat_forest_smote))\n",
    "plot_confusion_matrix(forest_smote,X_test_sig,y_test,cmap=plt.cm.Blues,\n",
    "                     display_labels=[\"not bankrupt\", \"bankrupt\"],\n",
    "                      values_format=\".5g\")"
   ]
  },
  {
   "cell_type": "markdown",
   "metadata": {},
   "source": [
    "## RF with Smote standard scaled"
   ]
  },
  {
   "cell_type": "code",
   "execution_count": null,
   "metadata": {},
   "outputs": [],
   "source": [
    "X"
   ]
  },
  {
   "cell_type": "code",
   "execution_count": 38,
   "metadata": {
    "ExecuteTime": {
     "end_time": "2021-02-19T18:17:16.801857Z",
     "start_time": "2021-02-19T18:17:16.774966Z"
    }
   },
   "outputs": [],
   "source": [
    "X_train_smote_stan_scal = scaler.fit_transform(X_train_smote)"
   ]
  },
  {
   "cell_type": "code",
   "execution_count": 371,
   "metadata": {
    "ExecuteTime": {
     "end_time": "2021-02-19T00:21:37.054638Z",
     "start_time": "2021-02-19T00:21:18.866464Z"
    }
   },
   "outputs": [
    {
     "name": "stdout",
     "output_type": "stream",
     "text": [
      "Mean Cross Validation Score: 97.93%\n"
     ]
    }
   ],
   "source": [
    "forest_smote = RandomForestClassifier(random_state=42)\n",
    "smote = SMOTE()\n",
    "X_train_smote, y_train_smote = smote.fit_sample(X_train, y_train) \n",
    "X_train_smote_stan_scal = scaler.fit_transform(X_train_smote)\n",
    "\n",
    "\n",
    "\n",
    "\n",
    "forest_smote= forest_smote.fit(X_train_smote_stan_scal,y_train_smote)\n",
    "forest_cv_score = cross_val_score(forest_smote,X_train_smote_stan_scal, y_train_smote, cv=5)\n",
    "mean_forest_cv_score = np.mean(forest_cv_score)\n",
    "print(f\"Mean Cross Validation Score: {mean_forest_cv_score :.2%}\")\n"
   ]
  },
  {
   "cell_type": "code",
   "execution_count": null,
   "metadata": {},
   "outputs": [],
   "source": [
    "\n"
   ]
  },
  {
   "cell_type": "code",
   "execution_count": 372,
   "metadata": {
    "ExecuteTime": {
     "end_time": "2021-02-19T00:21:38.266554Z",
     "start_time": "2021-02-19T00:21:38.064279Z"
    }
   },
   "outputs": [
    {
     "name": "stdout",
     "output_type": "stream",
     "text": [
      "[[1588   59]\n",
      " [  27   31]]\n",
      "              precision    recall  f1-score   support\n",
      "\n",
      "           0       0.98      0.96      0.97      1647\n",
      "           1       0.34      0.53      0.42        58\n",
      "\n",
      "    accuracy                           0.95      1705\n",
      "   macro avg       0.66      0.75      0.70      1705\n",
      "weighted avg       0.96      0.95      0.95      1705\n",
      "\n"
     ]
    },
    {
     "data": {
      "text/plain": [
       "<sklearn.metrics._plot.confusion_matrix.ConfusionMatrixDisplay at 0x281aee4a640>"
      ]
     },
     "execution_count": 372,
     "metadata": {},
     "output_type": "execute_result"
    },
    {
     "data": {
      "image/png": "[encoded data removed]",
      "text/plain": [
       "<Figure size 432x288 with 2 Axes>"
      ]
     },
     "metadata": {},
     "output_type": "display_data"
    }
   ],
   "source": [
    "y_hat_forest_smote = forest_smote.predict(X_test_scaled)\n",
    "\n",
    "print(confusion_matrix(y_test, y_hat_forest_smote))\n",
    "print(classification_report(y_test, y_hat_forest_smote))\n",
    "plot_confusion_matrix(forest_smote,X_test_scaled,y_test,cmap=plt.cm.Blues,\n",
    "                     display_labels=[\"not bankrupt\", \"bankrupt\"],\n",
    "                      values_format=\".5g\")"
   ]
  },
  {
   "cell_type": "code",
   "execution_count": null,
   "metadata": {},
   "outputs": [],
   "source": []
  },
  {
   "cell_type": "code",
   "execution_count": null,
   "metadata": {},
   "outputs": [],
   "source": []
  },
  {
   "cell_type": "code",
   "execution_count": null,
   "metadata": {},
   "outputs": [],
   "source": [
    "a"
   ]
  },
  {
   "cell_type": "code",
   "execution_count": 98,
   "metadata": {
    "ExecuteTime": {
     "end_time": "2021-02-16T08:41:29.325103Z",
     "start_time": "2021-02-16T08:41:29.320117Z"
    }
   },
   "outputs": [],
   "source": [
    "forest_param_grid = {'criterion': ['gini','entropy'],\n",
    "    'max_depth' : [8,12,16],\n",
    "    'min_samples_leaf' : [2, 4, 5, 7],\n",
    "    'min_samples_split' : [2, 4, 5, 6, 7, 9],\n",
    "}\n",
    "forest =RandomForestClassifier(random_state=42)\n",
    "forest_grid = GridSearchCV(estimator=forest,param_grid=forest_param_grid,scoring='recall')"
   ]
  },
  {
   "cell_type": "code",
   "execution_count": 99,
   "metadata": {
    "ExecuteTime": {
     "end_time": "2021-02-16T09:19:35.438757Z",
     "start_time": "2021-02-16T08:41:34.353047Z"
    }
   },
   "outputs": [
    {
     "data": {
      "text/plain": [
       "GridSearchCV(estimator=RandomForestClassifier(random_state=42),\n",
       "             param_grid={'criterion': ['gini', 'entropy'],\n",
       "                         'max_depth': [8, 12, 16],\n",
       "                         'min_samples_leaf': [2, 4, 5, 7],\n",
       "                         'min_samples_split': [2, 4, 5, 6, 7, 9]},\n",
       "             scoring='recall')"
      ]
     },
     "execution_count": 99,
     "metadata": {},
     "output_type": "execute_result"
    }
   ],
   "source": [
    "forest_grid.fit(X_train_smote_sig,y_train_smote)"
   ]
  },
  {
   "cell_type": "code",
   "execution_count": 100,
   "metadata": {
    "ExecuteTime": {
     "end_time": "2021-02-16T09:20:56.844850Z",
     "start_time": "2021-02-16T09:20:56.840890Z"
    }
   },
   "outputs": [
    {
     "data": {
      "text/plain": [
       "{'criterion': 'entropy',\n",
       " 'max_depth': 16,\n",
       " 'min_samples_leaf': 2,\n",
       " 'min_samples_split': 2}"
      ]
     },
     "execution_count": 100,
     "metadata": {},
     "output_type": "execute_result"
    }
   ],
   "source": [
    "forest_grid.best_params_"
   ]
  },
  {
   "cell_type": "code",
   "execution_count": 101,
   "metadata": {
    "ExecuteTime": {
     "end_time": "2021-02-16T09:25:52.430977Z",
     "start_time": "2021-02-16T09:25:52.425022Z"
    }
   },
   "outputs": [
    {
     "data": {
      "text/plain": [
       "RandomForestClassifier(criterion='entropy', max_depth=16, min_samples_leaf=2,\n",
       "                       random_state=42)"
      ]
     },
     "execution_count": 101,
     "metadata": {},
     "output_type": "execute_result"
    }
   ],
   "source": [
    "forest_grid.best_estimator_"
   ]
  },
  {
   "cell_type": "code",
   "execution_count": 104,
   "metadata": {
    "ExecuteTime": {
     "end_time": "2021-02-16T09:43:18.075021Z",
     "start_time": "2021-02-16T09:43:18.071002Z"
    }
   },
   "outputs": [],
   "source": [
    "forest_best = RandomForestClassifier(criterion=\"entropy\", max_depth=16, min_samples_leaf=2, min_samples_split=2)"
   ]
  },
  {
   "cell_type": "code",
   "execution_count": 113,
   "metadata": {
    "ExecuteTime": {
     "end_time": "2021-02-17T04:23:41.029180Z",
     "start_time": "2021-02-17T04:23:35.980685Z"
    }
   },
   "outputs": [
    {
     "name": "stdout",
     "output_type": "stream",
     "text": [
      "[[1588   59]\n",
      " [  20   38]]\n",
      "              precision    recall  f1-score   support\n",
      "\n",
      "           0       0.99      0.96      0.98      1647\n",
      "           1       0.39      0.66      0.49        58\n",
      "\n",
      "    accuracy                           0.95      1705\n",
      "   macro avg       0.69      0.81      0.73      1705\n",
      "weighted avg       0.97      0.95      0.96      1705\n",
      "\n"
     ]
    },
    {
     "data": {
      "text/plain": [
       "<sklearn.metrics._plot.confusion_matrix.ConfusionMatrixDisplay at 0x2819a0e1790>"
      ]
     },
     "execution_count": 113,
     "metadata": {},
     "output_type": "execute_result"
    },
    {
     "data": {
      "image/png": "[encoded data removed]",
      "text/plain": [
       "<Figure size 432x288 with 2 Axes>"
      ]
     },
     "metadata": {},
     "output_type": "display_data"
    }
   ],
   "source": [
    "forest_best.fit(X_train_smote_sig,y_train_smote)\n",
    "forest_best.predict(X_test_sig)\n",
    "\n",
    "y_pred_forest_best = forest_best.predict(X_test_sig)\n",
    "print(confusion_matrix(y_test, y_pred_forest_best))\n",
    "print(classification_report(y_test, y_pred_forest_best))\n",
    "plot_confusion_matrix(forest_best,X_test_sig,y_test,cmap=plt.cm.Blues,\n",
    "                     display_labels=[\"not bankrupt\", \"bankrupt\"],\n",
    "                      values_format=\".5g\")"
   ]
  },
  {
   "cell_type": "code",
   "execution_count": 232,
   "metadata": {
    "ExecuteTime": {
     "end_time": "2021-02-12T21:04:50.121095Z",
     "start_time": "2021-02-12T21:04:50.096169Z"
    }
   },
   "outputs": [
    {
     "ename": "NameError",
     "evalue": "name 'plot_forest' is not defined",
     "output_type": "error",
     "traceback": [
      "\u001b[1;31m---------------------------------------------------------------------------\u001b[0m",
      "\u001b[1;31mNameError\u001b[0m                                 Traceback (most recent call last)",
      "\u001b[1;32m<ipython-input-232-d0eb4bb2a7a9>\u001b[0m in \u001b[0;36m<module>\u001b[1;34m\u001b[0m\n\u001b[0;32m      1\u001b[0m \u001b[0mfig\u001b[0m \u001b[1;33m=\u001b[0m \u001b[0mplt\u001b[0m\u001b[1;33m.\u001b[0m\u001b[0mfigure\u001b[0m\u001b[1;33m(\u001b[0m\u001b[0mfigsize\u001b[0m\u001b[1;33m=\u001b[0m\u001b[1;33m(\u001b[0m\u001b[1;36m25\u001b[0m\u001b[1;33m,\u001b[0m\u001b[1;36m20\u001b[0m\u001b[1;33m)\u001b[0m\u001b[1;33m)\u001b[0m\u001b[1;33m\u001b[0m\u001b[1;33m\u001b[0m\u001b[0m\n\u001b[1;32m----> 2\u001b[1;33m _ = plot_forest(forest_grid.best_estimator_, \n\u001b[0m\u001b[0;32m      3\u001b[0m                    \u001b[0mfeature_names\u001b[0m\u001b[1;33m=\u001b[0m\u001b[0mX\u001b[0m\u001b[1;33m.\u001b[0m\u001b[0mcolumns\u001b[0m\u001b[1;33m,\u001b[0m\u001b[1;33m\u001b[0m\u001b[1;33m\u001b[0m\u001b[0m\n\u001b[0;32m      4\u001b[0m                    filled=True)\n",
      "\u001b[1;31mNameError\u001b[0m: name 'plot_forest' is not defined"
     ]
    },
    {
     "data": {
      "text/plain": [
       "<Figure size 1800x1440 with 0 Axes>"
      ]
     },
     "metadata": {},
     "output_type": "display_data"
    }
   ],
   "source": [
    "fig = plt.figure(figsize=(25,20))\n",
    "_ = plot_forest(forest_grid.best_estimator_, \n",
    "                   feature_names=X.columns,\n",
    "                   filled=True)"
   ]
  },
  {
   "cell_type": "code",
   "execution_count": 273,
   "metadata": {
    "ExecuteTime": {
     "end_time": "2021-02-18T08:31:33.162088Z",
     "start_time": "2021-02-18T08:31:33.158128Z"
    }
   },
   "outputs": [],
   "source": [
    "log_param_grid = {'penalty': ['l1','l2'],\n",
    "    'solver' : ['liblinear','saga'],\n",
    "    'fit_intercept' : [True,False],\n",
    "    'C' : [0.001,0.1,1,100,10000,1000000,1000000000,100000000000,],\n",
    "}\n",
    "log =LogisticRegression(random_state=42)\n",
    "log_grid = GridSearchCV(estimator=log,param_grid=log_param_grid,scoring='recall')\n"
   ]
  },
  {
   "cell_type": "code",
   "execution_count": 274,
   "metadata": {
    "ExecuteTime": {
     "end_time": "2021-02-18T08:31:39.452354Z",
     "start_time": "2021-02-18T08:31:39.365400Z"
    }
   },
   "outputs": [],
   "source": [
    "smote = SMOTE()\n",
    "X_train_smote, y_train_smote = smote.fit_sample(X_train, y_train) \n",
    "X_train_smote_stan_scal = scaler.fit_transform(X_train_smote)"
   ]
  },
  {
   "cell_type": "code",
   "execution_count": 275,
   "metadata": {
    "ExecuteTime": {
     "end_time": "2021-02-18T08:31:39.920136Z",
     "start_time": "2021-02-18T08:31:39.916118Z"
    }
   },
   "outputs": [
    {
     "data": {
      "text/plain": [
       "(9904, 9904)"
      ]
     },
     "execution_count": 275,
     "metadata": {},
     "output_type": "execute_result"
    }
   ],
   "source": [
    "len(X_train_smote_stan_scal),len(y_train_smote)"
   ]
  },
  {
   "cell_type": "code",
   "execution_count": 276,
   "metadata": {
    "ExecuteTime": {
     "end_time": "2021-02-18T09:32:50.811180Z",
     "start_time": "2021-02-18T08:31:41.455817Z"
    }
   },
   "outputs": [
    {
     "name": "stderr",
     "output_type": "stream",
     "text": [
      "C:\\Users\\sergi\\anaconda3\\envs\\learn-env\\lib\\site-packages\\sklearn\\svm\\_base.py:976: ConvergenceWarning: Liblinear failed to converge, increase the number of iterations.\n",
      "  warnings.warn(\"Liblinear failed to converge, increase \"\n",
      "C:\\Users\\sergi\\anaconda3\\envs\\learn-env\\lib\\site-packages\\sklearn\\svm\\_base.py:976: ConvergenceWarning: Liblinear failed to converge, increase the number of iterations.\n",
      "  warnings.warn(\"Liblinear failed to converge, increase \"\n",
      "C:\\Users\\sergi\\anaconda3\\envs\\learn-env\\lib\\site-packages\\sklearn\\svm\\_base.py:976: ConvergenceWarning: Liblinear failed to converge, increase the number of iterations.\n",
      "  warnings.warn(\"Liblinear failed to converge, increase \"\n",
      "C:\\Users\\sergi\\anaconda3\\envs\\learn-env\\lib\\site-packages\\sklearn\\svm\\_base.py:976: ConvergenceWarning: Liblinear failed to converge, increase the number of iterations.\n",
      "  warnings.warn(\"Liblinear failed to converge, increase \"\n",
      "C:\\Users\\sergi\\anaconda3\\envs\\learn-env\\lib\\site-packages\\sklearn\\linear_model\\_sag.py:329: ConvergenceWarning: The max_iter was reached which means the coef_ did not converge\n",
      "  warnings.warn(\"The max_iter was reached which means \"\n",
      "C:\\Users\\sergi\\anaconda3\\envs\\learn-env\\lib\\site-packages\\sklearn\\linear_model\\_sag.py:329: ConvergenceWarning: The max_iter was reached which means the coef_ did not converge\n",
      "  warnings.warn(\"The max_iter was reached which means \"\n",
      "C:\\Users\\sergi\\anaconda3\\envs\\learn-env\\lib\\site-packages\\sklearn\\linear_model\\_sag.py:329: ConvergenceWarning: The max_iter was reached which means the coef_ did not converge\n",
      "  warnings.warn(\"The max_iter was reached which means \"\n",
      "C:\\Users\\sergi\\anaconda3\\envs\\learn-env\\lib\\site-packages\\sklearn\\linear_model\\_sag.py:329: ConvergenceWarning: The max_iter was reached which means the coef_ did not converge\n",
      "  warnings.warn(\"The max_iter was reached which means \"\n",
      "C:\\Users\\sergi\\anaconda3\\envs\\learn-env\\lib\\site-packages\\sklearn\\linear_model\\_sag.py:329: ConvergenceWarning: The max_iter was reached which means the coef_ did not converge\n",
      "  warnings.warn(\"The max_iter was reached which means \"\n",
      "C:\\Users\\sergi\\anaconda3\\envs\\learn-env\\lib\\site-packages\\sklearn\\svm\\_base.py:976: ConvergenceWarning: Liblinear failed to converge, increase the number of iterations.\n",
      "  warnings.warn(\"Liblinear failed to converge, increase \"\n",
      "C:\\Users\\sergi\\anaconda3\\envs\\learn-env\\lib\\site-packages\\sklearn\\svm\\_base.py:976: ConvergenceWarning: Liblinear failed to converge, increase the number of iterations.\n",
      "  warnings.warn(\"Liblinear failed to converge, increase \"\n",
      "C:\\Users\\sergi\\anaconda3\\envs\\learn-env\\lib\\site-packages\\sklearn\\svm\\_base.py:976: ConvergenceWarning: Liblinear failed to converge, increase the number of iterations.\n",
      "  warnings.warn(\"Liblinear failed to converge, increase \"\n",
      "C:\\Users\\sergi\\anaconda3\\envs\\learn-env\\lib\\site-packages\\sklearn\\svm\\_base.py:976: ConvergenceWarning: Liblinear failed to converge, increase the number of iterations.\n",
      "  warnings.warn(\"Liblinear failed to converge, increase \"\n",
      "C:\\Users\\sergi\\anaconda3\\envs\\learn-env\\lib\\site-packages\\sklearn\\svm\\_base.py:976: ConvergenceWarning: Liblinear failed to converge, increase the number of iterations.\n",
      "  warnings.warn(\"Liblinear failed to converge, increase \"\n",
      "C:\\Users\\sergi\\anaconda3\\envs\\learn-env\\lib\\site-packages\\sklearn\\linear_model\\_sag.py:329: ConvergenceWarning: The max_iter was reached which means the coef_ did not converge\n",
      "  warnings.warn(\"The max_iter was reached which means \"\n",
      "C:\\Users\\sergi\\anaconda3\\envs\\learn-env\\lib\\site-packages\\sklearn\\linear_model\\_sag.py:329: ConvergenceWarning: The max_iter was reached which means the coef_ did not converge\n",
      "  warnings.warn(\"The max_iter was reached which means \"\n",
      "C:\\Users\\sergi\\anaconda3\\envs\\learn-env\\lib\\site-packages\\sklearn\\linear_model\\_sag.py:329: ConvergenceWarning: The max_iter was reached which means the coef_ did not converge\n",
      "  warnings.warn(\"The max_iter was reached which means \"\n",
      "C:\\Users\\sergi\\anaconda3\\envs\\learn-env\\lib\\site-packages\\sklearn\\linear_model\\_sag.py:329: ConvergenceWarning: The max_iter was reached which means the coef_ did not converge\n",
      "  warnings.warn(\"The max_iter was reached which means \"\n",
      "C:\\Users\\sergi\\anaconda3\\envs\\learn-env\\lib\\site-packages\\sklearn\\linear_model\\_sag.py:329: ConvergenceWarning: The max_iter was reached which means the coef_ did not converge\n",
      "  warnings.warn(\"The max_iter was reached which means \"\n",
      "C:\\Users\\sergi\\anaconda3\\envs\\learn-env\\lib\\site-packages\\sklearn\\svm\\_base.py:976: ConvergenceWarning: Liblinear failed to converge, increase the number of iterations.\n",
      "  warnings.warn(\"Liblinear failed to converge, increase \"\n",
      "C:\\Users\\sergi\\anaconda3\\envs\\learn-env\\lib\\site-packages\\sklearn\\svm\\_base.py:976: ConvergenceWarning: Liblinear failed to converge, increase the number of iterations.\n",
      "  warnings.warn(\"Liblinear failed to converge, increase \"\n",
      "C:\\Users\\sergi\\anaconda3\\envs\\learn-env\\lib\\site-packages\\sklearn\\svm\\_base.py:976: ConvergenceWarning: Liblinear failed to converge, increase the number of iterations.\n",
      "  warnings.warn(\"Liblinear failed to converge, increase \"\n",
      "C:\\Users\\sergi\\anaconda3\\envs\\learn-env\\lib\\site-packages\\sklearn\\svm\\_base.py:976: ConvergenceWarning: Liblinear failed to converge, increase the number of iterations.\n",
      "  warnings.warn(\"Liblinear failed to converge, increase \"\n",
      "C:\\Users\\sergi\\anaconda3\\envs\\learn-env\\lib\\site-packages\\sklearn\\svm\\_base.py:976: ConvergenceWarning: Liblinear failed to converge, increase the number of iterations.\n",
      "  warnings.warn(\"Liblinear failed to converge, increase \"\n",
      "C:\\Users\\sergi\\anaconda3\\envs\\learn-env\\lib\\site-packages\\sklearn\\linear_model\\_sag.py:329: ConvergenceWarning: The max_iter was reached which means the coef_ did not converge\n",
      "  warnings.warn(\"The max_iter was reached which means \"\n",
      "C:\\Users\\sergi\\anaconda3\\envs\\learn-env\\lib\\site-packages\\sklearn\\linear_model\\_sag.py:329: ConvergenceWarning: The max_iter was reached which means the coef_ did not converge\n",
      "  warnings.warn(\"The max_iter was reached which means \"\n",
      "C:\\Users\\sergi\\anaconda3\\envs\\learn-env\\lib\\site-packages\\sklearn\\linear_model\\_sag.py:329: ConvergenceWarning: The max_iter was reached which means the coef_ did not converge\n",
      "  warnings.warn(\"The max_iter was reached which means \"\n",
      "C:\\Users\\sergi\\anaconda3\\envs\\learn-env\\lib\\site-packages\\sklearn\\linear_model\\_sag.py:329: ConvergenceWarning: The max_iter was reached which means the coef_ did not converge\n",
      "  warnings.warn(\"The max_iter was reached which means \"\n",
      "C:\\Users\\sergi\\anaconda3\\envs\\learn-env\\lib\\site-packages\\sklearn\\linear_model\\_sag.py:329: ConvergenceWarning: The max_iter was reached which means the coef_ did not converge\n",
      "  warnings.warn(\"The max_iter was reached which means \"\n",
      "C:\\Users\\sergi\\anaconda3\\envs\\learn-env\\lib\\site-packages\\sklearn\\linear_model\\_sag.py:329: ConvergenceWarning: The max_iter was reached which means the coef_ did not converge\n",
      "  warnings.warn(\"The max_iter was reached which means \"\n",
      "C:\\Users\\sergi\\anaconda3\\envs\\learn-env\\lib\\site-packages\\sklearn\\linear_model\\_sag.py:329: ConvergenceWarning: The max_iter was reached which means the coef_ did not converge\n",
      "  warnings.warn(\"The max_iter was reached which means \"\n",
      "C:\\Users\\sergi\\anaconda3\\envs\\learn-env\\lib\\site-packages\\sklearn\\linear_model\\_sag.py:329: ConvergenceWarning: The max_iter was reached which means the coef_ did not converge\n",
      "  warnings.warn(\"The max_iter was reached which means \"\n",
      "C:\\Users\\sergi\\anaconda3\\envs\\learn-env\\lib\\site-packages\\sklearn\\linear_model\\_sag.py:329: ConvergenceWarning: The max_iter was reached which means the coef_ did not converge\n",
      "  warnings.warn(\"The max_iter was reached which means \"\n",
      "C:\\Users\\sergi\\anaconda3\\envs\\learn-env\\lib\\site-packages\\sklearn\\linear_model\\_sag.py:329: ConvergenceWarning: The max_iter was reached which means the coef_ did not converge\n",
      "  warnings.warn(\"The max_iter was reached which means \"\n",
      "C:\\Users\\sergi\\anaconda3\\envs\\learn-env\\lib\\site-packages\\sklearn\\svm\\_base.py:976: ConvergenceWarning: Liblinear failed to converge, increase the number of iterations.\n",
      "  warnings.warn(\"Liblinear failed to converge, increase \"\n",
      "C:\\Users\\sergi\\anaconda3\\envs\\learn-env\\lib\\site-packages\\sklearn\\svm\\_base.py:976: ConvergenceWarning: Liblinear failed to converge, increase the number of iterations.\n",
      "  warnings.warn(\"Liblinear failed to converge, increase \"\n"
     ]
    },
    {
     "name": "stderr",
     "output_type": "stream",
     "text": [
      "C:\\Users\\sergi\\anaconda3\\envs\\learn-env\\lib\\site-packages\\sklearn\\svm\\_base.py:976: ConvergenceWarning: Liblinear failed to converge, increase the number of iterations.\n",
      "  warnings.warn(\"Liblinear failed to converge, increase \"\n",
      "C:\\Users\\sergi\\anaconda3\\envs\\learn-env\\lib\\site-packages\\sklearn\\svm\\_base.py:976: ConvergenceWarning: Liblinear failed to converge, increase the number of iterations.\n",
      "  warnings.warn(\"Liblinear failed to converge, increase \"\n",
      "C:\\Users\\sergi\\anaconda3\\envs\\learn-env\\lib\\site-packages\\sklearn\\linear_model\\_sag.py:329: ConvergenceWarning: The max_iter was reached which means the coef_ did not converge\n",
      "  warnings.warn(\"The max_iter was reached which means \"\n",
      "C:\\Users\\sergi\\anaconda3\\envs\\learn-env\\lib\\site-packages\\sklearn\\linear_model\\_sag.py:329: ConvergenceWarning: The max_iter was reached which means the coef_ did not converge\n",
      "  warnings.warn(\"The max_iter was reached which means \"\n",
      "C:\\Users\\sergi\\anaconda3\\envs\\learn-env\\lib\\site-packages\\sklearn\\linear_model\\_sag.py:329: ConvergenceWarning: The max_iter was reached which means the coef_ did not converge\n",
      "  warnings.warn(\"The max_iter was reached which means \"\n",
      "C:\\Users\\sergi\\anaconda3\\envs\\learn-env\\lib\\site-packages\\sklearn\\linear_model\\_sag.py:329: ConvergenceWarning: The max_iter was reached which means the coef_ did not converge\n",
      "  warnings.warn(\"The max_iter was reached which means \"\n",
      "C:\\Users\\sergi\\anaconda3\\envs\\learn-env\\lib\\site-packages\\sklearn\\linear_model\\_sag.py:329: ConvergenceWarning: The max_iter was reached which means the coef_ did not converge\n",
      "  warnings.warn(\"The max_iter was reached which means \"\n",
      "C:\\Users\\sergi\\anaconda3\\envs\\learn-env\\lib\\site-packages\\sklearn\\svm\\_base.py:976: ConvergenceWarning: Liblinear failed to converge, increase the number of iterations.\n",
      "  warnings.warn(\"Liblinear failed to converge, increase \"\n",
      "C:\\Users\\sergi\\anaconda3\\envs\\learn-env\\lib\\site-packages\\sklearn\\svm\\_base.py:976: ConvergenceWarning: Liblinear failed to converge, increase the number of iterations.\n",
      "  warnings.warn(\"Liblinear failed to converge, increase \"\n",
      "C:\\Users\\sergi\\anaconda3\\envs\\learn-env\\lib\\site-packages\\sklearn\\svm\\_base.py:976: ConvergenceWarning: Liblinear failed to converge, increase the number of iterations.\n",
      "  warnings.warn(\"Liblinear failed to converge, increase \"\n",
      "C:\\Users\\sergi\\anaconda3\\envs\\learn-env\\lib\\site-packages\\sklearn\\svm\\_base.py:976: ConvergenceWarning: Liblinear failed to converge, increase the number of iterations.\n",
      "  warnings.warn(\"Liblinear failed to converge, increase \"\n",
      "C:\\Users\\sergi\\anaconda3\\envs\\learn-env\\lib\\site-packages\\sklearn\\svm\\_base.py:976: ConvergenceWarning: Liblinear failed to converge, increase the number of iterations.\n",
      "  warnings.warn(\"Liblinear failed to converge, increase \"\n",
      "C:\\Users\\sergi\\anaconda3\\envs\\learn-env\\lib\\site-packages\\sklearn\\linear_model\\_sag.py:329: ConvergenceWarning: The max_iter was reached which means the coef_ did not converge\n",
      "  warnings.warn(\"The max_iter was reached which means \"\n",
      "C:\\Users\\sergi\\anaconda3\\envs\\learn-env\\lib\\site-packages\\sklearn\\linear_model\\_sag.py:329: ConvergenceWarning: The max_iter was reached which means the coef_ did not converge\n",
      "  warnings.warn(\"The max_iter was reached which means \"\n",
      "C:\\Users\\sergi\\anaconda3\\envs\\learn-env\\lib\\site-packages\\sklearn\\linear_model\\_sag.py:329: ConvergenceWarning: The max_iter was reached which means the coef_ did not converge\n",
      "  warnings.warn(\"The max_iter was reached which means \"\n",
      "C:\\Users\\sergi\\anaconda3\\envs\\learn-env\\lib\\site-packages\\sklearn\\linear_model\\_sag.py:329: ConvergenceWarning: The max_iter was reached which means the coef_ did not converge\n",
      "  warnings.warn(\"The max_iter was reached which means \"\n",
      "C:\\Users\\sergi\\anaconda3\\envs\\learn-env\\lib\\site-packages\\sklearn\\linear_model\\_sag.py:329: ConvergenceWarning: The max_iter was reached which means the coef_ did not converge\n",
      "  warnings.warn(\"The max_iter was reached which means \"\n",
      "C:\\Users\\sergi\\anaconda3\\envs\\learn-env\\lib\\site-packages\\sklearn\\linear_model\\_sag.py:329: ConvergenceWarning: The max_iter was reached which means the coef_ did not converge\n",
      "  warnings.warn(\"The max_iter was reached which means \"\n",
      "C:\\Users\\sergi\\anaconda3\\envs\\learn-env\\lib\\site-packages\\sklearn\\linear_model\\_sag.py:329: ConvergenceWarning: The max_iter was reached which means the coef_ did not converge\n",
      "  warnings.warn(\"The max_iter was reached which means \"\n",
      "C:\\Users\\sergi\\anaconda3\\envs\\learn-env\\lib\\site-packages\\sklearn\\linear_model\\_sag.py:329: ConvergenceWarning: The max_iter was reached which means the coef_ did not converge\n",
      "  warnings.warn(\"The max_iter was reached which means \"\n",
      "C:\\Users\\sergi\\anaconda3\\envs\\learn-env\\lib\\site-packages\\sklearn\\linear_model\\_sag.py:329: ConvergenceWarning: The max_iter was reached which means the coef_ did not converge\n",
      "  warnings.warn(\"The max_iter was reached which means \"\n",
      "C:\\Users\\sergi\\anaconda3\\envs\\learn-env\\lib\\site-packages\\sklearn\\linear_model\\_sag.py:329: ConvergenceWarning: The max_iter was reached which means the coef_ did not converge\n",
      "  warnings.warn(\"The max_iter was reached which means \"\n",
      "C:\\Users\\sergi\\anaconda3\\envs\\learn-env\\lib\\site-packages\\sklearn\\svm\\_base.py:976: ConvergenceWarning: Liblinear failed to converge, increase the number of iterations.\n",
      "  warnings.warn(\"Liblinear failed to converge, increase \"\n",
      "C:\\Users\\sergi\\anaconda3\\envs\\learn-env\\lib\\site-packages\\sklearn\\svm\\_base.py:976: ConvergenceWarning: Liblinear failed to converge, increase the number of iterations.\n",
      "  warnings.warn(\"Liblinear failed to converge, increase \"\n",
      "C:\\Users\\sergi\\anaconda3\\envs\\learn-env\\lib\\site-packages\\sklearn\\svm\\_base.py:976: ConvergenceWarning: Liblinear failed to converge, increase the number of iterations.\n",
      "  warnings.warn(\"Liblinear failed to converge, increase \"\n",
      "C:\\Users\\sergi\\anaconda3\\envs\\learn-env\\lib\\site-packages\\sklearn\\svm\\_base.py:976: ConvergenceWarning: Liblinear failed to converge, increase the number of iterations.\n",
      "  warnings.warn(\"Liblinear failed to converge, increase \"\n",
      "C:\\Users\\sergi\\anaconda3\\envs\\learn-env\\lib\\site-packages\\sklearn\\svm\\_base.py:976: ConvergenceWarning: Liblinear failed to converge, increase the number of iterations.\n",
      "  warnings.warn(\"Liblinear failed to converge, increase \"\n",
      "C:\\Users\\sergi\\anaconda3\\envs\\learn-env\\lib\\site-packages\\sklearn\\linear_model\\_sag.py:329: ConvergenceWarning: The max_iter was reached which means the coef_ did not converge\n",
      "  warnings.warn(\"The max_iter was reached which means \"\n",
      "C:\\Users\\sergi\\anaconda3\\envs\\learn-env\\lib\\site-packages\\sklearn\\linear_model\\_sag.py:329: ConvergenceWarning: The max_iter was reached which means the coef_ did not converge\n",
      "  warnings.warn(\"The max_iter was reached which means \"\n",
      "C:\\Users\\sergi\\anaconda3\\envs\\learn-env\\lib\\site-packages\\sklearn\\linear_model\\_sag.py:329: ConvergenceWarning: The max_iter was reached which means the coef_ did not converge\n",
      "  warnings.warn(\"The max_iter was reached which means \"\n",
      "C:\\Users\\sergi\\anaconda3\\envs\\learn-env\\lib\\site-packages\\sklearn\\linear_model\\_sag.py:329: ConvergenceWarning: The max_iter was reached which means the coef_ did not converge\n",
      "  warnings.warn(\"The max_iter was reached which means \"\n",
      "C:\\Users\\sergi\\anaconda3\\envs\\learn-env\\lib\\site-packages\\sklearn\\linear_model\\_sag.py:329: ConvergenceWarning: The max_iter was reached which means the coef_ did not converge\n",
      "  warnings.warn(\"The max_iter was reached which means \"\n",
      "C:\\Users\\sergi\\anaconda3\\envs\\learn-env\\lib\\site-packages\\sklearn\\linear_model\\_sag.py:329: ConvergenceWarning: The max_iter was reached which means the coef_ did not converge\n",
      "  warnings.warn(\"The max_iter was reached which means \"\n",
      "C:\\Users\\sergi\\anaconda3\\envs\\learn-env\\lib\\site-packages\\sklearn\\linear_model\\_sag.py:329: ConvergenceWarning: The max_iter was reached which means the coef_ did not converge\n",
      "  warnings.warn(\"The max_iter was reached which means \"\n",
      "C:\\Users\\sergi\\anaconda3\\envs\\learn-env\\lib\\site-packages\\sklearn\\linear_model\\_sag.py:329: ConvergenceWarning: The max_iter was reached which means the coef_ did not converge\n",
      "  warnings.warn(\"The max_iter was reached which means \"\n",
      "C:\\Users\\sergi\\anaconda3\\envs\\learn-env\\lib\\site-packages\\sklearn\\linear_model\\_sag.py:329: ConvergenceWarning: The max_iter was reached which means the coef_ did not converge\n",
      "  warnings.warn(\"The max_iter was reached which means \"\n"
     ]
    },
    {
     "name": "stderr",
     "output_type": "stream",
     "text": [
      "C:\\Users\\sergi\\anaconda3\\envs\\learn-env\\lib\\site-packages\\sklearn\\linear_model\\_sag.py:329: ConvergenceWarning: The max_iter was reached which means the coef_ did not converge\n",
      "  warnings.warn(\"The max_iter was reached which means \"\n",
      "C:\\Users\\sergi\\anaconda3\\envs\\learn-env\\lib\\site-packages\\sklearn\\svm\\_base.py:976: ConvergenceWarning: Liblinear failed to converge, increase the number of iterations.\n",
      "  warnings.warn(\"Liblinear failed to converge, increase \"\n",
      "C:\\Users\\sergi\\anaconda3\\envs\\learn-env\\lib\\site-packages\\sklearn\\svm\\_base.py:976: ConvergenceWarning: Liblinear failed to converge, increase the number of iterations.\n",
      "  warnings.warn(\"Liblinear failed to converge, increase \"\n",
      "C:\\Users\\sergi\\anaconda3\\envs\\learn-env\\lib\\site-packages\\sklearn\\svm\\_base.py:976: ConvergenceWarning: Liblinear failed to converge, increase the number of iterations.\n",
      "  warnings.warn(\"Liblinear failed to converge, increase \"\n",
      "C:\\Users\\sergi\\anaconda3\\envs\\learn-env\\lib\\site-packages\\sklearn\\svm\\_base.py:976: ConvergenceWarning: Liblinear failed to converge, increase the number of iterations.\n",
      "  warnings.warn(\"Liblinear failed to converge, increase \"\n",
      "C:\\Users\\sergi\\anaconda3\\envs\\learn-env\\lib\\site-packages\\sklearn\\svm\\_base.py:976: ConvergenceWarning: Liblinear failed to converge, increase the number of iterations.\n",
      "  warnings.warn(\"Liblinear failed to converge, increase \"\n",
      "C:\\Users\\sergi\\anaconda3\\envs\\learn-env\\lib\\site-packages\\sklearn\\linear_model\\_sag.py:329: ConvergenceWarning: The max_iter was reached which means the coef_ did not converge\n",
      "  warnings.warn(\"The max_iter was reached which means \"\n",
      "C:\\Users\\sergi\\anaconda3\\envs\\learn-env\\lib\\site-packages\\sklearn\\linear_model\\_sag.py:329: ConvergenceWarning: The max_iter was reached which means the coef_ did not converge\n",
      "  warnings.warn(\"The max_iter was reached which means \"\n",
      "C:\\Users\\sergi\\anaconda3\\envs\\learn-env\\lib\\site-packages\\sklearn\\linear_model\\_sag.py:329: ConvergenceWarning: The max_iter was reached which means the coef_ did not converge\n",
      "  warnings.warn(\"The max_iter was reached which means \"\n",
      "C:\\Users\\sergi\\anaconda3\\envs\\learn-env\\lib\\site-packages\\sklearn\\linear_model\\_sag.py:329: ConvergenceWarning: The max_iter was reached which means the coef_ did not converge\n",
      "  warnings.warn(\"The max_iter was reached which means \"\n",
      "C:\\Users\\sergi\\anaconda3\\envs\\learn-env\\lib\\site-packages\\sklearn\\linear_model\\_sag.py:329: ConvergenceWarning: The max_iter was reached which means the coef_ did not converge\n",
      "  warnings.warn(\"The max_iter was reached which means \"\n",
      "C:\\Users\\sergi\\anaconda3\\envs\\learn-env\\lib\\site-packages\\sklearn\\linear_model\\_sag.py:329: ConvergenceWarning: The max_iter was reached which means the coef_ did not converge\n",
      "  warnings.warn(\"The max_iter was reached which means \"\n",
      "C:\\Users\\sergi\\anaconda3\\envs\\learn-env\\lib\\site-packages\\sklearn\\linear_model\\_sag.py:329: ConvergenceWarning: The max_iter was reached which means the coef_ did not converge\n",
      "  warnings.warn(\"The max_iter was reached which means \"\n",
      "C:\\Users\\sergi\\anaconda3\\envs\\learn-env\\lib\\site-packages\\sklearn\\linear_model\\_sag.py:329: ConvergenceWarning: The max_iter was reached which means the coef_ did not converge\n",
      "  warnings.warn(\"The max_iter was reached which means \"\n",
      "C:\\Users\\sergi\\anaconda3\\envs\\learn-env\\lib\\site-packages\\sklearn\\linear_model\\_sag.py:329: ConvergenceWarning: The max_iter was reached which means the coef_ did not converge\n",
      "  warnings.warn(\"The max_iter was reached which means \"\n",
      "C:\\Users\\sergi\\anaconda3\\envs\\learn-env\\lib\\site-packages\\sklearn\\linear_model\\_sag.py:329: ConvergenceWarning: The max_iter was reached which means the coef_ did not converge\n",
      "  warnings.warn(\"The max_iter was reached which means \"\n",
      "C:\\Users\\sergi\\anaconda3\\envs\\learn-env\\lib\\site-packages\\sklearn\\svm\\_base.py:976: ConvergenceWarning: Liblinear failed to converge, increase the number of iterations.\n",
      "  warnings.warn(\"Liblinear failed to converge, increase \"\n",
      "C:\\Users\\sergi\\anaconda3\\envs\\learn-env\\lib\\site-packages\\sklearn\\svm\\_base.py:976: ConvergenceWarning: Liblinear failed to converge, increase the number of iterations.\n",
      "  warnings.warn(\"Liblinear failed to converge, increase \"\n",
      "C:\\Users\\sergi\\anaconda3\\envs\\learn-env\\lib\\site-packages\\sklearn\\svm\\_base.py:976: ConvergenceWarning: Liblinear failed to converge, increase the number of iterations.\n",
      "  warnings.warn(\"Liblinear failed to converge, increase \"\n",
      "C:\\Users\\sergi\\anaconda3\\envs\\learn-env\\lib\\site-packages\\sklearn\\svm\\_base.py:976: ConvergenceWarning: Liblinear failed to converge, increase the number of iterations.\n",
      "  warnings.warn(\"Liblinear failed to converge, increase \"\n",
      "C:\\Users\\sergi\\anaconda3\\envs\\learn-env\\lib\\site-packages\\sklearn\\svm\\_base.py:976: ConvergenceWarning: Liblinear failed to converge, increase the number of iterations.\n",
      "  warnings.warn(\"Liblinear failed to converge, increase \"\n",
      "C:\\Users\\sergi\\anaconda3\\envs\\learn-env\\lib\\site-packages\\sklearn\\linear_model\\_sag.py:329: ConvergenceWarning: The max_iter was reached which means the coef_ did not converge\n",
      "  warnings.warn(\"The max_iter was reached which means \"\n",
      "C:\\Users\\sergi\\anaconda3\\envs\\learn-env\\lib\\site-packages\\sklearn\\linear_model\\_sag.py:329: ConvergenceWarning: The max_iter was reached which means the coef_ did not converge\n",
      "  warnings.warn(\"The max_iter was reached which means \"\n",
      "C:\\Users\\sergi\\anaconda3\\envs\\learn-env\\lib\\site-packages\\sklearn\\linear_model\\_sag.py:329: ConvergenceWarning: The max_iter was reached which means the coef_ did not converge\n",
      "  warnings.warn(\"The max_iter was reached which means \"\n",
      "C:\\Users\\sergi\\anaconda3\\envs\\learn-env\\lib\\site-packages\\sklearn\\linear_model\\_sag.py:329: ConvergenceWarning: The max_iter was reached which means the coef_ did not converge\n",
      "  warnings.warn(\"The max_iter was reached which means \"\n",
      "C:\\Users\\sergi\\anaconda3\\envs\\learn-env\\lib\\site-packages\\sklearn\\linear_model\\_sag.py:329: ConvergenceWarning: The max_iter was reached which means the coef_ did not converge\n",
      "  warnings.warn(\"The max_iter was reached which means \"\n",
      "C:\\Users\\sergi\\anaconda3\\envs\\learn-env\\lib\\site-packages\\sklearn\\linear_model\\_sag.py:329: ConvergenceWarning: The max_iter was reached which means the coef_ did not converge\n",
      "  warnings.warn(\"The max_iter was reached which means \"\n",
      "C:\\Users\\sergi\\anaconda3\\envs\\learn-env\\lib\\site-packages\\sklearn\\linear_model\\_sag.py:329: ConvergenceWarning: The max_iter was reached which means the coef_ did not converge\n",
      "  warnings.warn(\"The max_iter was reached which means \"\n",
      "C:\\Users\\sergi\\anaconda3\\envs\\learn-env\\lib\\site-packages\\sklearn\\linear_model\\_sag.py:329: ConvergenceWarning: The max_iter was reached which means the coef_ did not converge\n",
      "  warnings.warn(\"The max_iter was reached which means \"\n",
      "C:\\Users\\sergi\\anaconda3\\envs\\learn-env\\lib\\site-packages\\sklearn\\linear_model\\_sag.py:329: ConvergenceWarning: The max_iter was reached which means the coef_ did not converge\n",
      "  warnings.warn(\"The max_iter was reached which means \"\n",
      "C:\\Users\\sergi\\anaconda3\\envs\\learn-env\\lib\\site-packages\\sklearn\\linear_model\\_sag.py:329: ConvergenceWarning: The max_iter was reached which means the coef_ did not converge\n",
      "  warnings.warn(\"The max_iter was reached which means \"\n",
      "C:\\Users\\sergi\\anaconda3\\envs\\learn-env\\lib\\site-packages\\sklearn\\svm\\_base.py:976: ConvergenceWarning: Liblinear failed to converge, increase the number of iterations.\n",
      "  warnings.warn(\"Liblinear failed to converge, increase \"\n",
      "C:\\Users\\sergi\\anaconda3\\envs\\learn-env\\lib\\site-packages\\sklearn\\svm\\_base.py:976: ConvergenceWarning: Liblinear failed to converge, increase the number of iterations.\n",
      "  warnings.warn(\"Liblinear failed to converge, increase \"\n",
      "C:\\Users\\sergi\\anaconda3\\envs\\learn-env\\lib\\site-packages\\sklearn\\svm\\_base.py:976: ConvergenceWarning: Liblinear failed to converge, increase the number of iterations.\n",
      "  warnings.warn(\"Liblinear failed to converge, increase \"\n",
      "C:\\Users\\sergi\\anaconda3\\envs\\learn-env\\lib\\site-packages\\sklearn\\svm\\_base.py:976: ConvergenceWarning: Liblinear failed to converge, increase the number of iterations.\n",
      "  warnings.warn(\"Liblinear failed to converge, increase \"\n",
      "C:\\Users\\sergi\\anaconda3\\envs\\learn-env\\lib\\site-packages\\sklearn\\svm\\_base.py:976: ConvergenceWarning: Liblinear failed to converge, increase the number of iterations.\n",
      "  warnings.warn(\"Liblinear failed to converge, increase \"\n"
     ]
    },
    {
     "name": "stderr",
     "output_type": "stream",
     "text": [
      "C:\\Users\\sergi\\anaconda3\\envs\\learn-env\\lib\\site-packages\\sklearn\\linear_model\\_sag.py:329: ConvergenceWarning: The max_iter was reached which means the coef_ did not converge\n",
      "  warnings.warn(\"The max_iter was reached which means \"\n",
      "C:\\Users\\sergi\\anaconda3\\envs\\learn-env\\lib\\site-packages\\sklearn\\linear_model\\_sag.py:329: ConvergenceWarning: The max_iter was reached which means the coef_ did not converge\n",
      "  warnings.warn(\"The max_iter was reached which means \"\n",
      "C:\\Users\\sergi\\anaconda3\\envs\\learn-env\\lib\\site-packages\\sklearn\\linear_model\\_sag.py:329: ConvergenceWarning: The max_iter was reached which means the coef_ did not converge\n",
      "  warnings.warn(\"The max_iter was reached which means \"\n",
      "C:\\Users\\sergi\\anaconda3\\envs\\learn-env\\lib\\site-packages\\sklearn\\linear_model\\_sag.py:329: ConvergenceWarning: The max_iter was reached which means the coef_ did not converge\n",
      "  warnings.warn(\"The max_iter was reached which means \"\n",
      "C:\\Users\\sergi\\anaconda3\\envs\\learn-env\\lib\\site-packages\\sklearn\\linear_model\\_sag.py:329: ConvergenceWarning: The max_iter was reached which means the coef_ did not converge\n",
      "  warnings.warn(\"The max_iter was reached which means \"\n",
      "C:\\Users\\sergi\\anaconda3\\envs\\learn-env\\lib\\site-packages\\sklearn\\svm\\_base.py:976: ConvergenceWarning: Liblinear failed to converge, increase the number of iterations.\n",
      "  warnings.warn(\"Liblinear failed to converge, increase \"\n",
      "C:\\Users\\sergi\\anaconda3\\envs\\learn-env\\lib\\site-packages\\sklearn\\svm\\_base.py:976: ConvergenceWarning: Liblinear failed to converge, increase the number of iterations.\n",
      "  warnings.warn(\"Liblinear failed to converge, increase \"\n",
      "C:\\Users\\sergi\\anaconda3\\envs\\learn-env\\lib\\site-packages\\sklearn\\svm\\_base.py:976: ConvergenceWarning: Liblinear failed to converge, increase the number of iterations.\n",
      "  warnings.warn(\"Liblinear failed to converge, increase \"\n",
      "C:\\Users\\sergi\\anaconda3\\envs\\learn-env\\lib\\site-packages\\sklearn\\svm\\_base.py:976: ConvergenceWarning: Liblinear failed to converge, increase the number of iterations.\n",
      "  warnings.warn(\"Liblinear failed to converge, increase \"\n",
      "C:\\Users\\sergi\\anaconda3\\envs\\learn-env\\lib\\site-packages\\sklearn\\svm\\_base.py:976: ConvergenceWarning: Liblinear failed to converge, increase the number of iterations.\n",
      "  warnings.warn(\"Liblinear failed to converge, increase \"\n",
      "C:\\Users\\sergi\\anaconda3\\envs\\learn-env\\lib\\site-packages\\sklearn\\linear_model\\_sag.py:329: ConvergenceWarning: The max_iter was reached which means the coef_ did not converge\n",
      "  warnings.warn(\"The max_iter was reached which means \"\n",
      "C:\\Users\\sergi\\anaconda3\\envs\\learn-env\\lib\\site-packages\\sklearn\\linear_model\\_sag.py:329: ConvergenceWarning: The max_iter was reached which means the coef_ did not converge\n",
      "  warnings.warn(\"The max_iter was reached which means \"\n",
      "C:\\Users\\sergi\\anaconda3\\envs\\learn-env\\lib\\site-packages\\sklearn\\linear_model\\_sag.py:329: ConvergenceWarning: The max_iter was reached which means the coef_ did not converge\n",
      "  warnings.warn(\"The max_iter was reached which means \"\n",
      "C:\\Users\\sergi\\anaconda3\\envs\\learn-env\\lib\\site-packages\\sklearn\\linear_model\\_sag.py:329: ConvergenceWarning: The max_iter was reached which means the coef_ did not converge\n",
      "  warnings.warn(\"The max_iter was reached which means \"\n",
      "C:\\Users\\sergi\\anaconda3\\envs\\learn-env\\lib\\site-packages\\sklearn\\linear_model\\_sag.py:329: ConvergenceWarning: The max_iter was reached which means the coef_ did not converge\n",
      "  warnings.warn(\"The max_iter was reached which means \"\n",
      "C:\\Users\\sergi\\anaconda3\\envs\\learn-env\\lib\\site-packages\\sklearn\\svm\\_base.py:976: ConvergenceWarning: Liblinear failed to converge, increase the number of iterations.\n",
      "  warnings.warn(\"Liblinear failed to converge, increase \"\n",
      "C:\\Users\\sergi\\anaconda3\\envs\\learn-env\\lib\\site-packages\\sklearn\\svm\\_base.py:976: ConvergenceWarning: Liblinear failed to converge, increase the number of iterations.\n",
      "  warnings.warn(\"Liblinear failed to converge, increase \"\n",
      "C:\\Users\\sergi\\anaconda3\\envs\\learn-env\\lib\\site-packages\\sklearn\\svm\\_base.py:976: ConvergenceWarning: Liblinear failed to converge, increase the number of iterations.\n",
      "  warnings.warn(\"Liblinear failed to converge, increase \"\n",
      "C:\\Users\\sergi\\anaconda3\\envs\\learn-env\\lib\\site-packages\\sklearn\\svm\\_base.py:976: ConvergenceWarning: Liblinear failed to converge, increase the number of iterations.\n",
      "  warnings.warn(\"Liblinear failed to converge, increase \"\n",
      "C:\\Users\\sergi\\anaconda3\\envs\\learn-env\\lib\\site-packages\\sklearn\\svm\\_base.py:976: ConvergenceWarning: Liblinear failed to converge, increase the number of iterations.\n",
      "  warnings.warn(\"Liblinear failed to converge, increase \"\n",
      "C:\\Users\\sergi\\anaconda3\\envs\\learn-env\\lib\\site-packages\\sklearn\\linear_model\\_sag.py:329: ConvergenceWarning: The max_iter was reached which means the coef_ did not converge\n",
      "  warnings.warn(\"The max_iter was reached which means \"\n",
      "C:\\Users\\sergi\\anaconda3\\envs\\learn-env\\lib\\site-packages\\sklearn\\linear_model\\_sag.py:329: ConvergenceWarning: The max_iter was reached which means the coef_ did not converge\n",
      "  warnings.warn(\"The max_iter was reached which means \"\n",
      "C:\\Users\\sergi\\anaconda3\\envs\\learn-env\\lib\\site-packages\\sklearn\\linear_model\\_sag.py:329: ConvergenceWarning: The max_iter was reached which means the coef_ did not converge\n",
      "  warnings.warn(\"The max_iter was reached which means \"\n",
      "C:\\Users\\sergi\\anaconda3\\envs\\learn-env\\lib\\site-packages\\sklearn\\linear_model\\_sag.py:329: ConvergenceWarning: The max_iter was reached which means the coef_ did not converge\n",
      "  warnings.warn(\"The max_iter was reached which means \"\n",
      "C:\\Users\\sergi\\anaconda3\\envs\\learn-env\\lib\\site-packages\\sklearn\\linear_model\\_sag.py:329: ConvergenceWarning: The max_iter was reached which means the coef_ did not converge\n",
      "  warnings.warn(\"The max_iter was reached which means \"\n",
      "C:\\Users\\sergi\\anaconda3\\envs\\learn-env\\lib\\site-packages\\sklearn\\svm\\_base.py:976: ConvergenceWarning: Liblinear failed to converge, increase the number of iterations.\n",
      "  warnings.warn(\"Liblinear failed to converge, increase \"\n",
      "C:\\Users\\sergi\\anaconda3\\envs\\learn-env\\lib\\site-packages\\sklearn\\svm\\_base.py:976: ConvergenceWarning: Liblinear failed to converge, increase the number of iterations.\n",
      "  warnings.warn(\"Liblinear failed to converge, increase \"\n",
      "C:\\Users\\sergi\\anaconda3\\envs\\learn-env\\lib\\site-packages\\sklearn\\svm\\_base.py:976: ConvergenceWarning: Liblinear failed to converge, increase the number of iterations.\n",
      "  warnings.warn(\"Liblinear failed to converge, increase \"\n",
      "C:\\Users\\sergi\\anaconda3\\envs\\learn-env\\lib\\site-packages\\sklearn\\svm\\_base.py:976: ConvergenceWarning: Liblinear failed to converge, increase the number of iterations.\n",
      "  warnings.warn(\"Liblinear failed to converge, increase \"\n",
      "C:\\Users\\sergi\\anaconda3\\envs\\learn-env\\lib\\site-packages\\sklearn\\svm\\_base.py:976: ConvergenceWarning: Liblinear failed to converge, increase the number of iterations.\n",
      "  warnings.warn(\"Liblinear failed to converge, increase \"\n",
      "C:\\Users\\sergi\\anaconda3\\envs\\learn-env\\lib\\site-packages\\sklearn\\linear_model\\_sag.py:329: ConvergenceWarning: The max_iter was reached which means the coef_ did not converge\n",
      "  warnings.warn(\"The max_iter was reached which means \"\n",
      "C:\\Users\\sergi\\anaconda3\\envs\\learn-env\\lib\\site-packages\\sklearn\\linear_model\\_sag.py:329: ConvergenceWarning: The max_iter was reached which means the coef_ did not converge\n",
      "  warnings.warn(\"The max_iter was reached which means \"\n",
      "C:\\Users\\sergi\\anaconda3\\envs\\learn-env\\lib\\site-packages\\sklearn\\linear_model\\_sag.py:329: ConvergenceWarning: The max_iter was reached which means the coef_ did not converge\n",
      "  warnings.warn(\"The max_iter was reached which means \"\n",
      "C:\\Users\\sergi\\anaconda3\\envs\\learn-env\\lib\\site-packages\\sklearn\\linear_model\\_sag.py:329: ConvergenceWarning: The max_iter was reached which means the coef_ did not converge\n",
      "  warnings.warn(\"The max_iter was reached which means \"\n",
      "C:\\Users\\sergi\\anaconda3\\envs\\learn-env\\lib\\site-packages\\sklearn\\linear_model\\_sag.py:329: ConvergenceWarning: The max_iter was reached which means the coef_ did not converge\n",
      "  warnings.warn(\"The max_iter was reached which means \"\n",
      "C:\\Users\\sergi\\anaconda3\\envs\\learn-env\\lib\\site-packages\\sklearn\\svm\\_base.py:976: ConvergenceWarning: Liblinear failed to converge, increase the number of iterations.\n",
      "  warnings.warn(\"Liblinear failed to converge, increase \"\n"
     ]
    },
    {
     "name": "stderr",
     "output_type": "stream",
     "text": [
      "C:\\Users\\sergi\\anaconda3\\envs\\learn-env\\lib\\site-packages\\sklearn\\svm\\_base.py:976: ConvergenceWarning: Liblinear failed to converge, increase the number of iterations.\n",
      "  warnings.warn(\"Liblinear failed to converge, increase \"\n",
      "C:\\Users\\sergi\\anaconda3\\envs\\learn-env\\lib\\site-packages\\sklearn\\svm\\_base.py:976: ConvergenceWarning: Liblinear failed to converge, increase the number of iterations.\n",
      "  warnings.warn(\"Liblinear failed to converge, increase \"\n",
      "C:\\Users\\sergi\\anaconda3\\envs\\learn-env\\lib\\site-packages\\sklearn\\svm\\_base.py:976: ConvergenceWarning: Liblinear failed to converge, increase the number of iterations.\n",
      "  warnings.warn(\"Liblinear failed to converge, increase \"\n",
      "C:\\Users\\sergi\\anaconda3\\envs\\learn-env\\lib\\site-packages\\sklearn\\svm\\_base.py:976: ConvergenceWarning: Liblinear failed to converge, increase the number of iterations.\n",
      "  warnings.warn(\"Liblinear failed to converge, increase \"\n",
      "C:\\Users\\sergi\\anaconda3\\envs\\learn-env\\lib\\site-packages\\sklearn\\linear_model\\_sag.py:329: ConvergenceWarning: The max_iter was reached which means the coef_ did not converge\n",
      "  warnings.warn(\"The max_iter was reached which means \"\n",
      "C:\\Users\\sergi\\anaconda3\\envs\\learn-env\\lib\\site-packages\\sklearn\\linear_model\\_sag.py:329: ConvergenceWarning: The max_iter was reached which means the coef_ did not converge\n",
      "  warnings.warn(\"The max_iter was reached which means \"\n",
      "C:\\Users\\sergi\\anaconda3\\envs\\learn-env\\lib\\site-packages\\sklearn\\linear_model\\_sag.py:329: ConvergenceWarning: The max_iter was reached which means the coef_ did not converge\n",
      "  warnings.warn(\"The max_iter was reached which means \"\n",
      "C:\\Users\\sergi\\anaconda3\\envs\\learn-env\\lib\\site-packages\\sklearn\\linear_model\\_sag.py:329: ConvergenceWarning: The max_iter was reached which means the coef_ did not converge\n",
      "  warnings.warn(\"The max_iter was reached which means \"\n",
      "C:\\Users\\sergi\\anaconda3\\envs\\learn-env\\lib\\site-packages\\sklearn\\linear_model\\_sag.py:329: ConvergenceWarning: The max_iter was reached which means the coef_ did not converge\n",
      "  warnings.warn(\"The max_iter was reached which means \"\n",
      "C:\\Users\\sergi\\anaconda3\\envs\\learn-env\\lib\\site-packages\\sklearn\\svm\\_base.py:976: ConvergenceWarning: Liblinear failed to converge, increase the number of iterations.\n",
      "  warnings.warn(\"Liblinear failed to converge, increase \"\n",
      "C:\\Users\\sergi\\anaconda3\\envs\\learn-env\\lib\\site-packages\\sklearn\\svm\\_base.py:976: ConvergenceWarning: Liblinear failed to converge, increase the number of iterations.\n",
      "  warnings.warn(\"Liblinear failed to converge, increase \"\n",
      "C:\\Users\\sergi\\anaconda3\\envs\\learn-env\\lib\\site-packages\\sklearn\\svm\\_base.py:976: ConvergenceWarning: Liblinear failed to converge, increase the number of iterations.\n",
      "  warnings.warn(\"Liblinear failed to converge, increase \"\n",
      "C:\\Users\\sergi\\anaconda3\\envs\\learn-env\\lib\\site-packages\\sklearn\\svm\\_base.py:976: ConvergenceWarning: Liblinear failed to converge, increase the number of iterations.\n",
      "  warnings.warn(\"Liblinear failed to converge, increase \"\n",
      "C:\\Users\\sergi\\anaconda3\\envs\\learn-env\\lib\\site-packages\\sklearn\\svm\\_base.py:976: ConvergenceWarning: Liblinear failed to converge, increase the number of iterations.\n",
      "  warnings.warn(\"Liblinear failed to converge, increase \"\n",
      "C:\\Users\\sergi\\anaconda3\\envs\\learn-env\\lib\\site-packages\\sklearn\\linear_model\\_sag.py:329: ConvergenceWarning: The max_iter was reached which means the coef_ did not converge\n",
      "  warnings.warn(\"The max_iter was reached which means \"\n",
      "C:\\Users\\sergi\\anaconda3\\envs\\learn-env\\lib\\site-packages\\sklearn\\linear_model\\_sag.py:329: ConvergenceWarning: The max_iter was reached which means the coef_ did not converge\n",
      "  warnings.warn(\"The max_iter was reached which means \"\n",
      "C:\\Users\\sergi\\anaconda3\\envs\\learn-env\\lib\\site-packages\\sklearn\\linear_model\\_sag.py:329: ConvergenceWarning: The max_iter was reached which means the coef_ did not converge\n",
      "  warnings.warn(\"The max_iter was reached which means \"\n",
      "C:\\Users\\sergi\\anaconda3\\envs\\learn-env\\lib\\site-packages\\sklearn\\linear_model\\_sag.py:329: ConvergenceWarning: The max_iter was reached which means the coef_ did not converge\n",
      "  warnings.warn(\"The max_iter was reached which means \"\n",
      "C:\\Users\\sergi\\anaconda3\\envs\\learn-env\\lib\\site-packages\\sklearn\\linear_model\\_sag.py:329: ConvergenceWarning: The max_iter was reached which means the coef_ did not converge\n",
      "  warnings.warn(\"The max_iter was reached which means \"\n",
      "C:\\Users\\sergi\\anaconda3\\envs\\learn-env\\lib\\site-packages\\sklearn\\svm\\_base.py:976: ConvergenceWarning: Liblinear failed to converge, increase the number of iterations.\n",
      "  warnings.warn(\"Liblinear failed to converge, increase \"\n",
      "C:\\Users\\sergi\\anaconda3\\envs\\learn-env\\lib\\site-packages\\sklearn\\svm\\_base.py:976: ConvergenceWarning: Liblinear failed to converge, increase the number of iterations.\n",
      "  warnings.warn(\"Liblinear failed to converge, increase \"\n",
      "C:\\Users\\sergi\\anaconda3\\envs\\learn-env\\lib\\site-packages\\sklearn\\svm\\_base.py:976: ConvergenceWarning: Liblinear failed to converge, increase the number of iterations.\n",
      "  warnings.warn(\"Liblinear failed to converge, increase \"\n",
      "C:\\Users\\sergi\\anaconda3\\envs\\learn-env\\lib\\site-packages\\sklearn\\svm\\_base.py:976: ConvergenceWarning: Liblinear failed to converge, increase the number of iterations.\n",
      "  warnings.warn(\"Liblinear failed to converge, increase \"\n",
      "C:\\Users\\sergi\\anaconda3\\envs\\learn-env\\lib\\site-packages\\sklearn\\svm\\_base.py:976: ConvergenceWarning: Liblinear failed to converge, increase the number of iterations.\n",
      "  warnings.warn(\"Liblinear failed to converge, increase \"\n",
      "C:\\Users\\sergi\\anaconda3\\envs\\learn-env\\lib\\site-packages\\sklearn\\linear_model\\_sag.py:329: ConvergenceWarning: The max_iter was reached which means the coef_ did not converge\n",
      "  warnings.warn(\"The max_iter was reached which means \"\n",
      "C:\\Users\\sergi\\anaconda3\\envs\\learn-env\\lib\\site-packages\\sklearn\\linear_model\\_sag.py:329: ConvergenceWarning: The max_iter was reached which means the coef_ did not converge\n",
      "  warnings.warn(\"The max_iter was reached which means \"\n",
      "C:\\Users\\sergi\\anaconda3\\envs\\learn-env\\lib\\site-packages\\sklearn\\linear_model\\_sag.py:329: ConvergenceWarning: The max_iter was reached which means the coef_ did not converge\n",
      "  warnings.warn(\"The max_iter was reached which means \"\n",
      "C:\\Users\\sergi\\anaconda3\\envs\\learn-env\\lib\\site-packages\\sklearn\\linear_model\\_sag.py:329: ConvergenceWarning: The max_iter was reached which means the coef_ did not converge\n",
      "  warnings.warn(\"The max_iter was reached which means \"\n",
      "C:\\Users\\sergi\\anaconda3\\envs\\learn-env\\lib\\site-packages\\sklearn\\linear_model\\_sag.py:329: ConvergenceWarning: The max_iter was reached which means the coef_ did not converge\n",
      "  warnings.warn(\"The max_iter was reached which means \"\n",
      "C:\\Users\\sergi\\anaconda3\\envs\\learn-env\\lib\\site-packages\\sklearn\\svm\\_base.py:976: ConvergenceWarning: Liblinear failed to converge, increase the number of iterations.\n",
      "  warnings.warn(\"Liblinear failed to converge, increase \"\n",
      "C:\\Users\\sergi\\anaconda3\\envs\\learn-env\\lib\\site-packages\\sklearn\\svm\\_base.py:976: ConvergenceWarning: Liblinear failed to converge, increase the number of iterations.\n",
      "  warnings.warn(\"Liblinear failed to converge, increase \"\n",
      "C:\\Users\\sergi\\anaconda3\\envs\\learn-env\\lib\\site-packages\\sklearn\\svm\\_base.py:976: ConvergenceWarning: Liblinear failed to converge, increase the number of iterations.\n",
      "  warnings.warn(\"Liblinear failed to converge, increase \"\n",
      "C:\\Users\\sergi\\anaconda3\\envs\\learn-env\\lib\\site-packages\\sklearn\\svm\\_base.py:976: ConvergenceWarning: Liblinear failed to converge, increase the number of iterations.\n",
      "  warnings.warn(\"Liblinear failed to converge, increase \"\n",
      "C:\\Users\\sergi\\anaconda3\\envs\\learn-env\\lib\\site-packages\\sklearn\\svm\\_base.py:976: ConvergenceWarning: Liblinear failed to converge, increase the number of iterations.\n",
      "  warnings.warn(\"Liblinear failed to converge, increase \"\n",
      "C:\\Users\\sergi\\anaconda3\\envs\\learn-env\\lib\\site-packages\\sklearn\\linear_model\\_sag.py:329: ConvergenceWarning: The max_iter was reached which means the coef_ did not converge\n",
      "  warnings.warn(\"The max_iter was reached which means \"\n",
      "C:\\Users\\sergi\\anaconda3\\envs\\learn-env\\lib\\site-packages\\sklearn\\linear_model\\_sag.py:329: ConvergenceWarning: The max_iter was reached which means the coef_ did not converge\n",
      "  warnings.warn(\"The max_iter was reached which means \"\n"
     ]
    },
    {
     "name": "stderr",
     "output_type": "stream",
     "text": [
      "C:\\Users\\sergi\\anaconda3\\envs\\learn-env\\lib\\site-packages\\sklearn\\linear_model\\_sag.py:329: ConvergenceWarning: The max_iter was reached which means the coef_ did not converge\n",
      "  warnings.warn(\"The max_iter was reached which means \"\n",
      "C:\\Users\\sergi\\anaconda3\\envs\\learn-env\\lib\\site-packages\\sklearn\\linear_model\\_sag.py:329: ConvergenceWarning: The max_iter was reached which means the coef_ did not converge\n",
      "  warnings.warn(\"The max_iter was reached which means \"\n",
      "C:\\Users\\sergi\\anaconda3\\envs\\learn-env\\lib\\site-packages\\sklearn\\linear_model\\_sag.py:329: ConvergenceWarning: The max_iter was reached which means the coef_ did not converge\n",
      "  warnings.warn(\"The max_iter was reached which means \"\n",
      "C:\\Users\\sergi\\anaconda3\\envs\\learn-env\\lib\\site-packages\\sklearn\\svm\\_base.py:976: ConvergenceWarning: Liblinear failed to converge, increase the number of iterations.\n",
      "  warnings.warn(\"Liblinear failed to converge, increase \"\n",
      "C:\\Users\\sergi\\anaconda3\\envs\\learn-env\\lib\\site-packages\\sklearn\\svm\\_base.py:976: ConvergenceWarning: Liblinear failed to converge, increase the number of iterations.\n",
      "  warnings.warn(\"Liblinear failed to converge, increase \"\n",
      "C:\\Users\\sergi\\anaconda3\\envs\\learn-env\\lib\\site-packages\\sklearn\\svm\\_base.py:976: ConvergenceWarning: Liblinear failed to converge, increase the number of iterations.\n",
      "  warnings.warn(\"Liblinear failed to converge, increase \"\n",
      "C:\\Users\\sergi\\anaconda3\\envs\\learn-env\\lib\\site-packages\\sklearn\\svm\\_base.py:976: ConvergenceWarning: Liblinear failed to converge, increase the number of iterations.\n",
      "  warnings.warn(\"Liblinear failed to converge, increase \"\n",
      "C:\\Users\\sergi\\anaconda3\\envs\\learn-env\\lib\\site-packages\\sklearn\\svm\\_base.py:976: ConvergenceWarning: Liblinear failed to converge, increase the number of iterations.\n",
      "  warnings.warn(\"Liblinear failed to converge, increase \"\n",
      "C:\\Users\\sergi\\anaconda3\\envs\\learn-env\\lib\\site-packages\\sklearn\\linear_model\\_sag.py:329: ConvergenceWarning: The max_iter was reached which means the coef_ did not converge\n",
      "  warnings.warn(\"The max_iter was reached which means \"\n",
      "C:\\Users\\sergi\\anaconda3\\envs\\learn-env\\lib\\site-packages\\sklearn\\linear_model\\_sag.py:329: ConvergenceWarning: The max_iter was reached which means the coef_ did not converge\n",
      "  warnings.warn(\"The max_iter was reached which means \"\n",
      "C:\\Users\\sergi\\anaconda3\\envs\\learn-env\\lib\\site-packages\\sklearn\\linear_model\\_sag.py:329: ConvergenceWarning: The max_iter was reached which means the coef_ did not converge\n",
      "  warnings.warn(\"The max_iter was reached which means \"\n",
      "C:\\Users\\sergi\\anaconda3\\envs\\learn-env\\lib\\site-packages\\sklearn\\linear_model\\_sag.py:329: ConvergenceWarning: The max_iter was reached which means the coef_ did not converge\n",
      "  warnings.warn(\"The max_iter was reached which means \"\n",
      "C:\\Users\\sergi\\anaconda3\\envs\\learn-env\\lib\\site-packages\\sklearn\\linear_model\\_sag.py:329: ConvergenceWarning: The max_iter was reached which means the coef_ did not converge\n",
      "  warnings.warn(\"The max_iter was reached which means \"\n",
      "C:\\Users\\sergi\\anaconda3\\envs\\learn-env\\lib\\site-packages\\sklearn\\svm\\_base.py:976: ConvergenceWarning: Liblinear failed to converge, increase the number of iterations.\n",
      "  warnings.warn(\"Liblinear failed to converge, increase \"\n",
      "C:\\Users\\sergi\\anaconda3\\envs\\learn-env\\lib\\site-packages\\sklearn\\svm\\_base.py:976: ConvergenceWarning: Liblinear failed to converge, increase the number of iterations.\n",
      "  warnings.warn(\"Liblinear failed to converge, increase \"\n",
      "C:\\Users\\sergi\\anaconda3\\envs\\learn-env\\lib\\site-packages\\sklearn\\svm\\_base.py:976: ConvergenceWarning: Liblinear failed to converge, increase the number of iterations.\n",
      "  warnings.warn(\"Liblinear failed to converge, increase \"\n",
      "C:\\Users\\sergi\\anaconda3\\envs\\learn-env\\lib\\site-packages\\sklearn\\svm\\_base.py:976: ConvergenceWarning: Liblinear failed to converge, increase the number of iterations.\n",
      "  warnings.warn(\"Liblinear failed to converge, increase \"\n",
      "C:\\Users\\sergi\\anaconda3\\envs\\learn-env\\lib\\site-packages\\sklearn\\svm\\_base.py:976: ConvergenceWarning: Liblinear failed to converge, increase the number of iterations.\n",
      "  warnings.warn(\"Liblinear failed to converge, increase \"\n",
      "C:\\Users\\sergi\\anaconda3\\envs\\learn-env\\lib\\site-packages\\sklearn\\linear_model\\_sag.py:329: ConvergenceWarning: The max_iter was reached which means the coef_ did not converge\n",
      "  warnings.warn(\"The max_iter was reached which means \"\n",
      "C:\\Users\\sergi\\anaconda3\\envs\\learn-env\\lib\\site-packages\\sklearn\\linear_model\\_sag.py:329: ConvergenceWarning: The max_iter was reached which means the coef_ did not converge\n",
      "  warnings.warn(\"The max_iter was reached which means \"\n",
      "C:\\Users\\sergi\\anaconda3\\envs\\learn-env\\lib\\site-packages\\sklearn\\linear_model\\_sag.py:329: ConvergenceWarning: The max_iter was reached which means the coef_ did not converge\n",
      "  warnings.warn(\"The max_iter was reached which means \"\n",
      "C:\\Users\\sergi\\anaconda3\\envs\\learn-env\\lib\\site-packages\\sklearn\\linear_model\\_sag.py:329: ConvergenceWarning: The max_iter was reached which means the coef_ did not converge\n",
      "  warnings.warn(\"The max_iter was reached which means \"\n",
      "C:\\Users\\sergi\\anaconda3\\envs\\learn-env\\lib\\site-packages\\sklearn\\linear_model\\_sag.py:329: ConvergenceWarning: The max_iter was reached which means the coef_ did not converge\n",
      "  warnings.warn(\"The max_iter was reached which means \"\n",
      "C:\\Users\\sergi\\anaconda3\\envs\\learn-env\\lib\\site-packages\\sklearn\\svm\\_base.py:976: ConvergenceWarning: Liblinear failed to converge, increase the number of iterations.\n",
      "  warnings.warn(\"Liblinear failed to converge, increase \"\n",
      "C:\\Users\\sergi\\anaconda3\\envs\\learn-env\\lib\\site-packages\\sklearn\\svm\\_base.py:976: ConvergenceWarning: Liblinear failed to converge, increase the number of iterations.\n",
      "  warnings.warn(\"Liblinear failed to converge, increase \"\n",
      "C:\\Users\\sergi\\anaconda3\\envs\\learn-env\\lib\\site-packages\\sklearn\\svm\\_base.py:976: ConvergenceWarning: Liblinear failed to converge, increase the number of iterations.\n",
      "  warnings.warn(\"Liblinear failed to converge, increase \"\n",
      "C:\\Users\\sergi\\anaconda3\\envs\\learn-env\\lib\\site-packages\\sklearn\\svm\\_base.py:976: ConvergenceWarning: Liblinear failed to converge, increase the number of iterations.\n",
      "  warnings.warn(\"Liblinear failed to converge, increase \"\n",
      "C:\\Users\\sergi\\anaconda3\\envs\\learn-env\\lib\\site-packages\\sklearn\\svm\\_base.py:976: ConvergenceWarning: Liblinear failed to converge, increase the number of iterations.\n",
      "  warnings.warn(\"Liblinear failed to converge, increase \"\n",
      "C:\\Users\\sergi\\anaconda3\\envs\\learn-env\\lib\\site-packages\\sklearn\\linear_model\\_sag.py:329: ConvergenceWarning: The max_iter was reached which means the coef_ did not converge\n",
      "  warnings.warn(\"The max_iter was reached which means \"\n",
      "C:\\Users\\sergi\\anaconda3\\envs\\learn-env\\lib\\site-packages\\sklearn\\linear_model\\_sag.py:329: ConvergenceWarning: The max_iter was reached which means the coef_ did not converge\n",
      "  warnings.warn(\"The max_iter was reached which means \"\n",
      "C:\\Users\\sergi\\anaconda3\\envs\\learn-env\\lib\\site-packages\\sklearn\\linear_model\\_sag.py:329: ConvergenceWarning: The max_iter was reached which means the coef_ did not converge\n",
      "  warnings.warn(\"The max_iter was reached which means \"\n",
      "C:\\Users\\sergi\\anaconda3\\envs\\learn-env\\lib\\site-packages\\sklearn\\linear_model\\_sag.py:329: ConvergenceWarning: The max_iter was reached which means the coef_ did not converge\n",
      "  warnings.warn(\"The max_iter was reached which means \"\n",
      "C:\\Users\\sergi\\anaconda3\\envs\\learn-env\\lib\\site-packages\\sklearn\\linear_model\\_sag.py:329: ConvergenceWarning: The max_iter was reached which means the coef_ did not converge\n",
      "  warnings.warn(\"The max_iter was reached which means \"\n",
      "C:\\Users\\sergi\\anaconda3\\envs\\learn-env\\lib\\site-packages\\sklearn\\svm\\_base.py:976: ConvergenceWarning: Liblinear failed to converge, increase the number of iterations.\n",
      "  warnings.warn(\"Liblinear failed to converge, increase \"\n",
      "C:\\Users\\sergi\\anaconda3\\envs\\learn-env\\lib\\site-packages\\sklearn\\svm\\_base.py:976: ConvergenceWarning: Liblinear failed to converge, increase the number of iterations.\n",
      "  warnings.warn(\"Liblinear failed to converge, increase \"\n",
      "C:\\Users\\sergi\\anaconda3\\envs\\learn-env\\lib\\site-packages\\sklearn\\svm\\_base.py:976: ConvergenceWarning: Liblinear failed to converge, increase the number of iterations.\n",
      "  warnings.warn(\"Liblinear failed to converge, increase \"\n"
     ]
    },
    {
     "name": "stderr",
     "output_type": "stream",
     "text": [
      "C:\\Users\\sergi\\anaconda3\\envs\\learn-env\\lib\\site-packages\\sklearn\\svm\\_base.py:976: ConvergenceWarning: Liblinear failed to converge, increase the number of iterations.\n",
      "  warnings.warn(\"Liblinear failed to converge, increase \"\n",
      "C:\\Users\\sergi\\anaconda3\\envs\\learn-env\\lib\\site-packages\\sklearn\\svm\\_base.py:976: ConvergenceWarning: Liblinear failed to converge, increase the number of iterations.\n",
      "  warnings.warn(\"Liblinear failed to converge, increase \"\n",
      "C:\\Users\\sergi\\anaconda3\\envs\\learn-env\\lib\\site-packages\\sklearn\\linear_model\\_sag.py:329: ConvergenceWarning: The max_iter was reached which means the coef_ did not converge\n",
      "  warnings.warn(\"The max_iter was reached which means \"\n",
      "C:\\Users\\sergi\\anaconda3\\envs\\learn-env\\lib\\site-packages\\sklearn\\linear_model\\_sag.py:329: ConvergenceWarning: The max_iter was reached which means the coef_ did not converge\n",
      "  warnings.warn(\"The max_iter was reached which means \"\n",
      "C:\\Users\\sergi\\anaconda3\\envs\\learn-env\\lib\\site-packages\\sklearn\\linear_model\\_sag.py:329: ConvergenceWarning: The max_iter was reached which means the coef_ did not converge\n",
      "  warnings.warn(\"The max_iter was reached which means \"\n",
      "C:\\Users\\sergi\\anaconda3\\envs\\learn-env\\lib\\site-packages\\sklearn\\linear_model\\_sag.py:329: ConvergenceWarning: The max_iter was reached which means the coef_ did not converge\n",
      "  warnings.warn(\"The max_iter was reached which means \"\n",
      "C:\\Users\\sergi\\anaconda3\\envs\\learn-env\\lib\\site-packages\\sklearn\\linear_model\\_sag.py:329: ConvergenceWarning: The max_iter was reached which means the coef_ did not converge\n",
      "  warnings.warn(\"The max_iter was reached which means \"\n",
      "C:\\Users\\sergi\\anaconda3\\envs\\learn-env\\lib\\site-packages\\sklearn\\svm\\_base.py:976: ConvergenceWarning: Liblinear failed to converge, increase the number of iterations.\n",
      "  warnings.warn(\"Liblinear failed to converge, increase \"\n"
     ]
    },
    {
     "data": {
      "text/plain": [
       "GridSearchCV(estimator=LogisticRegression(random_state=42),\n",
       "             param_grid={'C': [0.001, 0.1, 1, 100, 10000, 1000000, 1000000000,\n",
       "                               100000000000],\n",
       "                         'fit_intercept': [True, False],\n",
       "                         'penalty': ['l1', 'l2'],\n",
       "                         'solver': ['liblinear', 'saga']},\n",
       "             scoring='recall')"
      ]
     },
     "execution_count": 276,
     "metadata": {},
     "output_type": "execute_result"
    }
   ],
   "source": [
    "log_grid.fit(X_train_smote_sig,y_train_smote)"
   ]
  },
  {
   "cell_type": "code",
   "execution_count": 277,
   "metadata": {
    "ExecuteTime": {
     "end_time": "2021-02-18T18:44:59.388846Z",
     "start_time": "2021-02-18T18:44:59.383889Z"
    }
   },
   "outputs": [
    {
     "data": {
      "text/plain": [
       "{'C': 100000000000,\n",
       " 'fit_intercept': True,\n",
       " 'penalty': 'l2',\n",
       " 'solver': 'liblinear'}"
      ]
     },
     "execution_count": 277,
     "metadata": {},
     "output_type": "execute_result"
    }
   ],
   "source": [
    "log_grid.best_params_"
   ]
  },
  {
   "cell_type": "code",
   "execution_count": 278,
   "metadata": {
    "ExecuteTime": {
     "end_time": "2021-02-18T18:46:36.324073Z",
     "start_time": "2021-02-18T18:46:36.303099Z"
    }
   },
   "outputs": [
    {
     "data": {
      "text/plain": [
       "{'mean_fit_time': array([3.02140236e-02, 2.27347374e-02, 4.60528851e-02, 1.31857920e-01,\n",
       "        2.65359402e-02, 2.18698978e-02, 3.99869442e-02, 1.31502151e-01,\n",
       "        7.45925107e+00, 8.34959841e-01, 7.18837738e-02, 1.20003366e-01,\n",
       "        8.19937472e+00, 8.22843409e-01, 6.82873726e-02, 1.22397757e-01,\n",
       "        1.69313644e+01, 8.63760996e-01, 1.20870972e-01, 6.13922787e-01,\n",
       "        1.84950154e+01, 8.73055029e-01, 1.18543911e-01, 5.47483826e-01,\n",
       "        5.42192980e+01, 1.08982944e+00, 3.09375095e-01, 6.17930269e-01,\n",
       "        5.46389965e+01, 1.07304573e+00, 3.34042025e-01, 6.15921831e-01,\n",
       "        6.30747563e+01, 1.11903038e+00, 2.60969172e+00, 6.20132303e-01,\n",
       "        6.65784155e+01, 1.13096476e+00, 2.24127278e+00, 6.14920187e-01,\n",
       "        6.44076238e+01, 1.12090559e+00, 3.67965665e+00, 6.15156603e-01,\n",
       "        6.59916940e+01, 1.11021609e+00, 3.78714614e+00, 6.14555979e-01,\n",
       "        6.47174643e+01, 1.11756973e+00, 3.75441308e+00, 6.17300940e-01,\n",
       "        6.60580731e+01, 1.11031027e+00, 4.10774717e+00, 6.13707304e-01,\n",
       "        6.41157099e+01, 1.11402717e+00, 3.93097758e+00, 6.13658381e-01,\n",
       "        6.60233723e+01, 1.12026563e+00, 4.03402858e+00, 6.12603331e-01]),\n",
       " 'std_fit_time': array([4.34700928e-03, 1.21798994e-02, 4.05385290e-03, 7.04553145e-03,\n",
       "        9.31921257e-03, 7.65268930e-03, 7.22990806e-03, 8.01210947e-03,\n",
       "        1.12675188e+00, 1.14279053e-02, 1.20191473e-02, 5.79093699e-03,\n",
       "        1.89114447e+00, 8.51299938e-03, 5.86818836e-03, 5.65185889e-03,\n",
       "        1.69459977e+00, 8.38889085e-03, 9.42534013e-03, 6.09842915e-03,\n",
       "        3.04311322e+00, 6.53919925e-03, 8.54415241e-03, 1.07574050e-02,\n",
       "        2.39948343e+01, 1.41729506e-02, 2.84305279e-02, 4.85725990e-04,\n",
       "        1.53100908e+01, 1.71244484e-02, 3.51715299e-02, 8.28606840e-03,\n",
       "        1.39837248e+01, 1.65585160e-02, 5.85048237e-01, 6.78691303e-03,\n",
       "        2.25197025e+01, 2.48137421e-02, 4.40358592e-01, 5.94230737e-03,\n",
       "        1.41439738e+01, 7.25897361e-03, 5.49619505e-01, 6.19717708e-03,\n",
       "        2.15572423e+01, 1.22118289e-02, 8.51495229e-01, 1.16146361e-03,\n",
       "        1.48567288e+01, 9.06972496e-03, 1.13563298e+00, 8.06594334e-03,\n",
       "        2.14547108e+01, 1.74890763e-02, 4.96883003e-01, 8.68756725e-03,\n",
       "        1.41193878e+01, 1.28307276e-02, 7.22673073e-01, 6.93271027e-03,\n",
       "        2.14465975e+01, 1.47201655e-02, 5.77721909e-01, 7.42140247e-03]),\n",
       " 'mean_score_time': array([0.0045279 , 0.00382857, 0.00059853, 0.00738745, 0.00371547,\n",
       "        0.00937266, 0.00312395, 0.00625463, 0.00404673, 0.00312419,\n",
       "        0.00059843, 0.00636663, 0.00372276, 0.        , 0.00392175,\n",
       "        0.00079794, 0.0037159 , 0.0039216 , 0.00841565, 0.00312338,\n",
       "        0.00118246, 0.        , 0.00685863, 0.        , 0.00059834,\n",
       "        0.00239   , 0.00318871, 0.00300841, 0.00392189, 0.00059819,\n",
       "        0.00059767, 0.00059671, 0.00059695, 0.00684443, 0.00312386,\n",
       "        0.00059962, 0.00372162, 0.00339642, 0.00392842, 0.00371375,\n",
       "        0.00571275, 0.        , 0.00763803, 0.00198889, 0.        ,\n",
       "        0.003123  , 0.00471807, 0.00339255, 0.        , 0.00624828,\n",
       "        0.00312467, 0.00312371, 0.00453258, 0.00060096, 0.00937047,\n",
       "        0.00059748, 0.00694466, 0.00624862, 0.00334172, 0.00937214,\n",
       "        0.        , 0.        , 0.00391979, 0.00704427]),\n",
       " 'std_score_time': array([5.77335090e-03, 6.26900902e-03, 1.19705200e-03, 7.94814684e-03,\n",
       "        6.06186001e-03, 7.65274770e-03, 6.24790192e-03, 7.66032627e-03,\n",
       "        6.29140633e-03, 6.24837875e-03, 1.19686127e-03, 7.79973344e-03,\n",
       "        6.06076524e-03, 0.00000000e+00, 6.04941508e-03, 1.59587860e-03,\n",
       "        6.04768368e-03, 6.04968852e-03, 5.87825705e-03, 6.24675751e-03,\n",
       "        1.44821298e-03, 0.00000000e+00, 7.25050144e-03, 0.00000000e+00,\n",
       "        1.19667053e-03, 1.95147506e-03, 3.97641954e-04, 1.36723441e-05,\n",
       "        6.03898231e-03, 1.19638443e-03, 1.19533539e-03, 1.19342804e-03,\n",
       "        1.19390488e-03, 7.23445626e-03, 6.24771118e-03, 1.19924545e-03,\n",
       "        6.04601913e-03, 4.96960560e-04, 6.04977876e-03, 6.04396821e-03,\n",
       "        4.96240488e-03, 0.00000000e+00, 6.63693507e-03, 1.66535243e-03,\n",
       "        0.00000000e+00, 6.24599457e-03, 5.73037577e-03, 4.90498969e-04,\n",
       "        0.00000000e+00, 7.65255304e-03, 6.24933243e-03, 6.24742508e-03,\n",
       "        5.76143035e-03, 1.20191574e-03, 7.65095721e-03, 1.19495392e-03,\n",
       "        7.15591792e-03, 7.65296184e-03, 6.13863461e-03, 7.65231957e-03,\n",
       "        0.00000000e+00, 0.00000000e+00, 6.04930271e-03, 7.14897261e-03]),\n",
       " 'param_C': masked_array(data=[0.001, 0.001, 0.001, 0.001, 0.001, 0.001, 0.001, 0.001,\n",
       "                    0.1, 0.1, 0.1, 0.1, 0.1, 0.1, 0.1, 0.1, 1, 1, 1, 1, 1,\n",
       "                    1, 1, 1, 100, 100, 100, 100, 100, 100, 100, 100, 10000,\n",
       "                    10000, 10000, 10000, 10000, 10000, 10000, 10000,\n",
       "                    1000000, 1000000, 1000000, 1000000, 1000000, 1000000,\n",
       "                    1000000, 1000000, 1000000000, 1000000000, 1000000000,\n",
       "                    1000000000, 1000000000, 1000000000, 1000000000,\n",
       "                    1000000000, 100000000000, 100000000000, 100000000000,\n",
       "                    100000000000, 100000000000, 100000000000, 100000000000,\n",
       "                    100000000000],\n",
       "              mask=[False, False, False, False, False, False, False, False,\n",
       "                    False, False, False, False, False, False, False, False,\n",
       "                    False, False, False, False, False, False, False, False,\n",
       "                    False, False, False, False, False, False, False, False,\n",
       "                    False, False, False, False, False, False, False, False,\n",
       "                    False, False, False, False, False, False, False, False,\n",
       "                    False, False, False, False, False, False, False, False,\n",
       "                    False, False, False, False, False, False, False, False],\n",
       "        fill_value='?',\n",
       "             dtype=object),\n",
       " 'param_fit_intercept': masked_array(data=[True, True, True, True, False, False, False, False,\n",
       "                    True, True, True, True, False, False, False, False,\n",
       "                    True, True, True, True, False, False, False, False,\n",
       "                    True, True, True, True, False, False, False, False,\n",
       "                    True, True, True, True, False, False, False, False,\n",
       "                    True, True, True, True, False, False, False, False,\n",
       "                    True, True, True, True, False, False, False, False,\n",
       "                    True, True, True, True, False, False, False, False],\n",
       "              mask=[False, False, False, False, False, False, False, False,\n",
       "                    False, False, False, False, False, False, False, False,\n",
       "                    False, False, False, False, False, False, False, False,\n",
       "                    False, False, False, False, False, False, False, False,\n",
       "                    False, False, False, False, False, False, False, False,\n",
       "                    False, False, False, False, False, False, False, False,\n",
       "                    False, False, False, False, False, False, False, False,\n",
       "                    False, False, False, False, False, False, False, False],\n",
       "        fill_value='?',\n",
       "             dtype=object),\n",
       " 'param_penalty': masked_array(data=['l1', 'l1', 'l2', 'l2', 'l1', 'l1', 'l2', 'l2', 'l1',\n",
       "                    'l1', 'l2', 'l2', 'l1', 'l1', 'l2', 'l2', 'l1', 'l1',\n",
       "                    'l2', 'l2', 'l1', 'l1', 'l2', 'l2', 'l1', 'l1', 'l2',\n",
       "                    'l2', 'l1', 'l1', 'l2', 'l2', 'l1', 'l1', 'l2', 'l2',\n",
       "                    'l1', 'l1', 'l2', 'l2', 'l1', 'l1', 'l2', 'l2', 'l1',\n",
       "                    'l1', 'l2', 'l2', 'l1', 'l1', 'l2', 'l2', 'l1', 'l1',\n",
       "                    'l2', 'l2', 'l1', 'l1', 'l2', 'l2', 'l1', 'l1', 'l2',\n",
       "                    'l2'],\n",
       "              mask=[False, False, False, False, False, False, False, False,\n",
       "                    False, False, False, False, False, False, False, False,\n",
       "                    False, False, False, False, False, False, False, False,\n",
       "                    False, False, False, False, False, False, False, False,\n",
       "                    False, False, False, False, False, False, False, False,\n",
       "                    False, False, False, False, False, False, False, False,\n",
       "                    False, False, False, False, False, False, False, False,\n",
       "                    False, False, False, False, False, False, False, False],\n",
       "        fill_value='?',\n",
       "             dtype=object),\n",
       " 'param_solver': masked_array(data=['liblinear', 'saga', 'liblinear', 'saga', 'liblinear',\n",
       "                    'saga', 'liblinear', 'saga', 'liblinear', 'saga',\n",
       "                    'liblinear', 'saga', 'liblinear', 'saga', 'liblinear',\n",
       "                    'saga', 'liblinear', 'saga', 'liblinear', 'saga',\n",
       "                    'liblinear', 'saga', 'liblinear', 'saga', 'liblinear',\n",
       "                    'saga', 'liblinear', 'saga', 'liblinear', 'saga',\n",
       "                    'liblinear', 'saga', 'liblinear', 'saga', 'liblinear',\n",
       "                    'saga', 'liblinear', 'saga', 'liblinear', 'saga',\n",
       "                    'liblinear', 'saga', 'liblinear', 'saga', 'liblinear',\n",
       "                    'saga', 'liblinear', 'saga', 'liblinear', 'saga',\n",
       "                    'liblinear', 'saga', 'liblinear', 'saga', 'liblinear',\n",
       "                    'saga', 'liblinear', 'saga', 'liblinear', 'saga',\n",
       "                    'liblinear', 'saga', 'liblinear', 'saga'],\n",
       "              mask=[False, False, False, False, False, False, False, False,\n",
       "                    False, False, False, False, False, False, False, False,\n",
       "                    False, False, False, False, False, False, False, False,\n",
       "                    False, False, False, False, False, False, False, False,\n",
       "                    False, False, False, False, False, False, False, False,\n",
       "                    False, False, False, False, False, False, False, False,\n",
       "                    False, False, False, False, False, False, False, False,\n",
       "                    False, False, False, False, False, False, False, False],\n",
       "        fill_value='?',\n",
       "             dtype=object),\n",
       " 'params': [{'C': 0.001,\n",
       "   'fit_intercept': True,\n",
       "   'penalty': 'l1',\n",
       "   'solver': 'liblinear'},\n",
       "  {'C': 0.001, 'fit_intercept': True, 'penalty': 'l1', 'solver': 'saga'},\n",
       "  {'C': 0.001, 'fit_intercept': True, 'penalty': 'l2', 'solver': 'liblinear'},\n",
       "  {'C': 0.001, 'fit_intercept': True, 'penalty': 'l2', 'solver': 'saga'},\n",
       "  {'C': 0.001, 'fit_intercept': False, 'penalty': 'l1', 'solver': 'liblinear'},\n",
       "  {'C': 0.001, 'fit_intercept': False, 'penalty': 'l1', 'solver': 'saga'},\n",
       "  {'C': 0.001, 'fit_intercept': False, 'penalty': 'l2', 'solver': 'liblinear'},\n",
       "  {'C': 0.001, 'fit_intercept': False, 'penalty': 'l2', 'solver': 'saga'},\n",
       "  {'C': 0.1, 'fit_intercept': True, 'penalty': 'l1', 'solver': 'liblinear'},\n",
       "  {'C': 0.1, 'fit_intercept': True, 'penalty': 'l1', 'solver': 'saga'},\n",
       "  {'C': 0.1, 'fit_intercept': True, 'penalty': 'l2', 'solver': 'liblinear'},\n",
       "  {'C': 0.1, 'fit_intercept': True, 'penalty': 'l2', 'solver': 'saga'},\n",
       "  {'C': 0.1, 'fit_intercept': False, 'penalty': 'l1', 'solver': 'liblinear'},\n",
       "  {'C': 0.1, 'fit_intercept': False, 'penalty': 'l1', 'solver': 'saga'},\n",
       "  {'C': 0.1, 'fit_intercept': False, 'penalty': 'l2', 'solver': 'liblinear'},\n",
       "  {'C': 0.1, 'fit_intercept': False, 'penalty': 'l2', 'solver': 'saga'},\n",
       "  {'C': 1, 'fit_intercept': True, 'penalty': 'l1', 'solver': 'liblinear'},\n",
       "  {'C': 1, 'fit_intercept': True, 'penalty': 'l1', 'solver': 'saga'},\n",
       "  {'C': 1, 'fit_intercept': True, 'penalty': 'l2', 'solver': 'liblinear'},\n",
       "  {'C': 1, 'fit_intercept': True, 'penalty': 'l2', 'solver': 'saga'},\n",
       "  {'C': 1, 'fit_intercept': False, 'penalty': 'l1', 'solver': 'liblinear'},\n",
       "  {'C': 1, 'fit_intercept': False, 'penalty': 'l1', 'solver': 'saga'},\n",
       "  {'C': 1, 'fit_intercept': False, 'penalty': 'l2', 'solver': 'liblinear'},\n",
       "  {'C': 1, 'fit_intercept': False, 'penalty': 'l2', 'solver': 'saga'},\n",
       "  {'C': 100, 'fit_intercept': True, 'penalty': 'l1', 'solver': 'liblinear'},\n",
       "  {'C': 100, 'fit_intercept': True, 'penalty': 'l1', 'solver': 'saga'},\n",
       "  {'C': 100, 'fit_intercept': True, 'penalty': 'l2', 'solver': 'liblinear'},\n",
       "  {'C': 100, 'fit_intercept': True, 'penalty': 'l2', 'solver': 'saga'},\n",
       "  {'C': 100, 'fit_intercept': False, 'penalty': 'l1', 'solver': 'liblinear'},\n",
       "  {'C': 100, 'fit_intercept': False, 'penalty': 'l1', 'solver': 'saga'},\n",
       "  {'C': 100, 'fit_intercept': False, 'penalty': 'l2', 'solver': 'liblinear'},\n",
       "  {'C': 100, 'fit_intercept': False, 'penalty': 'l2', 'solver': 'saga'},\n",
       "  {'C': 10000, 'fit_intercept': True, 'penalty': 'l1', 'solver': 'liblinear'},\n",
       "  {'C': 10000, 'fit_intercept': True, 'penalty': 'l1', 'solver': 'saga'},\n",
       "  {'C': 10000, 'fit_intercept': True, 'penalty': 'l2', 'solver': 'liblinear'},\n",
       "  {'C': 10000, 'fit_intercept': True, 'penalty': 'l2', 'solver': 'saga'},\n",
       "  {'C': 10000, 'fit_intercept': False, 'penalty': 'l1', 'solver': 'liblinear'},\n",
       "  {'C': 10000, 'fit_intercept': False, 'penalty': 'l1', 'solver': 'saga'},\n",
       "  {'C': 10000, 'fit_intercept': False, 'penalty': 'l2', 'solver': 'liblinear'},\n",
       "  {'C': 10000, 'fit_intercept': False, 'penalty': 'l2', 'solver': 'saga'},\n",
       "  {'C': 1000000,\n",
       "   'fit_intercept': True,\n",
       "   'penalty': 'l1',\n",
       "   'solver': 'liblinear'},\n",
       "  {'C': 1000000, 'fit_intercept': True, 'penalty': 'l1', 'solver': 'saga'},\n",
       "  {'C': 1000000,\n",
       "   'fit_intercept': True,\n",
       "   'penalty': 'l2',\n",
       "   'solver': 'liblinear'},\n",
       "  {'C': 1000000, 'fit_intercept': True, 'penalty': 'l2', 'solver': 'saga'},\n",
       "  {'C': 1000000,\n",
       "   'fit_intercept': False,\n",
       "   'penalty': 'l1',\n",
       "   'solver': 'liblinear'},\n",
       "  {'C': 1000000, 'fit_intercept': False, 'penalty': 'l1', 'solver': 'saga'},\n",
       "  {'C': 1000000,\n",
       "   'fit_intercept': False,\n",
       "   'penalty': 'l2',\n",
       "   'solver': 'liblinear'},\n",
       "  {'C': 1000000, 'fit_intercept': False, 'penalty': 'l2', 'solver': 'saga'},\n",
       "  {'C': 1000000000,\n",
       "   'fit_intercept': True,\n",
       "   'penalty': 'l1',\n",
       "   'solver': 'liblinear'},\n",
       "  {'C': 1000000000, 'fit_intercept': True, 'penalty': 'l1', 'solver': 'saga'},\n",
       "  {'C': 1000000000,\n",
       "   'fit_intercept': True,\n",
       "   'penalty': 'l2',\n",
       "   'solver': 'liblinear'},\n",
       "  {'C': 1000000000, 'fit_intercept': True, 'penalty': 'l2', 'solver': 'saga'},\n",
       "  {'C': 1000000000,\n",
       "   'fit_intercept': False,\n",
       "   'penalty': 'l1',\n",
       "   'solver': 'liblinear'},\n",
       "  {'C': 1000000000, 'fit_intercept': False, 'penalty': 'l1', 'solver': 'saga'},\n",
       "  {'C': 1000000000,\n",
       "   'fit_intercept': False,\n",
       "   'penalty': 'l2',\n",
       "   'solver': 'liblinear'},\n",
       "  {'C': 1000000000, 'fit_intercept': False, 'penalty': 'l2', 'solver': 'saga'},\n",
       "  {'C': 100000000000,\n",
       "   'fit_intercept': True,\n",
       "   'penalty': 'l1',\n",
       "   'solver': 'liblinear'},\n",
       "  {'C': 100000000000,\n",
       "   'fit_intercept': True,\n",
       "   'penalty': 'l1',\n",
       "   'solver': 'saga'},\n",
       "  {'C': 100000000000,\n",
       "   'fit_intercept': True,\n",
       "   'penalty': 'l2',\n",
       "   'solver': 'liblinear'},\n",
       "  {'C': 100000000000,\n",
       "   'fit_intercept': True,\n",
       "   'penalty': 'l2',\n",
       "   'solver': 'saga'},\n",
       "  {'C': 100000000000,\n",
       "   'fit_intercept': False,\n",
       "   'penalty': 'l1',\n",
       "   'solver': 'liblinear'},\n",
       "  {'C': 100000000000,\n",
       "   'fit_intercept': False,\n",
       "   'penalty': 'l1',\n",
       "   'solver': 'saga'},\n",
       "  {'C': 100000000000,\n",
       "   'fit_intercept': False,\n",
       "   'penalty': 'l2',\n",
       "   'solver': 'liblinear'},\n",
       "  {'C': 100000000000,\n",
       "   'fit_intercept': False,\n",
       "   'penalty': 'l2',\n",
       "   'solver': 'saga'}],\n",
       " 'split0_test_score': array([0.        , 1.        , 0.76666667, 0.75757576, 0.        ,\n",
       "        0.        , 0.76666667, 0.76868687, 0.85858586, 0.86161616,\n",
       "        0.79090909, 0.79090909, 0.85959596, 0.86060606, 0.79090909,\n",
       "        0.79090909, 0.87676768, 0.86666667, 0.85454545, 0.85757576,\n",
       "        0.87676768, 0.86565657, 0.85454545, 0.85454545, 0.89494949,\n",
       "        0.87373737, 0.89191919, 0.87373737, 0.8979798 , 0.87272727,\n",
       "        0.89191919, 0.87272727, 0.8969697 , 0.87373737, 0.91313131,\n",
       "        0.87373737, 0.9030303 , 0.87272727, 0.91313131, 0.87272727,\n",
       "        0.8969697 , 0.87373737, 0.91414141, 0.87373737, 0.9030303 ,\n",
       "        0.87272727, 0.91313131, 0.87272727, 0.8969697 , 0.87373737,\n",
       "        0.91616162, 0.87373737, 0.9030303 , 0.87272727, 0.91414141,\n",
       "        0.87272727, 0.8969697 , 0.87373737, 0.91212121, 0.87373737,\n",
       "        0.9030303 , 0.87272727, 0.91414141, 0.87272727]),\n",
       " 'split1_test_score': array([0.        , 1.        , 0.82626263, 0.81818182, 0.        ,\n",
       "        0.        , 0.82626263, 0.82626263, 0.91212121, 0.9040404 ,\n",
       "        0.85151515, 0.85151515, 0.91212121, 0.91010101, 0.85151515,\n",
       "        0.85151515, 0.92727273, 0.92525253, 0.90606061, 0.90606061,\n",
       "        0.92626263, 0.92525253, 0.90606061, 0.90606061, 0.94545455,\n",
       "        0.92626263, 0.94343434, 0.92626263, 0.94545455, 0.92727273,\n",
       "        0.94343434, 0.92626263, 0.94545455, 0.92626263, 0.95050505,\n",
       "        0.92626263, 0.94545455, 0.92727273, 0.95050505, 0.92727273,\n",
       "        0.94545455, 0.92626263, 0.95252525, 0.92626263, 0.94545455,\n",
       "        0.92727273, 0.95252525, 0.92727273, 0.94545455, 0.92626263,\n",
       "        0.95050505, 0.92626263, 0.94545455, 0.92727273, 0.95353535,\n",
       "        0.92727273, 0.94545455, 0.92626263, 0.95252525, 0.92626263,\n",
       "        0.94545455, 0.92727273, 0.95151515, 0.92727273]),\n",
       " 'split2_test_score': array([0.        , 1.        , 0.80423814, 0.80020182, 0.        ,\n",
       "        0.        , 0.80423814, 0.80423814, 0.91523713, 0.9172553 ,\n",
       "        0.85671039, 0.85671039, 0.91523713, 0.91422805, 0.85671039,\n",
       "        0.85671039, 0.92734612, 0.92230071, 0.91019173, 0.91019173,\n",
       "        0.9283552 , 0.92330979, 0.91019173, 0.91019173, 0.94550959,\n",
       "        0.92633703, 0.94248234, 0.92633703, 0.94349142, 0.92633703,\n",
       "        0.94248234, 0.92633703, 0.9445005 , 0.92633703, 0.94349142,\n",
       "        0.92633703, 0.94349142, 0.92633703, 0.94349142, 0.92633703,\n",
       "        0.94550959, 0.92633703, 0.94954591, 0.92633703, 0.94349142,\n",
       "        0.92633703, 0.94752775, 0.92633703, 0.94550959, 0.92633703,\n",
       "        0.94651867, 0.92633703, 0.94349142, 0.92633703, 0.94954591,\n",
       "        0.92633703, 0.94550959, 0.92633703, 0.94954591, 0.92633703,\n",
       "        0.94349142, 0.92633703, 0.94853683, 0.92633703]),\n",
       " 'split3_test_score': array([0.        , 1.        , 0.77396569, 0.77295661, 0.        ,\n",
       "        0.        , 0.77497477, 0.77598385, 0.90514632, 0.90312815,\n",
       "        0.83148335, 0.83148335, 0.90514632, 0.90413724, 0.83148335,\n",
       "        0.83148335, 0.92431887, 0.91826438, 0.89707366, 0.89606458,\n",
       "        0.92431887, 0.91927346, 0.89707366, 0.89707366, 0.93844601,\n",
       "        0.92129162, 0.93440969, 0.92129162, 0.94046418, 0.92129162,\n",
       "        0.93440969, 0.92129162, 0.9394551 , 0.92129162, 0.95459132,\n",
       "        0.92129162, 0.94147326, 0.92129162, 0.95459132, 0.92129162,\n",
       "        0.9394551 , 0.92129162, 0.95459132, 0.92129162, 0.94046418,\n",
       "        0.92129162, 0.95459132, 0.92129162, 0.9394551 , 0.92129162,\n",
       "        0.95459132, 0.92129162, 0.94046418, 0.92129162, 0.95459132,\n",
       "        0.92129162, 0.9394551 , 0.92129162, 0.95761857, 0.92129162,\n",
       "        0.94046418, 0.92129162, 0.95459132, 0.92129162]),\n",
       " 'split4_test_score': array([0.        , 0.        , 0.80505051, 0.7989899 , 0.        ,\n",
       "        0.        , 0.80505051, 0.80505051, 0.89292929, 0.88484848,\n",
       "        0.84545455, 0.84545455, 0.89292929, 0.89292929, 0.84545455,\n",
       "        0.84545455, 0.90909091, 0.9040404 , 0.88787879, 0.88888889,\n",
       "        0.90909091, 0.9040404 , 0.88787879, 0.88787879, 0.92626263,\n",
       "        0.90505051, 0.92121212, 0.90606061, 0.92626263, 0.90505051,\n",
       "        0.92121212, 0.90606061, 0.92626263, 0.90505051, 0.93232323,\n",
       "        0.90505051, 0.92525253, 0.90505051, 0.93232323, 0.90505051,\n",
       "        0.92626263, 0.90505051, 0.93131313, 0.90505051, 0.92525253,\n",
       "        0.90505051, 0.92929293, 0.90505051, 0.92626263, 0.90505051,\n",
       "        0.93131313, 0.90505051, 0.92525253, 0.90505051, 0.93030303,\n",
       "        0.90505051, 0.92626263, 0.90505051, 0.93232323, 0.90505051,\n",
       "        0.92525253, 0.90505051, 0.93232323, 0.90505051]),\n",
       " 'mean_test_score': array([0.        , 0.8       , 0.79523673, 0.78958118, 0.        ,\n",
       "        0.        , 0.79543854, 0.7960444 , 0.89680396, 0.8941777 ,\n",
       "        0.83521451, 0.83521451, 0.89700598, 0.89640033, 0.83521451,\n",
       "        0.83521451, 0.91295926, 0.90730494, 0.89115005, 0.89175631,\n",
       "        0.91295906, 0.90750655, 0.89115005, 0.89115005, 0.93012445,\n",
       "        0.91053583, 0.92669154, 0.91073785, 0.93073051, 0.91053583,\n",
       "        0.92669154, 0.91053583, 0.93052849, 0.91053583, 0.93880847,\n",
       "        0.91053583, 0.93174041, 0.91053583, 0.93880847, 0.91053583,\n",
       "        0.93073031, 0.91053583, 0.94042341, 0.91053583, 0.93153859,\n",
       "        0.91053583, 0.93941371, 0.91053583, 0.93073031, 0.91053583,\n",
       "        0.93981796, 0.91053583, 0.93153859, 0.91053583, 0.94042341,\n",
       "        0.91053583, 0.93073031, 0.91053583, 0.94082684, 0.91053583,\n",
       "        0.93153859, 0.91053583, 0.94022159, 0.91053583]),\n",
       " 'std_test_score': array([0.        , 0.4       , 0.02194834, 0.02154085, 0.        ,\n",
       "        0.        , 0.02175561, 0.02103449, 0.02058947, 0.01927302,\n",
       "        0.02370457, 0.02370457, 0.02021504, 0.01928042, 0.02370457,\n",
       "        0.02370457, 0.01931679, 0.02158344, 0.01985244, 0.01865246,\n",
       "        0.01932796, 0.02221062, 0.01985244, 0.01985244, 0.01893755,\n",
       "        0.01998456, 0.01912266, 0.01993312, 0.01770284, 0.0205186 ,\n",
       "        0.01912266, 0.02030868, 0.01812224, 0.01998456, 0.01489438,\n",
       "        0.01998456, 0.01604528, 0.0205186 , 0.01489438, 0.0205186 ,\n",
       "        0.01828164, 0.01998456, 0.01551867, 0.01998456, 0.01592751,\n",
       "        0.0205186 , 0.01588272, 0.0205186 , 0.01828164, 0.01998456,\n",
       "        0.01420789, 0.01998456, 0.01592751, 0.0205186 , 0.0158053 ,\n",
       "        0.0205186 , 0.01828164, 0.01998456, 0.0166803 , 0.01998456,\n",
       "        0.01592751, 0.0205186 , 0.01513761, 0.0205186 ]),\n",
       " 'rank_test_score': array([62, 57, 60, 61, 62, 62, 59, 58, 46, 48, 53, 53, 45, 47, 53, 53, 21,\n",
       "        44, 50, 49, 22, 43, 50, 50, 18, 24, 19, 23, 13, 24, 19, 42, 17, 24,\n",
       "         7, 24,  9, 24,  7, 24, 14, 24,  3, 24, 10, 24,  6, 24, 14, 24,  5,\n",
       "        24, 10, 24,  2, 24, 14, 24,  1, 24, 10, 24,  4, 24])}"
      ]
     },
     "execution_count": 278,
     "metadata": {},
     "output_type": "execute_result"
    }
   ],
   "source": [
    "log_grid.cv_results_['mean']"
   ]
  },
  {
   "cell_type": "code",
   "execution_count": 46,
   "metadata": {
    "ExecuteTime": {
     "end_time": "2021-02-19T18:20:50.789788Z",
     "start_time": "2021-02-19T18:20:50.776823Z"
    }
   },
   "outputs": [],
   "source": [
    "X = df2.drop(columns='Bankrupt?',axis=1)\n",
    "y = df2['Bankrupt?']\n",
    "X_train, X_test, y_train, y_test = train_test_split(X,y,random_state=42,test_size=.25)\n",
    "logreg = LogisticRegression(fit_intercept=True, C=1e12, solver='liblinear')"
   ]
  },
  {
   "cell_type": "code",
   "execution_count": 47,
   "metadata": {
    "ExecuteTime": {
     "end_time": "2021-02-19T18:20:51.649362Z",
     "start_time": "2021-02-19T18:20:51.635362Z"
    }
   },
   "outputs": [
    {
     "ename": "ValueError",
     "evalue": "X has 76 features, but this StandardScaler is expecting 95 features as input.",
     "output_type": "error",
     "traceback": [
      "\u001b[1;31m---------------------------------------------------------------------------\u001b[0m",
      "\u001b[1;31mValueError\u001b[0m                                Traceback (most recent call last)",
      "\u001b[1;32m<ipython-input-47-108c0644ac26>\u001b[0m in \u001b[0;36m<module>\u001b[1;34m\u001b[0m\n\u001b[1;32m----> 1\u001b[1;33m \u001b[0mX_test_scaled\u001b[0m \u001b[1;33m=\u001b[0m \u001b[0mscaler\u001b[0m\u001b[1;33m.\u001b[0m\u001b[0mtransform\u001b[0m\u001b[1;33m(\u001b[0m\u001b[0mX_test\u001b[0m\u001b[1;33m)\u001b[0m\u001b[1;33m\u001b[0m\u001b[1;33m\u001b[0m\u001b[0m\n\u001b[0m",
      "\u001b[1;32m~\\anaconda3\\envs\\learn-env\\lib\\site-packages\\sklearn\\preprocessing\\_data.py\u001b[0m in \u001b[0;36mtransform\u001b[1;34m(self, X, copy)\u001b[0m\n\u001b[0;32m    789\u001b[0m \u001b[1;33m\u001b[0m\u001b[0m\n\u001b[0;32m    790\u001b[0m         \u001b[0mcopy\u001b[0m \u001b[1;33m=\u001b[0m \u001b[0mcopy\u001b[0m \u001b[1;32mif\u001b[0m \u001b[0mcopy\u001b[0m \u001b[1;32mis\u001b[0m \u001b[1;32mnot\u001b[0m \u001b[1;32mNone\u001b[0m \u001b[1;32melse\u001b[0m \u001b[0mself\u001b[0m\u001b[1;33m.\u001b[0m\u001b[0mcopy\u001b[0m\u001b[1;33m\u001b[0m\u001b[1;33m\u001b[0m\u001b[0m\n\u001b[1;32m--> 791\u001b[1;33m         X = self._validate_data(X, reset=False,\n\u001b[0m\u001b[0;32m    792\u001b[0m                                 \u001b[0maccept_sparse\u001b[0m\u001b[1;33m=\u001b[0m\u001b[1;34m'csr'\u001b[0m\u001b[1;33m,\u001b[0m \u001b[0mcopy\u001b[0m\u001b[1;33m=\u001b[0m\u001b[0mcopy\u001b[0m\u001b[1;33m,\u001b[0m\u001b[1;33m\u001b[0m\u001b[1;33m\u001b[0m\u001b[0m\n\u001b[0;32m    793\u001b[0m                                 \u001b[0mestimator\u001b[0m\u001b[1;33m=\u001b[0m\u001b[0mself\u001b[0m\u001b[1;33m,\u001b[0m \u001b[0mdtype\u001b[0m\u001b[1;33m=\u001b[0m\u001b[0mFLOAT_DTYPES\u001b[0m\u001b[1;33m,\u001b[0m\u001b[1;33m\u001b[0m\u001b[1;33m\u001b[0m\u001b[0m\n",
      "\u001b[1;32m~\\anaconda3\\envs\\learn-env\\lib\\site-packages\\sklearn\\base.py\u001b[0m in \u001b[0;36m_validate_data\u001b[1;34m(self, X, y, reset, validate_separately, **check_params)\u001b[0m\n\u001b[0;32m    434\u001b[0m \u001b[1;33m\u001b[0m\u001b[0m\n\u001b[0;32m    435\u001b[0m         \u001b[1;32mif\u001b[0m \u001b[0mcheck_params\u001b[0m\u001b[1;33m.\u001b[0m\u001b[0mget\u001b[0m\u001b[1;33m(\u001b[0m\u001b[1;34m'ensure_2d'\u001b[0m\u001b[1;33m,\u001b[0m \u001b[1;32mTrue\u001b[0m\u001b[1;33m)\u001b[0m\u001b[1;33m:\u001b[0m\u001b[1;33m\u001b[0m\u001b[1;33m\u001b[0m\u001b[0m\n\u001b[1;32m--> 436\u001b[1;33m             \u001b[0mself\u001b[0m\u001b[1;33m.\u001b[0m\u001b[0m_check_n_features\u001b[0m\u001b[1;33m(\u001b[0m\u001b[0mX\u001b[0m\u001b[1;33m,\u001b[0m \u001b[0mreset\u001b[0m\u001b[1;33m=\u001b[0m\u001b[0mreset\u001b[0m\u001b[1;33m)\u001b[0m\u001b[1;33m\u001b[0m\u001b[1;33m\u001b[0m\u001b[0m\n\u001b[0m\u001b[0;32m    437\u001b[0m \u001b[1;33m\u001b[0m\u001b[0m\n\u001b[0;32m    438\u001b[0m         \u001b[1;32mreturn\u001b[0m \u001b[0mout\u001b[0m\u001b[1;33m\u001b[0m\u001b[1;33m\u001b[0m\u001b[0m\n",
      "\u001b[1;32m~\\anaconda3\\envs\\learn-env\\lib\\site-packages\\sklearn\\base.py\u001b[0m in \u001b[0;36m_check_n_features\u001b[1;34m(self, X, reset)\u001b[0m\n\u001b[0;32m    375\u001b[0m                 )\n\u001b[0;32m    376\u001b[0m             \u001b[1;32mif\u001b[0m \u001b[0mn_features\u001b[0m \u001b[1;33m!=\u001b[0m \u001b[0mself\u001b[0m\u001b[1;33m.\u001b[0m\u001b[0mn_features_in_\u001b[0m\u001b[1;33m:\u001b[0m\u001b[1;33m\u001b[0m\u001b[1;33m\u001b[0m\u001b[0m\n\u001b[1;32m--> 377\u001b[1;33m                 raise ValueError(\n\u001b[0m\u001b[0;32m    378\u001b[0m                     \u001b[1;34m'X has {} features, but this {} is expecting {} features '\u001b[0m\u001b[1;33m\u001b[0m\u001b[1;33m\u001b[0m\u001b[0m\n\u001b[0;32m    379\u001b[0m                     'as input.'.format(n_features, self.__class__.__name__,\n",
      "\u001b[1;31mValueError\u001b[0m: X has 76 features, but this StandardScaler is expecting 95 features as input."
     ]
    }
   ],
   "source": [
    "X_test_scaled = scaler.transform(X_test)"
   ]
  },
  {
   "cell_type": "code",
   "execution_count": 69,
   "metadata": {
    "ExecuteTime": {
     "end_time": "2021-02-19T18:28:18.830808Z",
     "start_time": "2021-02-19T18:28:11.030921Z"
    }
   },
   "outputs": [
    {
     "name": "stdout",
     "output_type": "stream",
     "text": [
      "LogisticRegression(C=100000000000.0, random_state=42, solver='liblinear')\n",
      "AUC: 0.9007809392207358\n",
      "[[723 924]\n",
      " [  2  56]]\n",
      "              precision    recall  f1-score   support\n",
      "\n",
      "           0       1.00      0.44      0.61      1647\n",
      "           1       0.06      0.97      0.11        58\n",
      "\n",
      "    accuracy                           0.46      1705\n",
      "   macro avg       0.53      0.70      0.36      1705\n",
      "weighted avg       0.97      0.46      0.59      1705\n",
      "\n"
     ]
    },
    {
     "data": {
      "image/png": "[encoded data removed]",
      "text/plain": [
       "<Figure size 432x288 with 2 Axes>"
      ]
     },
     "metadata": {
      "needs_background": "light"
     },
     "output_type": "display_data"
    }
   ],
   "source": [
    "log_best = LogisticRegression(C=1e11,fit_intercept=True,solver='liblinear')\n",
    "smote = SMOTE()\n",
    "X_train_smote, y_train_smote = smote.fit_sample(X_train, y_train) \n",
    "X_train_smote_stan_scal = scaler.fit_transform(X_train_smote)\n",
    "smote_model = log_best.fit(X_train_smote_stan_scal, y_train_smote)\n",
    "print(smote_model)\n",
    "\n",
    "# Predict\n",
    "y_hat_smote = log_best.predict(X_test_scaled)\n",
    "\n",
    "y_score_smote = log_best.decision_function(X_test_scaled)\n",
    "\n",
    "fpr, tpr, thresholds = roc_curve(y_test, y_score_smote)\n",
    "\n",
    "print('AUC: {}'.format(auc(fpr, tpr)))\n",
    "cf = confusion_matrix(y_test,y_hat_smote)\n",
    "\n",
    "plot_confusion_matrix(smote_model,X_test_scaled,y_test,cmap=plt.cm.Blues,\n",
    "                     display_labels=[\"not bankrupt\", \"bankrupt\"],\n",
    "                      values_format=\".5g\")\n",
    "plt.title(\"Smote Resampled Values Confusion Matrix\")\n",
    "\n",
    "print(confusion_matrix(y_test, y_hat_smote))\n",
    "print(classification_report(y_test, y_hat_smote))"
   ]
  },
  {
   "cell_type": "code",
   "execution_count": 68,
   "metadata": {
    "ExecuteTime": {
     "end_time": "2021-02-19T18:28:03.978883Z",
     "start_time": "2021-02-19T18:27:59.285835Z"
    }
   },
   "outputs": [
    {
     "name": "stdout",
     "output_type": "stream",
     "text": [
      "LogisticRegression(C=1000000000000.0, solver='liblinear')\n",
      "AUC: 0.9086007997822582\n",
      "[[1486  161]\n",
      " [  14   44]]\n",
      "              precision    recall  f1-score   support\n",
      "\n",
      "           0       0.99      0.90      0.94      1647\n",
      "           1       0.21      0.76      0.33        58\n",
      "\n",
      "    accuracy                           0.90      1705\n",
      "   macro avg       0.60      0.83      0.64      1705\n",
      "weighted avg       0.96      0.90      0.92      1705\n",
      "\n"
     ]
    },
    {
     "name": "stderr",
     "output_type": "stream",
     "text": [
      "C:\\Users\\sergi\\anaconda3\\envs\\learn-env\\lib\\site-packages\\sklearn\\svm\\_base.py:976: ConvergenceWarning: Liblinear failed to converge, increase the number of iterations.\n",
      "  warnings.warn(\"Liblinear failed to converge, increase \"\n"
     ]
    },
    {
     "data": {
      "image/png": "[encoded data removed]",
      "text/plain": [
       "<Figure size 432x288 with 2 Axes>"
      ]
     },
     "metadata": {
      "needs_background": "light"
     },
     "output_type": "display_data"
    }
   ],
   "source": [
    "smote = SMOTE(random_state=42)\n",
    "X_train_smote, y_train_smote = smote.fit_sample(X_train, y_train) \n",
    "X_train_smote_sig = X_train_smote.apply(sigmoid)\n",
    "X_train_smote_sig = X_train_smote_sig.dropna(axis=1)\n",
    "X_test_sig = X_test.apply(sigmoid)\n",
    "X_test_sig = X_test_sig.dropna(axis=1)\n",
    "smote_model = logreg.fit(X_train_smote_sig, y_train_smote)\n",
    "print(smote_model)\n",
    "\n",
    "# Predict\n",
    "y_hat_smote = logreg.predict(X_test_sig)\n",
    "\n",
    "y_score_smote = logreg.decision_function(X_test_sig)\n",
    "\n",
    "fpr, tpr, thresholds = roc_curve(y_test, y_score_smote)\n",
    "\n",
    "print('AUC: {}'.format(auc(fpr, tpr)))\n",
    "cf = confusion_matrix(y_test,y_hat_smote)\n",
    "\n",
    "plot_confusion_matrix(smote_model,X_test_sig,y_test,cmap=plt.cm.Blues,\n",
    "                     display_labels=[\"not bankrupt\", \"bankrupt\"],\n",
    "                      values_format=\".5g\")\n",
    "plt.title(\"Smote Resampled Values Confusion Matrix\")\n",
    "\n",
    "print(confusion_matrix(y_test, y_hat_smote))\n",
    "print(classification_report(y_test, y_hat_smote))"
   ]
  },
  {
   "cell_type": "markdown",
   "metadata": {},
   "source": [
    "## KNN "
   ]
  },
  {
   "cell_type": "code",
   "execution_count": 70,
   "metadata": {
    "ExecuteTime": {
     "end_time": "2021-02-19T18:43:25.625644Z",
     "start_time": "2021-02-19T18:43:25.582786Z"
    }
   },
   "outputs": [
    {
     "data": {
      "text/html": [
       "<div>\n",
       "<style scoped>\n",
       "    .dataframe tbody tr th:only-of-type {\n",
       "        vertical-align: middle;\n",
       "    }\n",
       "\n",
       "    .dataframe tbody tr th {\n",
       "        vertical-align: top;\n",
       "    }\n",
       "\n",
       "    .dataframe thead th {\n",
       "        text-align: right;\n",
       "    }\n",
       "</style>\n",
       "<table border=\"1\" class=\"dataframe\">\n",
       "  <thead>\n",
       "    <tr style=\"text-align: right;\">\n",
       "      <th></th>\n",
       "      <th>Bankrupt?</th>\n",
       "      <th>ROA(C) before interest and depreciation before interest</th>\n",
       "      <th>operating gross margin</th>\n",
       "      <th>operating profit rate</th>\n",
       "      <th>non-industry income and expenditure/revenue</th>\n",
       "      <th>operating expense rate</th>\n",
       "      <th>research and development expense rate</th>\n",
       "      <th>cash flow rate</th>\n",
       "      <th>interest-bearing debt interest rate</th>\n",
       "      <th>tax rate (A)</th>\n",
       "      <th>...</th>\n",
       "      <th>current liabilities to current assets</th>\n",
       "      <th>one if total liabilities exceeds total assets zero otherwise</th>\n",
       "      <th>net income to total assets</th>\n",
       "      <th>total assets to GNP price</th>\n",
       "      <th>No-credit interval</th>\n",
       "      <th>Net income to stockholder's Equity</th>\n",
       "      <th>Degree of financial leverage (DFL)</th>\n",
       "      <th>Interest coverage ratio( Interest expense to EBIT )</th>\n",
       "      <th>one if net income was negative for the last two year zero otherwise</th>\n",
       "      <th>equity to liability</th>\n",
       "    </tr>\n",
       "  </thead>\n",
       "  <tbody>\n",
       "    <tr>\n",
       "      <th>0</th>\n",
       "      <td>1</td>\n",
       "      <td>0.370594</td>\n",
       "      <td>0.601457</td>\n",
       "      <td>0.998969</td>\n",
       "      <td>0.302646</td>\n",
       "      <td>1.256970e-04</td>\n",
       "      <td>0.000000e+00</td>\n",
       "      <td>0.458143</td>\n",
       "      <td>7.250730e-04</td>\n",
       "      <td>0.000000</td>\n",
       "      <td>...</td>\n",
       "      <td>0.118250</td>\n",
       "      <td>0</td>\n",
       "      <td>0.716845</td>\n",
       "      <td>0.009219</td>\n",
       "      <td>0.622879</td>\n",
       "      <td>0.827890</td>\n",
       "      <td>0.026601</td>\n",
       "      <td>0.564050</td>\n",
       "      <td>1</td>\n",
       "      <td>0.016469</td>\n",
       "    </tr>\n",
       "    <tr>\n",
       "      <th>1</th>\n",
       "      <td>1</td>\n",
       "      <td>0.464291</td>\n",
       "      <td>0.610235</td>\n",
       "      <td>0.998946</td>\n",
       "      <td>0.303556</td>\n",
       "      <td>2.897850e-04</td>\n",
       "      <td>0.000000e+00</td>\n",
       "      <td>0.461867</td>\n",
       "      <td>6.470650e-04</td>\n",
       "      <td>0.000000</td>\n",
       "      <td>...</td>\n",
       "      <td>0.047775</td>\n",
       "      <td>0</td>\n",
       "      <td>0.795297</td>\n",
       "      <td>0.008323</td>\n",
       "      <td>0.623652</td>\n",
       "      <td>0.839969</td>\n",
       "      <td>0.264577</td>\n",
       "      <td>0.570175</td>\n",
       "      <td>1</td>\n",
       "      <td>0.020794</td>\n",
       "    </tr>\n",
       "    <tr>\n",
       "      <th>2</th>\n",
       "      <td>1</td>\n",
       "      <td>0.426071</td>\n",
       "      <td>0.601450</td>\n",
       "      <td>0.998857</td>\n",
       "      <td>0.302035</td>\n",
       "      <td>2.361300e-04</td>\n",
       "      <td>2.550000e+07</td>\n",
       "      <td>0.458521</td>\n",
       "      <td>7.900790e-04</td>\n",
       "      <td>0.000000</td>\n",
       "      <td>...</td>\n",
       "      <td>0.025346</td>\n",
       "      <td>0</td>\n",
       "      <td>0.774670</td>\n",
       "      <td>0.040003</td>\n",
       "      <td>0.623841</td>\n",
       "      <td>0.836774</td>\n",
       "      <td>0.026555</td>\n",
       "      <td>0.563706</td>\n",
       "      <td>1</td>\n",
       "      <td>0.016474</td>\n",
       "    </tr>\n",
       "    <tr>\n",
       "      <th>3</th>\n",
       "      <td>1</td>\n",
       "      <td>0.399844</td>\n",
       "      <td>0.583541</td>\n",
       "      <td>0.998700</td>\n",
       "      <td>0.303350</td>\n",
       "      <td>1.078890e-04</td>\n",
       "      <td>0.000000e+00</td>\n",
       "      <td>0.465705</td>\n",
       "      <td>4.490450e-04</td>\n",
       "      <td>0.000000</td>\n",
       "      <td>...</td>\n",
       "      <td>0.067250</td>\n",
       "      <td>0</td>\n",
       "      <td>0.739555</td>\n",
       "      <td>0.003252</td>\n",
       "      <td>0.622929</td>\n",
       "      <td>0.834697</td>\n",
       "      <td>0.026697</td>\n",
       "      <td>0.564663</td>\n",
       "      <td>1</td>\n",
       "      <td>0.023982</td>\n",
       "    </tr>\n",
       "    <tr>\n",
       "      <th>4</th>\n",
       "      <td>1</td>\n",
       "      <td>0.465022</td>\n",
       "      <td>0.598783</td>\n",
       "      <td>0.998973</td>\n",
       "      <td>0.303475</td>\n",
       "      <td>7.890000e+09</td>\n",
       "      <td>0.000000e+00</td>\n",
       "      <td>0.462746</td>\n",
       "      <td>6.860690e-04</td>\n",
       "      <td>0.000000</td>\n",
       "      <td>...</td>\n",
       "      <td>0.047725</td>\n",
       "      <td>0</td>\n",
       "      <td>0.795016</td>\n",
       "      <td>0.003878</td>\n",
       "      <td>0.623521</td>\n",
       "      <td>0.839973</td>\n",
       "      <td>0.024752</td>\n",
       "      <td>0.575617</td>\n",
       "      <td>1</td>\n",
       "      <td>0.035490</td>\n",
       "    </tr>\n",
       "    <tr>\n",
       "      <th>...</th>\n",
       "      <td>...</td>\n",
       "      <td>...</td>\n",
       "      <td>...</td>\n",
       "      <td>...</td>\n",
       "      <td>...</td>\n",
       "      <td>...</td>\n",
       "      <td>...</td>\n",
       "      <td>...</td>\n",
       "      <td>...</td>\n",
       "      <td>...</td>\n",
       "      <td>...</td>\n",
       "      <td>...</td>\n",
       "      <td>...</td>\n",
       "      <td>...</td>\n",
       "      <td>...</td>\n",
       "      <td>...</td>\n",
       "      <td>...</td>\n",
       "      <td>...</td>\n",
       "      <td>...</td>\n",
       "      <td>...</td>\n",
       "      <td>...</td>\n",
       "    </tr>\n",
       "    <tr>\n",
       "      <th>6814</th>\n",
       "      <td>0</td>\n",
       "      <td>0.493687</td>\n",
       "      <td>0.604455</td>\n",
       "      <td>0.998992</td>\n",
       "      <td>0.303510</td>\n",
       "      <td>1.510210e-04</td>\n",
       "      <td>4.500000e+09</td>\n",
       "      <td>0.463734</td>\n",
       "      <td>1.790180e-04</td>\n",
       "      <td>0.113372</td>\n",
       "      <td>...</td>\n",
       "      <td>0.027951</td>\n",
       "      <td>0</td>\n",
       "      <td>0.799927</td>\n",
       "      <td>0.000466</td>\n",
       "      <td>0.623620</td>\n",
       "      <td>0.840359</td>\n",
       "      <td>0.027064</td>\n",
       "      <td>0.566193</td>\n",
       "      <td>1</td>\n",
       "      <td>0.029890</td>\n",
       "    </tr>\n",
       "    <tr>\n",
       "      <th>6815</th>\n",
       "      <td>0</td>\n",
       "      <td>0.475162</td>\n",
       "      <td>0.598308</td>\n",
       "      <td>0.998992</td>\n",
       "      <td>0.303520</td>\n",
       "      <td>5.220000e+09</td>\n",
       "      <td>1.440000e+09</td>\n",
       "      <td>0.461978</td>\n",
       "      <td>2.370240e-04</td>\n",
       "      <td>0.371596</td>\n",
       "      <td>...</td>\n",
       "      <td>0.031470</td>\n",
       "      <td>0</td>\n",
       "      <td>0.799748</td>\n",
       "      <td>0.001959</td>\n",
       "      <td>0.623931</td>\n",
       "      <td>0.840306</td>\n",
       "      <td>0.027009</td>\n",
       "      <td>0.566018</td>\n",
       "      <td>1</td>\n",
       "      <td>0.038284</td>\n",
       "    </tr>\n",
       "    <tr>\n",
       "      <th>6816</th>\n",
       "      <td>0</td>\n",
       "      <td>0.472725</td>\n",
       "      <td>0.610444</td>\n",
       "      <td>0.998984</td>\n",
       "      <td>0.303512</td>\n",
       "      <td>2.509310e-04</td>\n",
       "      <td>1.039090e-04</td>\n",
       "      <td>0.472189</td>\n",
       "      <td>0.000000e+00</td>\n",
       "      <td>0.490839</td>\n",
       "      <td>...</td>\n",
       "      <td>0.007542</td>\n",
       "      <td>0</td>\n",
       "      <td>0.797778</td>\n",
       "      <td>0.002840</td>\n",
       "      <td>0.624156</td>\n",
       "      <td>0.840138</td>\n",
       "      <td>0.026791</td>\n",
       "      <td>0.565158</td>\n",
       "      <td>1</td>\n",
       "      <td>0.097649</td>\n",
       "    </tr>\n",
       "    <tr>\n",
       "      <th>6817</th>\n",
       "      <td>0</td>\n",
       "      <td>0.506264</td>\n",
       "      <td>0.607850</td>\n",
       "      <td>0.999074</td>\n",
       "      <td>0.303498</td>\n",
       "      <td>1.236150e-04</td>\n",
       "      <td>2.510000e+09</td>\n",
       "      <td>0.476123</td>\n",
       "      <td>2.110210e-04</td>\n",
       "      <td>0.181294</td>\n",
       "      <td>...</td>\n",
       "      <td>0.022916</td>\n",
       "      <td>0</td>\n",
       "      <td>0.811808</td>\n",
       "      <td>0.002837</td>\n",
       "      <td>0.623957</td>\n",
       "      <td>0.841084</td>\n",
       "      <td>0.026822</td>\n",
       "      <td>0.565302</td>\n",
       "      <td>1</td>\n",
       "      <td>0.044009</td>\n",
       "    </tr>\n",
       "    <tr>\n",
       "      <th>6818</th>\n",
       "      <td>0</td>\n",
       "      <td>0.493053</td>\n",
       "      <td>0.627409</td>\n",
       "      <td>0.998080</td>\n",
       "      <td>0.313415</td>\n",
       "      <td>1.431695e-03</td>\n",
       "      <td>0.000000e+00</td>\n",
       "      <td>0.427721</td>\n",
       "      <td>5.900000e+08</td>\n",
       "      <td>0.000000</td>\n",
       "      <td>...</td>\n",
       "      <td>0.005579</td>\n",
       "      <td>0</td>\n",
       "      <td>0.815956</td>\n",
       "      <td>0.000707</td>\n",
       "      <td>0.626680</td>\n",
       "      <td>0.841019</td>\n",
       "      <td>0.026793</td>\n",
       "      <td>0.565167</td>\n",
       "      <td>1</td>\n",
       "      <td>0.233902</td>\n",
       "    </tr>\n",
       "  </tbody>\n",
       "</table>\n",
       "<p>6819 rows × 77 columns</p>\n",
       "</div>"
      ],
      "text/plain": [
       "      Bankrupt?   ROA(C) before interest and depreciation before interest  \\\n",
       "0             1                                           0.370594          \n",
       "1             1                                           0.464291          \n",
       "2             1                                           0.426071          \n",
       "3             1                                           0.399844          \n",
       "4             1                                           0.465022          \n",
       "...         ...                                                ...          \n",
       "6814          0                                           0.493687          \n",
       "6815          0                                           0.475162          \n",
       "6816          0                                           0.472725          \n",
       "6817          0                                           0.506264          \n",
       "6818          0                                           0.493053          \n",
       "\n",
       "       operating gross margin   operating profit rate  \\\n",
       "0                    0.601457                0.998969   \n",
       "1                    0.610235                0.998946   \n",
       "2                    0.601450                0.998857   \n",
       "3                    0.583541                0.998700   \n",
       "4                    0.598783                0.998973   \n",
       "...                       ...                     ...   \n",
       "6814                 0.604455                0.998992   \n",
       "6815                 0.598308                0.998992   \n",
       "6816                 0.610444                0.998984   \n",
       "6817                 0.607850                0.999074   \n",
       "6818                 0.627409                0.998080   \n",
       "\n",
       "       non-industry income and expenditure/revenue   operating expense rate  \\\n",
       "0                                         0.302646             1.256970e-04   \n",
       "1                                         0.303556             2.897850e-04   \n",
       "2                                         0.302035             2.361300e-04   \n",
       "3                                         0.303350             1.078890e-04   \n",
       "4                                         0.303475             7.890000e+09   \n",
       "...                                            ...                      ...   \n",
       "6814                                      0.303510             1.510210e-04   \n",
       "6815                                      0.303520             5.220000e+09   \n",
       "6816                                      0.303512             2.509310e-04   \n",
       "6817                                      0.303498             1.236150e-04   \n",
       "6818                                      0.313415             1.431695e-03   \n",
       "\n",
       "       research and development expense rate   cash flow rate  \\\n",
       "0                               0.000000e+00         0.458143   \n",
       "1                               0.000000e+00         0.461867   \n",
       "2                               2.550000e+07         0.458521   \n",
       "3                               0.000000e+00         0.465705   \n",
       "4                               0.000000e+00         0.462746   \n",
       "...                                      ...              ...   \n",
       "6814                            4.500000e+09         0.463734   \n",
       "6815                            1.440000e+09         0.461978   \n",
       "6816                            1.039090e-04         0.472189   \n",
       "6817                            2.510000e+09         0.476123   \n",
       "6818                            0.000000e+00         0.427721   \n",
       "\n",
       "       interest-bearing debt interest rate   tax rate (A)  ...  \\\n",
       "0                             7.250730e-04       0.000000  ...   \n",
       "1                             6.470650e-04       0.000000  ...   \n",
       "2                             7.900790e-04       0.000000  ...   \n",
       "3                             4.490450e-04       0.000000  ...   \n",
       "4                             6.860690e-04       0.000000  ...   \n",
       "...                                    ...            ...  ...   \n",
       "6814                          1.790180e-04       0.113372  ...   \n",
       "6815                          2.370240e-04       0.371596  ...   \n",
       "6816                          0.000000e+00       0.490839  ...   \n",
       "6817                          2.110210e-04       0.181294  ...   \n",
       "6818                          5.900000e+08       0.000000  ...   \n",
       "\n",
       "      current liabilities to current assets  \\\n",
       "0                                  0.118250   \n",
       "1                                  0.047775   \n",
       "2                                  0.025346   \n",
       "3                                  0.067250   \n",
       "4                                  0.047725   \n",
       "...                                     ...   \n",
       "6814                               0.027951   \n",
       "6815                               0.031470   \n",
       "6816                               0.007542   \n",
       "6817                               0.022916   \n",
       "6818                               0.005579   \n",
       "\n",
       "      one if total liabilities exceeds total assets zero otherwise  \\\n",
       "0                                                     0              \n",
       "1                                                     0              \n",
       "2                                                     0              \n",
       "3                                                     0              \n",
       "4                                                     0              \n",
       "...                                                 ...              \n",
       "6814                                                  0              \n",
       "6815                                                  0              \n",
       "6816                                                  0              \n",
       "6817                                                  0              \n",
       "6818                                                  0              \n",
       "\n",
       "      net income to total assets  total assets to GNP price  \\\n",
       "0                       0.716845                   0.009219   \n",
       "1                       0.795297                   0.008323   \n",
       "2                       0.774670                   0.040003   \n",
       "3                       0.739555                   0.003252   \n",
       "4                       0.795016                   0.003878   \n",
       "...                          ...                        ...   \n",
       "6814                    0.799927                   0.000466   \n",
       "6815                    0.799748                   0.001959   \n",
       "6816                    0.797778                   0.002840   \n",
       "6817                    0.811808                   0.002837   \n",
       "6818                    0.815956                   0.000707   \n",
       "\n",
       "      No-credit interval  Net income to stockholder's Equity  \\\n",
       "0               0.622879                            0.827890   \n",
       "1               0.623652                            0.839969   \n",
       "2               0.623841                            0.836774   \n",
       "3               0.622929                            0.834697   \n",
       "4               0.623521                            0.839973   \n",
       "...                  ...                                 ...   \n",
       "6814            0.623620                            0.840359   \n",
       "6815            0.623931                            0.840306   \n",
       "6816            0.624156                            0.840138   \n",
       "6817            0.623957                            0.841084   \n",
       "6818            0.626680                            0.841019   \n",
       "\n",
       "      Degree of financial leverage (DFL)  \\\n",
       "0                               0.026601   \n",
       "1                               0.264577   \n",
       "2                               0.026555   \n",
       "3                               0.026697   \n",
       "4                               0.024752   \n",
       "...                                  ...   \n",
       "6814                            0.027064   \n",
       "6815                            0.027009   \n",
       "6816                            0.026791   \n",
       "6817                            0.026822   \n",
       "6818                            0.026793   \n",
       "\n",
       "      Interest coverage ratio( Interest expense to EBIT )  \\\n",
       "0                                              0.564050     \n",
       "1                                              0.570175     \n",
       "2                                              0.563706     \n",
       "3                                              0.564663     \n",
       "4                                              0.575617     \n",
       "...                                                 ...     \n",
       "6814                                           0.566193     \n",
       "6815                                           0.566018     \n",
       "6816                                           0.565158     \n",
       "6817                                           0.565302     \n",
       "6818                                           0.565167     \n",
       "\n",
       "      one if net income was negative for the last two year zero otherwise  \\\n",
       "0                                                     1                     \n",
       "1                                                     1                     \n",
       "2                                                     1                     \n",
       "3                                                     1                     \n",
       "4                                                     1                     \n",
       "...                                                 ...                     \n",
       "6814                                                  1                     \n",
       "6815                                                  1                     \n",
       "6816                                                  1                     \n",
       "6817                                                  1                     \n",
       "6818                                                  1                     \n",
       "\n",
       "      equity to liability  \n",
       "0                0.016469  \n",
       "1                0.020794  \n",
       "2                0.016474  \n",
       "3                0.023982  \n",
       "4                0.035490  \n",
       "...                   ...  \n",
       "6814             0.029890  \n",
       "6815             0.038284  \n",
       "6816             0.097649  \n",
       "6817             0.044009  \n",
       "6818             0.233902  \n",
       "\n",
       "[6819 rows x 77 columns]"
      ]
     },
     "execution_count": 70,
     "metadata": {},
     "output_type": "execute_result"
    }
   ],
   "source": [
    "df2"
   ]
  },
  {
   "cell_type": "code",
   "execution_count": 369,
   "metadata": {
    "ExecuteTime": {
     "end_time": "2021-02-19T00:18:10.337297Z",
     "start_time": "2021-02-19T00:18:08.228462Z"
    }
   },
   "outputs": [
    {
     "name": "stdout",
     "output_type": "stream",
     "text": [
      "AUC: 0.835165295312271\n",
      "[[1388  259]\n",
      " [  10   48]]\n",
      "              precision    recall  f1-score   support\n",
      "\n",
      "           0       0.99      0.84      0.91      1647\n",
      "           1       0.16      0.83      0.26        58\n",
      "\n",
      "    accuracy                           0.84      1705\n",
      "   macro avg       0.57      0.84      0.59      1705\n",
      "weighted avg       0.96      0.84      0.89      1705\n",
      "\n"
     ]
    },
    {
     "data": {
      "image/png": "[encoded data removed]",
      "text/plain": [
       "<Figure size 432x288 with 2 Axes>"
      ]
     },
     "metadata": {},
     "output_type": "display_data"
    }
   ],
   "source": [
    "knn = KNeighborsClassifier(n_neighbors=13,)\n",
    "knn.fit(X_train_smote_sig,y_train_smote)\n",
    "\n",
    "\n",
    "y_pred_knn = knn.predict(X_test_sig)\n",
    "\n",
    "fpr, tpr, thresholds = roc_curve(y_test, y_pred_knn)\n",
    "\n",
    "print('AUC: {}'.format(auc(fpr, tpr)))\n",
    "cf = confusion_matrix(y_test,y_pred_knn)\n",
    "\n",
    "plot_confusion_matrix(knn,X_test_sig,y_test,cmap=plt.cm.Blues,\n",
    "                     display_labels=[\"not bankrupt\", \"bankrupt\"],\n",
    "                      values_format=\".5g\")\n",
    "plt.title(\"KNN Smote Values Confusion Matrix\")\n",
    "\n",
    "print(confusion_matrix(y_test, y_pred_knn))\n",
    "print(classification_report(y_test, y_pred_knn))\n",
    "\n"
   ]
  },
  {
   "cell_type": "code",
   "execution_count": null,
   "metadata": {},
   "outputs": [],
   "source": [
    "knn"
   ]
  },
  {
   "cell_type": "code",
   "execution_count": null,
   "metadata": {},
   "outputs": [],
   "source": [
    "## sacrificing precision in order to prioritize recall as is more valid metric of the twoaa"
   ]
  },
  {
   "cell_type": "code",
   "execution_count": 316,
   "metadata": {
    "ExecuteTime": {
     "end_time": "2021-02-18T21:49:57.209518Z",
     "start_time": "2021-02-18T21:49:43.782539Z"
    }
   },
   "outputs": [
    {
     "name": "stdout",
     "output_type": "stream",
     "text": [
      "Best Value for k: 13\n",
      "Recall-Score: 0.8275862068965517\n"
     ]
    }
   ],
   "source": [
    "find_best_k_recall(X_train_smote_sig, y_train_smote,X_test_sig,y_test)"
   ]
  },
  {
   "cell_type": "code",
   "execution_count": 319,
   "metadata": {
    "ExecuteTime": {
     "end_time": "2021-02-18T21:52:56.598659Z",
     "start_time": "2021-02-18T21:52:43.439758Z"
    }
   },
   "outputs": [
    {
     "name": "stdout",
     "output_type": "stream",
     "text": [
      "Best Value for k: 1\n",
      "F1-Score: 0.30985915492957744\n"
     ]
    }
   ],
   "source": [
    "find_best_k(X_train_smote_sig, y_train_smote,X_test_sig,y_test)"
   ]
  },
  {
   "cell_type": "code",
   "execution_count": 374,
   "metadata": {
    "ExecuteTime": {
     "end_time": "2021-02-19T00:29:39.763938Z",
     "start_time": "2021-02-19T00:29:37.640802Z"
    }
   },
   "outputs": [
    {
     "name": "stdout",
     "output_type": "stream",
     "text": [
      "AUC: 0.835165295312271\n",
      "[[1388  259]\n",
      " [  10   48]]\n",
      "              precision    recall  f1-score   support\n",
      "\n",
      "           0       0.99      0.84      0.91      1647\n",
      "           1       0.16      0.83      0.26        58\n",
      "\n",
      "    accuracy                           0.84      1705\n",
      "   macro avg       0.57      0.84      0.59      1705\n",
      "weighted avg       0.96      0.84      0.89      1705\n",
      "\n"
     ]
    },
    {
     "data": {
      "image/png": "[encoded data removed]",
      "text/plain": [
       "<Figure size 432x288 with 2 Axes>"
      ]
     },
     "metadata": {},
     "output_type": "display_data"
    }
   ],
   "source": [
    "knn = KNeighborsClassifier(n_neighbors=13,p=2)\n",
    "knn.fit(X_train_smote_sig,y_train_smote)\n",
    "\n",
    "\n",
    "y_pred_knn = knn.predict(X_test_sig)\n",
    "\n",
    "fpr, tpr, thresholds = roc_curve(y_test, y_pred_knn)\n",
    "\n",
    "print('AUC: {}'.format(auc(fpr, tpr)))\n",
    "cf = confusion_matrix(y_test,y_pred_knn)\n",
    "\n",
    "plot_confusion_matrix(knn,X_test_sig,y_test,cmap=plt.cm.Blues,\n",
    "                     display_labels=[\"not bankrupt\", \"bankrupt\"],\n",
    "                      values_format=\".5g\")\n",
    "plt.title(\"KNN Smote Values Confusion Matrix\")\n",
    "\n",
    "print(confusion_matrix(y_test, y_pred_knn))\n",
    "print(classification_report(y_test, y_pred_knn))\n"
   ]
  },
  {
   "cell_type": "code",
   "execution_count": 379,
   "metadata": {
    "ExecuteTime": {
     "end_time": "2021-02-19T00:54:00.068965Z",
     "start_time": "2021-02-19T00:53:56.884327Z"
    }
   },
   "outputs": [
    {
     "name": "stdout",
     "output_type": "stream",
     "text": [
      "AUC: 0.7946789355777485\n",
      "[[1567   80]\n",
      " [  21   37]]\n",
      "              precision    recall  f1-score   support\n",
      "\n",
      "           0       0.99      0.95      0.97      1647\n",
      "           1       0.32      0.64      0.42        58\n",
      "\n",
      "    accuracy                           0.94      1705\n",
      "   macro avg       0.65      0.79      0.70      1705\n",
      "weighted avg       0.96      0.94      0.95      1705\n",
      "\n"
     ]
    },
    {
     "data": {
      "image/png": "[encoded data removed]",
      "text/plain": [
       "<Figure size 432x288 with 2 Axes>"
      ]
     },
     "metadata": {},
     "output_type": "display_data"
    }
   ],
   "source": [
    "knn = KNeighborsClassifier(n_neighbors=1,p=1)\n",
    "knn.fit(X_train_smote_stan_scal,y_train_smote)\n",
    "\n",
    "\n",
    "y_pred_knn = knn.predict(X_test_scaled)\n",
    "\n",
    "fpr, tpr, thresholds = roc_curve(y_test, y_pred_knn)\n",
    "\n",
    "print('AUC: {}'.format(auc(fpr, tpr)))\n",
    "cf = confusion_matrix(y_test,y_pred_knn)\n",
    "\n",
    "plot_confusion_matrix(knn,X_test_scaled,y_test,cmap=plt.cm.Blues,\n",
    "                     display_labels=[\"not bankrupt\", \"bankrupt\"],\n",
    "                      values_format=\".5g\")\n",
    "plt.title(\"KNN Smote Values Confusion Matrix\")\n",
    "\n",
    "print(confusion_matrix(y_test, y_pred_knn))\n",
    "print(classification_report(y_test, y_pred_knn))"
   ]
  },
  {
   "cell_type": "code",
   "execution_count": 331,
   "metadata": {
    "ExecuteTime": {
     "end_time": "2021-02-18T22:04:46.432537Z",
     "start_time": "2021-02-18T22:04:20.673658Z"
    }
   },
   "outputs": [
    {
     "name": "stdout",
     "output_type": "stream",
     "text": [
      "Best Value for k: 1\n",
      "F1-Score: 0.3422459893048128\n"
     ]
    }
   ],
   "source": [
    "find_best_k(X_train_smote_stan_scal,y_train_smote,X_test_scaled,y_test)"
   ]
  },
  {
   "cell_type": "code",
   "execution_count": 332,
   "metadata": {
    "ExecuteTime": {
     "end_time": "2021-02-18T22:05:16.080347Z",
     "start_time": "2021-02-18T22:04:49.916611Z"
    }
   },
   "outputs": [
    {
     "name": "stdout",
     "output_type": "stream",
     "text": [
      "Best Value for k: 13\n",
      "Recall-Score: 0.8448275862068966\n"
     ]
    }
   ],
   "source": [
    "find_best_k_recall(X_train_smote_stan_scal,y_train_smote,X_test_scaled,y_test)"
   ]
  },
  {
   "cell_type": "code",
   "execution_count": 376,
   "metadata": {
    "ExecuteTime": {
     "end_time": "2021-02-19T00:31:02.096468Z",
     "start_time": "2021-02-19T00:30:58.581477Z"
    }
   },
   "outputs": [
    {
     "name": "stdout",
     "output_type": "stream",
     "text": [
      "AUC: 0.8312815359169231\n",
      "[[1432  215]\n",
      " [  12   46]]\n",
      "              precision    recall  f1-score   support\n",
      "\n",
      "           0       0.99      0.87      0.93      1647\n",
      "           1       0.18      0.79      0.29        58\n",
      "\n",
      "    accuracy                           0.87      1705\n",
      "   macro avg       0.58      0.83      0.61      1705\n",
      "weighted avg       0.96      0.87      0.90      1705\n",
      "\n"
     ]
    },
    {
     "data": {
      "image/png": "[encoded data removed]",
      "text/plain": [
       "<Figure size 432x288 with 2 Axes>"
      ]
     },
     "metadata": {},
     "output_type": "display_data"
    }
   ],
   "source": [
    "knn = KNeighborsClassifier(n_neighbors=13,p=1)\n",
    "knn.fit(X_train_smote_stan_scal,y_train_smote)\n",
    "\n",
    "\n",
    "y_pred_knn = knn.predict(X_test_scaled)\n",
    "\n",
    "fpr, tpr, thresholds = roc_curve(y_test, y_pred_knn)\n",
    "\n",
    "print('AUC: {}'.format(auc(fpr, tpr)))\n",
    "cf = confusion_matrix(y_test,y_pred_knn)\n",
    "\n",
    "plot_confusion_matrix(knn,X_test_scaled,y_test,cmap=plt.cm.Blues,\n",
    "                     display_labels=[\"not bankrupt\", \"bankrupt\"],\n",
    "                      values_format=\".5g\")\n",
    "plt.title(\"KNN Smote Values Confusion Matrix\")\n",
    "\n",
    "print(confusion_matrix(y_test, y_pred_knn))\n",
    "print(classification_report(y_test, y_pred_knn))"
   ]
  },
  {
   "cell_type": "code",
   "execution_count": 345,
   "metadata": {
    "ExecuteTime": {
     "end_time": "2021-02-18T22:30:03.814432Z",
     "start_time": "2021-02-18T22:30:03.810443Z"
    }
   },
   "outputs": [],
   "source": [
    "knn_param_grid = {'p': [1,2],\n",
    "                  'weights' : ['uniform','distance'],\n",
    "                  'n_neighbors': [1,5,13,17,25]\n",
    "}\n",
    "knn =KNeighborsClassifier()\n",
    "knn_grid = GridSearchCV(estimator=knn,param_grid=knn_param_grid,scoring='recall',verbose=2,return_train_score=True)\n"
   ]
  },
  {
   "cell_type": "code",
   "execution_count": null,
   "metadata": {},
   "outputs": [],
   "source": []
  },
  {
   "cell_type": "code",
   "execution_count": 346,
   "metadata": {
    "ExecuteTime": {
     "end_time": "2021-02-18T22:36:03.398717Z",
     "start_time": "2021-02-18T22:30:06.896959Z"
    }
   },
   "outputs": [
    {
     "name": "stdout",
     "output_type": "stream",
     "text": [
      "Fitting 5 folds for each of 20 candidates, totalling 100 fits\n",
      "[CV] n_neighbors=1, p=1, weights=uniform .............................\n"
     ]
    },
    {
     "name": "stderr",
     "output_type": "stream",
     "text": [
      "[Parallel(n_jobs=1)]: Using backend SequentialBackend with 1 concurrent workers.\n"
     ]
    },
    {
     "name": "stdout",
     "output_type": "stream",
     "text": [
      "[CV] .............. n_neighbors=1, p=1, weights=uniform, total=   0.7s\n",
      "[CV] n_neighbors=1, p=1, weights=uniform .............................\n"
     ]
    },
    {
     "name": "stderr",
     "output_type": "stream",
     "text": [
      "[Parallel(n_jobs=1)]: Done   1 out of   1 | elapsed:    1.3s remaining:    0.0s\n"
     ]
    },
    {
     "name": "stdout",
     "output_type": "stream",
     "text": [
      "[CV] .............. n_neighbors=1, p=1, weights=uniform, total=   0.6s\n",
      "[CV] n_neighbors=1, p=1, weights=uniform .............................\n",
      "[CV] .............. n_neighbors=1, p=1, weights=uniform, total=   0.6s\n",
      "[CV] n_neighbors=1, p=1, weights=uniform .............................\n",
      "[CV] .............. n_neighbors=1, p=1, weights=uniform, total=   0.7s\n",
      "[CV] n_neighbors=1, p=1, weights=uniform .............................\n",
      "[CV] .............. n_neighbors=1, p=1, weights=uniform, total=   0.6s\n",
      "[CV] n_neighbors=1, p=1, weights=distance ............................\n",
      "[CV] ............. n_neighbors=1, p=1, weights=distance, total=   0.6s\n",
      "[CV] n_neighbors=1, p=1, weights=distance ............................\n",
      "[CV] ............. n_neighbors=1, p=1, weights=distance, total=   0.6s\n",
      "[CV] n_neighbors=1, p=1, weights=distance ............................\n",
      "[CV] ............. n_neighbors=1, p=1, weights=distance, total=   0.6s\n",
      "[CV] n_neighbors=1, p=1, weights=distance ............................\n",
      "[CV] ............. n_neighbors=1, p=1, weights=distance, total=   0.6s\n",
      "[CV] n_neighbors=1, p=1, weights=distance ............................\n",
      "[CV] ............. n_neighbors=1, p=1, weights=distance, total=   0.6s\n",
      "[CV] n_neighbors=1, p=2, weights=uniform .............................\n",
      "[CV] .............. n_neighbors=1, p=2, weights=uniform, total=   0.8s\n",
      "[CV] n_neighbors=1, p=2, weights=uniform .............................\n",
      "[CV] .............. n_neighbors=1, p=2, weights=uniform, total=   0.7s\n",
      "[CV] n_neighbors=1, p=2, weights=uniform .............................\n",
      "[CV] .............. n_neighbors=1, p=2, weights=uniform, total=   0.8s\n",
      "[CV] n_neighbors=1, p=2, weights=uniform .............................\n",
      "[CV] .............. n_neighbors=1, p=2, weights=uniform, total=   0.8s\n",
      "[CV] n_neighbors=1, p=2, weights=uniform .............................\n",
      "[CV] .............. n_neighbors=1, p=2, weights=uniform, total=   0.7s\n",
      "[CV] n_neighbors=1, p=2, weights=distance ............................\n",
      "[CV] ............. n_neighbors=1, p=2, weights=distance, total=   0.8s\n",
      "[CV] n_neighbors=1, p=2, weights=distance ............................\n",
      "[CV] ............. n_neighbors=1, p=2, weights=distance, total=   0.7s\n",
      "[CV] n_neighbors=1, p=2, weights=distance ............................\n",
      "[CV] ............. n_neighbors=1, p=2, weights=distance, total=   0.7s\n",
      "[CV] n_neighbors=1, p=2, weights=distance ............................\n",
      "[CV] ............. n_neighbors=1, p=2, weights=distance, total=   0.8s\n",
      "[CV] n_neighbors=1, p=2, weights=distance ............................\n",
      "[CV] ............. n_neighbors=1, p=2, weights=distance, total=   0.7s\n",
      "[CV] n_neighbors=5, p=1, weights=uniform .............................\n",
      "[CV] .............. n_neighbors=5, p=1, weights=uniform, total=   0.7s\n",
      "[CV] n_neighbors=5, p=1, weights=uniform .............................\n",
      "[CV] .............. n_neighbors=5, p=1, weights=uniform, total=   0.8s\n",
      "[CV] n_neighbors=5, p=1, weights=uniform .............................\n",
      "[CV] .............. n_neighbors=5, p=1, weights=uniform, total=   0.8s\n",
      "[CV] n_neighbors=5, p=1, weights=uniform .............................\n",
      "[CV] .............. n_neighbors=5, p=1, weights=uniform, total=   0.8s\n",
      "[CV] n_neighbors=5, p=1, weights=uniform .............................\n",
      "[CV] .............. n_neighbors=5, p=1, weights=uniform, total=   0.7s\n",
      "[CV] n_neighbors=5, p=1, weights=distance ............................\n",
      "[CV] ............. n_neighbors=5, p=1, weights=distance, total=   0.7s\n",
      "[CV] n_neighbors=5, p=1, weights=distance ............................\n",
      "[CV] ............. n_neighbors=5, p=1, weights=distance, total=   0.7s\n",
      "[CV] n_neighbors=5, p=1, weights=distance ............................\n",
      "[CV] ............. n_neighbors=5, p=1, weights=distance, total=   0.7s\n",
      "[CV] n_neighbors=5, p=1, weights=distance ............................\n",
      "[CV] ............. n_neighbors=5, p=1, weights=distance, total=   0.7s\n",
      "[CV] n_neighbors=5, p=1, weights=distance ............................\n",
      "[CV] ............. n_neighbors=5, p=1, weights=distance, total=   0.7s\n",
      "[CV] n_neighbors=5, p=2, weights=uniform .............................\n",
      "[CV] .............. n_neighbors=5, p=2, weights=uniform, total=   0.9s\n",
      "[CV] n_neighbors=5, p=2, weights=uniform .............................\n",
      "[CV] .............. n_neighbors=5, p=2, weights=uniform, total=   0.9s\n",
      "[CV] n_neighbors=5, p=2, weights=uniform .............................\n",
      "[CV] .............. n_neighbors=5, p=2, weights=uniform, total=   0.9s\n",
      "[CV] n_neighbors=5, p=2, weights=uniform .............................\n",
      "[CV] .............. n_neighbors=5, p=2, weights=uniform, total=   1.0s\n",
      "[CV] n_neighbors=5, p=2, weights=uniform .............................\n",
      "[CV] .............. n_neighbors=5, p=2, weights=uniform, total=   0.9s\n",
      "[CV] n_neighbors=5, p=2, weights=distance ............................\n",
      "[CV] ............. n_neighbors=5, p=2, weights=distance, total=   0.9s\n",
      "[CV] n_neighbors=5, p=2, weights=distance ............................\n",
      "[CV] ............. n_neighbors=5, p=2, weights=distance, total=   0.8s\n",
      "[CV] n_neighbors=5, p=2, weights=distance ............................\n",
      "[CV] ............. n_neighbors=5, p=2, weights=distance, total=   0.9s\n",
      "[CV] n_neighbors=5, p=2, weights=distance ............................\n",
      "[CV] ............. n_neighbors=5, p=2, weights=distance, total=   0.9s\n",
      "[CV] n_neighbors=5, p=2, weights=distance ............................\n",
      "[CV] ............. n_neighbors=5, p=2, weights=distance, total=   0.9s\n",
      "[CV] n_neighbors=13, p=1, weights=uniform ............................\n",
      "[CV] ............. n_neighbors=13, p=1, weights=uniform, total=   0.8s\n",
      "[CV] n_neighbors=13, p=1, weights=uniform ............................\n",
      "[CV] ............. n_neighbors=13, p=1, weights=uniform, total=   0.8s\n",
      "[CV] n_neighbors=13, p=1, weights=uniform ............................\n",
      "[CV] ............. n_neighbors=13, p=1, weights=uniform, total=   0.8s\n",
      "[CV] n_neighbors=13, p=1, weights=uniform ............................\n",
      "[CV] ............. n_neighbors=13, p=1, weights=uniform, total=   0.9s\n",
      "[CV] n_neighbors=13, p=1, weights=uniform ............................\n",
      "[CV] ............. n_neighbors=13, p=1, weights=uniform, total=   0.8s\n",
      "[CV] n_neighbors=13, p=1, weights=distance ...........................\n",
      "[CV] ............ n_neighbors=13, p=1, weights=distance, total=   0.8s\n",
      "[CV] n_neighbors=13, p=1, weights=distance ...........................\n",
      "[CV] ............ n_neighbors=13, p=1, weights=distance, total=   0.8s\n",
      "[CV] n_neighbors=13, p=1, weights=distance ...........................\n",
      "[CV] ............ n_neighbors=13, p=1, weights=distance, total=   0.8s\n",
      "[CV] n_neighbors=13, p=1, weights=distance ...........................\n",
      "[CV] ............ n_neighbors=13, p=1, weights=distance, total=   0.8s\n",
      "[CV] n_neighbors=13, p=1, weights=distance ...........................\n",
      "[CV] ............ n_neighbors=13, p=1, weights=distance, total=   0.8s\n",
      "[CV] n_neighbors=13, p=2, weights=uniform ............................\n",
      "[CV] ............. n_neighbors=13, p=2, weights=uniform, total=   1.1s\n",
      "[CV] n_neighbors=13, p=2, weights=uniform ............................\n",
      "[CV] ............. n_neighbors=13, p=2, weights=uniform, total=   1.0s\n",
      "[CV] n_neighbors=13, p=2, weights=uniform ............................\n",
      "[CV] ............. n_neighbors=13, p=2, weights=uniform, total=   1.0s\n",
      "[CV] n_neighbors=13, p=2, weights=uniform ............................\n",
      "[CV] ............. n_neighbors=13, p=2, weights=uniform, total=   1.1s\n",
      "[CV] n_neighbors=13, p=2, weights=uniform ............................\n",
      "[CV] ............. n_neighbors=13, p=2, weights=uniform, total=   1.0s\n",
      "[CV] n_neighbors=13, p=2, weights=distance ...........................\n",
      "[CV] ............ n_neighbors=13, p=2, weights=distance, total=   1.0s\n",
      "[CV] n_neighbors=13, p=2, weights=distance ...........................\n",
      "[CV] ............ n_neighbors=13, p=2, weights=distance, total=   1.0s\n",
      "[CV] n_neighbors=13, p=2, weights=distance ...........................\n",
      "[CV] ............ n_neighbors=13, p=2, weights=distance, total=   1.0s\n",
      "[CV] n_neighbors=13, p=2, weights=distance ...........................\n",
      "[CV] ............ n_neighbors=13, p=2, weights=distance, total=   1.0s\n",
      "[CV] n_neighbors=13, p=2, weights=distance ...........................\n"
     ]
    },
    {
     "name": "stdout",
     "output_type": "stream",
     "text": [
      "[CV] ............ n_neighbors=13, p=2, weights=distance, total=   1.0s\n",
      "[CV] n_neighbors=17, p=1, weights=uniform ............................\n",
      "[CV] ............. n_neighbors=17, p=1, weights=uniform, total=   0.9s\n",
      "[CV] n_neighbors=17, p=1, weights=uniform ............................\n",
      "[CV] ............. n_neighbors=17, p=1, weights=uniform, total=   0.8s\n",
      "[CV] n_neighbors=17, p=1, weights=uniform ............................\n",
      "[CV] ............. n_neighbors=17, p=1, weights=uniform, total=   0.9s\n",
      "[CV] n_neighbors=17, p=1, weights=uniform ............................\n",
      "[CV] ............. n_neighbors=17, p=1, weights=uniform, total=   0.9s\n",
      "[CV] n_neighbors=17, p=1, weights=uniform ............................\n",
      "[CV] ............. n_neighbors=17, p=1, weights=uniform, total=   0.9s\n",
      "[CV] n_neighbors=17, p=1, weights=distance ...........................\n",
      "[CV] ............ n_neighbors=17, p=1, weights=distance, total=   0.9s\n",
      "[CV] n_neighbors=17, p=1, weights=distance ...........................\n",
      "[CV] ............ n_neighbors=17, p=1, weights=distance, total=   0.8s\n",
      "[CV] n_neighbors=17, p=1, weights=distance ...........................\n",
      "[CV] ............ n_neighbors=17, p=1, weights=distance, total=   0.8s\n",
      "[CV] n_neighbors=17, p=1, weights=distance ...........................\n",
      "[CV] ............ n_neighbors=17, p=1, weights=distance, total=   0.9s\n",
      "[CV] n_neighbors=17, p=1, weights=distance ...........................\n",
      "[CV] ............ n_neighbors=17, p=1, weights=distance, total=   0.8s\n",
      "[CV] n_neighbors=17, p=2, weights=uniform ............................\n",
      "[CV] ............. n_neighbors=17, p=2, weights=uniform, total=   1.1s\n",
      "[CV] n_neighbors=17, p=2, weights=uniform ............................\n",
      "[CV] ............. n_neighbors=17, p=2, weights=uniform, total=   1.1s\n",
      "[CV] n_neighbors=17, p=2, weights=uniform ............................\n",
      "[CV] ............. n_neighbors=17, p=2, weights=uniform, total=   1.1s\n",
      "[CV] n_neighbors=17, p=2, weights=uniform ............................\n",
      "[CV] ............. n_neighbors=17, p=2, weights=uniform, total=   1.1s\n",
      "[CV] n_neighbors=17, p=2, weights=uniform ............................\n",
      "[CV] ............. n_neighbors=17, p=2, weights=uniform, total=   1.1s\n",
      "[CV] n_neighbors=17, p=2, weights=distance ...........................\n",
      "[CV] ............ n_neighbors=17, p=2, weights=distance, total=   1.0s\n",
      "[CV] n_neighbors=17, p=2, weights=distance ...........................\n",
      "[CV] ............ n_neighbors=17, p=2, weights=distance, total=   1.0s\n",
      "[CV] n_neighbors=17, p=2, weights=distance ...........................\n",
      "[CV] ............ n_neighbors=17, p=2, weights=distance, total=   1.1s\n",
      "[CV] n_neighbors=17, p=2, weights=distance ...........................\n",
      "[CV] ............ n_neighbors=17, p=2, weights=distance, total=   1.1s\n",
      "[CV] n_neighbors=17, p=2, weights=distance ...........................\n",
      "[CV] ............ n_neighbors=17, p=2, weights=distance, total=   1.0s\n",
      "[CV] n_neighbors=25, p=1, weights=uniform ............................\n",
      "[CV] ............. n_neighbors=25, p=1, weights=uniform, total=   1.0s\n",
      "[CV] n_neighbors=25, p=1, weights=uniform ............................\n",
      "[CV] ............. n_neighbors=25, p=1, weights=uniform, total=   0.9s\n",
      "[CV] n_neighbors=25, p=1, weights=uniform ............................\n",
      "[CV] ............. n_neighbors=25, p=1, weights=uniform, total=   1.0s\n",
      "[CV] n_neighbors=25, p=1, weights=uniform ............................\n",
      "[CV] ............. n_neighbors=25, p=1, weights=uniform, total=   1.0s\n",
      "[CV] n_neighbors=25, p=1, weights=uniform ............................\n",
      "[CV] ............. n_neighbors=25, p=1, weights=uniform, total=   0.9s\n",
      "[CV] n_neighbors=25, p=1, weights=distance ...........................\n",
      "[CV] ............ n_neighbors=25, p=1, weights=distance, total=   0.9s\n",
      "[CV] n_neighbors=25, p=1, weights=distance ...........................\n",
      "[CV] ............ n_neighbors=25, p=1, weights=distance, total=   1.2s\n",
      "[CV] n_neighbors=25, p=1, weights=distance ...........................\n",
      "[CV] ............ n_neighbors=25, p=1, weights=distance, total=   0.9s\n",
      "[CV] n_neighbors=25, p=1, weights=distance ...........................\n",
      "[CV] ............ n_neighbors=25, p=1, weights=distance, total=   0.9s\n",
      "[CV] n_neighbors=25, p=1, weights=distance ...........................\n",
      "[CV] ............ n_neighbors=25, p=1, weights=distance, total=   0.9s\n",
      "[CV] n_neighbors=25, p=2, weights=uniform ............................\n",
      "[CV] ............. n_neighbors=25, p=2, weights=uniform, total=   1.2s\n",
      "[CV] n_neighbors=25, p=2, weights=uniform ............................\n",
      "[CV] ............. n_neighbors=25, p=2, weights=uniform, total=   1.1s\n",
      "[CV] n_neighbors=25, p=2, weights=uniform ............................\n",
      "[CV] ............. n_neighbors=25, p=2, weights=uniform, total=   1.1s\n",
      "[CV] n_neighbors=25, p=2, weights=uniform ............................\n",
      "[CV] ............. n_neighbors=25, p=2, weights=uniform, total=   1.2s\n",
      "[CV] n_neighbors=25, p=2, weights=uniform ............................\n",
      "[CV] ............. n_neighbors=25, p=2, weights=uniform, total=   1.1s\n",
      "[CV] n_neighbors=25, p=2, weights=distance ...........................\n",
      "[CV] ............ n_neighbors=25, p=2, weights=distance, total=   1.1s\n",
      "[CV] n_neighbors=25, p=2, weights=distance ...........................\n",
      "[CV] ............ n_neighbors=25, p=2, weights=distance, total=   1.0s\n",
      "[CV] n_neighbors=25, p=2, weights=distance ...........................\n",
      "[CV] ............ n_neighbors=25, p=2, weights=distance, total=   1.1s\n",
      "[CV] n_neighbors=25, p=2, weights=distance ...........................\n",
      "[CV] ............ n_neighbors=25, p=2, weights=distance, total=   1.1s\n",
      "[CV] n_neighbors=25, p=2, weights=distance ...........................\n",
      "[CV] ............ n_neighbors=25, p=2, weights=distance, total=   1.1s\n"
     ]
    },
    {
     "name": "stderr",
     "output_type": "stream",
     "text": [
      "[Parallel(n_jobs=1)]: Done 100 out of 100 | elapsed:  5.9min finished\n"
     ]
    },
    {
     "data": {
      "text/plain": [
       "GridSearchCV(estimator=KNeighborsClassifier(),\n",
       "             param_grid={'n_neighbors': [1, 5, 13, 17, 25], 'p': [1, 2],\n",
       "                         'weights': ['uniform', 'distance']},\n",
       "             return_train_score=True, scoring='recall', verbose=2)"
      ]
     },
     "execution_count": 346,
     "metadata": {},
     "output_type": "execute_result"
    }
   ],
   "source": [
    "knn_grid.fit(X_train_smote_sig,y_train_smote)"
   ]
  },
  {
   "cell_type": "code",
   "execution_count": 350,
   "metadata": {
    "ExecuteTime": {
     "end_time": "2021-02-18T23:39:56.425306Z",
     "start_time": "2021-02-18T23:39:56.409654Z"
    }
   },
   "outputs": [
    {
     "data": {
      "text/plain": [
       "0.9898147205317469"
      ]
     },
     "execution_count": 350,
     "metadata": {},
     "output_type": "execute_result"
    }
   ],
   "source": [
    "## results for KNN grid for X_train_smote_sig\n",
    "np.mean(knn_grid.cv_results_['mean_train_score'])"
   ]
  },
  {
   "cell_type": "code",
   "execution_count": 351,
   "metadata": {
    "ExecuteTime": {
     "end_time": "2021-02-18T23:51:42.899555Z",
     "start_time": "2021-02-18T23:41:35.095787Z"
    }
   },
   "outputs": [
    {
     "name": "stdout",
     "output_type": "stream",
     "text": [
      "Fitting 5 folds for each of 20 candidates, totalling 100 fits\n",
      "[CV] n_neighbors=1, p=1, weights=uniform .............................\n"
     ]
    },
    {
     "name": "stderr",
     "output_type": "stream",
     "text": [
      "[Parallel(n_jobs=1)]: Using backend SequentialBackend with 1 concurrent workers.\n"
     ]
    },
    {
     "name": "stdout",
     "output_type": "stream",
     "text": [
      "[CV] .............. n_neighbors=1, p=1, weights=uniform, total=   1.0s\n",
      "[CV] n_neighbors=1, p=1, weights=uniform .............................\n"
     ]
    },
    {
     "name": "stderr",
     "output_type": "stream",
     "text": [
      "[Parallel(n_jobs=1)]: Done   1 out of   1 | elapsed:    1.1s remaining:    0.0s\n"
     ]
    },
    {
     "name": "stdout",
     "output_type": "stream",
     "text": [
      "[CV] .............. n_neighbors=1, p=1, weights=uniform, total=   1.0s\n",
      "[CV] n_neighbors=1, p=1, weights=uniform .............................\n",
      "[CV] .............. n_neighbors=1, p=1, weights=uniform, total=   1.0s\n",
      "[CV] n_neighbors=1, p=1, weights=uniform .............................\n",
      "[CV] .............. n_neighbors=1, p=1, weights=uniform, total=   1.0s\n",
      "[CV] n_neighbors=1, p=1, weights=uniform .............................\n",
      "[CV] .............. n_neighbors=1, p=1, weights=uniform, total=   1.0s\n",
      "[CV] n_neighbors=1, p=1, weights=distance ............................\n",
      "[CV] ............. n_neighbors=1, p=1, weights=distance, total=   0.9s\n",
      "[CV] n_neighbors=1, p=1, weights=distance ............................\n",
      "[CV] ............. n_neighbors=1, p=1, weights=distance, total=   0.9s\n",
      "[CV] n_neighbors=1, p=1, weights=distance ............................\n",
      "[CV] ............. n_neighbors=1, p=1, weights=distance, total=   1.0s\n",
      "[CV] n_neighbors=1, p=1, weights=distance ............................\n",
      "[CV] ............. n_neighbors=1, p=1, weights=distance, total=   0.9s\n",
      "[CV] n_neighbors=1, p=1, weights=distance ............................\n",
      "[CV] ............. n_neighbors=1, p=1, weights=distance, total=   1.1s\n",
      "[CV] n_neighbors=1, p=2, weights=uniform .............................\n",
      "[CV] .............. n_neighbors=1, p=2, weights=uniform, total=   1.1s\n",
      "[CV] n_neighbors=1, p=2, weights=uniform .............................\n",
      "[CV] .............. n_neighbors=1, p=2, weights=uniform, total=   1.1s\n",
      "[CV] n_neighbors=1, p=2, weights=uniform .............................\n",
      "[CV] .............. n_neighbors=1, p=2, weights=uniform, total=   1.1s\n",
      "[CV] n_neighbors=1, p=2, weights=uniform .............................\n",
      "[CV] .............. n_neighbors=1, p=2, weights=uniform, total=   1.1s\n",
      "[CV] n_neighbors=1, p=2, weights=uniform .............................\n",
      "[CV] .............. n_neighbors=1, p=2, weights=uniform, total=   1.1s\n",
      "[CV] n_neighbors=1, p=2, weights=distance ............................\n",
      "[CV] ............. n_neighbors=1, p=2, weights=distance, total=   1.0s\n",
      "[CV] n_neighbors=1, p=2, weights=distance ............................\n",
      "[CV] ............. n_neighbors=1, p=2, weights=distance, total=   1.0s\n",
      "[CV] n_neighbors=1, p=2, weights=distance ............................\n",
      "[CV] ............. n_neighbors=1, p=2, weights=distance, total=   1.0s\n",
      "[CV] n_neighbors=1, p=2, weights=distance ............................\n",
      "[CV] ............. n_neighbors=1, p=2, weights=distance, total=   1.1s\n",
      "[CV] n_neighbors=1, p=2, weights=distance ............................\n",
      "[CV] ............. n_neighbors=1, p=2, weights=distance, total=   1.1s\n",
      "[CV] n_neighbors=5, p=1, weights=uniform .............................\n",
      "[CV] .............. n_neighbors=5, p=1, weights=uniform, total=   1.3s\n",
      "[CV] n_neighbors=5, p=1, weights=uniform .............................\n",
      "[CV] .............. n_neighbors=5, p=1, weights=uniform, total=   1.3s\n",
      "[CV] n_neighbors=5, p=1, weights=uniform .............................\n",
      "[CV] .............. n_neighbors=5, p=1, weights=uniform, total=   1.3s\n",
      "[CV] n_neighbors=5, p=1, weights=uniform .............................\n",
      "[CV] .............. n_neighbors=5, p=1, weights=uniform, total=   1.3s\n",
      "[CV] n_neighbors=5, p=1, weights=uniform .............................\n",
      "[CV] .............. n_neighbors=5, p=1, weights=uniform, total=   1.3s\n",
      "[CV] n_neighbors=5, p=1, weights=distance ............................\n",
      "[CV] ............. n_neighbors=5, p=1, weights=distance, total=   1.3s\n",
      "[CV] n_neighbors=5, p=1, weights=distance ............................\n",
      "[CV] ............. n_neighbors=5, p=1, weights=distance, total=   1.2s\n",
      "[CV] n_neighbors=5, p=1, weights=distance ............................\n",
      "[CV] ............. n_neighbors=5, p=1, weights=distance, total=   1.2s\n",
      "[CV] n_neighbors=5, p=1, weights=distance ............................\n",
      "[CV] ............. n_neighbors=5, p=1, weights=distance, total=   1.2s\n",
      "[CV] n_neighbors=5, p=1, weights=distance ............................\n",
      "[CV] ............. n_neighbors=5, p=1, weights=distance, total=   1.3s\n",
      "[CV] n_neighbors=5, p=2, weights=uniform .............................\n",
      "[CV] .............. n_neighbors=5, p=2, weights=uniform, total=   1.4s\n",
      "[CV] n_neighbors=5, p=2, weights=uniform .............................\n",
      "[CV] .............. n_neighbors=5, p=2, weights=uniform, total=   1.5s\n",
      "[CV] n_neighbors=5, p=2, weights=uniform .............................\n",
      "[CV] .............. n_neighbors=5, p=2, weights=uniform, total=   1.5s\n",
      "[CV] n_neighbors=5, p=2, weights=uniform .............................\n",
      "[CV] .............. n_neighbors=5, p=2, weights=uniform, total=   1.4s\n",
      "[CV] n_neighbors=5, p=2, weights=uniform .............................\n",
      "[CV] .............. n_neighbors=5, p=2, weights=uniform, total=   1.5s\n",
      "[CV] n_neighbors=5, p=2, weights=distance ............................\n",
      "[CV] ............. n_neighbors=5, p=2, weights=distance, total=   1.5s\n",
      "[CV] n_neighbors=5, p=2, weights=distance ............................\n",
      "[CV] ............. n_neighbors=5, p=2, weights=distance, total=   1.6s\n",
      "[CV] n_neighbors=5, p=2, weights=distance ............................\n",
      "[CV] ............. n_neighbors=5, p=2, weights=distance, total=   1.4s\n",
      "[CV] n_neighbors=5, p=2, weights=distance ............................\n",
      "[CV] ............. n_neighbors=5, p=2, weights=distance, total=   1.4s\n",
      "[CV] n_neighbors=5, p=2, weights=distance ............................\n",
      "[CV] ............. n_neighbors=5, p=2, weights=distance, total=   1.4s\n",
      "[CV] n_neighbors=13, p=1, weights=uniform ............................\n",
      "[CV] ............. n_neighbors=13, p=1, weights=uniform, total=   1.5s\n",
      "[CV] n_neighbors=13, p=1, weights=uniform ............................\n",
      "[CV] ............. n_neighbors=13, p=1, weights=uniform, total=   1.4s\n",
      "[CV] n_neighbors=13, p=1, weights=uniform ............................\n",
      "[CV] ............. n_neighbors=13, p=1, weights=uniform, total=   1.5s\n",
      "[CV] n_neighbors=13, p=1, weights=uniform ............................\n",
      "[CV] ............. n_neighbors=13, p=1, weights=uniform, total=   1.5s\n",
      "[CV] n_neighbors=13, p=1, weights=uniform ............................\n",
      "[CV] ............. n_neighbors=13, p=1, weights=uniform, total=   1.5s\n",
      "[CV] n_neighbors=13, p=1, weights=distance ...........................\n",
      "[CV] ............ n_neighbors=13, p=1, weights=distance, total=   1.4s\n",
      "[CV] n_neighbors=13, p=1, weights=distance ...........................\n",
      "[CV] ............ n_neighbors=13, p=1, weights=distance, total=   1.4s\n",
      "[CV] n_neighbors=13, p=1, weights=distance ...........................\n",
      "[CV] ............ n_neighbors=13, p=1, weights=distance, total=   1.4s\n",
      "[CV] n_neighbors=13, p=1, weights=distance ...........................\n",
      "[CV] ............ n_neighbors=13, p=1, weights=distance, total=   1.5s\n",
      "[CV] n_neighbors=13, p=1, weights=distance ...........................\n",
      "[CV] ............ n_neighbors=13, p=1, weights=distance, total=   1.4s\n",
      "[CV] n_neighbors=13, p=2, weights=uniform ............................\n",
      "[CV] ............. n_neighbors=13, p=2, weights=uniform, total=   1.7s\n",
      "[CV] n_neighbors=13, p=2, weights=uniform ............................\n",
      "[CV] ............. n_neighbors=13, p=2, weights=uniform, total=   1.7s\n",
      "[CV] n_neighbors=13, p=2, weights=uniform ............................\n",
      "[CV] ............. n_neighbors=13, p=2, weights=uniform, total=   1.7s\n",
      "[CV] n_neighbors=13, p=2, weights=uniform ............................\n",
      "[CV] ............. n_neighbors=13, p=2, weights=uniform, total=   1.7s\n",
      "[CV] n_neighbors=13, p=2, weights=uniform ............................\n",
      "[CV] ............. n_neighbors=13, p=2, weights=uniform, total=   1.7s\n",
      "[CV] n_neighbors=13, p=2, weights=distance ...........................\n",
      "[CV] ............ n_neighbors=13, p=2, weights=distance, total=   1.6s\n",
      "[CV] n_neighbors=13, p=2, weights=distance ...........................\n",
      "[CV] ............ n_neighbors=13, p=2, weights=distance, total=   1.6s\n",
      "[CV] n_neighbors=13, p=2, weights=distance ...........................\n",
      "[CV] ............ n_neighbors=13, p=2, weights=distance, total=   1.6s\n",
      "[CV] n_neighbors=13, p=2, weights=distance ...........................\n",
      "[CV] ............ n_neighbors=13, p=2, weights=distance, total=   1.6s\n",
      "[CV] n_neighbors=13, p=2, weights=distance ...........................\n"
     ]
    },
    {
     "name": "stdout",
     "output_type": "stream",
     "text": [
      "[CV] ............ n_neighbors=13, p=2, weights=distance, total=   1.8s\n",
      "[CV] n_neighbors=17, p=1, weights=uniform ............................\n",
      "[CV] ............. n_neighbors=17, p=1, weights=uniform, total=   1.6s\n",
      "[CV] n_neighbors=17, p=1, weights=uniform ............................\n",
      "[CV] ............. n_neighbors=17, p=1, weights=uniform, total=   1.5s\n",
      "[CV] n_neighbors=17, p=1, weights=uniform ............................\n",
      "[CV] ............. n_neighbors=17, p=1, weights=uniform, total=   1.5s\n",
      "[CV] n_neighbors=17, p=1, weights=uniform ............................\n",
      "[CV] ............. n_neighbors=17, p=1, weights=uniform, total=   1.5s\n",
      "[CV] n_neighbors=17, p=1, weights=uniform ............................\n",
      "[CV] ............. n_neighbors=17, p=1, weights=uniform, total=   1.5s\n",
      "[CV] n_neighbors=17, p=1, weights=distance ...........................\n",
      "[CV] ............ n_neighbors=17, p=1, weights=distance, total=   1.4s\n",
      "[CV] n_neighbors=17, p=1, weights=distance ...........................\n",
      "[CV] ............ n_neighbors=17, p=1, weights=distance, total=   1.6s\n",
      "[CV] n_neighbors=17, p=1, weights=distance ...........................\n",
      "[CV] ............ n_neighbors=17, p=1, weights=distance, total=   1.5s\n",
      "[CV] n_neighbors=17, p=1, weights=distance ...........................\n",
      "[CV] ............ n_neighbors=17, p=1, weights=distance, total=   1.6s\n",
      "[CV] n_neighbors=17, p=1, weights=distance ...........................\n",
      "[CV] ............ n_neighbors=17, p=1, weights=distance, total=   1.5s\n",
      "[CV] n_neighbors=17, p=2, weights=uniform ............................\n",
      "[CV] ............. n_neighbors=17, p=2, weights=uniform, total=   1.8s\n",
      "[CV] n_neighbors=17, p=2, weights=uniform ............................\n",
      "[CV] ............. n_neighbors=17, p=2, weights=uniform, total=   1.8s\n",
      "[CV] n_neighbors=17, p=2, weights=uniform ............................\n",
      "[CV] ............. n_neighbors=17, p=2, weights=uniform, total=   1.7s\n",
      "[CV] n_neighbors=17, p=2, weights=uniform ............................\n",
      "[CV] ............. n_neighbors=17, p=2, weights=uniform, total=   1.7s\n",
      "[CV] n_neighbors=17, p=2, weights=uniform ............................\n",
      "[CV] ............. n_neighbors=17, p=2, weights=uniform, total=   1.8s\n",
      "[CV] n_neighbors=17, p=2, weights=distance ...........................\n",
      "[CV] ............ n_neighbors=17, p=2, weights=distance, total=   1.8s\n",
      "[CV] n_neighbors=17, p=2, weights=distance ...........................\n",
      "[CV] ............ n_neighbors=17, p=2, weights=distance, total=   1.8s\n",
      "[CV] n_neighbors=17, p=2, weights=distance ...........................\n",
      "[CV] ............ n_neighbors=17, p=2, weights=distance, total=   1.7s\n",
      "[CV] n_neighbors=17, p=2, weights=distance ...........................\n",
      "[CV] ............ n_neighbors=17, p=2, weights=distance, total=   1.7s\n",
      "[CV] n_neighbors=17, p=2, weights=distance ...........................\n",
      "[CV] ............ n_neighbors=17, p=2, weights=distance, total=   1.7s\n",
      "[CV] n_neighbors=25, p=1, weights=uniform ............................\n",
      "[CV] ............. n_neighbors=25, p=1, weights=uniform, total=   1.6s\n",
      "[CV] n_neighbors=25, p=1, weights=uniform ............................\n",
      "[CV] ............. n_neighbors=25, p=1, weights=uniform, total=   1.6s\n",
      "[CV] n_neighbors=25, p=1, weights=uniform ............................\n",
      "[CV] ............. n_neighbors=25, p=1, weights=uniform, total=   1.6s\n",
      "[CV] n_neighbors=25, p=1, weights=uniform ............................\n",
      "[CV] ............. n_neighbors=25, p=1, weights=uniform, total=   1.5s\n",
      "[CV] n_neighbors=25, p=1, weights=uniform ............................\n",
      "[CV] ............. n_neighbors=25, p=1, weights=uniform, total=   1.6s\n",
      "[CV] n_neighbors=25, p=1, weights=distance ...........................\n",
      "[CV] ............ n_neighbors=25, p=1, weights=distance, total=   1.5s\n",
      "[CV] n_neighbors=25, p=1, weights=distance ...........................\n",
      "[CV] ............ n_neighbors=25, p=1, weights=distance, total=   1.5s\n",
      "[CV] n_neighbors=25, p=1, weights=distance ...........................\n",
      "[CV] ............ n_neighbors=25, p=1, weights=distance, total=   1.5s\n",
      "[CV] n_neighbors=25, p=1, weights=distance ...........................\n",
      "[CV] ............ n_neighbors=25, p=1, weights=distance, total=   1.5s\n",
      "[CV] n_neighbors=25, p=1, weights=distance ...........................\n",
      "[CV] ............ n_neighbors=25, p=1, weights=distance, total=   1.5s\n",
      "[CV] n_neighbors=25, p=2, weights=uniform ............................\n",
      "[CV] ............. n_neighbors=25, p=2, weights=uniform, total=   1.9s\n",
      "[CV] n_neighbors=25, p=2, weights=uniform ............................\n",
      "[CV] ............. n_neighbors=25, p=2, weights=uniform, total=   2.0s\n",
      "[CV] n_neighbors=25, p=2, weights=uniform ............................\n",
      "[CV] ............. n_neighbors=25, p=2, weights=uniform, total=   2.0s\n",
      "[CV] n_neighbors=25, p=2, weights=uniform ............................\n",
      "[CV] ............. n_neighbors=25, p=2, weights=uniform, total=   1.9s\n",
      "[CV] n_neighbors=25, p=2, weights=uniform ............................\n",
      "[CV] ............. n_neighbors=25, p=2, weights=uniform, total=   2.0s\n",
      "[CV] n_neighbors=25, p=2, weights=distance ...........................\n",
      "[CV] ............ n_neighbors=25, p=2, weights=distance, total=   2.0s\n",
      "[CV] n_neighbors=25, p=2, weights=distance ...........................\n",
      "[CV] ............ n_neighbors=25, p=2, weights=distance, total=   1.9s\n",
      "[CV] n_neighbors=25, p=2, weights=distance ...........................\n",
      "[CV] ............ n_neighbors=25, p=2, weights=distance, total=   2.2s\n",
      "[CV] n_neighbors=25, p=2, weights=distance ...........................\n",
      "[CV] ............ n_neighbors=25, p=2, weights=distance, total=   1.9s\n",
      "[CV] n_neighbors=25, p=2, weights=distance ...........................\n",
      "[CV] ............ n_neighbors=25, p=2, weights=distance, total=   1.8s\n"
     ]
    },
    {
     "name": "stderr",
     "output_type": "stream",
     "text": [
      "[Parallel(n_jobs=1)]: Done 100 out of 100 | elapsed: 10.1min finished\n"
     ]
    },
    {
     "data": {
      "text/plain": [
       "GridSearchCV(estimator=KNeighborsClassifier(),\n",
       "             param_grid={'n_neighbors': [1, 5, 13, 17, 25], 'p': [1, 2],\n",
       "                         'weights': ['uniform', 'distance']},\n",
       "             return_train_score=True, scoring='recall', verbose=2)"
      ]
     },
     "execution_count": 351,
     "metadata": {},
     "output_type": "execute_result"
    }
   ],
   "source": [
    "knn_grid_scaled = GridSearchCV(estimator=knn,param_grid=knn_param_grid,scoring='recall',verbose=2,return_train_score=True)\n",
    "knn_grid_scaled.fit(X_train_smote_stan_scal,y_train_smote)"
   ]
  },
  {
   "cell_type": "code",
   "execution_count": 352,
   "metadata": {
    "ExecuteTime": {
     "end_time": "2021-02-18T23:56:06.450710Z",
     "start_time": "2021-02-18T23:56:06.446721Z"
    }
   },
   "outputs": [
    {
     "data": {
      "text/plain": [
       "{'n_neighbors': 1, 'p': 1, 'weights': 'uniform'}"
      ]
     },
     "execution_count": 352,
     "metadata": {},
     "output_type": "execute_result"
    }
   ],
   "source": [
    "knn_grid_scaled.best_params_"
   ]
  },
  {
   "cell_type": "code",
   "execution_count": 308,
   "metadata": {
    "ExecuteTime": {
     "end_time": "2021-02-18T21:30:20.321012Z",
     "start_time": "2021-02-18T21:30:20.316025Z"
    }
   },
   "outputs": [],
   "source": [
    "def find_best_k_recall(X_train, y_train, X_test, y_test, min_k=1, max_k=25):\n",
    "    best_k = 0\n",
    "    best_score = 0.0\n",
    "    for k in range(min_k, max_k+1, 2):\n",
    "        knn = KNeighborsClassifier(n_neighbors=k)\n",
    "        knn.fit(X_train, y_train)\n",
    "        preds = knn.predict(X_test)\n",
    "        recall = recall_score(y_test, preds)\n",
    "        if recall > best_score:\n",
    "            best_k = k\n",
    "            best_score = recall\n",
    "    \n",
    "    print(\"Best Value for k: {}\".format(best_k))\n",
    "    print(\"Recall-Score: {}\".format(best_score))"
   ]
  },
  {
   "cell_type": "markdown",
   "metadata": {},
   "source": [
    "hard to say whether standard scaled or sigmoid scaled is better but both are best in regards to to classifying bankrupt companies with n_neighbors as 13 and p=1 so this will be model to use for final"
   ]
  },
  {
   "cell_type": "markdown",
   "metadata": {},
   "source": [
    "## Gradient Boosting"
   ]
  },
  {
   "cell_type": "code",
   "execution_count": 64,
   "metadata": {
    "ExecuteTime": {
     "end_time": "2021-02-19T18:22:04.104135Z",
     "start_time": "2021-02-19T18:22:04.100143Z"
    }
   },
   "outputs": [],
   "source": [
    "from sklearn.ensemble import AdaBoostClassifier, GradientBoostingClassifier\n",
    "grad_clf = GradientBoostingClassifier()"
   ]
  },
  {
   "cell_type": "code",
   "execution_count": 67,
   "metadata": {
    "ExecuteTime": {
     "end_time": "2021-02-19T18:22:54.573278Z",
     "start_time": "2021-02-19T18:22:54.555326Z"
    }
   },
   "outputs": [
    {
     "ename": "ValueError",
     "evalue": "Found input variables with inconsistent numbers of samples: [4946, 9904]",
     "output_type": "error",
     "traceback": [
      "\u001b[1;31m---------------------------------------------------------------------------\u001b[0m",
      "\u001b[1;31mValueError\u001b[0m                                Traceback (most recent call last)",
      "\u001b[1;32m<ipython-input-67-5d287d75825b>\u001b[0m in \u001b[0;36m<module>\u001b[1;34m\u001b[0m\n\u001b[1;32m----> 1\u001b[1;33m \u001b[0mgrad_clf\u001b[0m\u001b[1;33m.\u001b[0m\u001b[0mfit\u001b[0m\u001b[1;33m(\u001b[0m\u001b[0mX_train_smote_sig\u001b[0m\u001b[1;33m,\u001b[0m\u001b[0my_train_smote\u001b[0m\u001b[1;33m)\u001b[0m\u001b[1;33m\u001b[0m\u001b[1;33m\u001b[0m\u001b[0m\n\u001b[0m\u001b[0;32m      2\u001b[0m \u001b[1;33m\u001b[0m\u001b[0m\n\u001b[0;32m      3\u001b[0m \u001b[0my_pred_grad\u001b[0m \u001b[1;33m=\u001b[0m \u001b[0mgrad_clf\u001b[0m\u001b[1;33m.\u001b[0m\u001b[0mpredict\u001b[0m\u001b[1;33m(\u001b[0m\u001b[0mX_test_sig\u001b[0m\u001b[1;33m)\u001b[0m\u001b[1;33m\u001b[0m\u001b[1;33m\u001b[0m\u001b[0m\n\u001b[0;32m      4\u001b[0m \u001b[1;33m\u001b[0m\u001b[0m\n\u001b[0;32m      5\u001b[0m \u001b[0mfpr\u001b[0m\u001b[1;33m,\u001b[0m \u001b[0mtpr\u001b[0m\u001b[1;33m,\u001b[0m \u001b[0mthresholds\u001b[0m \u001b[1;33m=\u001b[0m \u001b[0mroc_curve\u001b[0m\u001b[1;33m(\u001b[0m\u001b[0my_test\u001b[0m\u001b[1;33m,\u001b[0m \u001b[0my_pred_grad\u001b[0m\u001b[1;33m)\u001b[0m\u001b[1;33m\u001b[0m\u001b[1;33m\u001b[0m\u001b[0m\n",
      "\u001b[1;32m~\\anaconda3\\envs\\learn-env\\lib\\site-packages\\sklearn\\ensemble\\_gb.py\u001b[0m in \u001b[0;36mfit\u001b[1;34m(self, X, y, sample_weight, monitor)\u001b[0m\n\u001b[0;32m    407\u001b[0m         \u001b[1;31m# trees use different types for X and y, checking them separately.\u001b[0m\u001b[1;33m\u001b[0m\u001b[1;33m\u001b[0m\u001b[1;33m\u001b[0m\u001b[0m\n\u001b[0;32m    408\u001b[0m \u001b[1;33m\u001b[0m\u001b[0m\n\u001b[1;32m--> 409\u001b[1;33m         X, y = self._validate_data(X, y, accept_sparse=['csr', 'csc', 'coo'],\n\u001b[0m\u001b[0;32m    410\u001b[0m                                    dtype=DTYPE, multi_output=True)\n\u001b[0;32m    411\u001b[0m         \u001b[0mn_samples\u001b[0m\u001b[1;33m,\u001b[0m \u001b[0mself\u001b[0m\u001b[1;33m.\u001b[0m\u001b[0mn_features_\u001b[0m \u001b[1;33m=\u001b[0m \u001b[0mX\u001b[0m\u001b[1;33m.\u001b[0m\u001b[0mshape\u001b[0m\u001b[1;33m\u001b[0m\u001b[1;33m\u001b[0m\u001b[0m\n",
      "\u001b[1;32m~\\anaconda3\\envs\\learn-env\\lib\\site-packages\\sklearn\\base.py\u001b[0m in \u001b[0;36m_validate_data\u001b[1;34m(self, X, y, reset, validate_separately, **check_params)\u001b[0m\n\u001b[0;32m    430\u001b[0m                 \u001b[0my\u001b[0m \u001b[1;33m=\u001b[0m \u001b[0mcheck_array\u001b[0m\u001b[1;33m(\u001b[0m\u001b[0my\u001b[0m\u001b[1;33m,\u001b[0m \u001b[1;33m**\u001b[0m\u001b[0mcheck_y_params\u001b[0m\u001b[1;33m)\u001b[0m\u001b[1;33m\u001b[0m\u001b[1;33m\u001b[0m\u001b[0m\n\u001b[0;32m    431\u001b[0m             \u001b[1;32melse\u001b[0m\u001b[1;33m:\u001b[0m\u001b[1;33m\u001b[0m\u001b[1;33m\u001b[0m\u001b[0m\n\u001b[1;32m--> 432\u001b[1;33m                 \u001b[0mX\u001b[0m\u001b[1;33m,\u001b[0m \u001b[0my\u001b[0m \u001b[1;33m=\u001b[0m \u001b[0mcheck_X_y\u001b[0m\u001b[1;33m(\u001b[0m\u001b[0mX\u001b[0m\u001b[1;33m,\u001b[0m \u001b[0my\u001b[0m\u001b[1;33m,\u001b[0m \u001b[1;33m**\u001b[0m\u001b[0mcheck_params\u001b[0m\u001b[1;33m)\u001b[0m\u001b[1;33m\u001b[0m\u001b[1;33m\u001b[0m\u001b[0m\n\u001b[0m\u001b[0;32m    433\u001b[0m             \u001b[0mout\u001b[0m \u001b[1;33m=\u001b[0m \u001b[0mX\u001b[0m\u001b[1;33m,\u001b[0m \u001b[0my\u001b[0m\u001b[1;33m\u001b[0m\u001b[1;33m\u001b[0m\u001b[0m\n\u001b[0;32m    434\u001b[0m \u001b[1;33m\u001b[0m\u001b[0m\n",
      "\u001b[1;32m~\\anaconda3\\envs\\learn-env\\lib\\site-packages\\sklearn\\utils\\validation.py\u001b[0m in \u001b[0;36minner_f\u001b[1;34m(*args, **kwargs)\u001b[0m\n\u001b[0;32m     70\u001b[0m                           FutureWarning)\n\u001b[0;32m     71\u001b[0m         \u001b[0mkwargs\u001b[0m\u001b[1;33m.\u001b[0m\u001b[0mupdate\u001b[0m\u001b[1;33m(\u001b[0m\u001b[1;33m{\u001b[0m\u001b[0mk\u001b[0m\u001b[1;33m:\u001b[0m \u001b[0marg\u001b[0m \u001b[1;32mfor\u001b[0m \u001b[0mk\u001b[0m\u001b[1;33m,\u001b[0m \u001b[0marg\u001b[0m \u001b[1;32min\u001b[0m \u001b[0mzip\u001b[0m\u001b[1;33m(\u001b[0m\u001b[0msig\u001b[0m\u001b[1;33m.\u001b[0m\u001b[0mparameters\u001b[0m\u001b[1;33m,\u001b[0m \u001b[0margs\u001b[0m\u001b[1;33m)\u001b[0m\u001b[1;33m}\u001b[0m\u001b[1;33m)\u001b[0m\u001b[1;33m\u001b[0m\u001b[1;33m\u001b[0m\u001b[0m\n\u001b[1;32m---> 72\u001b[1;33m         \u001b[1;32mreturn\u001b[0m \u001b[0mf\u001b[0m\u001b[1;33m(\u001b[0m\u001b[1;33m**\u001b[0m\u001b[0mkwargs\u001b[0m\u001b[1;33m)\u001b[0m\u001b[1;33m\u001b[0m\u001b[1;33m\u001b[0m\u001b[0m\n\u001b[0m\u001b[0;32m     73\u001b[0m     \u001b[1;32mreturn\u001b[0m \u001b[0minner_f\u001b[0m\u001b[1;33m\u001b[0m\u001b[1;33m\u001b[0m\u001b[0m\n\u001b[0;32m     74\u001b[0m \u001b[1;33m\u001b[0m\u001b[0m\n",
      "\u001b[1;32m~\\anaconda3\\envs\\learn-env\\lib\\site-packages\\sklearn\\utils\\validation.py\u001b[0m in \u001b[0;36mcheck_X_y\u001b[1;34m(X, y, accept_sparse, accept_large_sparse, dtype, order, copy, force_all_finite, ensure_2d, allow_nd, multi_output, ensure_min_samples, ensure_min_features, y_numeric, estimator)\u001b[0m\n\u001b[0;32m    810\u001b[0m         \u001b[0my\u001b[0m \u001b[1;33m=\u001b[0m \u001b[0my\u001b[0m\u001b[1;33m.\u001b[0m\u001b[0mastype\u001b[0m\u001b[1;33m(\u001b[0m\u001b[0mnp\u001b[0m\u001b[1;33m.\u001b[0m\u001b[0mfloat64\u001b[0m\u001b[1;33m)\u001b[0m\u001b[1;33m\u001b[0m\u001b[1;33m\u001b[0m\u001b[0m\n\u001b[0;32m    811\u001b[0m \u001b[1;33m\u001b[0m\u001b[0m\n\u001b[1;32m--> 812\u001b[1;33m     \u001b[0mcheck_consistent_length\u001b[0m\u001b[1;33m(\u001b[0m\u001b[0mX\u001b[0m\u001b[1;33m,\u001b[0m \u001b[0my\u001b[0m\u001b[1;33m)\u001b[0m\u001b[1;33m\u001b[0m\u001b[1;33m\u001b[0m\u001b[0m\n\u001b[0m\u001b[0;32m    813\u001b[0m \u001b[1;33m\u001b[0m\u001b[0m\n\u001b[0;32m    814\u001b[0m     \u001b[1;32mreturn\u001b[0m \u001b[0mX\u001b[0m\u001b[1;33m,\u001b[0m \u001b[0my\u001b[0m\u001b[1;33m\u001b[0m\u001b[1;33m\u001b[0m\u001b[0m\n",
      "\u001b[1;32m~\\anaconda3\\envs\\learn-env\\lib\\site-packages\\sklearn\\utils\\validation.py\u001b[0m in \u001b[0;36mcheck_consistent_length\u001b[1;34m(*arrays)\u001b[0m\n\u001b[0;32m    253\u001b[0m     \u001b[0muniques\u001b[0m \u001b[1;33m=\u001b[0m \u001b[0mnp\u001b[0m\u001b[1;33m.\u001b[0m\u001b[0munique\u001b[0m\u001b[1;33m(\u001b[0m\u001b[0mlengths\u001b[0m\u001b[1;33m)\u001b[0m\u001b[1;33m\u001b[0m\u001b[1;33m\u001b[0m\u001b[0m\n\u001b[0;32m    254\u001b[0m     \u001b[1;32mif\u001b[0m \u001b[0mlen\u001b[0m\u001b[1;33m(\u001b[0m\u001b[0muniques\u001b[0m\u001b[1;33m)\u001b[0m \u001b[1;33m>\u001b[0m \u001b[1;36m1\u001b[0m\u001b[1;33m:\u001b[0m\u001b[1;33m\u001b[0m\u001b[1;33m\u001b[0m\u001b[0m\n\u001b[1;32m--> 255\u001b[1;33m         raise ValueError(\"Found input variables with inconsistent numbers of\"\n\u001b[0m\u001b[0;32m    256\u001b[0m                          \" samples: %r\" % [int(l) for l in lengths])\n\u001b[0;32m    257\u001b[0m \u001b[1;33m\u001b[0m\u001b[0m\n",
      "\u001b[1;31mValueError\u001b[0m: Found input variables with inconsistent numbers of samples: [4946, 9904]"
     ]
    }
   ],
   "source": [
    "grad_clf.fit(X_train_smote_sig,y_train_smote)\n",
    "\n",
    "y_pred_grad = grad_clf.predict(X_test_sig)\n",
    "\n",
    "fpr, tpr, thresholds = roc_curve(y_test, y_pred_grad)\n",
    "\n",
    "print('AUC: {}'.format(auc(fpr, tpr)))\n",
    "cf = confusion_matrix(y_test,y_pred_grad)\n",
    "\n",
    "plot_confusion_matrix(grad_clf,X_test_sig,y_test,cmap=plt.cm.Blues,\n",
    "                     display_labels=[\"not bankrupt\", \"bankrupt\"],\n",
    "                      values_format=\".5g\")\n",
    "plt.title(\"KNN Smote Values Confusion Matrix\")\n",
    "\n",
    "print(confusion_matrix(y_test, y_pred_grad))\n",
    "print(classification_report(y_test, y_pred_grad))\n"
   ]
  },
  {
   "cell_type": "code",
   "execution_count": 43,
   "metadata": {
    "ExecuteTime": {
     "end_time": "2021-02-19T18:20:04.256275Z",
     "start_time": "2021-02-19T18:19:56.462987Z"
    }
   },
   "outputs": [
    {
     "ename": "ValueError",
     "evalue": "Number of features of the model must match the input. Model n_features is 95 and input n_features is 76 ",
     "output_type": "error",
     "traceback": [
      "\u001b[1;31m---------------------------------------------------------------------------\u001b[0m",
      "\u001b[1;31mValueError\u001b[0m                                Traceback (most recent call last)",
      "\u001b[1;32m<ipython-input-43-8ed429cf3c3a>\u001b[0m in \u001b[0;36m<module>\u001b[1;34m\u001b[0m\n\u001b[0;32m      1\u001b[0m \u001b[0mgrad_clf\u001b[0m\u001b[1;33m.\u001b[0m\u001b[0mfit\u001b[0m\u001b[1;33m(\u001b[0m\u001b[0mX_train_smote_stan_scal\u001b[0m\u001b[1;33m,\u001b[0m\u001b[0my_train_smote\u001b[0m\u001b[1;33m)\u001b[0m\u001b[1;33m\u001b[0m\u001b[1;33m\u001b[0m\u001b[0m\n\u001b[0;32m      2\u001b[0m \u001b[1;33m\u001b[0m\u001b[0m\n\u001b[1;32m----> 3\u001b[1;33m \u001b[0my_pred_grad\u001b[0m \u001b[1;33m=\u001b[0m \u001b[0mgrad_clf\u001b[0m\u001b[1;33m.\u001b[0m\u001b[0mpredict\u001b[0m\u001b[1;33m(\u001b[0m\u001b[0mX_test_scaled\u001b[0m\u001b[1;33m)\u001b[0m\u001b[1;33m\u001b[0m\u001b[1;33m\u001b[0m\u001b[0m\n\u001b[0m\u001b[0;32m      4\u001b[0m \u001b[1;33m\u001b[0m\u001b[0m\n\u001b[0;32m      5\u001b[0m \u001b[0mfpr\u001b[0m\u001b[1;33m,\u001b[0m \u001b[0mtpr\u001b[0m\u001b[1;33m,\u001b[0m \u001b[0mthresholds\u001b[0m \u001b[1;33m=\u001b[0m \u001b[0mroc_curve\u001b[0m\u001b[1;33m(\u001b[0m\u001b[0my_test\u001b[0m\u001b[1;33m,\u001b[0m \u001b[0my_pred_grad\u001b[0m\u001b[1;33m)\u001b[0m\u001b[1;33m\u001b[0m\u001b[1;33m\u001b[0m\u001b[0m\n",
      "\u001b[1;32m~\\anaconda3\\envs\\learn-env\\lib\\site-packages\\sklearn\\ensemble\\_gb.py\u001b[0m in \u001b[0;36mpredict\u001b[1;34m(self, X)\u001b[0m\n\u001b[0;32m   1170\u001b[0m             \u001b[0mThe\u001b[0m \u001b[0mpredicted\u001b[0m \u001b[0mvalues\u001b[0m\u001b[1;33m.\u001b[0m\u001b[1;33m\u001b[0m\u001b[1;33m\u001b[0m\u001b[0m\n\u001b[0;32m   1171\u001b[0m         \"\"\"\n\u001b[1;32m-> 1172\u001b[1;33m         \u001b[0mraw_predictions\u001b[0m \u001b[1;33m=\u001b[0m \u001b[0mself\u001b[0m\u001b[1;33m.\u001b[0m\u001b[0mdecision_function\u001b[0m\u001b[1;33m(\u001b[0m\u001b[0mX\u001b[0m\u001b[1;33m)\u001b[0m\u001b[1;33m\u001b[0m\u001b[1;33m\u001b[0m\u001b[0m\n\u001b[0m\u001b[0;32m   1173\u001b[0m         \u001b[0mencoded_labels\u001b[0m \u001b[1;33m=\u001b[0m\u001b[0;31m \u001b[0m\u001b[0;31m\\\u001b[0m\u001b[1;33m\u001b[0m\u001b[1;33m\u001b[0m\u001b[0m\n\u001b[0;32m   1174\u001b[0m             \u001b[0mself\u001b[0m\u001b[1;33m.\u001b[0m\u001b[0mloss_\u001b[0m\u001b[1;33m.\u001b[0m\u001b[0m_raw_prediction_to_decision\u001b[0m\u001b[1;33m(\u001b[0m\u001b[0mraw_predictions\u001b[0m\u001b[1;33m)\u001b[0m\u001b[1;33m\u001b[0m\u001b[1;33m\u001b[0m\u001b[0m\n",
      "\u001b[1;32m~\\anaconda3\\envs\\learn-env\\lib\\site-packages\\sklearn\\ensemble\\_gb.py\u001b[0m in \u001b[0;36mdecision_function\u001b[1;34m(self, X)\u001b[0m\n\u001b[0;32m   1126\u001b[0m         \"\"\"\n\u001b[0;32m   1127\u001b[0m         \u001b[0mX\u001b[0m \u001b[1;33m=\u001b[0m \u001b[0mcheck_array\u001b[0m\u001b[1;33m(\u001b[0m\u001b[0mX\u001b[0m\u001b[1;33m,\u001b[0m \u001b[0mdtype\u001b[0m\u001b[1;33m=\u001b[0m\u001b[0mDTYPE\u001b[0m\u001b[1;33m,\u001b[0m \u001b[0morder\u001b[0m\u001b[1;33m=\u001b[0m\u001b[1;34m\"C\"\u001b[0m\u001b[1;33m,\u001b[0m \u001b[0maccept_sparse\u001b[0m\u001b[1;33m=\u001b[0m\u001b[1;34m'csr'\u001b[0m\u001b[1;33m)\u001b[0m\u001b[1;33m\u001b[0m\u001b[1;33m\u001b[0m\u001b[0m\n\u001b[1;32m-> 1128\u001b[1;33m         \u001b[0mraw_predictions\u001b[0m \u001b[1;33m=\u001b[0m \u001b[0mself\u001b[0m\u001b[1;33m.\u001b[0m\u001b[0m_raw_predict\u001b[0m\u001b[1;33m(\u001b[0m\u001b[0mX\u001b[0m\u001b[1;33m)\u001b[0m\u001b[1;33m\u001b[0m\u001b[1;33m\u001b[0m\u001b[0m\n\u001b[0m\u001b[0;32m   1129\u001b[0m         \u001b[1;32mif\u001b[0m \u001b[0mraw_predictions\u001b[0m\u001b[1;33m.\u001b[0m\u001b[0mshape\u001b[0m\u001b[1;33m[\u001b[0m\u001b[1;36m1\u001b[0m\u001b[1;33m]\u001b[0m \u001b[1;33m==\u001b[0m \u001b[1;36m1\u001b[0m\u001b[1;33m:\u001b[0m\u001b[1;33m\u001b[0m\u001b[1;33m\u001b[0m\u001b[0m\n\u001b[0;32m   1130\u001b[0m             \u001b[1;32mreturn\u001b[0m \u001b[0mraw_predictions\u001b[0m\u001b[1;33m.\u001b[0m\u001b[0mravel\u001b[0m\u001b[1;33m(\u001b[0m\u001b[1;33m)\u001b[0m\u001b[1;33m\u001b[0m\u001b[1;33m\u001b[0m\u001b[0m\n",
      "\u001b[1;32m~\\anaconda3\\envs\\learn-env\\lib\\site-packages\\sklearn\\ensemble\\_gb.py\u001b[0m in \u001b[0;36m_raw_predict\u001b[1;34m(self, X)\u001b[0m\n\u001b[0;32m    616\u001b[0m     \u001b[1;32mdef\u001b[0m \u001b[0m_raw_predict\u001b[0m\u001b[1;33m(\u001b[0m\u001b[0mself\u001b[0m\u001b[1;33m,\u001b[0m \u001b[0mX\u001b[0m\u001b[1;33m)\u001b[0m\u001b[1;33m:\u001b[0m\u001b[1;33m\u001b[0m\u001b[1;33m\u001b[0m\u001b[0m\n\u001b[0;32m    617\u001b[0m         \u001b[1;34m\"\"\"Return the sum of the trees raw predictions (+ init estimator).\"\"\"\u001b[0m\u001b[1;33m\u001b[0m\u001b[1;33m\u001b[0m\u001b[0m\n\u001b[1;32m--> 618\u001b[1;33m         \u001b[0mraw_predictions\u001b[0m \u001b[1;33m=\u001b[0m \u001b[0mself\u001b[0m\u001b[1;33m.\u001b[0m\u001b[0m_raw_predict_init\u001b[0m\u001b[1;33m(\u001b[0m\u001b[0mX\u001b[0m\u001b[1;33m)\u001b[0m\u001b[1;33m\u001b[0m\u001b[1;33m\u001b[0m\u001b[0m\n\u001b[0m\u001b[0;32m    619\u001b[0m         predict_stages(self.estimators_, X, self.learning_rate,\n\u001b[0;32m    620\u001b[0m                        raw_predictions)\n",
      "\u001b[1;32m~\\anaconda3\\envs\\learn-env\\lib\\site-packages\\sklearn\\ensemble\\_gb.py\u001b[0m in \u001b[0;36m_raw_predict_init\u001b[1;34m(self, X)\u001b[0m\n\u001b[0;32m    602\u001b[0m         \u001b[1;34m\"\"\"Check input and compute raw predictions of the init estimator.\"\"\"\u001b[0m\u001b[1;33m\u001b[0m\u001b[1;33m\u001b[0m\u001b[0m\n\u001b[0;32m    603\u001b[0m         \u001b[0mself\u001b[0m\u001b[1;33m.\u001b[0m\u001b[0m_check_initialized\u001b[0m\u001b[1;33m(\u001b[0m\u001b[1;33m)\u001b[0m\u001b[1;33m\u001b[0m\u001b[1;33m\u001b[0m\u001b[0m\n\u001b[1;32m--> 604\u001b[1;33m         \u001b[0mX\u001b[0m \u001b[1;33m=\u001b[0m \u001b[0mself\u001b[0m\u001b[1;33m.\u001b[0m\u001b[0mestimators_\u001b[0m\u001b[1;33m[\u001b[0m\u001b[1;36m0\u001b[0m\u001b[1;33m,\u001b[0m \u001b[1;36m0\u001b[0m\u001b[1;33m]\u001b[0m\u001b[1;33m.\u001b[0m\u001b[0m_validate_X_predict\u001b[0m\u001b[1;33m(\u001b[0m\u001b[0mX\u001b[0m\u001b[1;33m,\u001b[0m \u001b[0mcheck_input\u001b[0m\u001b[1;33m=\u001b[0m\u001b[1;32mTrue\u001b[0m\u001b[1;33m)\u001b[0m\u001b[1;33m\u001b[0m\u001b[1;33m\u001b[0m\u001b[0m\n\u001b[0m\u001b[0;32m    605\u001b[0m         \u001b[1;32mif\u001b[0m \u001b[0mX\u001b[0m\u001b[1;33m.\u001b[0m\u001b[0mshape\u001b[0m\u001b[1;33m[\u001b[0m\u001b[1;36m1\u001b[0m\u001b[1;33m]\u001b[0m \u001b[1;33m!=\u001b[0m \u001b[0mself\u001b[0m\u001b[1;33m.\u001b[0m\u001b[0mn_features_\u001b[0m\u001b[1;33m:\u001b[0m\u001b[1;33m\u001b[0m\u001b[1;33m\u001b[0m\u001b[0m\n\u001b[0;32m    606\u001b[0m             raise ValueError(\"X.shape[1] should be {0:d}, not {1:d}.\".format(\n",
      "\u001b[1;32m~\\anaconda3\\envs\\learn-env\\lib\\site-packages\\sklearn\\tree\\_classes.py\u001b[0m in \u001b[0;36m_validate_X_predict\u001b[1;34m(self, X, check_input)\u001b[0m\n\u001b[0;32m    394\u001b[0m         \u001b[0mn_features\u001b[0m \u001b[1;33m=\u001b[0m \u001b[0mX\u001b[0m\u001b[1;33m.\u001b[0m\u001b[0mshape\u001b[0m\u001b[1;33m[\u001b[0m\u001b[1;36m1\u001b[0m\u001b[1;33m]\u001b[0m\u001b[1;33m\u001b[0m\u001b[1;33m\u001b[0m\u001b[0m\n\u001b[0;32m    395\u001b[0m         \u001b[1;32mif\u001b[0m \u001b[0mself\u001b[0m\u001b[1;33m.\u001b[0m\u001b[0mn_features_\u001b[0m \u001b[1;33m!=\u001b[0m \u001b[0mn_features\u001b[0m\u001b[1;33m:\u001b[0m\u001b[1;33m\u001b[0m\u001b[1;33m\u001b[0m\u001b[0m\n\u001b[1;32m--> 396\u001b[1;33m             raise ValueError(\"Number of features of the model must \"\n\u001b[0m\u001b[0;32m    397\u001b[0m                              \u001b[1;34m\"match the input. Model n_features is %s and \"\u001b[0m\u001b[1;33m\u001b[0m\u001b[1;33m\u001b[0m\u001b[0m\n\u001b[0;32m    398\u001b[0m                              \u001b[1;34m\"input n_features is %s \"\u001b[0m\u001b[1;33m\u001b[0m\u001b[1;33m\u001b[0m\u001b[0m\n",
      "\u001b[1;31mValueError\u001b[0m: Number of features of the model must match the input. Model n_features is 95 and input n_features is 76 "
     ]
    }
   ],
   "source": [
    "grad_clf.fit(X_train_smote_stan_scal,y_train_smote)\n",
    "\n",
    "y_pred_grad = grad_clf.predict(X_test_scaled)\n",
    "\n",
    "fpr, tpr, thresholds = roc_curve(y_test, y_pred_grad)\n",
    "\n",
    "print('AUC: {}'.format(auc(fpr, tpr)))\n",
    "cf = confusion_matrix(y_test,y_pred_grad)\n",
    "\n",
    "plot_confusion_matrix(grad_clf,X_test_scaled,y_test,cmap=plt.cm.Blues,\n",
    "                     display_labels=[\"not bankrupt\", \"bankrupt\"],\n",
    "                      values_format=\".5g\")\n",
    "plt.title(\"KNN Smote Values Confusion Matrix\")\n",
    "\n",
    "print(confusion_matrix(y_test, y_pred_grad))\n",
    "print(classification_report(y_test, y_pred_grad))"
   ]
  },
  {
   "cell_type": "markdown",
   "metadata": {},
   "source": [
    "## Adaboost"
   ]
  },
  {
   "cell_type": "code",
   "execution_count": 39,
   "metadata": {
    "ExecuteTime": {
     "end_time": "2021-02-19T18:17:46.515548Z",
     "start_time": "2021-02-19T18:17:46.509597Z"
    }
   },
   "outputs": [],
   "source": [
    "ada_clf = AdaBoostClassifier()\n"
   ]
  },
  {
   "cell_type": "markdown",
   "metadata": {},
   "source": [
    "### Adaboost with Sig"
   ]
  },
  {
   "cell_type": "code",
   "execution_count": 40,
   "metadata": {
    "ExecuteTime": {
     "end_time": "2021-02-19T18:18:03.993826Z",
     "start_time": "2021-02-19T18:18:02.463887Z"
    }
   },
   "outputs": [
    {
     "data": {
      "text/plain": [
       "AdaBoostClassifier()"
      ]
     },
     "execution_count": 40,
     "metadata": {},
     "output_type": "execute_result"
    }
   ],
   "source": [
    "ada_clf.fit(X_train_smote_sig,y_train_smote)"
   ]
  },
  {
   "cell_type": "code",
   "execution_count": 42,
   "metadata": {
    "ExecuteTime": {
     "end_time": "2021-02-19T18:19:26.398136Z",
     "start_time": "2021-02-19T18:19:26.091254Z"
    }
   },
   "outputs": [
    {
     "name": "stdout",
     "output_type": "stream",
     "text": [
      "AUC: 0.5\n",
      "[[1647    0]\n",
      " [  58    0]]\n",
      "              precision    recall  f1-score   support\n",
      "\n",
      "           0       0.97      1.00      0.98      1647\n",
      "           1       0.00      0.00      0.00        58\n",
      "\n",
      "    accuracy                           0.97      1705\n",
      "   macro avg       0.48      0.50      0.49      1705\n",
      "weighted avg       0.93      0.97      0.95      1705\n",
      "\n"
     ]
    },
    {
     "name": "stderr",
     "output_type": "stream",
     "text": [
      "C:\\Users\\sergi\\anaconda3\\envs\\learn-env\\lib\\site-packages\\sklearn\\metrics\\_classification.py:1221: UndefinedMetricWarning: Precision and F-score are ill-defined and being set to 0.0 in labels with no predicted samples. Use `zero_division` parameter to control this behavior.\n",
      "  _warn_prf(average, modifier, msg_start, len(result))\n"
     ]
    },
    {
     "data": {
      "image/png": "[encoded data removed]",
      "text/plain": [
       "<Figure size 432x288 with 2 Axes>"
      ]
     },
     "metadata": {
      "needs_background": "light"
     },
     "output_type": "display_data"
    }
   ],
   "source": [
    "\n",
    "y_pred_ada = ada_clf.predict(X_test_sig)\n",
    "\n",
    "fpr, tpr, thresholds = roc_curve(y_test, y_pred_ada)\n",
    "\n",
    "print('AUC: {}'.format(auc(fpr, tpr)))\n",
    "cf = confusion_matrix(y_test,y_pred_ada)\n",
    "\n",
    "plot_confusion_matrix(ada_clf,X_test_sig,y_test,cmap=plt.cm.Blues,\n",
    "                     display_labels=[\"not bankrupt\", \"bankrupt\"],\n",
    "                      values_format=\".5g\")\n",
    "plt.title(\"KNN Smote Values Confusion Matrix\")\n",
    "\n",
    "print(confusion_matrix(y_test, y_pred_ada))\n",
    "print(classification_report(y_test, y_pred_ada))"
   ]
  },
  {
   "cell_type": "code",
   "execution_count": null,
   "metadata": {},
   "outputs": [],
   "source": []
  },
  {
   "cell_type": "code",
   "execution_count": null,
   "metadata": {},
   "outputs": [],
   "source": []
  }
 ],
 "metadata": {
  "kernelspec": {
   "display_name": "Python 3",
   "language": "python",
   "name": "python3"
  },
  "language_info": {
   "codemirror_mode": {
    "name": "ipython",
    "version": 3
   },
   "file_extension": ".py",
   "mimetype": "text/x-python",
   "name": "python",
   "nbconvert_exporter": "python",
   "pygments_lexer": "ipython3",
   "version": "3.8.5"
  },
  "latex_envs": {
   "LaTeX_envs_menu_present": true,
   "autoclose": false,
   "autocomplete": true,
   "bibliofile": "biblio.bib",
   "cite_by": "apalike",
   "current_citInitial": 1,
   "eqLabelWithNumbers": true,
   "eqNumInitial": 1,
   "hotkeys": {
    "equation": "Ctrl-E",
    "itemize": "Ctrl-I"
   },
   "labels_anchors": false,
   "latex_user_defs": false,
   "report_style_numbering": false,
   "user_envs_cfg": false
  },
  "toc": {
   "base_numbering": 1,
   "nav_menu": {},
   "number_sections": true,
   "sideBar": true,
   "skip_h1_title": false,
   "title_cell": "Table of Contents",
   "title_sidebar": "Contents",
   "toc_cell": false,
   "toc_position": {},
   "toc_section_display": true,
   "toc_window_display": false
  },
  "varInspector": {
   "cols": {
    "lenName": 16,
    "lenType": 16,
    "lenVar": 40
   },
   "kernels_config": {
    "python": {
     "delete_cmd_postfix": "",
     "delete_cmd_prefix": "del ",
     "library": "var_list.py",
     "varRefreshCmd": "print(var_dic_list())"
    },
    "r": {
     "delete_cmd_postfix": ") ",
     "delete_cmd_prefix": "rm(",
     "library": "var_list.r",
     "varRefreshCmd": "cat(var_dic_list()) "
    }
   },
   "types_to_exclude": [
    "module",
    "function",
    "builtin_function_or_method",
    "instance",
    "_Feature"
   ],
   "window_display": false
  }
 },
 "nbformat": 4,
 "nbformat_minor": 4
}
