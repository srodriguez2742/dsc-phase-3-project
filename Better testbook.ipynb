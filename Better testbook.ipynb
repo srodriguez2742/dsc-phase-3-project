{
 "cells": [
  {
   "cell_type": "markdown",
   "metadata": {},
   "source": [
    "Looking at above .75 corr\n",
    "\n",
    "net worth/assets\t\n",
    "\n",
    "Gross profit to Sales\n",
    "\n",
    "Net Value Per Share (A)\n",
    "\n",
    "per Net Share Value (B)\n",
    "\n",
    "realized sales gross margin\n",
    "\n",
    "Operating profit/paid-in capital\t\n",
    "\n",
    "regular net profit growth rate\n",
    "\n",
    "continuous interest rate (after tax)\n",
    "\n",
    "ROA(A) before interest and % after tax\n",
    "\n",
    "ROA(B) before interest and depreciation after tax\n",
    "\n",
    "tax Pre-net interest rate\n",
    "\n",
    "net profit before tax/paid-in capital\n",
    "\n",
    "borrowing dependency\n",
    "\n",
    "Per Share Net profit before tax (yuan)\n",
    "\n",
    "liability to equity\n",
    "\n",
    "Cash flow to Sales\n",
    " \n",
    "operating funds to liability\n",
    "\n",
    "Operating Profit Per Share (Yuan)\n",
    "\n",
    "after-tax net interest rate\n",
    "\n",
    "\n",
    "** leaving current liability/ equity and liability to equity as they are important in nature they are slightly correlated but current liabilities shouldnt be 1 to 1 with liabilty so reflective of the circumstances i.e. stress on these companies\n",
    "\n",
    "\n",
    "30 "
   ]
  },
  {
   "cell_type": "code",
   "execution_count": 70,
   "metadata": {
    "ExecuteTime": {
     "end_time": "2021-02-22T11:34:37.376088Z",
     "start_time": "2021-02-22T11:34:37.332312Z"
    }
   },
   "outputs": [],
   "source": [
    "#importing relevant libraries\n",
    "import pandas as pd\n",
    "import numpy as np\n",
    "import pandas as pd\n",
    "import matplotlib.pyplot as plt\n",
    "from sklearn.linear_model import LogisticRegression\n",
    "from sklearn.model_selection import train_test_split\n",
    "from sklearn.metrics import plot_confusion_matrix\n",
    "from sklearn.metrics import confusion_matrix, classification_report\n",
    "from sklearn.metrics import roc_curve, auc\n",
    "from sklearn.metrics import precision_score, recall_score, accuracy_score, f1_score\n",
    "from sklearn.preprocessing import StandardScaler\n",
    "from sklearn.neighbors import KNeighborsClassifier\n",
    "from sklearn.tree import DecisionTreeClassifier\n",
    "from sklearn.tree import plot_tree\n",
    "from sklearn.utils import resample\n",
    "from imblearn.over_sampling import SMOTE\n",
    "from xgboost import XGBClassifier\n",
    "\n",
    "from sklearn.ensemble import BaggingClassifier, RandomForestClassifier\n",
    "from sklearn.model_selection import GridSearchCV, cross_val_score\n",
    "from sklearn.ensemble import AdaBoostClassifier, GradientBoostingClassifier"
   ]
  },
  {
   "cell_type": "code",
   "execution_count": 3,
   "metadata": {
    "ExecuteTime": {
     "end_time": "2021-02-22T01:04:07.933569Z",
     "start_time": "2021-02-22T01:04:07.927588Z"
    }
   },
   "outputs": [],
   "source": [
    "def find_best_k_recall(X_train, y_train, X_test, y_test, min_k=1, max_k=25):\n",
    "    best_k = 0\n",
    "    best_score = 0.0\n",
    "    for k in range(min_k, max_k+1, 2):\n",
    "        knn = KNeighborsClassifier(n_neighbors=k)\n",
    "        knn.fit(X_train, y_train)\n",
    "        preds = knn.predict(X_test)\n",
    "        recall = recall_score(y_test, preds)\n",
    "        if recall > best_score:\n",
    "            best_k = k\n",
    "            best_score = recall\n",
    "    \n",
    "    print(\"Best Value for k: {}\".format(best_k))\n",
    "    print(\"Recall-Score: {}\".format(best_score))"
   ]
  },
  {
   "cell_type": "code",
   "execution_count": 4,
   "metadata": {
    "ExecuteTime": {
     "end_time": "2021-02-22T01:04:08.059621Z",
     "start_time": "2021-02-22T01:04:08.048648Z"
    }
   },
   "outputs": [],
   "source": [
    "def find_best_k(X_train, y_train, X_test, y_test, min_k=1, max_k=25):\n",
    "    best_k = 0\n",
    "    best_score = 0.0\n",
    "    for k in range(min_k, max_k+1, 2):\n",
    "        knn = KNeighborsClassifier(n_neighbors=k)\n",
    "        knn.fit(X_train, y_train)\n",
    "        preds = knn.predict(X_test)\n",
    "        f1 = f1_score(y_test, preds)\n",
    "        if f1 > best_score:\n",
    "            best_k = k\n",
    "            best_score = f1\n",
    "    \n",
    "    print(\"Best Value for k: {}\".format(best_k))\n",
    "    print(\"F1-Score: {}\".format(best_score))"
   ]
  },
  {
   "cell_type": "code",
   "execution_count": 5,
   "metadata": {
    "ExecuteTime": {
     "end_time": "2021-02-22T01:04:08.359432Z",
     "start_time": "2021-02-22T01:04:08.248730Z"
    }
   },
   "outputs": [
    {
     "data": {
      "text/html": [
       "<div>\n",
       "<style scoped>\n",
       "    .dataframe tbody tr th:only-of-type {\n",
       "        vertical-align: middle;\n",
       "    }\n",
       "\n",
       "    .dataframe tbody tr th {\n",
       "        vertical-align: top;\n",
       "    }\n",
       "\n",
       "    .dataframe thead th {\n",
       "        text-align: right;\n",
       "    }\n",
       "</style>\n",
       "<table border=\"1\" class=\"dataframe\">\n",
       "  <thead>\n",
       "    <tr style=\"text-align: right;\">\n",
       "      <th></th>\n",
       "      <th>Bankrupt?</th>\n",
       "      <th>ROA(C) before interest and depreciation before interest</th>\n",
       "      <th>ROA(A) before interest and % after tax</th>\n",
       "      <th>ROA(B) before interest and depreciation after tax</th>\n",
       "      <th>operating gross margin</th>\n",
       "      <th>realized sales gross margin</th>\n",
       "      <th>operating profit rate</th>\n",
       "      <th>tax Pre-net interest rate</th>\n",
       "      <th>after-tax net interest rate</th>\n",
       "      <th>non-industry income and expenditure/revenue</th>\n",
       "      <th>...</th>\n",
       "      <th>net income to total assets</th>\n",
       "      <th>total assets to GNP price</th>\n",
       "      <th>No-credit interval</th>\n",
       "      <th>Gross profit to Sales</th>\n",
       "      <th>Net income to stockholder's Equity</th>\n",
       "      <th>liability to equity</th>\n",
       "      <th>Degree of financial leverage (DFL)</th>\n",
       "      <th>Interest coverage ratio( Interest expense to EBIT )</th>\n",
       "      <th>one if net income was negative for the last two year zero otherwise</th>\n",
       "      <th>equity to liability</th>\n",
       "    </tr>\n",
       "  </thead>\n",
       "  <tbody>\n",
       "    <tr>\n",
       "      <th>0</th>\n",
       "      <td>1</td>\n",
       "      <td>0.370594</td>\n",
       "      <td>0.424389</td>\n",
       "      <td>0.405750</td>\n",
       "      <td>0.601457</td>\n",
       "      <td>0.601457</td>\n",
       "      <td>0.998969</td>\n",
       "      <td>0.796887</td>\n",
       "      <td>0.808809</td>\n",
       "      <td>0.302646</td>\n",
       "      <td>...</td>\n",
       "      <td>0.716845</td>\n",
       "      <td>0.009219</td>\n",
       "      <td>0.622879</td>\n",
       "      <td>0.601453</td>\n",
       "      <td>0.827890</td>\n",
       "      <td>0.290202</td>\n",
       "      <td>0.026601</td>\n",
       "      <td>0.564050</td>\n",
       "      <td>1</td>\n",
       "      <td>0.016469</td>\n",
       "    </tr>\n",
       "    <tr>\n",
       "      <th>1</th>\n",
       "      <td>1</td>\n",
       "      <td>0.464291</td>\n",
       "      <td>0.538214</td>\n",
       "      <td>0.516730</td>\n",
       "      <td>0.610235</td>\n",
       "      <td>0.610235</td>\n",
       "      <td>0.998946</td>\n",
       "      <td>0.797380</td>\n",
       "      <td>0.809301</td>\n",
       "      <td>0.303556</td>\n",
       "      <td>...</td>\n",
       "      <td>0.795297</td>\n",
       "      <td>0.008323</td>\n",
       "      <td>0.623652</td>\n",
       "      <td>0.610237</td>\n",
       "      <td>0.839969</td>\n",
       "      <td>0.283846</td>\n",
       "      <td>0.264577</td>\n",
       "      <td>0.570175</td>\n",
       "      <td>1</td>\n",
       "      <td>0.020794</td>\n",
       "    </tr>\n",
       "    <tr>\n",
       "      <th>2</th>\n",
       "      <td>1</td>\n",
       "      <td>0.426071</td>\n",
       "      <td>0.499019</td>\n",
       "      <td>0.472295</td>\n",
       "      <td>0.601450</td>\n",
       "      <td>0.601364</td>\n",
       "      <td>0.998857</td>\n",
       "      <td>0.796403</td>\n",
       "      <td>0.808388</td>\n",
       "      <td>0.302035</td>\n",
       "      <td>...</td>\n",
       "      <td>0.774670</td>\n",
       "      <td>0.040003</td>\n",
       "      <td>0.623841</td>\n",
       "      <td>0.601449</td>\n",
       "      <td>0.836774</td>\n",
       "      <td>0.290189</td>\n",
       "      <td>0.026555</td>\n",
       "      <td>0.563706</td>\n",
       "      <td>1</td>\n",
       "      <td>0.016474</td>\n",
       "    </tr>\n",
       "    <tr>\n",
       "      <th>3</th>\n",
       "      <td>1</td>\n",
       "      <td>0.399844</td>\n",
       "      <td>0.451265</td>\n",
       "      <td>0.457733</td>\n",
       "      <td>0.583541</td>\n",
       "      <td>0.583541</td>\n",
       "      <td>0.998700</td>\n",
       "      <td>0.796967</td>\n",
       "      <td>0.808966</td>\n",
       "      <td>0.303350</td>\n",
       "      <td>...</td>\n",
       "      <td>0.739555</td>\n",
       "      <td>0.003252</td>\n",
       "      <td>0.622929</td>\n",
       "      <td>0.583538</td>\n",
       "      <td>0.834697</td>\n",
       "      <td>0.281721</td>\n",
       "      <td>0.026697</td>\n",
       "      <td>0.564663</td>\n",
       "      <td>1</td>\n",
       "      <td>0.023982</td>\n",
       "    </tr>\n",
       "    <tr>\n",
       "      <th>4</th>\n",
       "      <td>1</td>\n",
       "      <td>0.465022</td>\n",
       "      <td>0.538432</td>\n",
       "      <td>0.522298</td>\n",
       "      <td>0.598783</td>\n",
       "      <td>0.598783</td>\n",
       "      <td>0.998973</td>\n",
       "      <td>0.797366</td>\n",
       "      <td>0.809304</td>\n",
       "      <td>0.303475</td>\n",
       "      <td>...</td>\n",
       "      <td>0.795016</td>\n",
       "      <td>0.003878</td>\n",
       "      <td>0.623521</td>\n",
       "      <td>0.598782</td>\n",
       "      <td>0.839973</td>\n",
       "      <td>0.278514</td>\n",
       "      <td>0.024752</td>\n",
       "      <td>0.575617</td>\n",
       "      <td>1</td>\n",
       "      <td>0.035490</td>\n",
       "    </tr>\n",
       "  </tbody>\n",
       "</table>\n",
       "<p>5 rows × 96 columns</p>\n",
       "</div>"
      ],
      "text/plain": [
       "   Bankrupt?   ROA(C) before interest and depreciation before interest  \\\n",
       "0          1                                           0.370594          \n",
       "1          1                                           0.464291          \n",
       "2          1                                           0.426071          \n",
       "3          1                                           0.399844          \n",
       "4          1                                           0.465022          \n",
       "\n",
       "    ROA(A) before interest and % after tax  \\\n",
       "0                                 0.424389   \n",
       "1                                 0.538214   \n",
       "2                                 0.499019   \n",
       "3                                 0.451265   \n",
       "4                                 0.538432   \n",
       "\n",
       "    ROA(B) before interest and depreciation after tax  \\\n",
       "0                                           0.405750    \n",
       "1                                           0.516730    \n",
       "2                                           0.472295    \n",
       "3                                           0.457733    \n",
       "4                                           0.522298    \n",
       "\n",
       "    operating gross margin   realized sales gross margin  \\\n",
       "0                 0.601457                      0.601457   \n",
       "1                 0.610235                      0.610235   \n",
       "2                 0.601450                      0.601364   \n",
       "3                 0.583541                      0.583541   \n",
       "4                 0.598783                      0.598783   \n",
       "\n",
       "    operating profit rate   tax Pre-net interest rate  \\\n",
       "0                0.998969                    0.796887   \n",
       "1                0.998946                    0.797380   \n",
       "2                0.998857                    0.796403   \n",
       "3                0.998700                    0.796967   \n",
       "4                0.998973                    0.797366   \n",
       "\n",
       "    after-tax net interest rate   non-industry income and expenditure/revenue  \\\n",
       "0                      0.808809                                      0.302646   \n",
       "1                      0.809301                                      0.303556   \n",
       "2                      0.808388                                      0.302035   \n",
       "3                      0.808966                                      0.303350   \n",
       "4                      0.809304                                      0.303475   \n",
       "\n",
       "   ...  net income to total assets  total assets to GNP price  \\\n",
       "0  ...                    0.716845                   0.009219   \n",
       "1  ...                    0.795297                   0.008323   \n",
       "2  ...                    0.774670                   0.040003   \n",
       "3  ...                    0.739555                   0.003252   \n",
       "4  ...                    0.795016                   0.003878   \n",
       "\n",
       "   No-credit interval  Gross profit to Sales  \\\n",
       "0            0.622879               0.601453   \n",
       "1            0.623652               0.610237   \n",
       "2            0.623841               0.601449   \n",
       "3            0.622929               0.583538   \n",
       "4            0.623521               0.598782   \n",
       "\n",
       "   Net income to stockholder's Equity  liability to equity  \\\n",
       "0                            0.827890             0.290202   \n",
       "1                            0.839969             0.283846   \n",
       "2                            0.836774             0.290189   \n",
       "3                            0.834697             0.281721   \n",
       "4                            0.839973             0.278514   \n",
       "\n",
       "   Degree of financial leverage (DFL)  \\\n",
       "0                            0.026601   \n",
       "1                            0.264577   \n",
       "2                            0.026555   \n",
       "3                            0.026697   \n",
       "4                            0.024752   \n",
       "\n",
       "   Interest coverage ratio( Interest expense to EBIT )  \\\n",
       "0                                           0.564050     \n",
       "1                                           0.570175     \n",
       "2                                           0.563706     \n",
       "3                                           0.564663     \n",
       "4                                           0.575617     \n",
       "\n",
       "   one if net income was negative for the last two year zero otherwise  \\\n",
       "0                                                  1                     \n",
       "1                                                  1                     \n",
       "2                                                  1                     \n",
       "3                                                  1                     \n",
       "4                                                  1                     \n",
       "\n",
       "   equity to liability  \n",
       "0             0.016469  \n",
       "1             0.020794  \n",
       "2             0.016474  \n",
       "3             0.023982  \n",
       "4             0.035490  \n",
       "\n",
       "[5 rows x 96 columns]"
      ]
     },
     "execution_count": 5,
     "metadata": {},
     "output_type": "execute_result"
    }
   ],
   "source": [
    "#bringing in file as pandas dataframe\n",
    "df = pd.read_csv('data/taiwan_bankruptcy_data.csv')\n",
    "df.head()"
   ]
  },
  {
   "cell_type": "code",
   "execution_count": 6,
   "metadata": {
    "ExecuteTime": {
     "end_time": "2021-02-22T01:04:08.548207Z",
     "start_time": "2021-02-22T01:04:08.392374Z"
    }
   },
   "outputs": [],
   "source": [
    "#checking predictors for multicollinearity\n",
    "\n",
    "test = df.corr().abs().stack().reset_index().sort_values(0,ascending=False)\n",
    "test['pairs'] = list(zip(test.level_0,test.level_1))\n",
    "test.set_index(['pairs'], inplace=True)\n",
    "test.drop(columns=['level_1','level_0'], inplace=True)\n",
    "test.columns = ['cc']\n",
    "test.drop_duplicates(inplace=True)\n",
    "test.sort_values('cc',ascending=False, inplace=True)\n",
    "multicollinear_predictors = test[test.cc >.75]\n",
    "multicollinear_predictors.reset_index(inplace=True)"
   ]
  },
  {
   "cell_type": "code",
   "execution_count": 7,
   "metadata": {
    "ExecuteTime": {
     "end_time": "2021-02-22T01:04:08.612077Z",
     "start_time": "2021-02-22T01:04:08.598079Z"
    }
   },
   "outputs": [
    {
     "name": "stderr",
     "output_type": "stream",
     "text": [
      "<ipython-input-7-a30768636eb9>:1: SettingWithCopyWarning: \n",
      "A value is trying to be set on a copy of a slice from a DataFrame.\n",
      "Try using .loc[row_indexer,col_indexer] = value instead\n",
      "\n",
      "See the caveats in the documentation: https://pandas.pydata.org/pandas-docs/stable/user_guide/indexing.html#returning-a-view-versus-a-copy\n",
      "  multicollinear_predictors['column_1'] = multicollinear_predictors.pairs.map(lambda x : x[0])\n",
      "<ipython-input-7-a30768636eb9>:2: SettingWithCopyWarning: \n",
      "A value is trying to be set on a copy of a slice from a DataFrame.\n",
      "Try using .loc[row_indexer,col_indexer] = value instead\n",
      "\n",
      "See the caveats in the documentation: https://pandas.pydata.org/pandas-docs/stable/user_guide/indexing.html#returning-a-view-versus-a-copy\n",
      "  multicollinear_predictors['column_2'] = multicollinear_predictors.pairs.map(lambda x : x[1])\n"
     ]
    }
   ],
   "source": [
    "multicollinear_predictors['column_1'] = multicollinear_predictors.pairs.map(lambda x : x[0])\n",
    "multicollinear_predictors['column_2'] = multicollinear_predictors.pairs.map(lambda x : x[1])"
   ]
  },
  {
   "cell_type": "code",
   "execution_count": 8,
   "metadata": {
    "ExecuteTime": {
     "end_time": "2021-02-22T01:04:08.659994Z",
     "start_time": "2021-02-22T01:04:08.644954Z"
    }
   },
   "outputs": [],
   "source": [
    "#Unsurprisingly, there are many columns that are correlated above .75 as my features\n",
    "# are different line items on a financial statement\n",
    "# below are chosen columns I think that models will still have accurate results without while\n",
    "# still dealing with multicollinearity\n",
    "\n",
    "columns_to_drop = [' net worth/assets','Gross profit to Sales',' Net Value Per Share (A)',' per Net Share Value (B)',\n",
    "                  ' realized sales gross margin',' Operating profit/paid-in capital',' regular net profit growth rate',\n",
    "                  ' continuous interest rate (after tax)',' ROA(A) before interest and % after tax',' ROA(B) before interest and depreciation after tax',\n",
    "                  ' tax Pre-net interest rate',' net profit before tax/paid-in capital',\n",
    "                  ' borrowing dependency',' Per Share Net profit before tax (yuan)',\n",
    "                  'liability to equity',' Cash flow to Sales','operating funds to liability',' Operating Profit Per Share (Yuan)',\n",
    "                  ' after-tax net interest rate','one if net income was negative for the last two year zero otherwise']"
   ]
  },
  {
   "cell_type": "code",
   "execution_count": 9,
   "metadata": {
    "ExecuteTime": {
     "end_time": "2021-02-22T01:04:08.753847Z",
     "start_time": "2021-02-22T01:04:08.737891Z"
    }
   },
   "outputs": [],
   "source": [
    "pre_pro = df.drop(columns=columns_to_drop,axis=1)"
   ]
  },
  {
   "cell_type": "code",
   "execution_count": 10,
   "metadata": {
    "ExecuteTime": {
     "end_time": "2021-02-22T01:04:08.894950Z",
     "start_time": "2021-02-22T01:04:08.866034Z"
    }
   },
   "outputs": [],
   "source": [
    "# seperating out my target and predictors into X and y and training and test groups\n",
    "X = pre_pro.drop(columns='Bankrupt?',axis=1)\n",
    "y = pre_pro['Bankrupt?']\n",
    "X_train, X_test, y_train, y_test = train_test_split(X,y,test_size=.25,random_state=42)\n"
   ]
  },
  {
   "cell_type": "code",
   "execution_count": 11,
   "metadata": {
    "ExecuteTime": {
     "end_time": "2021-02-22T01:04:09.002741Z",
     "start_time": "2021-02-22T01:04:08.987699Z"
    }
   },
   "outputs": [],
   "source": [
    "#defining sigmoid function to scale my data from 0-1\n",
    "def sigmoid(x):\n",
    "    x = np.array(x)\n",
    "    return 1/(1 + np.e**(-1*x))"
   ]
  },
  {
   "cell_type": "code",
   "execution_count": 12,
   "metadata": {
    "ExecuteTime": {
     "end_time": "2021-02-22T01:04:09.221385Z",
     "start_time": "2021-02-22T01:04:09.119429Z"
    }
   },
   "outputs": [],
   "source": [
    "#Using smote on my training data\n",
    "#this will allow me to resample my training data and fit my model based on the resampled training data\n",
    "# After doing so, when i predict based on my unchanged X_test values my class imbalance issues should not be as bad\n",
    "\n",
    "smote = SMOTE()\n",
    "X_train_smote, y_train_smote = smote.fit_sample(X_train, y_train) \n",
    "X_train_smote_sig = X_train_smote.apply(sigmoid)\n",
    "X_test_sig = X_test.apply(sigmoid)"
   ]
  },
  {
   "cell_type": "markdown",
   "metadata": {},
   "source": [
    "## Decision Tree"
   ]
  },
  {
   "cell_type": "code",
   "execution_count": 21,
   "metadata": {
    "ExecuteTime": {
     "end_time": "2021-02-22T01:52:08.197006Z",
     "start_time": "2021-02-22T01:52:08.182082Z"
    }
   },
   "outputs": [],
   "source": [
    "dtree = DecisionTreeClassifier(max_depth=12,min_samples_leaf=2,min_samples_split=9)"
   ]
  },
  {
   "cell_type": "code",
   "execution_count": 22,
   "metadata": {
    "ExecuteTime": {
     "end_time": "2021-02-22T01:52:09.087841Z",
     "start_time": "2021-02-22T01:52:08.342799Z"
    }
   },
   "outputs": [
    {
     "name": "stdout",
     "output_type": "stream",
     "text": [
      "AUC: 0.7763436132571236\n",
      "[[1535  112]\n",
      " [  22   36]]\n",
      "              precision    recall  f1-score   support\n",
      "\n",
      "           0       0.99      0.93      0.96      1647\n",
      "           1       0.24      0.62      0.35        58\n",
      "\n",
      "    accuracy                           0.92      1705\n",
      "   macro avg       0.61      0.78      0.65      1705\n",
      "weighted avg       0.96      0.92      0.94      1705\n",
      "\n"
     ]
    },
    {
     "data": {
      "image/png": "[encoded data removed]",
      "text/plain": [
       "<Figure size 432x288 with 2 Axes>"
      ]
     },
     "metadata": {
      "needs_background": "light"
     },
     "output_type": "display_data"
    }
   ],
   "source": [
    "dtree.fit(X_train_smote_sig,y_train_smote)\n",
    "\n",
    "y_pred_tree = dtree.predict(X_test_sig)\n",
    "\n",
    "fpr, tpr, thresholds = roc_curve(y_test, y_pred_tree)\n",
    "\n",
    "print('AUC: {}'.format(auc(fpr, tpr)))\n",
    "cf = confusion_matrix(y_test,y_pred_tree)\n",
    "\n",
    "plot_confusion_matrix(dtree,X_test_sig,y_test,cmap=plt.cm.Blues,\n",
    "                     display_labels=[\"not bankrupt\", \"bankrupt\"],\n",
    "                      values_format=\".5g\")\n",
    "plt.title(\"KNN Smote Values Confusion Matrix\")\n",
    "\n",
    "print(confusion_matrix(y_test, y_pred_tree))\n",
    "print(classification_report(y_test, y_pred_tree))"
   ]
  },
  {
   "cell_type": "code",
   "execution_count": 23,
   "metadata": {
    "ExecuteTime": {
     "end_time": "2021-02-22T01:53:06.714673Z",
     "start_time": "2021-02-22T01:53:06.701708Z"
    }
   },
   "outputs": [],
   "source": [
    "dtree_params = {'criterion': ['gini','entropy'],\n",
    "    'max_depth' : [5,12,20],\n",
    "    'min_samples_leaf' : [2, 7],\n",
    "    'min_samples_split' : [2,7,9,15,20,25],\n",
    "    'max_features': [1,2,3]\n",
    "}\n",
    "tree_grid = GridSearchCV(estimator=dtree,param_grid=dtree_params,scoring='recall',verbose=1)"
   ]
  },
  {
   "cell_type": "code",
   "execution_count": 24,
   "metadata": {
    "ExecuteTime": {
     "end_time": "2021-02-22T01:54:23.679504Z",
     "start_time": "2021-02-22T01:53:09.893780Z"
    }
   },
   "outputs": [
    {
     "name": "stdout",
     "output_type": "stream",
     "text": [
      "Fitting 5 folds for each of 32 candidates, totalling 160 fits\n"
     ]
    },
    {
     "name": "stderr",
     "output_type": "stream",
     "text": [
      "[Parallel(n_jobs=1)]: Using backend SequentialBackend with 1 concurrent workers.\n",
      "[Parallel(n_jobs=1)]: Done 160 out of 160 | elapsed:  1.2min finished\n"
     ]
    },
    {
     "data": {
      "text/plain": [
       "GridSearchCV(estimator=DecisionTreeClassifier(max_depth=12, min_samples_leaf=2,\n",
       "                                              min_samples_split=9),\n",
       "             param_grid={'criterion': ['gini', 'entropy'],\n",
       "                         'max_depth': [12, 20], 'min_samples_leaf': [2, 7],\n",
       "                         'min_samples_split': [9, 11, 19, 15]},\n",
       "             scoring='recall', verbose=1)"
      ]
     },
     "execution_count": 24,
     "metadata": {},
     "output_type": "execute_result"
    }
   ],
   "source": [
    "tree_grid.fit(X_train_smote_sig,y_train_smote)"
   ]
  },
  {
   "cell_type": "code",
   "execution_count": 25,
   "metadata": {
    "ExecuteTime": {
     "end_time": "2021-02-22T01:54:29.754200Z",
     "start_time": "2021-02-22T01:54:29.742214Z"
    }
   },
   "outputs": [
    {
     "data": {
      "text/plain": [
       "{'criterion': 'gini',\n",
       " 'max_depth': 12,\n",
       " 'min_samples_leaf': 2,\n",
       " 'min_samples_split': 9}"
      ]
     },
     "execution_count": 25,
     "metadata": {},
     "output_type": "execute_result"
    }
   ],
   "source": [
    "tree_grid.best_params_"
   ]
  },
  {
   "cell_type": "markdown",
   "metadata": {},
   "source": [
    "### Random Forest"
   ]
  },
  {
   "cell_type": "code",
   "execution_count": null,
   "metadata": {},
   "outputs": [],
   "source": [
    "\n",
    "# Split into training and test sets\n",
    "SEED = 42\n",
    "X_train, X_test, y_train, y_test = train_test_split(X,y,random_state=SEED,test_size=.3)"
   ]
  },
  {
   "cell_type": "code",
   "execution_count": null,
   "metadata": {},
   "outputs": [],
   "source": [
    "def find_best_k_recall(X_train, y_train, X_test, y_test, min_k=1, max_k=25):\n",
    "    best_k = 0\n",
    "    best_score = 0.0\n",
    "    for k in range(min_k, max_k+1, 2):\n",
    "        knn = KNeighborsClassifier(n_neighbors=k)\n",
    "        knn.fit(X_train, y_train)\n",
    "        preds = knn.predict(X_test)\n",
    "        recall = recall_score(y_test, preds)\n",
    "        if recall > best_score:\n",
    "            best_k = k\n",
    "            best_score = recall\n",
    "    \n",
    "    print(\"Best Value for k: {}\".format(best_k))\n",
    "    print(\"Recall-Score: {}\".format(best_score))"
   ]
  },
  {
   "cell_type": "code",
   "execution_count": 49,
   "metadata": {
    "ExecuteTime": {
     "end_time": "2021-02-22T04:19:25.784266Z",
     "start_time": "2021-02-22T04:19:25.766315Z"
    }
   },
   "outputs": [],
   "source": [
    "forest = RandomForestClassifier()\n",
    "rf_param_grid = {'n_estimators':[100],\n",
    "'criterion':['gini', 'entropy'],\n",
    "'max_depth':[None, 16],\n",
    "'min_samples_split':[2, 5],\n",
    "'min_samples_leaf':[2, 7]  \n",
    "}\n",
    "\n",
    "rf_grid = GridSearchCV(estimator=forest,param_grid=rf_param_grid,scoring='recall',verbose=1)"
   ]
  },
  {
   "cell_type": "code",
   "execution_count": 50,
   "metadata": {
    "ExecuteTime": {
     "end_time": "2021-02-22T04:23:43.006384Z",
     "start_time": "2021-02-22T04:19:26.766542Z"
    }
   },
   "outputs": [
    {
     "name": "stdout",
     "output_type": "stream",
     "text": [
      "Fitting 5 folds for each of 16 candidates, totalling 80 fits\n"
     ]
    },
    {
     "name": "stderr",
     "output_type": "stream",
     "text": [
      "[Parallel(n_jobs=1)]: Using backend SequentialBackend with 1 concurrent workers.\n",
      "[Parallel(n_jobs=1)]: Done  80 out of  80 | elapsed:  4.2min finished\n"
     ]
    },
    {
     "data": {
      "text/plain": [
       "GridSearchCV(estimator=RandomForestClassifier(),\n",
       "             param_grid={'criterion': ['gini', 'entropy'],\n",
       "                         'max_depth': [None, 16], 'min_samples_leaf': [2, 7],\n",
       "                         'min_samples_split': [2, 5], 'n_estimators': [100]},\n",
       "             scoring='recall', verbose=1)"
      ]
     },
     "execution_count": 50,
     "metadata": {},
     "output_type": "execute_result"
    }
   ],
   "source": [
    "rf_grid.fit(X_train_smote_sig,y_train_smote)"
   ]
  },
  {
   "cell_type": "code",
   "execution_count": 51,
   "metadata": {
    "ExecuteTime": {
     "end_time": "2021-02-22T04:25:41.580982Z",
     "start_time": "2021-02-22T04:25:41.573973Z"
    }
   },
   "outputs": [
    {
     "data": {
      "text/plain": [
       "{'criterion': 'entropy',\n",
       " 'max_depth': None,\n",
       " 'min_samples_leaf': 2,\n",
       " 'min_samples_split': 5,\n",
       " 'n_estimators': 100}"
      ]
     },
     "execution_count": 51,
     "metadata": {},
     "output_type": "execute_result"
    }
   ],
   "source": [
    "rf_grid.best_params_"
   ]
  },
  {
   "cell_type": "code",
   "execution_count": 52,
   "metadata": {
    "ExecuteTime": {
     "end_time": "2021-02-22T04:38:48.480721Z",
     "start_time": "2021-02-22T04:38:48.469721Z"
    }
   },
   "outputs": [],
   "source": [
    "grad_clf = GradientBoostingClassifier()"
   ]
  },
  {
   "cell_type": "code",
   "execution_count": 56,
   "metadata": {
    "ExecuteTime": {
     "end_time": "2021-02-22T04:59:40.442563Z",
     "start_time": "2021-02-22T04:59:40.436554Z"
    }
   },
   "outputs": [],
   "source": [
    "grad_params = {'n_estimators':[100],\n",
    "'max_depth':[3, 16,25],\n",
    "'min_samples_split':[2, 5,20],\n",
    "'min_samples_leaf':[2, 7],\n",
    "'learning_rate': [.1,.2]\n",
    "            }\n",
    "\n",
    "grad_grid = GridSearchCV(grad_clf,param_grid=grad_params,scoring='recall',verbose=2,cv=3)\n"
   ]
  },
  {
   "cell_type": "code",
   "execution_count": 57,
   "metadata": {
    "ExecuteTime": {
     "end_time": "2021-02-22T06:09:07.398382Z",
     "start_time": "2021-02-22T04:59:40.981737Z"
    }
   },
   "outputs": [
    {
     "name": "stdout",
     "output_type": "stream",
     "text": [
      "Fitting 3 folds for each of 36 candidates, totalling 108 fits\n",
      "[CV] learning_rate=0.1, max_depth=3, min_samples_leaf=2, min_samples_split=2, n_estimators=100 \n"
     ]
    },
    {
     "name": "stderr",
     "output_type": "stream",
     "text": [
      "[Parallel(n_jobs=1)]: Using backend SequentialBackend with 1 concurrent workers.\n"
     ]
    },
    {
     "name": "stdout",
     "output_type": "stream",
     "text": [
      "[CV]  learning_rate=0.1, max_depth=3, min_samples_leaf=2, min_samples_split=2, n_estimators=100, total=   9.7s\n",
      "[CV] learning_rate=0.1, max_depth=3, min_samples_leaf=2, min_samples_split=2, n_estimators=100 \n"
     ]
    },
    {
     "name": "stderr",
     "output_type": "stream",
     "text": [
      "[Parallel(n_jobs=1)]: Done   1 out of   1 | elapsed:    9.6s remaining:    0.0s\n"
     ]
    },
    {
     "name": "stdout",
     "output_type": "stream",
     "text": [
      "[CV]  learning_rate=0.1, max_depth=3, min_samples_leaf=2, min_samples_split=2, n_estimators=100, total=   9.7s\n",
      "[CV] learning_rate=0.1, max_depth=3, min_samples_leaf=2, min_samples_split=2, n_estimators=100 \n",
      "[CV]  learning_rate=0.1, max_depth=3, min_samples_leaf=2, min_samples_split=2, n_estimators=100, total=   9.7s\n",
      "[CV] learning_rate=0.1, max_depth=3, min_samples_leaf=2, min_samples_split=5, n_estimators=100 \n",
      "[CV]  learning_rate=0.1, max_depth=3, min_samples_leaf=2, min_samples_split=5, n_estimators=100, total=   9.7s\n",
      "[CV] learning_rate=0.1, max_depth=3, min_samples_leaf=2, min_samples_split=5, n_estimators=100 \n",
      "[CV]  learning_rate=0.1, max_depth=3, min_samples_leaf=2, min_samples_split=5, n_estimators=100, total=   9.7s\n",
      "[CV] learning_rate=0.1, max_depth=3, min_samples_leaf=2, min_samples_split=5, n_estimators=100 \n",
      "[CV]  learning_rate=0.1, max_depth=3, min_samples_leaf=2, min_samples_split=5, n_estimators=100, total=   9.7s\n",
      "[CV] learning_rate=0.1, max_depth=3, min_samples_leaf=2, min_samples_split=20, n_estimators=100 \n",
      "[CV]  learning_rate=0.1, max_depth=3, min_samples_leaf=2, min_samples_split=20, n_estimators=100, total=   9.7s\n",
      "[CV] learning_rate=0.1, max_depth=3, min_samples_leaf=2, min_samples_split=20, n_estimators=100 \n",
      "[CV]  learning_rate=0.1, max_depth=3, min_samples_leaf=2, min_samples_split=20, n_estimators=100, total=   9.7s\n",
      "[CV] learning_rate=0.1, max_depth=3, min_samples_leaf=2, min_samples_split=20, n_estimators=100 \n",
      "[CV]  learning_rate=0.1, max_depth=3, min_samples_leaf=2, min_samples_split=20, n_estimators=100, total=   9.6s\n",
      "[CV] learning_rate=0.1, max_depth=3, min_samples_leaf=7, min_samples_split=2, n_estimators=100 \n",
      "[CV]  learning_rate=0.1, max_depth=3, min_samples_leaf=7, min_samples_split=2, n_estimators=100, total=   9.7s\n",
      "[CV] learning_rate=0.1, max_depth=3, min_samples_leaf=7, min_samples_split=2, n_estimators=100 \n",
      "[CV]  learning_rate=0.1, max_depth=3, min_samples_leaf=7, min_samples_split=2, n_estimators=100, total=   9.7s\n",
      "[CV] learning_rate=0.1, max_depth=3, min_samples_leaf=7, min_samples_split=2, n_estimators=100 \n",
      "[CV]  learning_rate=0.1, max_depth=3, min_samples_leaf=7, min_samples_split=2, n_estimators=100, total=   9.6s\n",
      "[CV] learning_rate=0.1, max_depth=3, min_samples_leaf=7, min_samples_split=5, n_estimators=100 \n",
      "[CV]  learning_rate=0.1, max_depth=3, min_samples_leaf=7, min_samples_split=5, n_estimators=100, total=   9.6s\n",
      "[CV] learning_rate=0.1, max_depth=3, min_samples_leaf=7, min_samples_split=5, n_estimators=100 \n",
      "[CV]  learning_rate=0.1, max_depth=3, min_samples_leaf=7, min_samples_split=5, n_estimators=100, total=   9.6s\n",
      "[CV] learning_rate=0.1, max_depth=3, min_samples_leaf=7, min_samples_split=5, n_estimators=100 \n",
      "[CV]  learning_rate=0.1, max_depth=3, min_samples_leaf=7, min_samples_split=5, n_estimators=100, total=   9.6s\n",
      "[CV] learning_rate=0.1, max_depth=3, min_samples_leaf=7, min_samples_split=20, n_estimators=100 \n",
      "[CV]  learning_rate=0.1, max_depth=3, min_samples_leaf=7, min_samples_split=20, n_estimators=100, total=   9.7s\n",
      "[CV] learning_rate=0.1, max_depth=3, min_samples_leaf=7, min_samples_split=20, n_estimators=100 \n",
      "[CV]  learning_rate=0.1, max_depth=3, min_samples_leaf=7, min_samples_split=20, n_estimators=100, total=   9.6s\n",
      "[CV] learning_rate=0.1, max_depth=3, min_samples_leaf=7, min_samples_split=20, n_estimators=100 \n",
      "[CV]  learning_rate=0.1, max_depth=3, min_samples_leaf=7, min_samples_split=20, n_estimators=100, total=   9.6s\n",
      "[CV] learning_rate=0.1, max_depth=16, min_samples_leaf=2, min_samples_split=2, n_estimators=100 \n",
      "[CV]  learning_rate=0.1, max_depth=16, min_samples_leaf=2, min_samples_split=2, n_estimators=100, total=  43.0s\n",
      "[CV] learning_rate=0.1, max_depth=16, min_samples_leaf=2, min_samples_split=2, n_estimators=100 \n",
      "[CV]  learning_rate=0.1, max_depth=16, min_samples_leaf=2, min_samples_split=2, n_estimators=100, total=  44.0s\n",
      "[CV] learning_rate=0.1, max_depth=16, min_samples_leaf=2, min_samples_split=2, n_estimators=100 \n",
      "[CV]  learning_rate=0.1, max_depth=16, min_samples_leaf=2, min_samples_split=2, n_estimators=100, total=  43.4s\n",
      "[CV] learning_rate=0.1, max_depth=16, min_samples_leaf=2, min_samples_split=5, n_estimators=100 \n",
      "[CV]  learning_rate=0.1, max_depth=16, min_samples_leaf=2, min_samples_split=5, n_estimators=100, total=  43.6s\n",
      "[CV] learning_rate=0.1, max_depth=16, min_samples_leaf=2, min_samples_split=5, n_estimators=100 \n",
      "[CV]  learning_rate=0.1, max_depth=16, min_samples_leaf=2, min_samples_split=5, n_estimators=100, total=  43.8s\n",
      "[CV] learning_rate=0.1, max_depth=16, min_samples_leaf=2, min_samples_split=5, n_estimators=100 \n",
      "[CV]  learning_rate=0.1, max_depth=16, min_samples_leaf=2, min_samples_split=5, n_estimators=100, total=  43.3s\n",
      "[CV] learning_rate=0.1, max_depth=16, min_samples_leaf=2, min_samples_split=20, n_estimators=100 \n",
      "[CV]  learning_rate=0.1, max_depth=16, min_samples_leaf=2, min_samples_split=20, n_estimators=100, total=  42.7s\n",
      "[CV] learning_rate=0.1, max_depth=16, min_samples_leaf=2, min_samples_split=20, n_estimators=100 \n",
      "[CV]  learning_rate=0.1, max_depth=16, min_samples_leaf=2, min_samples_split=20, n_estimators=100, total=  42.9s\n",
      "[CV] learning_rate=0.1, max_depth=16, min_samples_leaf=2, min_samples_split=20, n_estimators=100 \n",
      "[CV]  learning_rate=0.1, max_depth=16, min_samples_leaf=2, min_samples_split=20, n_estimators=100, total=  42.6s\n",
      "[CV] learning_rate=0.1, max_depth=16, min_samples_leaf=7, min_samples_split=2, n_estimators=100 \n",
      "[CV]  learning_rate=0.1, max_depth=16, min_samples_leaf=7, min_samples_split=2, n_estimators=100, total=  41.7s\n",
      "[CV] learning_rate=0.1, max_depth=16, min_samples_leaf=7, min_samples_split=2, n_estimators=100 \n",
      "[CV]  learning_rate=0.1, max_depth=16, min_samples_leaf=7, min_samples_split=2, n_estimators=100, total=  41.3s\n",
      "[CV] learning_rate=0.1, max_depth=16, min_samples_leaf=7, min_samples_split=2, n_estimators=100 \n",
      "[CV]  learning_rate=0.1, max_depth=16, min_samples_leaf=7, min_samples_split=2, n_estimators=100, total=  42.0s\n",
      "[CV] learning_rate=0.1, max_depth=16, min_samples_leaf=7, min_samples_split=5, n_estimators=100 \n",
      "[CV]  learning_rate=0.1, max_depth=16, min_samples_leaf=7, min_samples_split=5, n_estimators=100, total=  42.1s\n",
      "[CV] learning_rate=0.1, max_depth=16, min_samples_leaf=7, min_samples_split=5, n_estimators=100 \n",
      "[CV]  learning_rate=0.1, max_depth=16, min_samples_leaf=7, min_samples_split=5, n_estimators=100, total=  41.5s\n",
      "[CV] learning_rate=0.1, max_depth=16, min_samples_leaf=7, min_samples_split=5, n_estimators=100 \n",
      "[CV]  learning_rate=0.1, max_depth=16, min_samples_leaf=7, min_samples_split=5, n_estimators=100, total=  41.5s\n",
      "[CV] learning_rate=0.1, max_depth=16, min_samples_leaf=7, min_samples_split=20, n_estimators=100 \n",
      "[CV]  learning_rate=0.1, max_depth=16, min_samples_leaf=7, min_samples_split=20, n_estimators=100, total=  41.5s\n",
      "[CV] learning_rate=0.1, max_depth=16, min_samples_leaf=7, min_samples_split=20, n_estimators=100 \n",
      "[CV]  learning_rate=0.1, max_depth=16, min_samples_leaf=7, min_samples_split=20, n_estimators=100, total=  41.3s\n",
      "[CV] learning_rate=0.1, max_depth=16, min_samples_leaf=7, min_samples_split=20, n_estimators=100 \n",
      "[CV]  learning_rate=0.1, max_depth=16, min_samples_leaf=7, min_samples_split=20, n_estimators=100, total=  41.2s\n",
      "[CV] learning_rate=0.1, max_depth=25, min_samples_leaf=2, min_samples_split=2, n_estimators=100 \n",
      "[CV]  learning_rate=0.1, max_depth=25, min_samples_leaf=2, min_samples_split=2, n_estimators=100, total= 1.0min\n",
      "[CV] learning_rate=0.1, max_depth=25, min_samples_leaf=2, min_samples_split=2, n_estimators=100 \n",
      "[CV]  learning_rate=0.1, max_depth=25, min_samples_leaf=2, min_samples_split=2, n_estimators=100, total= 1.1min\n",
      "[CV] learning_rate=0.1, max_depth=25, min_samples_leaf=2, min_samples_split=2, n_estimators=100 \n",
      "[CV]  learning_rate=0.1, max_depth=25, min_samples_leaf=2, min_samples_split=2, n_estimators=100, total= 1.0min\n",
      "[CV] learning_rate=0.1, max_depth=25, min_samples_leaf=2, min_samples_split=5, n_estimators=100 \n",
      "[CV]  learning_rate=0.1, max_depth=25, min_samples_leaf=2, min_samples_split=5, n_estimators=100, total= 1.0min\n",
      "[CV] learning_rate=0.1, max_depth=25, min_samples_leaf=2, min_samples_split=5, n_estimators=100 \n",
      "[CV]  learning_rate=0.1, max_depth=25, min_samples_leaf=2, min_samples_split=5, n_estimators=100, total= 1.0min\n",
      "[CV] learning_rate=0.1, max_depth=25, min_samples_leaf=2, min_samples_split=5, n_estimators=100 \n"
     ]
    },
    {
     "name": "stdout",
     "output_type": "stream",
     "text": [
      "[CV]  learning_rate=0.1, max_depth=25, min_samples_leaf=2, min_samples_split=5, n_estimators=100, total= 1.0min\n",
      "[CV] learning_rate=0.1, max_depth=25, min_samples_leaf=2, min_samples_split=20, n_estimators=100 \n",
      "[CV]  learning_rate=0.1, max_depth=25, min_samples_leaf=2, min_samples_split=20, n_estimators=100, total= 1.0min\n",
      "[CV] learning_rate=0.1, max_depth=25, min_samples_leaf=2, min_samples_split=20, n_estimators=100 \n",
      "[CV]  learning_rate=0.1, max_depth=25, min_samples_leaf=2, min_samples_split=20, n_estimators=100, total=  59.8s\n",
      "[CV] learning_rate=0.1, max_depth=25, min_samples_leaf=2, min_samples_split=20, n_estimators=100 \n",
      "[CV]  learning_rate=0.1, max_depth=25, min_samples_leaf=2, min_samples_split=20, n_estimators=100, total=  59.5s\n",
      "[CV] learning_rate=0.1, max_depth=25, min_samples_leaf=7, min_samples_split=2, n_estimators=100 \n",
      "[CV]  learning_rate=0.1, max_depth=25, min_samples_leaf=7, min_samples_split=2, n_estimators=100, total=  56.4s\n",
      "[CV] learning_rate=0.1, max_depth=25, min_samples_leaf=7, min_samples_split=2, n_estimators=100 \n",
      "[CV]  learning_rate=0.1, max_depth=25, min_samples_leaf=7, min_samples_split=2, n_estimators=100, total=  55.6s\n",
      "[CV] learning_rate=0.1, max_depth=25, min_samples_leaf=7, min_samples_split=2, n_estimators=100 \n",
      "[CV]  learning_rate=0.1, max_depth=25, min_samples_leaf=7, min_samples_split=2, n_estimators=100, total=  55.7s\n",
      "[CV] learning_rate=0.1, max_depth=25, min_samples_leaf=7, min_samples_split=5, n_estimators=100 \n",
      "[CV]  learning_rate=0.1, max_depth=25, min_samples_leaf=7, min_samples_split=5, n_estimators=100, total=  57.1s\n",
      "[CV] learning_rate=0.1, max_depth=25, min_samples_leaf=7, min_samples_split=5, n_estimators=100 \n",
      "[CV]  learning_rate=0.1, max_depth=25, min_samples_leaf=7, min_samples_split=5, n_estimators=100, total=  55.0s\n",
      "[CV] learning_rate=0.1, max_depth=25, min_samples_leaf=7, min_samples_split=5, n_estimators=100 \n",
      "[CV]  learning_rate=0.1, max_depth=25, min_samples_leaf=7, min_samples_split=5, n_estimators=100, total=  54.5s\n",
      "[CV] learning_rate=0.1, max_depth=25, min_samples_leaf=7, min_samples_split=20, n_estimators=100 \n",
      "[CV]  learning_rate=0.1, max_depth=25, min_samples_leaf=7, min_samples_split=20, n_estimators=100, total=  56.0s\n",
      "[CV] learning_rate=0.1, max_depth=25, min_samples_leaf=7, min_samples_split=20, n_estimators=100 \n",
      "[CV]  learning_rate=0.1, max_depth=25, min_samples_leaf=7, min_samples_split=20, n_estimators=100, total=  55.2s\n",
      "[CV] learning_rate=0.1, max_depth=25, min_samples_leaf=7, min_samples_split=20, n_estimators=100 \n",
      "[CV]  learning_rate=0.1, max_depth=25, min_samples_leaf=7, min_samples_split=20, n_estimators=100, total=  54.8s\n",
      "[CV] learning_rate=0.2, max_depth=3, min_samples_leaf=2, min_samples_split=2, n_estimators=100 \n",
      "[CV]  learning_rate=0.2, max_depth=3, min_samples_leaf=2, min_samples_split=2, n_estimators=100, total=   9.8s\n",
      "[CV] learning_rate=0.2, max_depth=3, min_samples_leaf=2, min_samples_split=2, n_estimators=100 \n",
      "[CV]  learning_rate=0.2, max_depth=3, min_samples_leaf=2, min_samples_split=2, n_estimators=100, total=   9.8s\n",
      "[CV] learning_rate=0.2, max_depth=3, min_samples_leaf=2, min_samples_split=2, n_estimators=100 \n",
      "[CV]  learning_rate=0.2, max_depth=3, min_samples_leaf=2, min_samples_split=2, n_estimators=100, total=   9.7s\n",
      "[CV] learning_rate=0.2, max_depth=3, min_samples_leaf=2, min_samples_split=5, n_estimators=100 \n",
      "[CV]  learning_rate=0.2, max_depth=3, min_samples_leaf=2, min_samples_split=5, n_estimators=100, total=   9.7s\n",
      "[CV] learning_rate=0.2, max_depth=3, min_samples_leaf=2, min_samples_split=5, n_estimators=100 \n",
      "[CV]  learning_rate=0.2, max_depth=3, min_samples_leaf=2, min_samples_split=5, n_estimators=100, total=   9.8s\n",
      "[CV] learning_rate=0.2, max_depth=3, min_samples_leaf=2, min_samples_split=5, n_estimators=100 \n",
      "[CV]  learning_rate=0.2, max_depth=3, min_samples_leaf=2, min_samples_split=5, n_estimators=100, total=   9.7s\n",
      "[CV] learning_rate=0.2, max_depth=3, min_samples_leaf=2, min_samples_split=20, n_estimators=100 \n",
      "[CV]  learning_rate=0.2, max_depth=3, min_samples_leaf=2, min_samples_split=20, n_estimators=100, total=   9.7s\n",
      "[CV] learning_rate=0.2, max_depth=3, min_samples_leaf=2, min_samples_split=20, n_estimators=100 \n",
      "[CV]  learning_rate=0.2, max_depth=3, min_samples_leaf=2, min_samples_split=20, n_estimators=100, total=   9.7s\n",
      "[CV] learning_rate=0.2, max_depth=3, min_samples_leaf=2, min_samples_split=20, n_estimators=100 \n",
      "[CV]  learning_rate=0.2, max_depth=3, min_samples_leaf=2, min_samples_split=20, n_estimators=100, total=   9.7s\n",
      "[CV] learning_rate=0.2, max_depth=3, min_samples_leaf=7, min_samples_split=2, n_estimators=100 \n",
      "[CV]  learning_rate=0.2, max_depth=3, min_samples_leaf=7, min_samples_split=2, n_estimators=100, total=   9.7s\n",
      "[CV] learning_rate=0.2, max_depth=3, min_samples_leaf=7, min_samples_split=2, n_estimators=100 \n",
      "[CV]  learning_rate=0.2, max_depth=3, min_samples_leaf=7, min_samples_split=2, n_estimators=100, total=   9.7s\n",
      "[CV] learning_rate=0.2, max_depth=3, min_samples_leaf=7, min_samples_split=2, n_estimators=100 \n",
      "[CV]  learning_rate=0.2, max_depth=3, min_samples_leaf=7, min_samples_split=2, n_estimators=100, total=   9.7s\n",
      "[CV] learning_rate=0.2, max_depth=3, min_samples_leaf=7, min_samples_split=5, n_estimators=100 \n",
      "[CV]  learning_rate=0.2, max_depth=3, min_samples_leaf=7, min_samples_split=5, n_estimators=100, total=   9.7s\n",
      "[CV] learning_rate=0.2, max_depth=3, min_samples_leaf=7, min_samples_split=5, n_estimators=100 \n",
      "[CV]  learning_rate=0.2, max_depth=3, min_samples_leaf=7, min_samples_split=5, n_estimators=100, total=   9.7s\n",
      "[CV] learning_rate=0.2, max_depth=3, min_samples_leaf=7, min_samples_split=5, n_estimators=100 \n",
      "[CV]  learning_rate=0.2, max_depth=3, min_samples_leaf=7, min_samples_split=5, n_estimators=100, total=   9.7s\n",
      "[CV] learning_rate=0.2, max_depth=3, min_samples_leaf=7, min_samples_split=20, n_estimators=100 \n",
      "[CV]  learning_rate=0.2, max_depth=3, min_samples_leaf=7, min_samples_split=20, n_estimators=100, total=   9.7s\n",
      "[CV] learning_rate=0.2, max_depth=3, min_samples_leaf=7, min_samples_split=20, n_estimators=100 \n",
      "[CV]  learning_rate=0.2, max_depth=3, min_samples_leaf=7, min_samples_split=20, n_estimators=100, total=   9.7s\n",
      "[CV] learning_rate=0.2, max_depth=3, min_samples_leaf=7, min_samples_split=20, n_estimators=100 \n",
      "[CV]  learning_rate=0.2, max_depth=3, min_samples_leaf=7, min_samples_split=20, n_estimators=100, total=   9.6s\n",
      "[CV] learning_rate=0.2, max_depth=16, min_samples_leaf=2, min_samples_split=2, n_estimators=100 \n",
      "[CV]  learning_rate=0.2, max_depth=16, min_samples_leaf=2, min_samples_split=2, n_estimators=100, total=  44.3s\n",
      "[CV] learning_rate=0.2, max_depth=16, min_samples_leaf=2, min_samples_split=2, n_estimators=100 \n",
      "[CV]  learning_rate=0.2, max_depth=16, min_samples_leaf=2, min_samples_split=2, n_estimators=100, total=  44.8s\n",
      "[CV] learning_rate=0.2, max_depth=16, min_samples_leaf=2, min_samples_split=2, n_estimators=100 \n",
      "[CV]  learning_rate=0.2, max_depth=16, min_samples_leaf=2, min_samples_split=2, n_estimators=100, total=  45.2s\n",
      "[CV] learning_rate=0.2, max_depth=16, min_samples_leaf=2, min_samples_split=5, n_estimators=100 \n",
      "[CV]  learning_rate=0.2, max_depth=16, min_samples_leaf=2, min_samples_split=5, n_estimators=100, total=  44.2s\n",
      "[CV] learning_rate=0.2, max_depth=16, min_samples_leaf=2, min_samples_split=5, n_estimators=100 \n",
      "[CV]  learning_rate=0.2, max_depth=16, min_samples_leaf=2, min_samples_split=5, n_estimators=100, total=  44.5s\n",
      "[CV] learning_rate=0.2, max_depth=16, min_samples_leaf=2, min_samples_split=5, n_estimators=100 \n",
      "[CV]  learning_rate=0.2, max_depth=16, min_samples_leaf=2, min_samples_split=5, n_estimators=100, total=  43.9s\n",
      "[CV] learning_rate=0.2, max_depth=16, min_samples_leaf=2, min_samples_split=20, n_estimators=100 \n",
      "[CV]  learning_rate=0.2, max_depth=16, min_samples_leaf=2, min_samples_split=20, n_estimators=100, total=  43.1s\n",
      "[CV] learning_rate=0.2, max_depth=16, min_samples_leaf=2, min_samples_split=20, n_estimators=100 \n",
      "[CV]  learning_rate=0.2, max_depth=16, min_samples_leaf=2, min_samples_split=20, n_estimators=100, total=  43.6s\n",
      "[CV] learning_rate=0.2, max_depth=16, min_samples_leaf=2, min_samples_split=20, n_estimators=100 \n",
      "[CV]  learning_rate=0.2, max_depth=16, min_samples_leaf=2, min_samples_split=20, n_estimators=100, total=  42.9s\n",
      "[CV] learning_rate=0.2, max_depth=16, min_samples_leaf=7, min_samples_split=2, n_estimators=100 \n"
     ]
    },
    {
     "name": "stdout",
     "output_type": "stream",
     "text": [
      "[CV]  learning_rate=0.2, max_depth=16, min_samples_leaf=7, min_samples_split=2, n_estimators=100, total=  41.9s\n",
      "[CV] learning_rate=0.2, max_depth=16, min_samples_leaf=7, min_samples_split=2, n_estimators=100 \n",
      "[CV]  learning_rate=0.2, max_depth=16, min_samples_leaf=7, min_samples_split=2, n_estimators=100, total=  41.6s\n",
      "[CV] learning_rate=0.2, max_depth=16, min_samples_leaf=7, min_samples_split=2, n_estimators=100 \n",
      "[CV]  learning_rate=0.2, max_depth=16, min_samples_leaf=7, min_samples_split=2, n_estimators=100, total=  41.7s\n",
      "[CV] learning_rate=0.2, max_depth=16, min_samples_leaf=7, min_samples_split=5, n_estimators=100 \n",
      "[CV]  learning_rate=0.2, max_depth=16, min_samples_leaf=7, min_samples_split=5, n_estimators=100, total=  42.2s\n",
      "[CV] learning_rate=0.2, max_depth=16, min_samples_leaf=7, min_samples_split=5, n_estimators=100 \n",
      "[CV]  learning_rate=0.2, max_depth=16, min_samples_leaf=7, min_samples_split=5, n_estimators=100, total=  42.2s\n",
      "[CV] learning_rate=0.2, max_depth=16, min_samples_leaf=7, min_samples_split=5, n_estimators=100 \n",
      "[CV]  learning_rate=0.2, max_depth=16, min_samples_leaf=7, min_samples_split=5, n_estimators=100, total=  41.8s\n",
      "[CV] learning_rate=0.2, max_depth=16, min_samples_leaf=7, min_samples_split=20, n_estimators=100 \n",
      "[CV]  learning_rate=0.2, max_depth=16, min_samples_leaf=7, min_samples_split=20, n_estimators=100, total=  41.6s\n",
      "[CV] learning_rate=0.2, max_depth=16, min_samples_leaf=7, min_samples_split=20, n_estimators=100 \n",
      "[CV]  learning_rate=0.2, max_depth=16, min_samples_leaf=7, min_samples_split=20, n_estimators=100, total=  41.9s\n",
      "[CV] learning_rate=0.2, max_depth=16, min_samples_leaf=7, min_samples_split=20, n_estimators=100 \n",
      "[CV]  learning_rate=0.2, max_depth=16, min_samples_leaf=7, min_samples_split=20, n_estimators=100, total=  41.8s\n",
      "[CV] learning_rate=0.2, max_depth=25, min_samples_leaf=2, min_samples_split=2, n_estimators=100 \n",
      "[CV]  learning_rate=0.2, max_depth=25, min_samples_leaf=2, min_samples_split=2, n_estimators=100, total= 1.1min\n",
      "[CV] learning_rate=0.2, max_depth=25, min_samples_leaf=2, min_samples_split=2, n_estimators=100 \n",
      "[CV]  learning_rate=0.2, max_depth=25, min_samples_leaf=2, min_samples_split=2, n_estimators=100, total= 1.1min\n",
      "[CV] learning_rate=0.2, max_depth=25, min_samples_leaf=2, min_samples_split=2, n_estimators=100 \n",
      "[CV]  learning_rate=0.2, max_depth=25, min_samples_leaf=2, min_samples_split=2, n_estimators=100, total= 1.1min\n",
      "[CV] learning_rate=0.2, max_depth=25, min_samples_leaf=2, min_samples_split=5, n_estimators=100 \n",
      "[CV]  learning_rate=0.2, max_depth=25, min_samples_leaf=2, min_samples_split=5, n_estimators=100, total= 1.1min\n",
      "[CV] learning_rate=0.2, max_depth=25, min_samples_leaf=2, min_samples_split=5, n_estimators=100 \n",
      "[CV]  learning_rate=0.2, max_depth=25, min_samples_leaf=2, min_samples_split=5, n_estimators=100, total= 1.1min\n",
      "[CV] learning_rate=0.2, max_depth=25, min_samples_leaf=2, min_samples_split=5, n_estimators=100 \n",
      "[CV]  learning_rate=0.2, max_depth=25, min_samples_leaf=2, min_samples_split=5, n_estimators=100, total= 1.0min\n",
      "[CV] learning_rate=0.2, max_depth=25, min_samples_leaf=2, min_samples_split=20, n_estimators=100 \n",
      "[CV]  learning_rate=0.2, max_depth=25, min_samples_leaf=2, min_samples_split=20, n_estimators=100, total= 1.3min\n",
      "[CV] learning_rate=0.2, max_depth=25, min_samples_leaf=2, min_samples_split=20, n_estimators=100 \n",
      "[CV]  learning_rate=0.2, max_depth=25, min_samples_leaf=2, min_samples_split=20, n_estimators=100, total= 1.0min\n",
      "[CV] learning_rate=0.2, max_depth=25, min_samples_leaf=2, min_samples_split=20, n_estimators=100 \n",
      "[CV]  learning_rate=0.2, max_depth=25, min_samples_leaf=2, min_samples_split=20, n_estimators=100, total= 1.0min\n",
      "[CV] learning_rate=0.2, max_depth=25, min_samples_leaf=7, min_samples_split=2, n_estimators=100 \n",
      "[CV]  learning_rate=0.2, max_depth=25, min_samples_leaf=7, min_samples_split=2, n_estimators=100, total= 1.0min\n",
      "[CV] learning_rate=0.2, max_depth=25, min_samples_leaf=7, min_samples_split=2, n_estimators=100 \n",
      "[CV]  learning_rate=0.2, max_depth=25, min_samples_leaf=7, min_samples_split=2, n_estimators=100, total=  56.5s\n",
      "[CV] learning_rate=0.2, max_depth=25, min_samples_leaf=7, min_samples_split=2, n_estimators=100 \n",
      "[CV]  learning_rate=0.2, max_depth=25, min_samples_leaf=7, min_samples_split=2, n_estimators=100, total= 1.4min\n",
      "[CV] learning_rate=0.2, max_depth=25, min_samples_leaf=7, min_samples_split=5, n_estimators=100 \n",
      "[CV]  learning_rate=0.2, max_depth=25, min_samples_leaf=7, min_samples_split=5, n_estimators=100, total= 1.2min\n",
      "[CV] learning_rate=0.2, max_depth=25, min_samples_leaf=7, min_samples_split=5, n_estimators=100 \n",
      "[CV]  learning_rate=0.2, max_depth=25, min_samples_leaf=7, min_samples_split=5, n_estimators=100, total=  55.6s\n",
      "[CV] learning_rate=0.2, max_depth=25, min_samples_leaf=7, min_samples_split=5, n_estimators=100 \n",
      "[CV]  learning_rate=0.2, max_depth=25, min_samples_leaf=7, min_samples_split=5, n_estimators=100, total=  55.1s\n",
      "[CV] learning_rate=0.2, max_depth=25, min_samples_leaf=7, min_samples_split=20, n_estimators=100 \n",
      "[CV]  learning_rate=0.2, max_depth=25, min_samples_leaf=7, min_samples_split=20, n_estimators=100, total= 1.1min\n",
      "[CV] learning_rate=0.2, max_depth=25, min_samples_leaf=7, min_samples_split=20, n_estimators=100 \n",
      "[CV]  learning_rate=0.2, max_depth=25, min_samples_leaf=7, min_samples_split=20, n_estimators=100, total= 1.0min\n",
      "[CV] learning_rate=0.2, max_depth=25, min_samples_leaf=7, min_samples_split=20, n_estimators=100 \n",
      "[CV]  learning_rate=0.2, max_depth=25, min_samples_leaf=7, min_samples_split=20, n_estimators=100, total= 1.2min\n"
     ]
    },
    {
     "name": "stderr",
     "output_type": "stream",
     "text": [
      "[Parallel(n_jobs=1)]: Done 108 out of 108 | elapsed: 68.3min finished\n"
     ]
    },
    {
     "data": {
      "text/plain": [
       "GridSearchCV(cv=3, estimator=GradientBoostingClassifier(),\n",
       "             param_grid={'learning_rate': [0.1, 0.2], 'max_depth': [3, 16, 25],\n",
       "                         'min_samples_leaf': [2, 7],\n",
       "                         'min_samples_split': [2, 5, 20],\n",
       "                         'n_estimators': [100]},\n",
       "             scoring='recall', verbose=2)"
      ]
     },
     "execution_count": 57,
     "metadata": {},
     "output_type": "execute_result"
    }
   ],
   "source": [
    "grad_grid.fit(X_train_smote_sig,y_train_smote)"
   ]
  },
  {
   "cell_type": "code",
   "execution_count": 58,
   "metadata": {
    "ExecuteTime": {
     "end_time": "2021-02-22T06:16:18.777477Z",
     "start_time": "2021-02-22T06:16:18.766507Z"
    }
   },
   "outputs": [
    {
     "data": {
      "text/plain": [
       "{'learning_rate': 0.2,\n",
       " 'max_depth': 16,\n",
       " 'min_samples_leaf': 7,\n",
       " 'min_samples_split': 2,\n",
       " 'n_estimators': 100}"
      ]
     },
     "execution_count": 58,
     "metadata": {},
     "output_type": "execute_result"
    }
   ],
   "source": [
    "grad_grid.best_params_"
   ]
  },
  {
   "cell_type": "code",
   "execution_count": 61,
   "metadata": {
    "ExecuteTime": {
     "end_time": "2021-02-22T06:28:42.955280Z",
     "start_time": "2021-02-22T06:28:42.944309Z"
    }
   },
   "outputs": [],
   "source": [
    "ada_params = {'n_estimators':[100,200],\n",
    "'learning_rate': [.1,.2,1,2]\n",
    "            }\n",
    "\n",
    "ada_grid = GridSearchCV(estimator=AdaBoostClassifier(),param_grid=ada_params,scoring='recall',verbose=2,cv=3)"
   ]
  },
  {
   "cell_type": "code",
   "execution_count": 62,
   "metadata": {
    "ExecuteTime": {
     "end_time": "2021-02-22T06:31:20.241504Z",
     "start_time": "2021-02-22T06:28:43.096531Z"
    }
   },
   "outputs": [
    {
     "name": "stdout",
     "output_type": "stream",
     "text": [
      "Fitting 3 folds for each of 8 candidates, totalling 24 fits\n",
      "[CV] learning_rate=0.1, n_estimators=100 .............................\n"
     ]
    },
    {
     "name": "stderr",
     "output_type": "stream",
     "text": [
      "[Parallel(n_jobs=1)]: Using backend SequentialBackend with 1 concurrent workers.\n"
     ]
    },
    {
     "name": "stdout",
     "output_type": "stream",
     "text": [
      "[CV] .............. learning_rate=0.1, n_estimators=100, total=   4.0s\n",
      "[CV] learning_rate=0.1, n_estimators=100 .............................\n"
     ]
    },
    {
     "name": "stderr",
     "output_type": "stream",
     "text": [
      "[Parallel(n_jobs=1)]: Done   1 out of   1 | elapsed:    3.9s remaining:    0.0s\n"
     ]
    },
    {
     "name": "stdout",
     "output_type": "stream",
     "text": [
      "[CV] .............. learning_rate=0.1, n_estimators=100, total=   4.1s\n",
      "[CV] learning_rate=0.1, n_estimators=100 .............................\n",
      "[CV] .............. learning_rate=0.1, n_estimators=100, total=   4.0s\n",
      "[CV] learning_rate=0.1, n_estimators=200 .............................\n",
      "[CV] .............. learning_rate=0.1, n_estimators=200, total=   8.1s\n",
      "[CV] learning_rate=0.1, n_estimators=200 .............................\n",
      "[CV] .............. learning_rate=0.1, n_estimators=200, total=   8.1s\n",
      "[CV] learning_rate=0.1, n_estimators=200 .............................\n",
      "[CV] .............. learning_rate=0.1, n_estimators=200, total=   8.0s\n",
      "[CV] learning_rate=0.2, n_estimators=100 .............................\n",
      "[CV] .............. learning_rate=0.2, n_estimators=100, total=   4.0s\n",
      "[CV] learning_rate=0.2, n_estimators=100 .............................\n",
      "[CV] .............. learning_rate=0.2, n_estimators=100, total=   4.0s\n",
      "[CV] learning_rate=0.2, n_estimators=100 .............................\n",
      "[CV] .............. learning_rate=0.2, n_estimators=100, total=   4.0s\n",
      "[CV] learning_rate=0.2, n_estimators=200 .............................\n",
      "[CV] .............. learning_rate=0.2, n_estimators=200, total=   8.1s\n",
      "[CV] learning_rate=0.2, n_estimators=200 .............................\n",
      "[CV] .............. learning_rate=0.2, n_estimators=200, total=   8.0s\n",
      "[CV] learning_rate=0.2, n_estimators=200 .............................\n",
      "[CV] .............. learning_rate=0.2, n_estimators=200, total=   8.1s\n",
      "[CV] learning_rate=1, n_estimators=100 ...............................\n",
      "[CV] ................ learning_rate=1, n_estimators=100, total=   4.0s\n",
      "[CV] learning_rate=1, n_estimators=100 ...............................\n",
      "[CV] ................ learning_rate=1, n_estimators=100, total=   4.0s\n",
      "[CV] learning_rate=1, n_estimators=100 ...............................\n",
      "[CV] ................ learning_rate=1, n_estimators=100, total=   4.0s\n",
      "[CV] learning_rate=1, n_estimators=200 ...............................\n",
      "[CV] ................ learning_rate=1, n_estimators=200, total=   8.1s\n",
      "[CV] learning_rate=1, n_estimators=200 ...............................\n",
      "[CV] ................ learning_rate=1, n_estimators=200, total=   8.1s\n",
      "[CV] learning_rate=1, n_estimators=200 ...............................\n",
      "[CV] ................ learning_rate=1, n_estimators=200, total=   8.0s\n",
      "[CV] learning_rate=2, n_estimators=100 ...............................\n",
      "[CV] ................ learning_rate=2, n_estimators=100, total=   4.0s\n",
      "[CV] learning_rate=2, n_estimators=100 ...............................\n",
      "[CV] ................ learning_rate=2, n_estimators=100, total=   4.0s\n",
      "[CV] learning_rate=2, n_estimators=100 ...............................\n",
      "[CV] ................ learning_rate=2, n_estimators=100, total=   4.0s\n",
      "[CV] learning_rate=2, n_estimators=200 ...............................\n",
      "[CV] ................ learning_rate=2, n_estimators=200, total=   8.1s\n",
      "[CV] learning_rate=2, n_estimators=200 ...............................\n",
      "[CV] ................ learning_rate=2, n_estimators=200, total=   8.1s\n",
      "[CV] learning_rate=2, n_estimators=200 ...............................\n",
      "[CV] ................ learning_rate=2, n_estimators=200, total=   8.1s\n"
     ]
    },
    {
     "name": "stderr",
     "output_type": "stream",
     "text": [
      "[Parallel(n_jobs=1)]: Done  24 out of  24 | elapsed:  2.4min finished\n"
     ]
    },
    {
     "data": {
      "text/plain": [
       "GridSearchCV(cv=3, estimator=AdaBoostClassifier(),\n",
       "             param_grid={'learning_rate': [0.1, 0.2, 1, 2],\n",
       "                         'n_estimators': [100, 200]},\n",
       "             scoring='recall', verbose=2)"
      ]
     },
     "execution_count": 62,
     "metadata": {},
     "output_type": "execute_result"
    }
   ],
   "source": [
    "ada_grid.fit(X_train_smote_sig,y_train_smote)"
   ]
  },
  {
   "cell_type": "code",
   "execution_count": 63,
   "metadata": {
    "ExecuteTime": {
     "end_time": "2021-02-22T06:31:36.991554Z",
     "start_time": "2021-02-22T06:31:36.975597Z"
    }
   },
   "outputs": [
    {
     "data": {
      "text/plain": [
       "{'learning_rate': 1, 'n_estimators': 200}"
      ]
     },
     "execution_count": 63,
     "metadata": {},
     "output_type": "execute_result"
    }
   ],
   "source": [
    "ada_grid.best_params_"
   ]
  },
  {
   "cell_type": "code",
   "execution_count": 64,
   "metadata": {
    "ExecuteTime": {
     "end_time": "2021-02-22T06:43:29.322883Z",
     "start_time": "2021-02-22T06:43:29.302908Z"
    }
   },
   "outputs": [
    {
     "ename": "NameError",
     "evalue": "name 'XG' is not defined",
     "output_type": "error",
     "traceback": [
      "\u001b[1;31m---------------------------------------------------------------------------\u001b[0m",
      "\u001b[1;31mNameError\u001b[0m                                 Traceback (most recent call last)",
      "\u001b[1;32m<ipython-input-64-7749b9f55778>\u001b[0m in \u001b[0;36m<module>\u001b[1;34m\u001b[0m\n\u001b[0;32m     10\u001b[0m }\n\u001b[0;32m     11\u001b[0m \u001b[1;33m\u001b[0m\u001b[0m\n\u001b[1;32m---> 12\u001b[1;33m \u001b[0mXG_grid\u001b[0m \u001b[1;33m=\u001b[0m \u001b[0mGridSearchCV\u001b[0m\u001b[1;33m(\u001b[0m\u001b[0mestimator\u001b[0m\u001b[1;33m=\u001b[0m\u001b[0mXG\u001b[0m\u001b[1;33m,\u001b[0m\u001b[0mparam_grid\u001b[0m\u001b[1;33m=\u001b[0m\u001b[0mXG_params\u001b[0m\u001b[1;33m,\u001b[0m\u001b[0mscoring\u001b[0m\u001b[1;33m=\u001b[0m\u001b[1;34m'recall'\u001b[0m\u001b[1;33m,\u001b[0m\u001b[0mverbose\u001b[0m\u001b[1;33m=\u001b[0m\u001b[1;36m2\u001b[0m\u001b[1;33m)\u001b[0m\u001b[1;33m\u001b[0m\u001b[1;33m\u001b[0m\u001b[0m\n\u001b[0m",
      "\u001b[1;31mNameError\u001b[0m: name 'XG' is not defined"
     ]
    }
   ],
   "source": [
    "XG_params = {\n",
    "    'learning_rate': [.1],\n",
    "    'max_depth': [1,6],\n",
    "    'min_child_weight': [2,4],\n",
    "    'subsample': [.8],\n",
    "    'n_estimators': [200],\n",
    "    'gamma':[0,1,2],\n",
    "    'tree_method': ['exact','approx']\n",
    "\n",
    "}\n",
    "\n",
    "XG_grid = GridSearchCV(estimator=XG,param_grid=XG_params,scoring='recall',verbose=2)"
   ]
  },
  {
   "cell_type": "code",
   "execution_count": 65,
   "metadata": {
    "ExecuteTime": {
     "end_time": "2021-02-22T07:04:28.277888Z",
     "start_time": "2021-02-22T07:04:28.261936Z"
    }
   },
   "outputs": [],
   "source": [
    "f = {'mean':'1','mean'}"
   ]
  },
  {
   "cell_type": "code",
   "execution_count": 67,
   "metadata": {
    "ExecuteTime": {
     "end_time": "2021-02-22T07:04:47.360570Z",
     "start_time": "2021-02-22T07:04:47.347604Z"
    }
   },
   "outputs": [
    {
     "data": {
      "text/html": [
       "<div>\n",
       "<style scoped>\n",
       "    .dataframe tbody tr th:only-of-type {\n",
       "        vertical-align: middle;\n",
       "    }\n",
       "\n",
       "    .dataframe tbody tr th {\n",
       "        vertical-align: top;\n",
       "    }\n",
       "\n",
       "    .dataframe thead th {\n",
       "        text-align: right;\n",
       "    }\n",
       "</style>\n",
       "<table border=\"1\" class=\"dataframe\">\n",
       "  <thead>\n",
       "    <tr style=\"text-align: right;\">\n",
       "      <th></th>\n",
       "      <th>mean</th>\n",
       "    </tr>\n",
       "  </thead>\n",
       "  <tbody>\n",
       "    <tr>\n",
       "      <th>1</th>\n",
       "      <td>1</td>\n",
       "    </tr>\n",
       "  </tbody>\n",
       "</table>\n",
       "</div>"
      ],
      "text/plain": [
       "  mean\n",
       "1    1"
      ]
     },
     "execution_count": 67,
     "metadata": {},
     "output_type": "execute_result"
    }
   ],
   "source": [
    "pd.DataFrame(data=f,index=[1])"
   ]
  },
  {
   "cell_type": "code",
   "execution_count": null,
   "metadata": {},
   "outputs": [],
   "source": [
    "XG_grid.fit(X_train_smote_sig,y_train_smote)"
   ]
  },
  {
   "cell_type": "code",
   "execution_count": 68,
   "metadata": {
    "ExecuteTime": {
     "end_time": "2021-02-22T11:33:47.167964Z",
     "start_time": "2021-02-22T11:33:47.092133Z"
    }
   },
   "outputs": [
    {
     "ename": "NameError",
     "evalue": "name 'dtree_default' is not defined",
     "output_type": "error",
     "traceback": [
      "\u001b[1;31m---------------------------------------------------------------------------\u001b[0m",
      "\u001b[1;31mNameError\u001b[0m                                 Traceback (most recent call last)",
      "\u001b[1;32m<ipython-input-68-6d00802fbea8>\u001b[0m in \u001b[0;36m<module>\u001b[1;34m\u001b[0m\n\u001b[0;32m      1\u001b[0m \u001b[0mfig\u001b[0m \u001b[1;33m=\u001b[0m \u001b[0mplt\u001b[0m\u001b[1;33m.\u001b[0m\u001b[0mfigure\u001b[0m\u001b[1;33m(\u001b[0m\u001b[0mfigsize\u001b[0m\u001b[1;33m=\u001b[0m\u001b[1;33m(\u001b[0m\u001b[1;36m25\u001b[0m\u001b[1;33m,\u001b[0m\u001b[1;36m20\u001b[0m\u001b[1;33m)\u001b[0m\u001b[1;33m)\u001b[0m\u001b[1;33m\u001b[0m\u001b[1;33m\u001b[0m\u001b[0m\n\u001b[1;32m----> 2\u001b[1;33m _ = plot_tree(dtree_default, \n\u001b[0m\u001b[0;32m      3\u001b[0m                    \u001b[0mfeature_names\u001b[0m\u001b[1;33m=\u001b[0m\u001b[0mX\u001b[0m\u001b[1;33m.\u001b[0m\u001b[0mcolumns\u001b[0m\u001b[1;33m,\u001b[0m\u001b[1;33m\u001b[0m\u001b[1;33m\u001b[0m\u001b[0m\n\u001b[0;32m      4\u001b[0m                    filled=True)\n",
      "\u001b[1;31mNameError\u001b[0m: name 'dtree_default' is not defined"
     ]
    },
    {
     "data": {
      "text/plain": [
       "<Figure size 1800x1440 with 0 Axes>"
      ]
     },
     "metadata": {},
     "output_type": "display_data"
    }
   ],
   "source": [
    "fig = plt.figure(figsize=(25,20))\n",
    "_ = plot_tree(XG_tree, \n",
    "                   feature_names=X.columns,\n",
    "                   filled=True)"
   ]
  },
  {
   "cell_type": "code",
   "execution_count": 71,
   "metadata": {
    "ExecuteTime": {
     "end_time": "2021-02-22T11:34:42.213630Z",
     "start_time": "2021-02-22T11:34:42.202703Z"
    }
   },
   "outputs": [],
   "source": [
    "XG = XGBClassifier(objective='binary:logistic',learning_rate=.05,max_depth=1,min_child_weight=1.5,\n",
    "                   n_estimators=300,subsample=.75,tree_method='approx',gamma=1.5)"
   ]
  },
  {
   "cell_type": "code",
   "execution_count": 72,
   "metadata": {
    "ExecuteTime": {
     "end_time": "2021-02-22T11:34:57.373511Z",
     "start_time": "2021-02-22T11:34:55.772364Z"
    }
   },
   "outputs": [
    {
     "name": "stdout",
     "output_type": "stream",
     "text": [
      "AUC: 0.8685593450997633\n",
      "[[1498  149]\n",
      " [  10   48]]\n",
      "              precision    recall  f1-score   support\n",
      "\n",
      "           0       0.99      0.91      0.95      1647\n",
      "           1       0.24      0.83      0.38        58\n",
      "\n",
      "    accuracy                           0.91      1705\n",
      "   macro avg       0.62      0.87      0.66      1705\n",
      "weighted avg       0.97      0.91      0.93      1705\n",
      "\n"
     ]
    },
    {
     "data": {
      "image/png": "[encoded data removed]",
      "text/plain": [
       "<Figure size 432x288 with 2 Axes>"
      ]
     },
     "metadata": {
      "needs_background": "light"
     },
     "output_type": "display_data"
    }
   ],
   "source": [
    "XG.fit(X_train_smote_sig,y_train_smote)\n",
    "y_pred_XG = XG.predict(X_test_sig)\n",
    "\n",
    "\n",
    "fpr, tpr, thresholds = roc_curve(y_test, y_pred_XG)\n",
    "\n",
    "print('AUC: {}'.format(auc(fpr, tpr)))\n",
    "cf = confusion_matrix(y_test,y_pred_XG)\n",
    "\n",
    "plot_confusion_matrix(XG,X_test_sig,y_test,cmap=plt.cm.Blues,\n",
    "                     display_labels=[\"not bankrupt\", \"bankrupt\"],\n",
    "                      values_format=\".5g\")\n",
    "plt.title(\"XGBoost Confusion Matrix\")\n",
    "\n",
    "print(confusion_matrix(y_test, y_pred_XG))\n",
    "print(classification_report(y_test, y_pred_XG))"
   ]
  },
  {
   "cell_type": "code",
   "execution_count": 73,
   "metadata": {
    "ExecuteTime": {
     "end_time": "2021-02-22T11:35:27.663323Z",
     "start_time": "2021-02-22T11:35:27.645341Z"
    }
   },
   "outputs": [
    {
     "data": {
      "text/plain": [
       "'approx'"
      ]
     },
     "execution_count": 73,
     "metadata": {},
     "output_type": "execute_result"
    }
   ],
   "source": [
    "XG."
   ]
  },
  {
   "cell_type": "code",
   "execution_count": 81,
   "metadata": {
    "ExecuteTime": {
     "end_time": "2021-02-22T11:41:26.342324Z",
     "start_time": "2021-02-22T11:41:26.317427Z"
    }
   },
   "outputs": [
    {
     "ename": "ImportError",
     "evalue": "You must install graphviz to plot tree",
     "output_type": "error",
     "traceback": [
      "\u001b[1;31m---------------------------------------------------------------------------\u001b[0m",
      "\u001b[1;31mModuleNotFoundError\u001b[0m                       Traceback (most recent call last)",
      "\u001b[1;32m~\\anaconda3\\envs\\learn-env\\lib\\site-packages\\xgboost\\plotting.py\u001b[0m in \u001b[0;36mto_graphviz\u001b[1;34m(booster, fmap, num_trees, rankdir, yes_color, no_color, condition_node_params, leaf_node_params, **kwargs)\u001b[0m\n\u001b[0;32m    169\u001b[0m     \u001b[1;32mtry\u001b[0m\u001b[1;33m:\u001b[0m\u001b[1;33m\u001b[0m\u001b[1;33m\u001b[0m\u001b[0m\n\u001b[1;32m--> 170\u001b[1;33m         \u001b[1;32mfrom\u001b[0m \u001b[0mgraphviz\u001b[0m \u001b[1;32mimport\u001b[0m \u001b[0mSource\u001b[0m\u001b[1;33m\u001b[0m\u001b[1;33m\u001b[0m\u001b[0m\n\u001b[0m\u001b[0;32m    171\u001b[0m     \u001b[1;32mexcept\u001b[0m \u001b[0mImportError\u001b[0m \u001b[1;32mas\u001b[0m \u001b[0me\u001b[0m\u001b[1;33m:\u001b[0m\u001b[1;33m\u001b[0m\u001b[1;33m\u001b[0m\u001b[0m\n",
      "\u001b[1;31mModuleNotFoundError\u001b[0m: No module named 'graphviz'",
      "\nThe above exception was the direct cause of the following exception:\n",
      "\u001b[1;31mImportError\u001b[0m                               Traceback (most recent call last)",
      "\u001b[1;32m<ipython-input-81-17bb730ee53b>\u001b[0m in \u001b[0;36m<module>\u001b[1;34m\u001b[0m\n\u001b[0;32m      6\u001b[0m \u001b[1;32mimport\u001b[0m \u001b[0mmatplotlib\u001b[0m\u001b[1;33m.\u001b[0m\u001b[0mpyplot\u001b[0m \u001b[1;32mas\u001b[0m \u001b[0mplt\u001b[0m\u001b[1;33m\u001b[0m\u001b[1;33m\u001b[0m\u001b[0m\n\u001b[0;32m      7\u001b[0m \u001b[1;33m\u001b[0m\u001b[0m\n\u001b[1;32m----> 8\u001b[1;33m \u001b[0mxgb\u001b[0m\u001b[1;33m.\u001b[0m\u001b[0mto_graphviz\u001b[0m\u001b[1;33m(\u001b[0m\u001b[0mXG\u001b[0m\u001b[1;33m,\u001b[0m \u001b[0mnum_trees\u001b[0m\u001b[1;33m=\u001b[0m\u001b[1;36m0\u001b[0m\u001b[1;33m,\u001b[0m \u001b[0mrankdir\u001b[0m\u001b[1;33m=\u001b[0m\u001b[1;34m'LR'\u001b[0m\u001b[1;33m)\u001b[0m\u001b[1;33m\u001b[0m\u001b[1;33m\u001b[0m\u001b[0m\n\u001b[0m",
      "\u001b[1;32m~\\anaconda3\\envs\\learn-env\\lib\\site-packages\\xgboost\\plotting.py\u001b[0m in \u001b[0;36mto_graphviz\u001b[1;34m(booster, fmap, num_trees, rankdir, yes_color, no_color, condition_node_params, leaf_node_params, **kwargs)\u001b[0m\n\u001b[0;32m    170\u001b[0m         \u001b[1;32mfrom\u001b[0m \u001b[0mgraphviz\u001b[0m \u001b[1;32mimport\u001b[0m \u001b[0mSource\u001b[0m\u001b[1;33m\u001b[0m\u001b[1;33m\u001b[0m\u001b[0m\n\u001b[0;32m    171\u001b[0m     \u001b[1;32mexcept\u001b[0m \u001b[0mImportError\u001b[0m \u001b[1;32mas\u001b[0m \u001b[0me\u001b[0m\u001b[1;33m:\u001b[0m\u001b[1;33m\u001b[0m\u001b[1;33m\u001b[0m\u001b[0m\n\u001b[1;32m--> 172\u001b[1;33m         \u001b[1;32mraise\u001b[0m \u001b[0mImportError\u001b[0m\u001b[1;33m(\u001b[0m\u001b[1;34m'You must install graphviz to plot tree'\u001b[0m\u001b[1;33m)\u001b[0m \u001b[1;32mfrom\u001b[0m \u001b[0me\u001b[0m\u001b[1;33m\u001b[0m\u001b[1;33m\u001b[0m\u001b[0m\n\u001b[0m\u001b[0;32m    173\u001b[0m     \u001b[1;32mif\u001b[0m \u001b[0misinstance\u001b[0m\u001b[1;33m(\u001b[0m\u001b[0mbooster\u001b[0m\u001b[1;33m,\u001b[0m \u001b[0mXGBModel\u001b[0m\u001b[1;33m)\u001b[0m\u001b[1;33m:\u001b[0m\u001b[1;33m\u001b[0m\u001b[1;33m\u001b[0m\u001b[0m\n\u001b[0;32m    174\u001b[0m         \u001b[0mbooster\u001b[0m \u001b[1;33m=\u001b[0m \u001b[0mbooster\u001b[0m\u001b[1;33m.\u001b[0m\u001b[0mget_booster\u001b[0m\u001b[1;33m(\u001b[0m\u001b[1;33m)\u001b[0m\u001b[1;33m\u001b[0m\u001b[1;33m\u001b[0m\u001b[0m\n",
      "\u001b[1;31mImportError\u001b[0m: You must install graphviz to plot tree"
     ]
    }
   ],
   "source": [
    "import xgboost as xgb\n",
    "# plot decision tree\n",
    "from numpy import loadtxt\n",
    "from xgboost import XGBClassifier\n",
    "from xgboost import plot_tree\n",
    "import matplotlib.pyplot as plt\n",
    "\n",
    "xgb.to_graphviz(XG, num_trees=0, rankdir='LR')"
   ]
  },
  {
   "cell_type": "code",
   "execution_count": null,
   "metadata": {},
   "outputs": [],
   "source": []
  }
 ],
 "metadata": {
  "kernelspec": {
   "display_name": "Python 3",
   "language": "python",
   "name": "python3"
  },
  "language_info": {
   "codemirror_mode": {
    "name": "ipython",
    "version": 3
   },
   "file_extension": ".py",
   "mimetype": "text/x-python",
   "name": "python",
   "nbconvert_exporter": "python",
   "pygments_lexer": "ipython3",
   "version": "3.8.5"
  },
  "latex_envs": {
   "LaTeX_envs_menu_present": true,
   "autoclose": false,
   "autocomplete": true,
   "bibliofile": "biblio.bib",
   "cite_by": "apalike",
   "current_citInitial": 1,
   "eqLabelWithNumbers": true,
   "eqNumInitial": 1,
   "hotkeys": {
    "equation": "Ctrl-E",
    "itemize": "Ctrl-I"
   },
   "labels_anchors": false,
   "latex_user_defs": false,
   "report_style_numbering": false,
   "user_envs_cfg": false
  },
  "toc": {
   "base_numbering": 1,
   "nav_menu": {},
   "number_sections": true,
   "sideBar": true,
   "skip_h1_title": false,
   "title_cell": "Table of Contents",
   "title_sidebar": "Contents",
   "toc_cell": false,
   "toc_position": {},
   "toc_section_display": true,
   "toc_window_display": false
  },
  "varInspector": {
   "cols": {
    "lenName": 16,
    "lenType": 16,
    "lenVar": 40
   },
   "kernels_config": {
    "python": {
     "delete_cmd_postfix": "",
     "delete_cmd_prefix": "del ",
     "library": "var_list.py",
     "varRefreshCmd": "print(var_dic_list())"
    },
    "r": {
     "delete_cmd_postfix": ") ",
     "delete_cmd_prefix": "rm(",
     "library": "var_list.r",
     "varRefreshCmd": "cat(var_dic_list()) "
    }
   },
   "types_to_exclude": [
    "module",
    "function",
    "builtin_function_or_method",
    "instance",
    "_Feature"
   ],
   "window_display": false
  }
 },
 "nbformat": 4,
 "nbformat_minor": 4
}
